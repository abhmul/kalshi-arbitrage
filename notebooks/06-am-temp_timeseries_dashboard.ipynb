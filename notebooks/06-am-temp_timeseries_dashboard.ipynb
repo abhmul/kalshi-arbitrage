{
 "cells": [
  {
   "cell_type": "code",
   "execution_count": 97,
   "metadata": {},
   "outputs": [],
   "source": [
    "from src.nws import NWSClient, celsius_to_fahrenheit, fahrenheit_to_celsius\n",
    "from src.params import *\n",
    "from datetime import datetime, timedelta\n",
    "import pytz\n",
    "\n",
    "client = NWSClient()"
   ]
  },
  {
   "cell_type": "code",
   "execution_count": 104,
   "metadata": {},
   "outputs": [
    {
     "name": "stdout",
     "output_type": "stream",
     "text": [
      "<class 'pandas.core.frame.DataFrame'>\n",
      "DatetimeIndex: 12 entries, 2024-11-15 04:51:00-05:00 to 2024-11-15 15:51:00-05:00\n",
      "Data columns (total 10 columns):\n",
      " #   Column                   Non-Null Count  Dtype  \n",
      "---  ------                   --------------  -----  \n",
      " 0   temperature              12 non-null     float64\n",
      " 1   relative_humidity        12 non-null     float64\n",
      " 2   wind_speed               10 non-null     float64\n",
      " 3   wind_direction           6 non-null      float64\n",
      " 4   temperature_high_6_hour  2 non-null      float64\n",
      " 5   time                     12 non-null     object \n",
      " 6   station_id               12 non-null     object \n",
      " 7   station_name             12 non-null     object \n",
      " 8   distance                 12 non-null     float64\n",
      " 9   temperature_f            12 non-null     float64\n",
      "dtypes: float64(7), object(3)\n",
      "memory usage: 1.0+ KB\n",
      "<class 'pandas.core.frame.DataFrame'>\n",
      "DatetimeIndex: 1 entries, 2024-11-15 07:00:00-05:00 to 2024-11-15 07:00:00-05:00\n",
      "Data columns (total 7 columns):\n",
      " #   Column                    Non-Null Count  Dtype  \n",
      "---  ------                    --------------  -----  \n",
      " 0   temperature               1 non-null      float64\n",
      " 1   temperature_high_24_hour  1 non-null      float64\n",
      " 2   time                      1 non-null      object \n",
      " 3   station_id                1 non-null      object \n",
      " 4   station_name              1 non-null      object \n",
      " 5   distance                  1 non-null      float64\n",
      " 6   temperature_f             1 non-null      float64\n",
      "dtypes: float64(4), object(3)\n",
      "memory usage: 64.0+ bytes\n",
      "<class 'pandas.core.frame.DataFrame'>\n",
      "DatetimeIndex: 48 entries, 2024-11-15 04:15:00-05:00 to 2024-11-15 16:00:00-05:00\n",
      "Data columns (total 9 columns):\n",
      " #   Column             Non-Null Count  Dtype  \n",
      "---  ------             --------------  -----  \n",
      " 0   temperature        48 non-null     float64\n",
      " 1   relative_humidity  48 non-null     float64\n",
      " 2   wind_speed         48 non-null     float64\n",
      " 3   wind_direction     41 non-null     float64\n",
      " 4   time               48 non-null     object \n",
      " 5   station_id         48 non-null     object \n",
      " 6   station_name       48 non-null     object \n",
      " 7   distance           48 non-null     float64\n",
      " 8   temperature_f      48 non-null     float64\n",
      "dtypes: float64(6), object(3)\n",
      "memory usage: 3.8+ KB\n",
      "<class 'pandas.core.frame.DataFrame'>\n",
      "DatetimeIndex: 140 entries, 2024-11-15 04:04:00-05:00 to 2024-11-15 16:01:00-05:00\n",
      "Data columns (total 9 columns):\n",
      " #   Column             Non-Null Count  Dtype  \n",
      "---  ------             --------------  -----  \n",
      " 0   temperature        140 non-null    float64\n",
      " 1   relative_humidity  140 non-null    float64\n",
      " 2   wind_speed         140 non-null    float64\n",
      " 3   wind_direction     140 non-null    float64\n",
      " 4   time               140 non-null    object \n",
      " 5   station_id         140 non-null    object \n",
      " 6   station_name       140 non-null    object \n",
      " 7   distance           140 non-null    float64\n",
      " 8   temperature_f      140 non-null    float64\n",
      "dtypes: float64(6), object(3)\n",
      "memory usage: 10.9+ KB\n"
     ]
    },
    {
     "data": {
      "text/plain": [
       "[None, None, None, None]"
      ]
     },
     "execution_count": 104,
     "metadata": {},
     "output_type": "execute_result"
    }
   ],
   "source": [
    "station = StationID.NYC\n",
    "radii = {\n",
    "    StationID.MDW: 8,\n",
    "    StationID.MIA: 5,\n",
    "    StationID.NYC: 4,\n",
    "    StationID.AUS: 5\n",
    "}\n",
    "station_tz = STATION_TZ[station]\n",
    "prior_days = 0.5\n",
    "\n",
    "dfs = client.get_timeseries(station, datetime.now(tz=BASE_TZ) - timedelta(days=prior_days), datetime.now(tz=BASE_TZ), radius=radii[station])\n",
    "\n",
    "for df in dfs:\n",
    "    df.rename(columns={\n",
    "        'air_temp_set_1': 'temperature', \n",
    "        'relative_humidity_set_1': 'relative_humidity',\n",
    "        'wind_speed_set_1': 'wind_speed',\n",
    "        'wind_direction_set_1': 'wind_direction',\n",
    "        'air_temp_high_6_hour_set_1': 'temperature_high_6_hour',\n",
    "        'air_temp_high_24_hour_set_1': 'temperature_high_24_hour',\n",
    "    }, inplace=True)\n",
    "\n",
    "    df['temperature_f'] = celsius_to_fahrenheit(df['temperature'])\n",
    "\n",
    "[df.info() for df in dfs]\n"
   ]
  },
  {
   "cell_type": "code",
   "execution_count": 105,
   "metadata": {},
   "outputs": [
    {
     "name": "stdout",
     "output_type": "stream",
     "text": [
      "<class 'pandas.core.frame.DataFrame'>\n",
      "RangeIndex: 201 entries, 0 to 200\n",
      "Data columns (total 12 columns):\n",
      " #   Column                    Non-Null Count  Dtype                           \n",
      "---  ------                    --------------  -----                           \n",
      " 0   date_time                 201 non-null    datetime64[ns, America/New_York]\n",
      " 1   temperature               201 non-null    float64                         \n",
      " 2   relative_humidity         200 non-null    float64                         \n",
      " 3   wind_speed                198 non-null    float64                         \n",
      " 4   wind_direction            187 non-null    float64                         \n",
      " 5   temperature_high_6_hour   2 non-null      float64                         \n",
      " 6   time                      201 non-null    object                          \n",
      " 7   station_id                201 non-null    object                          \n",
      " 8   station_name              201 non-null    object                          \n",
      " 9   distance                  201 non-null    float64                         \n",
      " 10  temperature_f             201 non-null    float64                         \n",
      " 11  temperature_high_24_hour  1 non-null      float64                         \n",
      "dtypes: datetime64[ns, America/New_York](1), float64(8), object(3)\n",
      "memory usage: 19.0+ KB\n"
     ]
    }
   ],
   "source": [
    "import pandas as pd\n",
    "from functools import reduce\n",
    "\n",
    "res_df = pd.concat([df.reset_index() for df in dfs], axis=0, ignore_index=True)\n",
    "res_df.info()"
   ]
  },
  {
   "cell_type": "code",
   "execution_count": 106,
   "metadata": {},
   "outputs": [
    {
     "data": {
      "application/vnd.plotly.v1+json": {
       "config": {
        "plotlyServerURL": "https://plot.ly"
       },
       "data": [
        {
         "legendgroup": "New York City, Central Park",
         "line": {
          "color": "#636efa",
          "dash": "solid"
         },
         "marker": {
          "symbol": "circle"
         },
         "mode": "lines",
         "name": "New York City, Central Park",
         "orientation": "v",
         "showlegend": true,
         "type": "scatter",
         "x": [
          "2024-11-15T04:51:00-05:00",
          "2024-11-15T05:51:00-05:00",
          "2024-11-15T06:51:00-05:00",
          "2024-11-15T07:51:00-05:00",
          "2024-11-15T08:51:00-05:00",
          "2024-11-15T09:51:00-05:00",
          "2024-11-15T10:51:00-05:00",
          "2024-11-15T11:51:00-05:00",
          "2024-11-15T12:51:00-05:00",
          "2024-11-15T13:51:00-05:00",
          "2024-11-15T14:51:00-05:00",
          "2024-11-15T15:51:00-05:00"
         ],
         "xaxis": "x",
         "y": [
          42.08,
          42.08,
          41,
          42.08,
          42.980000000000004,
          46.04,
          48.02,
          51.08,
          55.94,
          57.02,
          57.92,
          57.92
         ],
         "yaxis": "y"
        },
        {
         "legendgroup": "NY CITY CENTRAL PARK",
         "line": {
          "color": "#EF553B",
          "dash": "solid"
         },
         "marker": {
          "symbol": "circle"
         },
         "mode": "lines",
         "name": "NY CITY CENTRAL PARK",
         "orientation": "v",
         "showlegend": true,
         "type": "scatter",
         "x": [
          "2024-11-15T07:00:00-05:00"
         ],
         "xaxis": "x",
         "y": [
          41
         ],
         "yaxis": "y"
        },
        {
         "legendgroup": "FW4321 New York",
         "line": {
          "color": "#00cc96",
          "dash": "solid"
         },
         "marker": {
          "symbol": "circle"
         },
         "mode": "lines",
         "name": "FW4321 New York",
         "orientation": "v",
         "showlegend": true,
         "type": "scatter",
         "x": [
          "2024-11-15T04:15:00-05:00",
          "2024-11-15T04:30:00-05:00",
          "2024-11-15T04:45:00-05:00",
          "2024-11-15T05:00:00-05:00",
          "2024-11-15T05:15:00-05:00",
          "2024-11-15T05:30:00-05:00",
          "2024-11-15T05:45:00-05:00",
          "2024-11-15T06:01:00-05:00",
          "2024-11-15T06:15:00-05:00",
          "2024-11-15T06:30:00-05:00",
          "2024-11-15T06:45:00-05:00",
          "2024-11-15T07:00:00-05:00",
          "2024-11-15T07:15:00-05:00",
          "2024-11-15T07:30:00-05:00",
          "2024-11-15T07:45:00-05:00",
          "2024-11-15T08:00:00-05:00",
          "2024-11-15T08:16:00-05:00",
          "2024-11-15T08:31:00-05:00",
          "2024-11-15T08:45:00-05:00",
          "2024-11-15T09:00:00-05:00",
          "2024-11-15T09:16:00-05:00",
          "2024-11-15T09:30:00-05:00",
          "2024-11-15T09:45:00-05:00",
          "2024-11-15T10:00:00-05:00",
          "2024-11-15T10:15:00-05:00",
          "2024-11-15T10:30:00-05:00",
          "2024-11-15T10:45:00-05:00",
          "2024-11-15T11:00:00-05:00",
          "2024-11-15T11:15:00-05:00",
          "2024-11-15T11:30:00-05:00",
          "2024-11-15T11:45:00-05:00",
          "2024-11-15T12:00:00-05:00",
          "2024-11-15T12:15:00-05:00",
          "2024-11-15T12:30:00-05:00",
          "2024-11-15T12:45:00-05:00",
          "2024-11-15T13:00:00-05:00",
          "2024-11-15T13:15:00-05:00",
          "2024-11-15T13:30:00-05:00",
          "2024-11-15T13:45:00-05:00",
          "2024-11-15T14:00:00-05:00",
          "2024-11-15T14:15:00-05:00",
          "2024-11-15T14:30:00-05:00",
          "2024-11-15T14:45:00-05:00",
          "2024-11-15T15:00:00-05:00",
          "2024-11-15T15:15:00-05:00",
          "2024-11-15T15:30:00-05:00",
          "2024-11-15T15:45:00-05:00",
          "2024-11-15T16:00:00-05:00"
         ],
         "xaxis": "x",
         "y": [
          42.0008,
          42.0008,
          42.9998,
          42.9998,
          42.9998,
          42.9998,
          42.0008,
          42.0008,
          42.0008,
          42.0008,
          42.9998,
          42.9998,
          42.9998,
          42.9998,
          42.9998,
          42.0008,
          42.0008,
          42.0008,
          42.9998,
          42.9998,
          44.0006,
          44.0006,
          44.0006,
          44.9996,
          44.9996,
          46.0004,
          46.0004,
          46.9994,
          48.0002,
          48.9992,
          50,
          51.0008,
          51.9998,
          51.9998,
          53.0006,
          53.9996,
          55.0004,
          57.0002,
          57.0002,
          57.0002,
          57.9992,
          57.9992,
          59,
          59,
          57.9992,
          57.9992,
          57.9992,
          57.9992
         ],
         "yaxis": "y"
        },
        {
         "legendgroup": "GW4171 LONG ISLAND CITY",
         "line": {
          "color": "#ab63fa",
          "dash": "solid"
         },
         "marker": {
          "symbol": "circle"
         },
         "mode": "lines",
         "name": "GW4171 LONG ISLAND CITY",
         "orientation": "v",
         "showlegend": true,
         "type": "scatter",
         "x": [
          "2024-11-15T04:04:00-05:00",
          "2024-11-15T04:09:00-05:00",
          "2024-11-15T04:15:00-05:00",
          "2024-11-15T04:20:00-05:00",
          "2024-11-15T04:25:00-05:00",
          "2024-11-15T04:30:00-05:00",
          "2024-11-15T04:35:00-05:00",
          "2024-11-15T04:40:00-05:00",
          "2024-11-15T04:46:00-05:00",
          "2024-11-15T04:51:00-05:00",
          "2024-11-15T04:56:00-05:00",
          "2024-11-15T05:01:00-05:00",
          "2024-11-15T05:06:00-05:00",
          "2024-11-15T05:11:00-05:00",
          "2024-11-15T05:16:00-05:00",
          "2024-11-15T05:22:00-05:00",
          "2024-11-15T05:27:00-05:00",
          "2024-11-15T05:32:00-05:00",
          "2024-11-15T05:37:00-05:00",
          "2024-11-15T05:42:00-05:00",
          "2024-11-15T05:47:00-05:00",
          "2024-11-15T05:52:00-05:00",
          "2024-11-15T05:57:00-05:00",
          "2024-11-15T06:03:00-05:00",
          "2024-11-15T06:08:00-05:00",
          "2024-11-15T06:13:00-05:00",
          "2024-11-15T06:18:00-05:00",
          "2024-11-15T06:23:00-05:00",
          "2024-11-15T06:28:00-05:00",
          "2024-11-15T06:34:00-05:00",
          "2024-11-15T06:39:00-05:00",
          "2024-11-15T06:44:00-05:00",
          "2024-11-15T06:49:00-05:00",
          "2024-11-15T06:54:00-05:00",
          "2024-11-15T06:59:00-05:00",
          "2024-11-15T07:04:00-05:00",
          "2024-11-15T07:10:00-05:00",
          "2024-11-15T07:15:00-05:00",
          "2024-11-15T07:20:00-05:00",
          "2024-11-15T07:25:00-05:00",
          "2024-11-15T07:30:00-05:00",
          "2024-11-15T07:36:00-05:00",
          "2024-11-15T07:41:00-05:00",
          "2024-11-15T07:46:00-05:00",
          "2024-11-15T07:51:00-05:00",
          "2024-11-15T07:56:00-05:00",
          "2024-11-15T08:01:00-05:00",
          "2024-11-15T08:06:00-05:00",
          "2024-11-15T08:12:00-05:00",
          "2024-11-15T08:17:00-05:00",
          "2024-11-15T08:22:00-05:00",
          "2024-11-15T08:27:00-05:00",
          "2024-11-15T08:32:00-05:00",
          "2024-11-15T08:37:00-05:00",
          "2024-11-15T08:43:00-05:00",
          "2024-11-15T08:48:00-05:00",
          "2024-11-15T08:53:00-05:00",
          "2024-11-15T08:58:00-05:00",
          "2024-11-15T09:04:00-05:00",
          "2024-11-15T09:09:00-05:00",
          "2024-11-15T09:14:00-05:00",
          "2024-11-15T09:19:00-05:00",
          "2024-11-15T09:24:00-05:00",
          "2024-11-15T09:29:00-05:00",
          "2024-11-15T09:35:00-05:00",
          "2024-11-15T09:40:00-05:00",
          "2024-11-15T09:45:00-05:00",
          "2024-11-15T09:50:00-05:00",
          "2024-11-15T09:55:00-05:00",
          "2024-11-15T10:00:00-05:00",
          "2024-11-15T10:06:00-05:00",
          "2024-11-15T10:11:00-05:00",
          "2024-11-15T10:16:00-05:00",
          "2024-11-15T10:21:00-05:00",
          "2024-11-15T10:26:00-05:00",
          "2024-11-15T10:32:00-05:00",
          "2024-11-15T10:37:00-05:00",
          "2024-11-15T10:42:00-05:00",
          "2024-11-15T10:47:00-05:00",
          "2024-11-15T10:52:00-05:00",
          "2024-11-15T10:57:00-05:00",
          "2024-11-15T11:03:00-05:00",
          "2024-11-15T11:08:00-05:00",
          "2024-11-15T11:13:00-05:00",
          "2024-11-15T11:18:00-05:00",
          "2024-11-15T11:23:00-05:00",
          "2024-11-15T11:28:00-05:00",
          "2024-11-15T11:33:00-05:00",
          "2024-11-15T11:39:00-05:00",
          "2024-11-15T11:44:00-05:00",
          "2024-11-15T11:49:00-05:00",
          "2024-11-15T11:54:00-05:00",
          "2024-11-15T11:59:00-05:00",
          "2024-11-15T12:04:00-05:00",
          "2024-11-15T12:10:00-05:00",
          "2024-11-15T12:15:00-05:00",
          "2024-11-15T12:20:00-05:00",
          "2024-11-15T12:25:00-05:00",
          "2024-11-15T12:30:00-05:00",
          "2024-11-15T12:35:00-05:00",
          "2024-11-15T12:41:00-05:00",
          "2024-11-15T12:46:00-05:00",
          "2024-11-15T12:51:00-05:00",
          "2024-11-15T12:56:00-05:00",
          "2024-11-15T13:01:00-05:00",
          "2024-11-15T13:06:00-05:00",
          "2024-11-15T13:11:00-05:00",
          "2024-11-15T13:16:00-05:00",
          "2024-11-15T13:22:00-05:00",
          "2024-11-15T13:27:00-05:00",
          "2024-11-15T13:32:00-05:00",
          "2024-11-15T13:37:00-05:00",
          "2024-11-15T13:42:00-05:00",
          "2024-11-15T13:47:00-05:00",
          "2024-11-15T13:53:00-05:00",
          "2024-11-15T13:58:00-05:00",
          "2024-11-15T14:03:00-05:00",
          "2024-11-15T14:08:00-05:00",
          "2024-11-15T14:13:00-05:00",
          "2024-11-15T14:18:00-05:00",
          "2024-11-15T14:23:00-05:00",
          "2024-11-15T14:28:00-05:00",
          "2024-11-15T14:34:00-05:00",
          "2024-11-15T14:39:00-05:00",
          "2024-11-15T14:44:00-05:00",
          "2024-11-15T14:49:00-05:00",
          "2024-11-15T14:54:00-05:00",
          "2024-11-15T15:00:00-05:00",
          "2024-11-15T15:05:00-05:00",
          "2024-11-15T15:10:00-05:00",
          "2024-11-15T15:15:00-05:00",
          "2024-11-15T15:20:00-05:00",
          "2024-11-15T15:25:00-05:00",
          "2024-11-15T15:30:00-05:00",
          "2024-11-15T15:36:00-05:00",
          "2024-11-15T15:41:00-05:00",
          "2024-11-15T15:46:00-05:00",
          "2024-11-15T15:51:00-05:00",
          "2024-11-15T15:56:00-05:00",
          "2024-11-15T16:01:00-05:00"
         ],
         "xaxis": "x",
         "y": [
          44.0006,
          44.0006,
          44.0006,
          42.9998,
          42.9998,
          42.9998,
          42.9998,
          42.9998,
          42.9998,
          42.9998,
          42.9998,
          42.9998,
          42.9998,
          42.9998,
          42.9998,
          42.9998,
          42.9998,
          42.9998,
          42.9998,
          42.9998,
          42.9998,
          42.9998,
          42.9998,
          42.9998,
          42.9998,
          42.9998,
          42.9998,
          42.9998,
          42.9998,
          42.9998,
          42.9998,
          42.9998,
          42.9998,
          42.9998,
          42.9998,
          42.9998,
          42.9998,
          42.9998,
          42.9998,
          42.9998,
          42.9998,
          42.9998,
          42.9998,
          42.9998,
          42.9998,
          42.9998,
          42.9998,
          42.0008,
          42.9998,
          42.9998,
          42.9998,
          42.9998,
          42.9998,
          42.0008,
          42.0008,
          42.9998,
          42.9998,
          42.9998,
          42.9998,
          42.9998,
          42.9998,
          42.9998,
          44.0006,
          44.0006,
          44.0006,
          44.0006,
          44.0006,
          44.9996,
          44.9996,
          44.9996,
          44.9996,
          44.9996,
          46.0004,
          44.9996,
          46.0004,
          46.9994,
          46.9994,
          46.9994,
          46.9994,
          46.9994,
          48.0002,
          48.0002,
          48.0002,
          48.0002,
          48.0002,
          48.0002,
          48.0002,
          48.9992,
          48.9992,
          48.9992,
          50,
          50,
          51.0008,
          51.0008,
          51.9998,
          51.0008,
          51.9998,
          53.0006,
          53.0006,
          53.9996,
          53.0006,
          53.0006,
          53.9996,
          55.0004,
          55.0004,
          55.0004,
          55.0004,
          55.0004,
          55.9994,
          55.9994,
          55.9994,
          55.9994,
          55.9994,
          55.9994,
          55.9994,
          55.9994,
          57.0002,
          57.0002,
          57.0002,
          57.0002,
          57.0002,
          57.0002,
          57.9992,
          57.9992,
          57.9992,
          57.9992,
          59,
          59,
          59,
          57.9992,
          59,
          59,
          59,
          59,
          59,
          59,
          57.9992,
          57.9992,
          57.9992,
          57.9992
         ],
         "yaxis": "y"
        }
       ],
       "layout": {
        "height": 900,
        "hovermode": "x",
        "legend": {
         "title": {
          "text": "station_name"
         },
         "tracegroupgap": 0
        },
        "template": {
         "data": {
          "bar": [
           {
            "error_x": {
             "color": "#2a3f5f"
            },
            "error_y": {
             "color": "#2a3f5f"
            },
            "marker": {
             "line": {
              "color": "#E5ECF6",
              "width": 0.5
             },
             "pattern": {
              "fillmode": "overlay",
              "size": 10,
              "solidity": 0.2
             }
            },
            "type": "bar"
           }
          ],
          "barpolar": [
           {
            "marker": {
             "line": {
              "color": "#E5ECF6",
              "width": 0.5
             },
             "pattern": {
              "fillmode": "overlay",
              "size": 10,
              "solidity": 0.2
             }
            },
            "type": "barpolar"
           }
          ],
          "carpet": [
           {
            "aaxis": {
             "endlinecolor": "#2a3f5f",
             "gridcolor": "white",
             "linecolor": "white",
             "minorgridcolor": "white",
             "startlinecolor": "#2a3f5f"
            },
            "baxis": {
             "endlinecolor": "#2a3f5f",
             "gridcolor": "white",
             "linecolor": "white",
             "minorgridcolor": "white",
             "startlinecolor": "#2a3f5f"
            },
            "type": "carpet"
           }
          ],
          "choropleth": [
           {
            "colorbar": {
             "outlinewidth": 0,
             "ticks": ""
            },
            "type": "choropleth"
           }
          ],
          "contour": [
           {
            "colorbar": {
             "outlinewidth": 0,
             "ticks": ""
            },
            "colorscale": [
             [
              0,
              "#0d0887"
             ],
             [
              0.1111111111111111,
              "#46039f"
             ],
             [
              0.2222222222222222,
              "#7201a8"
             ],
             [
              0.3333333333333333,
              "#9c179e"
             ],
             [
              0.4444444444444444,
              "#bd3786"
             ],
             [
              0.5555555555555556,
              "#d8576b"
             ],
             [
              0.6666666666666666,
              "#ed7953"
             ],
             [
              0.7777777777777778,
              "#fb9f3a"
             ],
             [
              0.8888888888888888,
              "#fdca26"
             ],
             [
              1,
              "#f0f921"
             ]
            ],
            "type": "contour"
           }
          ],
          "contourcarpet": [
           {
            "colorbar": {
             "outlinewidth": 0,
             "ticks": ""
            },
            "type": "contourcarpet"
           }
          ],
          "heatmap": [
           {
            "colorbar": {
             "outlinewidth": 0,
             "ticks": ""
            },
            "colorscale": [
             [
              0,
              "#0d0887"
             ],
             [
              0.1111111111111111,
              "#46039f"
             ],
             [
              0.2222222222222222,
              "#7201a8"
             ],
             [
              0.3333333333333333,
              "#9c179e"
             ],
             [
              0.4444444444444444,
              "#bd3786"
             ],
             [
              0.5555555555555556,
              "#d8576b"
             ],
             [
              0.6666666666666666,
              "#ed7953"
             ],
             [
              0.7777777777777778,
              "#fb9f3a"
             ],
             [
              0.8888888888888888,
              "#fdca26"
             ],
             [
              1,
              "#f0f921"
             ]
            ],
            "type": "heatmap"
           }
          ],
          "heatmapgl": [
           {
            "colorbar": {
             "outlinewidth": 0,
             "ticks": ""
            },
            "colorscale": [
             [
              0,
              "#0d0887"
             ],
             [
              0.1111111111111111,
              "#46039f"
             ],
             [
              0.2222222222222222,
              "#7201a8"
             ],
             [
              0.3333333333333333,
              "#9c179e"
             ],
             [
              0.4444444444444444,
              "#bd3786"
             ],
             [
              0.5555555555555556,
              "#d8576b"
             ],
             [
              0.6666666666666666,
              "#ed7953"
             ],
             [
              0.7777777777777778,
              "#fb9f3a"
             ],
             [
              0.8888888888888888,
              "#fdca26"
             ],
             [
              1,
              "#f0f921"
             ]
            ],
            "type": "heatmapgl"
           }
          ],
          "histogram": [
           {
            "marker": {
             "pattern": {
              "fillmode": "overlay",
              "size": 10,
              "solidity": 0.2
             }
            },
            "type": "histogram"
           }
          ],
          "histogram2d": [
           {
            "colorbar": {
             "outlinewidth": 0,
             "ticks": ""
            },
            "colorscale": [
             [
              0,
              "#0d0887"
             ],
             [
              0.1111111111111111,
              "#46039f"
             ],
             [
              0.2222222222222222,
              "#7201a8"
             ],
             [
              0.3333333333333333,
              "#9c179e"
             ],
             [
              0.4444444444444444,
              "#bd3786"
             ],
             [
              0.5555555555555556,
              "#d8576b"
             ],
             [
              0.6666666666666666,
              "#ed7953"
             ],
             [
              0.7777777777777778,
              "#fb9f3a"
             ],
             [
              0.8888888888888888,
              "#fdca26"
             ],
             [
              1,
              "#f0f921"
             ]
            ],
            "type": "histogram2d"
           }
          ],
          "histogram2dcontour": [
           {
            "colorbar": {
             "outlinewidth": 0,
             "ticks": ""
            },
            "colorscale": [
             [
              0,
              "#0d0887"
             ],
             [
              0.1111111111111111,
              "#46039f"
             ],
             [
              0.2222222222222222,
              "#7201a8"
             ],
             [
              0.3333333333333333,
              "#9c179e"
             ],
             [
              0.4444444444444444,
              "#bd3786"
             ],
             [
              0.5555555555555556,
              "#d8576b"
             ],
             [
              0.6666666666666666,
              "#ed7953"
             ],
             [
              0.7777777777777778,
              "#fb9f3a"
             ],
             [
              0.8888888888888888,
              "#fdca26"
             ],
             [
              1,
              "#f0f921"
             ]
            ],
            "type": "histogram2dcontour"
           }
          ],
          "mesh3d": [
           {
            "colorbar": {
             "outlinewidth": 0,
             "ticks": ""
            },
            "type": "mesh3d"
           }
          ],
          "parcoords": [
           {
            "line": {
             "colorbar": {
              "outlinewidth": 0,
              "ticks": ""
             }
            },
            "type": "parcoords"
           }
          ],
          "pie": [
           {
            "automargin": true,
            "type": "pie"
           }
          ],
          "scatter": [
           {
            "fillpattern": {
             "fillmode": "overlay",
             "size": 10,
             "solidity": 0.2
            },
            "type": "scatter"
           }
          ],
          "scatter3d": [
           {
            "line": {
             "colorbar": {
              "outlinewidth": 0,
              "ticks": ""
             }
            },
            "marker": {
             "colorbar": {
              "outlinewidth": 0,
              "ticks": ""
             }
            },
            "type": "scatter3d"
           }
          ],
          "scattercarpet": [
           {
            "marker": {
             "colorbar": {
              "outlinewidth": 0,
              "ticks": ""
             }
            },
            "type": "scattercarpet"
           }
          ],
          "scattergeo": [
           {
            "marker": {
             "colorbar": {
              "outlinewidth": 0,
              "ticks": ""
             }
            },
            "type": "scattergeo"
           }
          ],
          "scattergl": [
           {
            "marker": {
             "colorbar": {
              "outlinewidth": 0,
              "ticks": ""
             }
            },
            "type": "scattergl"
           }
          ],
          "scattermapbox": [
           {
            "marker": {
             "colorbar": {
              "outlinewidth": 0,
              "ticks": ""
             }
            },
            "type": "scattermapbox"
           }
          ],
          "scatterpolar": [
           {
            "marker": {
             "colorbar": {
              "outlinewidth": 0,
              "ticks": ""
             }
            },
            "type": "scatterpolar"
           }
          ],
          "scatterpolargl": [
           {
            "marker": {
             "colorbar": {
              "outlinewidth": 0,
              "ticks": ""
             }
            },
            "type": "scatterpolargl"
           }
          ],
          "scatterternary": [
           {
            "marker": {
             "colorbar": {
              "outlinewidth": 0,
              "ticks": ""
             }
            },
            "type": "scatterternary"
           }
          ],
          "surface": [
           {
            "colorbar": {
             "outlinewidth": 0,
             "ticks": ""
            },
            "colorscale": [
             [
              0,
              "#0d0887"
             ],
             [
              0.1111111111111111,
              "#46039f"
             ],
             [
              0.2222222222222222,
              "#7201a8"
             ],
             [
              0.3333333333333333,
              "#9c179e"
             ],
             [
              0.4444444444444444,
              "#bd3786"
             ],
             [
              0.5555555555555556,
              "#d8576b"
             ],
             [
              0.6666666666666666,
              "#ed7953"
             ],
             [
              0.7777777777777778,
              "#fb9f3a"
             ],
             [
              0.8888888888888888,
              "#fdca26"
             ],
             [
              1,
              "#f0f921"
             ]
            ],
            "type": "surface"
           }
          ],
          "table": [
           {
            "cells": {
             "fill": {
              "color": "#EBF0F8"
             },
             "line": {
              "color": "white"
             }
            },
            "header": {
             "fill": {
              "color": "#C8D4E3"
             },
             "line": {
              "color": "white"
             }
            },
            "type": "table"
           }
          ]
         },
         "layout": {
          "annotationdefaults": {
           "arrowcolor": "#2a3f5f",
           "arrowhead": 0,
           "arrowwidth": 1
          },
          "autotypenumbers": "strict",
          "coloraxis": {
           "colorbar": {
            "outlinewidth": 0,
            "ticks": ""
           }
          },
          "colorscale": {
           "diverging": [
            [
             0,
             "#8e0152"
            ],
            [
             0.1,
             "#c51b7d"
            ],
            [
             0.2,
             "#de77ae"
            ],
            [
             0.3,
             "#f1b6da"
            ],
            [
             0.4,
             "#fde0ef"
            ],
            [
             0.5,
             "#f7f7f7"
            ],
            [
             0.6,
             "#e6f5d0"
            ],
            [
             0.7,
             "#b8e186"
            ],
            [
             0.8,
             "#7fbc41"
            ],
            [
             0.9,
             "#4d9221"
            ],
            [
             1,
             "#276419"
            ]
           ],
           "sequential": [
            [
             0,
             "#0d0887"
            ],
            [
             0.1111111111111111,
             "#46039f"
            ],
            [
             0.2222222222222222,
             "#7201a8"
            ],
            [
             0.3333333333333333,
             "#9c179e"
            ],
            [
             0.4444444444444444,
             "#bd3786"
            ],
            [
             0.5555555555555556,
             "#d8576b"
            ],
            [
             0.6666666666666666,
             "#ed7953"
            ],
            [
             0.7777777777777778,
             "#fb9f3a"
            ],
            [
             0.8888888888888888,
             "#fdca26"
            ],
            [
             1,
             "#f0f921"
            ]
           ],
           "sequentialminus": [
            [
             0,
             "#0d0887"
            ],
            [
             0.1111111111111111,
             "#46039f"
            ],
            [
             0.2222222222222222,
             "#7201a8"
            ],
            [
             0.3333333333333333,
             "#9c179e"
            ],
            [
             0.4444444444444444,
             "#bd3786"
            ],
            [
             0.5555555555555556,
             "#d8576b"
            ],
            [
             0.6666666666666666,
             "#ed7953"
            ],
            [
             0.7777777777777778,
             "#fb9f3a"
            ],
            [
             0.8888888888888888,
             "#fdca26"
            ],
            [
             1,
             "#f0f921"
            ]
           ]
          },
          "colorway": [
           "#636efa",
           "#EF553B",
           "#00cc96",
           "#ab63fa",
           "#FFA15A",
           "#19d3f3",
           "#FF6692",
           "#B6E880",
           "#FF97FF",
           "#FECB52"
          ],
          "font": {
           "color": "#2a3f5f"
          },
          "geo": {
           "bgcolor": "white",
           "lakecolor": "white",
           "landcolor": "#E5ECF6",
           "showlakes": true,
           "showland": true,
           "subunitcolor": "white"
          },
          "hoverlabel": {
           "align": "left"
          },
          "hovermode": "closest",
          "mapbox": {
           "style": "light"
          },
          "paper_bgcolor": "white",
          "plot_bgcolor": "#E5ECF6",
          "polar": {
           "angularaxis": {
            "gridcolor": "white",
            "linecolor": "white",
            "ticks": ""
           },
           "bgcolor": "#E5ECF6",
           "radialaxis": {
            "gridcolor": "white",
            "linecolor": "white",
            "ticks": ""
           }
          },
          "scene": {
           "xaxis": {
            "backgroundcolor": "#E5ECF6",
            "gridcolor": "white",
            "gridwidth": 2,
            "linecolor": "white",
            "showbackground": true,
            "ticks": "",
            "zerolinecolor": "white"
           },
           "yaxis": {
            "backgroundcolor": "#E5ECF6",
            "gridcolor": "white",
            "gridwidth": 2,
            "linecolor": "white",
            "showbackground": true,
            "ticks": "",
            "zerolinecolor": "white"
           },
           "zaxis": {
            "backgroundcolor": "#E5ECF6",
            "gridcolor": "white",
            "gridwidth": 2,
            "linecolor": "white",
            "showbackground": true,
            "ticks": "",
            "zerolinecolor": "white"
           }
          },
          "shapedefaults": {
           "line": {
            "color": "#2a3f5f"
           }
          },
          "ternary": {
           "aaxis": {
            "gridcolor": "white",
            "linecolor": "white",
            "ticks": ""
           },
           "baxis": {
            "gridcolor": "white",
            "linecolor": "white",
            "ticks": ""
           },
           "bgcolor": "#E5ECF6",
           "caxis": {
            "gridcolor": "white",
            "linecolor": "white",
            "ticks": ""
           }
          },
          "title": {
           "x": 0.05
          },
          "xaxis": {
           "automargin": true,
           "gridcolor": "white",
           "linecolor": "white",
           "ticks": "",
           "title": {
            "standoff": 15
           },
           "zerolinecolor": "white",
           "zerolinewidth": 2
          },
          "yaxis": {
           "automargin": true,
           "gridcolor": "white",
           "linecolor": "white",
           "ticks": "",
           "title": {
            "standoff": 15
           },
           "zerolinecolor": "white",
           "zerolinewidth": 2
          }
         }
        },
        "title": {
         "text": "Temperature (°F) for Station NYC"
        },
        "width": 1800,
        "xaxis": {
         "anchor": "y",
         "domain": [
          0,
          1
         ],
         "title": {
          "text": "Date"
         }
        },
        "yaxis": {
         "anchor": "x",
         "domain": [
          0,
          1
         ],
         "title": {
          "text": "Temperature (°F)"
         }
        }
       }
      }
     },
     "metadata": {},
     "output_type": "display_data"
    }
   ],
   "source": [
    "import pandas as pd\n",
    "pd.options.plotting.backend = \"plotly\"\n",
    "\n",
    "import plotly.express as px\n",
    "\n",
    "fig = px.line(res_df, x=\"date_time\", y=\"temperature_f\", color=\"station_name\", title=f\"Temperature (°F) for Station {station}\", width=1800, height=900)\n",
    "fig.update_traces(mode=\"lines\", hovertemplate=None)\n",
    "fig.update_layout(hovermode=\"x\")\n",
    "fig.update_yaxes(title=\"Temperature (°F)\")\n",
    "fig.update_xaxes(title=\"Date\")\n",
    "\n",
    "fig.show()"
   ]
  }
 ],
 "metadata": {
  "kernelspec": {
   "display_name": "kalshi",
   "language": "python",
   "name": "python3"
  },
  "language_info": {
   "codemirror_mode": {
    "name": "ipython",
    "version": 3
   },
   "file_extension": ".py",
   "mimetype": "text/x-python",
   "name": "python",
   "nbconvert_exporter": "python",
   "pygments_lexer": "ipython3",
   "version": "3.10.15"
  }
 },
 "nbformat": 4,
 "nbformat_minor": 2
}
