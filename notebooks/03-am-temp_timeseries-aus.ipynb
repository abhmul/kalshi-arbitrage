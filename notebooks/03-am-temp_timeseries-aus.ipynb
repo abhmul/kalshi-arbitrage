{
 "cells": [
  {
   "cell_type": "code",
   "execution_count": 1,
   "metadata": {},
   "outputs": [],
   "source": [
    "from src.nws import NWSClient, celsius_to_fahrenheit, fahrenheit_to_celsius\n",
    "from src.params import *\n",
    "from datetime import datetime, timedelta\n",
    "import pytz\n",
    "\n",
    "client = NWSClient()"
   ]
  },
  {
   "cell_type": "code",
   "execution_count": 3,
   "metadata": {},
   "outputs": [
    {
     "ename": "KeyboardInterrupt",
     "evalue": "",
     "output_type": "error",
     "traceback": [
      "\u001b[0;31m---------------------------------------------------------------------------\u001b[0m",
      "\u001b[0;31mKeyboardInterrupt\u001b[0m                         Traceback (most recent call last)",
      "Cell \u001b[0;32mIn[3], line 29\u001b[0m\n\u001b[1;32m     27\u001b[0m display(df\u001b[38;5;241m.\u001b[39mtail(\u001b[38;5;241m25\u001b[39m))\n\u001b[1;32m     28\u001b[0m clear_output(wait\u001b[38;5;241m=\u001b[39m\u001b[38;5;28;01mTrue\u001b[39;00m)\n\u001b[0;32m---> 29\u001b[0m \u001b[43mtime\u001b[49m\u001b[38;5;241;43m.\u001b[39;49m\u001b[43msleep\u001b[49m\u001b[43m(\u001b[49m\u001b[38;5;241;43m15\u001b[39;49m\u001b[43m)\u001b[49m\n",
      "\u001b[0;31mKeyboardInterrupt\u001b[0m: "
     ]
    }
   ],
   "source": [
    "import time\n",
    "from IPython.display import clear_output\n",
    "# MIA - 11:07 AM CT\n",
    "# MDW - 11:08 AM CT - still too uncertain\n",
    "# AUS - 11:23 AM CT - still too uncertain\n",
    "# NYC \n",
    "\n",
    "station = StationID.AUS\n",
    "station_tz = STATION_TZ[station]\n",
    "prior_days = 2\n",
    "while True:\n",
    "    print(f\"Query Time: {time.ctime()}\")\n",
    "\n",
    "    df = client.get_timeseries(station, datetime.now(tz=BASE_TZ) - timedelta(days=prior_days), datetime.now(tz=BASE_TZ))\n",
    "    df = df.rename(columns={\n",
    "            'air_temp_set_1': 'temperature', \n",
    "            'relative_humidity_set_1': 'relative_humidity',\n",
    "            'wind_speed_set_1': 'wind_speed',\n",
    "            'wind_direction_set_1': 'wind_direction',\n",
    "            'air_temp_high_6_hour_set_1': 'temperature_high_6_hour',\n",
    "            'air_temp_high_24_hour_set_1': 'temperature_high_24_hour',\n",
    "\n",
    "        })\n",
    "    df[['temperature', 'temperature_high_6_hour', 'temperature_high_24_hour']] = df[['temperature', 'temperature_high_6_hour', 'temperature_high_24_hour']].apply(celsius_to_fahrenheit)\n",
    "\n",
    "    # df.info()\n",
    "    display(df.tail(25))\n",
    "    clear_output(wait=True)\n",
    "    time.sleep(15)"
   ]
  }
 ],
 "metadata": {
  "kernelspec": {
   "display_name": "kalshi",
   "language": "python",
   "name": "python3"
  },
  "language_info": {
   "codemirror_mode": {
    "name": "ipython",
    "version": 3
   },
   "file_extension": ".py",
   "mimetype": "text/x-python",
   "name": "python",
   "nbconvert_exporter": "python",
   "pygments_lexer": "ipython3",
   "version": "3.10.15"
  }
 },
 "nbformat": 4,
 "nbformat_minor": 2
}
