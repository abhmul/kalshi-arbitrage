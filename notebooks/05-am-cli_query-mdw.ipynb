{
 "cells": [
  {
   "cell_type": "code",
   "execution_count": 2,
   "metadata": {},
   "outputs": [
    {
     "ename": "KeyboardInterrupt",
     "evalue": "",
     "output_type": "error",
     "traceback": [
      "\u001b[0;31m---------------------------------------------------------------------------\u001b[0m",
      "\u001b[0;31mKeyboardInterrupt\u001b[0m                         Traceback (most recent call last)",
      "Cell \u001b[0;32mIn[2], line 29\u001b[0m\n\u001b[1;32m     26\u001b[0m \u001b[38;5;28mprint\u001b[39m(report\u001b[38;5;241m.\u001b[39mraw_text)\n\u001b[1;32m     28\u001b[0m clear_output(wait\u001b[38;5;241m=\u001b[39m\u001b[38;5;28;01mTrue\u001b[39;00m)\n\u001b[0;32m---> 29\u001b[0m \u001b[43mtime\u001b[49m\u001b[38;5;241;43m.\u001b[39;49m\u001b[43msleep\u001b[49m\u001b[43m(\u001b[49m\u001b[38;5;241;43m15\u001b[39;49m\u001b[43m)\u001b[49m\n",
      "\u001b[0;31mKeyboardInterrupt\u001b[0m: "
     ]
    }
   ],
   "source": [
    "from urlpath import URL\n",
    "from pprint import pprint\n",
    "import time\n",
    "from datetime import datetime, date\n",
    "from datetime import time as dt_time\n",
    "\n",
    "from IPython.display import clear_output\n",
    "\n",
    "from src.params import StationID\n",
    "from src.nws import NWSClient, parse_product_text\n",
    "\n",
    "# url = URL(\"https://api.weather.gov/products/1eae2f39-8187-42ad-ab00-1f212b40a93a\")\n",
    "# url = URL(\"https://api.weather.gov/products/9c5a3929-9e59-46df-b406-a1aae6ca946c\")\n",
    "\n",
    "station = StationID.MDW\n",
    "url = URL(f\"https://forecast.weather.gov/product.php?site=DTX&issuedby={station}&product=CLI&format=CI&version=1&glossary=0\")\n",
    "client = NWSClient()\n",
    "while True:\n",
    "    print(f\"Query Time: {time.ctime()}\")\n",
    "    report = client.get_cli_data(station, version=1)\n",
    "\n",
    "    print(f\"Summary Date {report.summary_date.strftime('%Y-%m-%d')}\")\n",
    "    if report.summary_date == date.today() and (report.valid_time is not None) and (report.valid_time.time() >= dt_time(12, 0)):\n",
    "        print(\"UPDATED TODAY\")\n",
    "    pprint(report.without_raw_text())\n",
    "    print(report.raw_text)\n",
    "\n",
    "    clear_output(wait=True)\n",
    "    time.sleep(15)"
   ]
  }
 ],
 "metadata": {
  "kernelspec": {
   "display_name": "kalshi",
   "language": "python",
   "name": "python3"
  },
  "language_info": {
   "codemirror_mode": {
    "name": "ipython",
    "version": 3
   },
   "file_extension": ".py",
   "mimetype": "text/x-python",
   "name": "python",
   "nbconvert_exporter": "python",
   "pygments_lexer": "ipython3",
   "version": "3.10.15"
  }
 },
 "nbformat": 4,
 "nbformat_minor": 2
}
