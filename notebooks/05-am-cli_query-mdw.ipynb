{
 "cells": [
  {
   "cell_type": "code",
   "execution_count": 2,
   "metadata": {},
   "outputs": [
    {
     "ename": "KeyboardInterrupt",
     "evalue": "",
     "output_type": "error",
     "traceback": [
      "\u001b[0;31m---------------------------------------------------------------------------\u001b[0m",
      "\u001b[0;31mKeyboardInterrupt\u001b[0m                         Traceback (most recent call last)",
      "Cell \u001b[0;32mIn[2], line 39\u001b[0m\n\u001b[1;32m     36\u001b[0m pprint(report)\n\u001b[1;32m     38\u001b[0m clear_output(wait\u001b[38;5;241m=\u001b[39m\u001b[38;5;28;01mTrue\u001b[39;00m)\n\u001b[0;32m---> 39\u001b[0m \u001b[43mtime\u001b[49m\u001b[38;5;241;43m.\u001b[39;49m\u001b[43msleep\u001b[49m\u001b[43m(\u001b[49m\u001b[38;5;241;43m15\u001b[39;49m\u001b[43m)\u001b[49m\n",
      "\u001b[0;31mKeyboardInterrupt\u001b[0m: "
     ]
    }
   ],
   "source": [
    "from urlpath import URL\n",
    "import requests\n",
    "from pprint import pprint\n",
    "\n",
    "import time\n",
    "from IPython.display import clear_output\n",
    "\n",
    "# url = URL(\"https://api.weather.gov/products/1eae2f39-8187-42ad-ab00-1f212b40a93a\")\n",
    "# url = URL(\"https://api.weather.gov/products/9c5a3929-9e59-46df-b406-a1aae6ca946c\")\n",
    "station = \"MDW\"\n",
    "url = URL(f\"https://forecast.weather.gov/product.php?site=DTX&issuedby={station}&product=CLI&format=CI&version=1&glossary=0\")\n",
    "while True:\n",
    "    print(f\"Query Time: {time.ctime()}\")\n",
    "    response = requests.get(url)\n",
    "    response.raise_for_status()\n",
    "    # print(response.text, file=open(\"../tmp/cli.html\", 'w'))\n",
    "\n",
    "    lines = response.text.splitlines()\n",
    "    for i in range(len(lines) - 3):\n",
    "        match_start = (f\"CLI{station}\" in lines[i] and \"CLIMATE REPORT\" in lines[i+2] and \"NATIONAL WEATHER SERVICE\" in lines[i+3])\n",
    "        if match_start:\n",
    "            match_start_i = i\n",
    "            # print(i)\n",
    "        match_end = \"$$\" in lines[i]\n",
    "        if match_end:\n",
    "            match_end_i = i\n",
    "            # print(i)\n",
    "\n",
    "    cli_text = \"\\n\".join(lines[match_start_i:match_end_i+1])\n",
    "\n",
    "    from src.nws import NWSClient\n",
    "\n",
    "    report = NWSClient._parse_product_text(cli_text)\n",
    "    report.raw_text = None\n",
    "    print(f\"Summary Date {report.summary_date.strftime('%Y-%m-%d')}\")\n",
    "    pprint(report)\n",
    "\n",
    "    clear_output(wait=True)\n",
    "    time.sleep(15)"
   ]
  }
 ],
 "metadata": {
  "kernelspec": {
   "display_name": "kalshi",
   "language": "python",
   "name": "python3"
  },
  "language_info": {
   "codemirror_mode": {
    "name": "ipython",
    "version": 3
   },
   "file_extension": ".py",
   "mimetype": "text/x-python",
   "name": "python",
   "nbconvert_exporter": "python",
   "pygments_lexer": "ipython3",
   "version": "3.10.15"
  }
 },
 "nbformat": 4,
 "nbformat_minor": 2
}
