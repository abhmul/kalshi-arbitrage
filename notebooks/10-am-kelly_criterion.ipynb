{
 "cells": [
  {
   "cell_type": "code",
   "execution_count": 1,
   "metadata": {},
   "outputs": [
    {
     "name": "stdout",
     "output_type": "stream",
     "text": [
      "Expected rate of return 1.006760953340496\n",
      "Fraction of wealth to bet 0.9\n"
     ]
    }
   ],
   "source": [
    "from math import log2\n",
    "\n",
    "b = 0.01 / 0.99\n",
    "p = 0.001 # Failure prob\n",
    "\n",
    "x = (1 - p) - (p / b)\n",
    "\n",
    "log_r = (1 - p) * log2(1 + x * b) + p * log2(1 - x)\n",
    "\n",
    "print(f\"Expected rate of return {2 ** log_r}\")\n",
    "print(f\"Fraction of wealth to bet {x}\")"
   ]
  }
 ],
 "metadata": {
  "kernelspec": {
   "display_name": "kalshi",
   "language": "python",
   "name": "python3"
  },
  "language_info": {
   "codemirror_mode": {
    "name": "ipython",
    "version": 3
   },
   "file_extension": ".py",
   "mimetype": "text/x-python",
   "name": "python",
   "nbconvert_exporter": "python",
   "pygments_lexer": "ipython3",
   "version": "3.10.15"
  }
 },
 "nbformat": 4,
 "nbformat_minor": 2
}
