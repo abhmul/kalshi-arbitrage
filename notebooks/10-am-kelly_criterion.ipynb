{
 "cells": [
  {
   "cell_type": "code",
   "execution_count": 1,
   "metadata": {},
   "outputs": [
    {
     "name": "stdout",
     "output_type": "stream",
     "text": [
      "Expected rate of return 1.006760953340496\n",
      "Fraction of wealth to bet 0.9\n"
     ]
    }
   ],
   "source": [
    "from math import log2\n",
    "\n",
    "b = 0.01 / 0.99\n",
    "p = 0.001 # Failure prob\n",
    "\n",
    "x = (1 - p) - (p / b)\n",
    "\n",
    "log_r = (1 - p) * log2(1 + x * b) + p * log2(1 - x)\n",
    "\n",
    "print(f\"Expected rate of return {2 ** log_r}\")\n",
    "print(f\"Fraction of wealth to bet {x}\")"
   ]
  },
  {
   "cell_type": "code",
   "execution_count": 2,
   "metadata": {},
   "outputs": [
    {
     "name": "stdout",
     "output_type": "stream",
     "text": [
      "Total bet 935.5050000000001\n",
      "Number of shares 944.9545454545456\n"
     ]
    }
   ],
   "source": [
    "principal = 1039.45\n",
    "price = 0.99\n",
    "total_bet = principal * x\n",
    "num_shares = total_bet / price\n",
    "\n",
    "print(f\"Total bet {total_bet}\")\n",
    "print(f\"Number of shares {num_shares}\")"
   ]
  }
 ],
 "metadata": {
  "kernelspec": {
   "display_name": "kalshi",
   "language": "python",
   "name": "python3"
  },
  "language_info": {
   "codemirror_mode": {
    "name": "ipython",
    "version": 3
   },
   "file_extension": ".py",
   "mimetype": "text/x-python",
   "name": "python",
   "nbconvert_exporter": "python",
   "pygments_lexer": "ipython3",
   "version": "3.10.15"
  }
 },
 "nbformat": 4,
 "nbformat_minor": 2
}
