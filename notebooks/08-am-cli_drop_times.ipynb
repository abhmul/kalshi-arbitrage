{
 "cells": [
  {
   "cell_type": "code",
   "execution_count": 27,
   "metadata": {},
   "outputs": [],
   "source": [
    "from datetime import datetime, timedelta, date\n",
    "from dateutil.relativedelta import relativedelta\n",
    "from pprint import pprint\n",
    "import json\n",
    "import requests\n",
    "import numpy as np\n",
    "import pandas as pd\n",
    "\n",
    "from src.params import *\n",
    "from src.nws import NWSClient\n",
    "from src.nws import (\n",
    "    fahrenheit_to_celsius,\n",
    "    celsius_to_fahrenheit,\n",
    "    load_clis,\n",
    "    load_one_minutes,\n",
    "    end_of_day,\n",
    "    start_of_day,\n",
    "    in_date_range\n",
    ")"
   ]
  },
  {
   "cell_type": "code",
   "execution_count": 28,
   "metadata": {},
   "outputs": [
    {
     "name": "stdout",
     "output_type": "stream",
     "text": [
      "[CLI(issuance_time=datetime.datetime(2024, 11, 6, 16, 51, tzinfo=<DstTzInfo 'America/Chicago' CST-1 day, 18:00:00 STD>),\n",
      "     issuing_office='LOT',\n",
      "     summary_date=datetime.date(2024, 11, 6),\n",
      "     raw_text='...',\n",
      "     max_temp=61,\n",
      "     max_temp_time=datetime.datetime(2024, 11, 6, 0, 50, tzinfo=<DstTzInfo 'America/Chicago' CST-1 day, 18:00:00 STD>),\n",
      "     min_temp=52,\n",
      "     min_temp_time=datetime.datetime(2024, 11, 6, 15, 2, tzinfo=<DstTzInfo 'America/Chicago' CST-1 day, 18:00:00 STD>),\n",
      "     avg_temp=57,\n",
      "     valid_time=datetime.datetime(2024, 11, 6, 16, 0, tzinfo=<DstTzInfo 'America/Chicago' CST-1 day, 18:00:00 STD>)),\n",
      " CLI(issuance_time=datetime.datetime(2024, 11, 7, 0, 41, tzinfo=<DstTzInfo 'America/Chicago' CST-1 day, 18:00:00 STD>),\n",
      "     issuing_office='LOT',\n",
      "     summary_date=datetime.date(2024, 11, 6),\n",
      "     raw_text='...',\n",
      "     max_temp=61,\n",
      "     max_temp_time=datetime.datetime(2024, 11, 6, 0, 50, tzinfo=<DstTzInfo 'America/Chicago' CST-1 day, 18:00:00 STD>),\n",
      "     min_temp=51,\n",
      "     min_temp_time=datetime.datetime(2024, 11, 6, 23, 59, tzinfo=<DstTzInfo 'America/Chicago' CST-1 day, 18:00:00 STD>),\n",
      "     avg_temp=56,\n",
      "     valid_time=None),\n",
      " CLI(issuance_time=datetime.datetime(2024, 10, 27, 1, 30, tzinfo=<DstTzInfo 'America/Chicago' CDT-1 day, 19:00:00 DST>),\n",
      "     issuing_office='LOT',\n",
      "     summary_date=datetime.date(2024, 10, 26),\n",
      "     raw_text='...',\n",
      "     max_temp=59,\n",
      "     max_temp_time=datetime.datetime(2024, 10, 26, 12, 24, tzinfo=<DstTzInfo 'America/Chicago' CDT-1 day, 19:00:00 DST>),\n",
      "     min_temp=45,\n",
      "     min_temp_time=datetime.datetime(2024, 10, 26, 22, 0, tzinfo=<DstTzInfo 'America/Chicago' CDT-1 day, 19:00:00 DST>),\n",
      "     avg_temp=52,\n",
      "     valid_time=None),\n",
      " CLI(issuance_time=datetime.datetime(2024, 10, 30, 2, 41, tzinfo=<DstTzInfo 'America/Chicago' CDT-1 day, 19:00:00 DST>),\n",
      "     issuing_office='LOT',\n",
      "     summary_date=datetime.date(2024, 10, 29),\n",
      "     raw_text='...',\n",
      "     max_temp=83,\n",
      "     max_temp_time=datetime.datetime(2024, 10, 29, 15, 24, tzinfo=<DstTzInfo 'America/Chicago' CDT-1 day, 19:00:00 DST>),\n",
      "     min_temp=68,\n",
      "     min_temp_time=datetime.datetime(2024, 10, 29, 6, 24, tzinfo=<DstTzInfo 'America/Chicago' CDT-1 day, 19:00:00 DST>),\n",
      "     avg_temp=76,\n",
      "     valid_time=None),\n",
      " CLI(issuance_time=datetime.datetime(2024, 10, 26, 16, 33, tzinfo=<DstTzInfo 'America/Chicago' CDT-1 day, 19:00:00 DST>),\n",
      "     issuing_office='LOT',\n",
      "     summary_date=datetime.date(2024, 10, 26),\n",
      "     raw_text='...',\n",
      "     max_temp=59,\n",
      "     max_temp_time=datetime.datetime(2024, 10, 26, 12, 24, tzinfo=<DstTzInfo 'America/Chicago' CDT-1 day, 19:00:00 DST>),\n",
      "     min_temp=45,\n",
      "     min_temp_time=datetime.datetime(2024, 10, 26, 6, 57, tzinfo=<DstTzInfo 'America/Chicago' CDT-1 day, 19:00:00 DST>),\n",
      "     avg_temp=52,\n",
      "     valid_time=datetime.datetime(2024, 10, 26, 16, 0, tzinfo=<DstTzInfo 'America/Chicago' CDT-1 day, 19:00:00 DST>)),\n",
      " CLI(issuance_time=datetime.datetime(2024, 11, 3, 16, 35, tzinfo=<DstTzInfo 'America/Chicago' CST-1 day, 18:00:00 STD>),\n",
      "     issuing_office='LOT',\n",
      "     summary_date=datetime.date(2024, 11, 3),\n",
      "     raw_text='...',\n",
      "     max_temp=62,\n",
      "     max_temp_time=datetime.datetime(2024, 11, 3, 15, 59, tzinfo=<DstTzInfo 'America/Chicago' CST-1 day, 18:00:00 STD>),\n",
      "     min_temp=50,\n",
      "     min_temp_time=datetime.datetime(2024, 11, 3, 0, 49, tzinfo=<DstTzInfo 'America/Chicago' CDT-1 day, 19:00:00 DST>),\n",
      "     avg_temp=56,\n",
      "     valid_time=datetime.datetime(2024, 11, 3, 16, 0, tzinfo=<DstTzInfo 'America/Chicago' CST-1 day, 18:00:00 STD>)),\n",
      " CLI(issuance_time=datetime.datetime(2024, 11, 10, 16, 34, tzinfo=<DstTzInfo 'America/Chicago' CST-1 day, 18:00:00 STD>),\n",
      "     issuing_office='LOT',\n",
      "     summary_date=datetime.date(2024, 11, 10),\n",
      "     raw_text='...',\n",
      "     max_temp=64,\n",
      "     max_temp_time=datetime.datetime(2024, 11, 10, 13, 40, tzinfo=<DstTzInfo 'America/Chicago' CST-1 day, 18:00:00 STD>),\n",
      "     min_temp=50,\n",
      "     min_temp_time=datetime.datetime(2024, 11, 10, 2, 35, tzinfo=<DstTzInfo 'America/Chicago' CST-1 day, 18:00:00 STD>),\n",
      "     avg_temp=57,\n",
      "     valid_time=datetime.datetime(2024, 11, 10, 16, 0, tzinfo=<DstTzInfo 'America/Chicago' CST-1 day, 18:00:00 STD>)),\n",
      " CLI(issuance_time=datetime.datetime(2024, 10, 31, 16, 35, tzinfo=<DstTzInfo 'America/Chicago' CDT-1 day, 19:00:00 DST>),\n",
      "     issuing_office='LOT',\n",
      "     summary_date=datetime.date(2024, 10, 31),\n",
      "     raw_text='...',\n",
      "     max_temp=72,\n",
      "     max_temp_time=datetime.datetime(2024, 10, 31, 0, 47, tzinfo=<DstTzInfo 'America/Chicago' CDT-1 day, 19:00:00 DST>),\n",
      "     min_temp=58,\n",
      "     min_temp_time=datetime.datetime(2024, 10, 31, 14, 59, tzinfo=<DstTzInfo 'America/Chicago' CDT-1 day, 19:00:00 DST>),\n",
      "     avg_temp=65,\n",
      "     valid_time=datetime.datetime(2024, 10, 31, 16, 0, tzinfo=<DstTzInfo 'America/Chicago' CDT-1 day, 19:00:00 DST>)),\n",
      " CLI(issuance_time=datetime.datetime(2024, 11, 10, 0, 34, tzinfo=<DstTzInfo 'America/Chicago' CST-1 day, 18:00:00 STD>),\n",
      "     issuing_office='LOT',\n",
      "     summary_date=datetime.date(2024, 11, 9),\n",
      "     raw_text='...',\n",
      "     max_temp=56,\n",
      "     max_temp_time=datetime.datetime(2024, 11, 9, 14, 13, tzinfo=<DstTzInfo 'America/Chicago' CST-1 day, 18:00:00 STD>),\n",
      "     min_temp=48,\n",
      "     min_temp_time=datetime.datetime(2024, 11, 9, 7, 25, tzinfo=<DstTzInfo 'America/Chicago' CST-1 day, 18:00:00 STD>),\n",
      "     avg_temp=52,\n",
      "     valid_time=None),\n",
      " CLI(issuance_time=datetime.datetime(2024, 11, 4, 16, 37, tzinfo=<DstTzInfo 'America/Chicago' CST-1 day, 18:00:00 STD>),\n",
      "     issuing_office='LOT',\n",
      "     summary_date=datetime.date(2024, 11, 4),\n",
      "     raw_text='...',\n",
      "     max_temp=69,\n",
      "     max_temp_time=datetime.datetime(2024, 11, 4, 15, 38, tzinfo=<DstTzInfo 'America/Chicago' CST-1 day, 18:00:00 STD>),\n",
      "     min_temp=64,\n",
      "     min_temp_time=datetime.datetime(2024, 11, 4, 7, 16, tzinfo=<DstTzInfo 'America/Chicago' CST-1 day, 18:00:00 STD>),\n",
      "     avg_temp=67,\n",
      "     valid_time=datetime.datetime(2024, 11, 4, 16, 0, tzinfo=<DstTzInfo 'America/Chicago' CST-1 day, 18:00:00 STD>)),\n",
      " CLI(issuance_time=datetime.datetime(2024, 10, 25, 1, 35, tzinfo=<DstTzInfo 'America/Chicago' CDT-1 day, 19:00:00 DST>),\n",
      "     issuing_office='LOT',\n",
      "     summary_date=datetime.date(2024, 10, 24),\n",
      "     raw_text='...',\n",
      "     max_temp=65,\n",
      "     max_temp_time=datetime.datetime(2024, 10, 24, 14, 26, tzinfo=<DstTzInfo 'America/Chicago' CDT-1 day, 19:00:00 DST>),\n",
      "     min_temp=42,\n",
      "     min_temp_time=datetime.datetime(2024, 10, 24, 5, 58, tzinfo=<DstTzInfo 'America/Chicago' CDT-1 day, 19:00:00 DST>),\n",
      "     avg_temp=54,\n",
      "     valid_time=None),\n",
      " CLI(issuance_time=datetime.datetime(2024, 11, 17, 16, 38, tzinfo=<DstTzInfo 'America/Chicago' CST-1 day, 18:00:00 STD>),\n",
      "     issuing_office='LOT',\n",
      "     summary_date=datetime.date(2024, 11, 17),\n",
      "     raw_text='...',\n",
      "     max_temp=60,\n",
      "     max_temp_time=datetime.datetime(2024, 11, 17, 15, 21, tzinfo=<DstTzInfo 'America/Chicago' CST-1 day, 18:00:00 STD>),\n",
      "     min_temp=47,\n",
      "     min_temp_time=datetime.datetime(2024, 11, 17, 2, 18, tzinfo=<DstTzInfo 'America/Chicago' CST-1 day, 18:00:00 STD>),\n",
      "     avg_temp=54,\n",
      "     valid_time=datetime.datetime(2024, 11, 17, 16, 0, tzinfo=<DstTzInfo 'America/Chicago' CST-1 day, 18:00:00 STD>)),\n",
      " CLI(issuance_time=datetime.datetime(2024, 11, 14, 16, 34, tzinfo=<DstTzInfo 'America/Chicago' CST-1 day, 18:00:00 STD>),\n",
      "     issuing_office='LOT',\n",
      "     summary_date=datetime.date(2024, 11, 14),\n",
      "     raw_text='...',\n",
      "     max_temp=55,\n",
      "     max_temp_time=datetime.datetime(2024, 11, 14, 12, 32, tzinfo=<DstTzInfo 'America/Chicago' CST-1 day, 18:00:00 STD>),\n",
      "     min_temp=51,\n",
      "     min_temp_time=datetime.datetime(2024, 11, 14, 0, 48, tzinfo=<DstTzInfo 'America/Chicago' CST-1 day, 18:00:00 STD>),\n",
      "     avg_temp=53,\n",
      "     valid_time=datetime.datetime(2024, 11, 14, 16, 0, tzinfo=<DstTzInfo 'America/Chicago' CST-1 day, 18:00:00 STD>)),\n",
      " CLI(issuance_time=datetime.datetime(2024, 10, 25, 16, 40, tzinfo=<DstTzInfo 'America/Chicago' CDT-1 day, 19:00:00 DST>),\n",
      "     issuing_office='LOT',\n",
      "     summary_date=datetime.date(2024, 10, 25),\n",
      "     raw_text='...',\n",
      "     max_temp=68,\n",
      "     max_temp_time=datetime.datetime(2024, 10, 25, 14, 8, tzinfo=<DstTzInfo 'America/Chicago' CDT-1 day, 19:00:00 DST>),\n",
      "     min_temp=50,\n",
      "     min_temp_time=datetime.datetime(2024, 10, 25, 2, 6, tzinfo=<DstTzInfo 'America/Chicago' CDT-1 day, 19:00:00 DST>),\n",
      "     avg_temp=59,\n",
      "     valid_time=datetime.datetime(2024, 10, 25, 16, 0, tzinfo=<DstTzInfo 'America/Chicago' CDT-1 day, 19:00:00 DST>)),\n",
      " CLI(issuance_time=datetime.datetime(2024, 10, 28, 16, 34, tzinfo=<DstTzInfo 'America/Chicago' CDT-1 day, 19:00:00 DST>),\n",
      "     issuing_office='LOT',\n",
      "     summary_date=datetime.date(2024, 10, 28),\n",
      "     raw_text='...',\n",
      "     max_temp=67,\n",
      "     max_temp_time=datetime.datetime(2024, 10, 28, 14, 59, tzinfo=<DstTzInfo 'America/Chicago' CDT-1 day, 19:00:00 DST>),\n",
      "     min_temp=45,\n",
      "     min_temp_time=datetime.datetime(2024, 10, 28, 6, 44, tzinfo=<DstTzInfo 'America/Chicago' CDT-1 day, 19:00:00 DST>),\n",
      "     avg_temp=56,\n",
      "     valid_time=datetime.datetime(2024, 10, 28, 16, 0, tzinfo=<DstTzInfo 'America/Chicago' CDT-1 day, 19:00:00 DST>)),\n",
      " CLI(issuance_time=datetime.datetime(2024, 11, 1, 1, 33, tzinfo=<DstTzInfo 'America/Chicago' CDT-1 day, 19:00:00 DST>),\n",
      "     issuing_office='LOT',\n",
      "     summary_date=datetime.date(2024, 10, 31),\n",
      "     raw_text='...',\n",
      "     max_temp=72,\n",
      "     max_temp_time=datetime.datetime(2024, 10, 31, 0, 47, tzinfo=<DstTzInfo 'America/Chicago' CDT-1 day, 19:00:00 DST>),\n",
      "     min_temp=44,\n",
      "     min_temp_time=datetime.datetime(2024, 10, 31, 23, 59, tzinfo=<DstTzInfo 'America/Chicago' CDT-1 day, 19:00:00 DST>),\n",
      "     avg_temp=58,\n",
      "     valid_time=None),\n",
      " CLI(issuance_time=datetime.datetime(2024, 10, 24, 16, 32, tzinfo=<DstTzInfo 'America/Chicago' CDT-1 day, 19:00:00 DST>),\n",
      "     issuing_office='LOT',\n",
      "     summary_date=datetime.date(2024, 10, 24),\n",
      "     raw_text='...',\n",
      "     max_temp=65,\n",
      "     max_temp_time=datetime.datetime(2024, 10, 24, 14, 26, tzinfo=<DstTzInfo 'America/Chicago' CDT-1 day, 19:00:00 DST>),\n",
      "     min_temp=42,\n",
      "     min_temp_time=datetime.datetime(2024, 10, 24, 5, 58, tzinfo=<DstTzInfo 'America/Chicago' CDT-1 day, 19:00:00 DST>),\n",
      "     avg_temp=54,\n",
      "     valid_time=datetime.datetime(2024, 10, 24, 16, 0, tzinfo=<DstTzInfo 'America/Chicago' CDT-1 day, 19:00:00 DST>)),\n",
      " CLI(issuance_time=datetime.datetime(2024, 11, 13, 16, 33, tzinfo=<DstTzInfo 'America/Chicago' CST-1 day, 18:00:00 STD>),\n",
      "     issuing_office='LOT',\n",
      "     summary_date=datetime.date(2024, 11, 13),\n",
      "     raw_text='...',\n",
      "     max_temp=53,\n",
      "     max_temp_time=datetime.datetime(2024, 11, 13, 15, 59, tzinfo=<DstTzInfo 'America/Chicago' CST-1 day, 18:00:00 STD>),\n",
      "     min_temp=39,\n",
      "     min_temp_time=datetime.datetime(2024, 11, 13, 3, 35, tzinfo=<DstTzInfo 'America/Chicago' CST-1 day, 18:00:00 STD>),\n",
      "     avg_temp=46,\n",
      "     valid_time=datetime.datetime(2024, 11, 13, 16, 0, tzinfo=<DstTzInfo 'America/Chicago' CST-1 day, 18:00:00 STD>)),\n",
      " CLI(issuance_time=datetime.datetime(2024, 11, 2, 16, 32, tzinfo=<DstTzInfo 'America/Chicago' CDT-1 day, 19:00:00 DST>),\n",
      "     issuing_office='LOT',\n",
      "     summary_date=datetime.date(2024, 11, 2),\n",
      "     raw_text='...',\n",
      "     max_temp=58,\n",
      "     max_temp_time=datetime.datetime(2024, 11, 2, 14, 59, tzinfo=<DstTzInfo 'America/Chicago' CDT-1 day, 19:00:00 DST>),\n",
      "     min_temp=41,\n",
      "     min_temp_time=datetime.datetime(2024, 11, 2, 6, 55, tzinfo=<DstTzInfo 'America/Chicago' CDT-1 day, 19:00:00 DST>),\n",
      "     avg_temp=50,\n",
      "     valid_time=datetime.datetime(2024, 11, 2, 16, 0, tzinfo=<DstTzInfo 'America/Chicago' CDT-1 day, 19:00:00 DST>)),\n",
      " CLI(issuance_time=datetime.datetime(2024, 10, 24, 1, 37, tzinfo=<DstTzInfo 'America/Chicago' CDT-1 day, 19:00:00 DST>),\n",
      "     issuing_office='LOT',\n",
      "     summary_date=datetime.date(2024, 10, 23),\n",
      "     raw_text='...',\n",
      "     max_temp=65,\n",
      "     max_temp_time=None,\n",
      "     min_temp=46,\n",
      "     min_temp_time=None,\n",
      "     avg_temp=56,\n",
      "     valid_time=None),\n",
      " CLI(issuance_time=datetime.datetime(2024, 11, 12, 0, 44, tzinfo=<DstTzInfo 'America/Chicago' CST-1 day, 18:00:00 STD>),\n",
      "     issuing_office='LOT',\n",
      "     summary_date=datetime.date(2024, 11, 11),\n",
      "     raw_text='...',\n",
      "     max_temp=59,\n",
      "     max_temp_time=datetime.datetime(2024, 11, 11, 13, 55, tzinfo=<DstTzInfo 'America/Chicago' CST-1 day, 18:00:00 STD>),\n",
      "     min_temp=45,\n",
      "     min_temp_time=datetime.datetime(2024, 11, 11, 23, 59, tzinfo=<DstTzInfo 'America/Chicago' CST-1 day, 18:00:00 STD>),\n",
      "     avg_temp=52,\n",
      "     valid_time=None),\n",
      " CLI(issuance_time=datetime.datetime(2024, 10, 31, 1, 39, tzinfo=<DstTzInfo 'America/Chicago' CDT-1 day, 19:00:00 DST>),\n",
      "     issuing_office='LOT',\n",
      "     summary_date=datetime.date(2024, 10, 30),\n",
      "     raw_text='...',\n",
      "     max_temp=81,\n",
      "     max_temp_time=datetime.datetime(2024, 10, 30, 14, 25, tzinfo=<DstTzInfo 'America/Chicago' CDT-1 day, 19:00:00 DST>),\n",
      "     min_temp=69,\n",
      "     min_temp_time=datetime.datetime(2024, 10, 30, 6, 45, tzinfo=<DstTzInfo 'America/Chicago' CDT-1 day, 19:00:00 DST>),\n",
      "     avg_temp=75,\n",
      "     valid_time=None),\n",
      " CLI(issuance_time=datetime.datetime(2024, 10, 28, 1, 34, tzinfo=<DstTzInfo 'America/Chicago' CDT-1 day, 19:00:00 DST>),\n",
      "     issuing_office='LOT',\n",
      "     summary_date=datetime.date(2024, 10, 27),\n",
      "     raw_text='...',\n",
      "     max_temp=59,\n",
      "     max_temp_time=datetime.datetime(2024, 10, 27, 15, 43, tzinfo=<DstTzInfo 'America/Chicago' CDT-1 day, 19:00:00 DST>),\n",
      "     min_temp=40,\n",
      "     min_temp_time=datetime.datetime(2024, 10, 27, 7, 1, tzinfo=<DstTzInfo 'America/Chicago' CDT-1 day, 19:00:00 DST>),\n",
      "     avg_temp=50,\n",
      "     valid_time=None),\n",
      " CLI(issuance_time=datetime.datetime(2024, 10, 29, 16, 33, tzinfo=<DstTzInfo 'America/Chicago' CDT-1 day, 19:00:00 DST>),\n",
      "     issuing_office='LOT',\n",
      "     summary_date=datetime.date(2024, 10, 29),\n",
      "     raw_text='...',\n",
      "     max_temp=83,\n",
      "     max_temp_time=datetime.datetime(2024, 10, 29, 14, 59, tzinfo=<DstTzInfo 'America/Chicago' CDT-1 day, 19:00:00 DST>),\n",
      "     min_temp=68,\n",
      "     min_temp_time=datetime.datetime(2024, 10, 29, 6, 24, tzinfo=<DstTzInfo 'America/Chicago' CDT-1 day, 19:00:00 DST>),\n",
      "     avg_temp=76,\n",
      "     valid_time=datetime.datetime(2024, 10, 29, 16, 0, tzinfo=<DstTzInfo 'America/Chicago' CDT-1 day, 19:00:00 DST>)),\n",
      " CLI(issuance_time=datetime.datetime(2024, 10, 29, 2, 40, tzinfo=<DstTzInfo 'America/Chicago' CDT-1 day, 19:00:00 DST>),\n",
      "     issuing_office='LOT',\n",
      "     summary_date=datetime.date(2024, 10, 28),\n",
      "     raw_text='...',\n",
      "     max_temp=68,\n",
      "     max_temp_time=datetime.datetime(2024, 10, 28, 23, 59, tzinfo=<DstTzInfo 'America/Chicago' CDT-1 day, 19:00:00 DST>),\n",
      "     min_temp=45,\n",
      "     min_temp_time=datetime.datetime(2024, 10, 28, 6, 44, tzinfo=<DstTzInfo 'America/Chicago' CDT-1 day, 19:00:00 DST>),\n",
      "     avg_temp=57,\n",
      "     valid_time=None),\n",
      " CLI(issuance_time=datetime.datetime(2024, 11, 5, 16, 40, tzinfo=<DstTzInfo 'America/Chicago' CST-1 day, 18:00:00 STD>),\n",
      "     issuing_office='LOT',\n",
      "     summary_date=datetime.date(2024, 11, 5),\n",
      "     raw_text='...',\n",
      "     max_temp=68,\n",
      "     max_temp_time=datetime.datetime(2024, 11, 5, 14, 36, tzinfo=<DstTzInfo 'America/Chicago' CST-1 day, 18:00:00 STD>),\n",
      "     min_temp=65,\n",
      "     min_temp_time=datetime.datetime(2024, 11, 5, 11, 36, tzinfo=<DstTzInfo 'America/Chicago' CST-1 day, 18:00:00 STD>),\n",
      "     avg_temp=67,\n",
      "     valid_time=datetime.datetime(2024, 11, 5, 16, 0, tzinfo=<DstTzInfo 'America/Chicago' CST-1 day, 18:00:00 STD>)),\n",
      " CLI(issuance_time=datetime.datetime(2024, 10, 23, 16, 36, tzinfo=<DstTzInfo 'America/Chicago' CDT-1 day, 19:00:00 DST>),\n",
      "     issuing_office='LOT',\n",
      "     summary_date=datetime.date(2024, 10, 23),\n",
      "     raw_text='...',\n",
      "     max_temp=65,\n",
      "     max_temp_time=datetime.datetime(2024, 10, 23, 14, 47, tzinfo=<DstTzInfo 'America/Chicago' CDT-1 day, 19:00:00 DST>),\n",
      "     min_temp=58,\n",
      "     min_temp_time=datetime.datetime(2024, 10, 23, 6, 37, tzinfo=<DstTzInfo 'America/Chicago' CDT-1 day, 19:00:00 DST>),\n",
      "     avg_temp=62,\n",
      "     valid_time=datetime.datetime(2024, 10, 23, 16, 0, tzinfo=<DstTzInfo 'America/Chicago' CDT-1 day, 19:00:00 DST>)),\n",
      " CLI(issuance_time=datetime.datetime(2024, 11, 14, 0, 39, tzinfo=<DstTzInfo 'America/Chicago' CST-1 day, 18:00:00 STD>),\n",
      "     issuing_office='LOT',\n",
      "     summary_date=datetime.date(2024, 11, 13),\n",
      "     raw_text='...',\n",
      "     max_temp=53,\n",
      "     max_temp_time=datetime.datetime(2024, 11, 13, 17, 12, tzinfo=<DstTzInfo 'America/Chicago' CST-1 day, 18:00:00 STD>),\n",
      "     min_temp=39,\n",
      "     min_temp_time=datetime.datetime(2024, 11, 13, 3, 35, tzinfo=<DstTzInfo 'America/Chicago' CST-1 day, 18:00:00 STD>),\n",
      "     avg_temp=46,\n",
      "     valid_time=None),\n",
      " CLI(issuance_time=datetime.datetime(2024, 11, 15, 16, 39, tzinfo=<DstTzInfo 'America/Chicago' CST-1 day, 18:00:00 STD>),\n",
      "     issuing_office='LOT',\n",
      "     summary_date=datetime.date(2024, 11, 15),\n",
      "     raw_text='...',\n",
      "     max_temp=55,\n",
      "     max_temp_time=datetime.datetime(2024, 11, 15, 14, 21, tzinfo=<DstTzInfo 'America/Chicago' CST-1 day, 18:00:00 STD>),\n",
      "     min_temp=49,\n",
      "     min_temp_time=datetime.datetime(2024, 11, 15, 8, 2, tzinfo=<DstTzInfo 'America/Chicago' CST-1 day, 18:00:00 STD>),\n",
      "     avg_temp=52,\n",
      "     valid_time=datetime.datetime(2024, 11, 15, 16, 0, tzinfo=<DstTzInfo 'America/Chicago' CST-1 day, 18:00:00 STD>)),\n",
      " CLI(issuance_time=datetime.datetime(2024, 10, 22, 16, 36, tzinfo=<DstTzInfo 'America/Chicago' CDT-1 day, 19:00:00 DST>),\n",
      "     issuing_office='LOT',\n",
      "     summary_date=datetime.date(2024, 10, 22),\n",
      "     raw_text='...',\n",
      "     max_temp=74,\n",
      "     max_temp_time=datetime.datetime(2024, 10, 22, 14, 59, tzinfo=<DstTzInfo 'America/Chicago' CDT-1 day, 19:00:00 DST>),\n",
      "     min_temp=55,\n",
      "     min_temp_time=datetime.datetime(2024, 10, 22, 6, 18, tzinfo=<DstTzInfo 'America/Chicago' CDT-1 day, 19:00:00 DST>),\n",
      "     avg_temp=65,\n",
      "     valid_time=datetime.datetime(2024, 10, 22, 16, 0, tzinfo=<DstTzInfo 'America/Chicago' CDT-1 day, 19:00:00 DST>)),\n",
      " CLI(issuance_time=datetime.datetime(2024, 10, 26, 1, 41, tzinfo=<DstTzInfo 'America/Chicago' CDT-1 day, 19:00:00 DST>),\n",
      "     issuing_office='LOT',\n",
      "     summary_date=datetime.date(2024, 10, 25),\n",
      "     raw_text='...',\n",
      "     max_temp=68,\n",
      "     max_temp_time=datetime.datetime(2024, 10, 25, 14, 8, tzinfo=<DstTzInfo 'America/Chicago' CDT-1 day, 19:00:00 DST>),\n",
      "     min_temp=48,\n",
      "     min_temp_time=datetime.datetime(2024, 10, 25, 23, 45, tzinfo=<DstTzInfo 'America/Chicago' CDT-1 day, 19:00:00 DST>),\n",
      "     avg_temp=58,\n",
      "     valid_time=None),\n",
      " CLI(issuance_time=datetime.datetime(2024, 11, 4, 0, 35, tzinfo=<DstTzInfo 'America/Chicago' CST-1 day, 18:00:00 STD>),\n",
      "     issuing_office='LOT',\n",
      "     summary_date=datetime.date(2024, 11, 3),\n",
      "     raw_text='...',\n",
      "     max_temp=65,\n",
      "     max_temp_time=datetime.datetime(2024, 11, 3, 23, 59, tzinfo=<DstTzInfo 'America/Chicago' CST-1 day, 18:00:00 STD>),\n",
      "     min_temp=50,\n",
      "     min_temp_time=datetime.datetime(2024, 11, 3, 0, 49, tzinfo=<DstTzInfo 'America/Chicago' CDT-1 day, 19:00:00 DST>),\n",
      "     avg_temp=58,\n",
      "     valid_time=None),\n",
      " CLI(issuance_time=datetime.datetime(2024, 10, 27, 16, 34, tzinfo=<DstTzInfo 'America/Chicago' CDT-1 day, 19:00:00 DST>),\n",
      "     issuing_office='LOT',\n",
      "     summary_date=datetime.date(2024, 10, 27),\n",
      "     raw_text='...',\n",
      "     max_temp=59,\n",
      "     max_temp_time=datetime.datetime(2024, 10, 27, 14, 59, tzinfo=<DstTzInfo 'America/Chicago' CDT-1 day, 19:00:00 DST>),\n",
      "     min_temp=40,\n",
      "     min_temp_time=datetime.datetime(2024, 10, 27, 7, 1, tzinfo=<DstTzInfo 'America/Chicago' CDT-1 day, 19:00:00 DST>),\n",
      "     avg_temp=50,\n",
      "     valid_time=datetime.datetime(2024, 10, 27, 16, 0, tzinfo=<DstTzInfo 'America/Chicago' CDT-1 day, 19:00:00 DST>)),\n",
      " CLI(issuance_time=datetime.datetime(2024, 11, 8, 0, 36, tzinfo=<DstTzInfo 'America/Chicago' CST-1 day, 18:00:00 STD>),\n",
      "     issuing_office='LOT',\n",
      "     summary_date=datetime.date(2024, 11, 7),\n",
      "     raw_text='...',\n",
      "     max_temp=60,\n",
      "     max_temp_time=datetime.datetime(2024, 11, 7, 15, 31, tzinfo=<DstTzInfo 'America/Chicago' CST-1 day, 18:00:00 STD>),\n",
      "     min_temp=45,\n",
      "     min_temp_time=datetime.datetime(2024, 11, 7, 6, 58, tzinfo=<DstTzInfo 'America/Chicago' CST-1 day, 18:00:00 STD>),\n",
      "     avg_temp=53,\n",
      "     valid_time=None),\n",
      " CLI(issuance_time=datetime.datetime(2024, 11, 8, 16, 33, tzinfo=<DstTzInfo 'America/Chicago' CST-1 day, 18:00:00 STD>),\n",
      "     issuing_office='LOT',\n",
      "     summary_date=datetime.date(2024, 11, 8),\n",
      "     raw_text='...',\n",
      "     max_temp=64,\n",
      "     max_temp_time=datetime.datetime(2024, 11, 8, 14, 48, tzinfo=<DstTzInfo 'America/Chicago' CST-1 day, 18:00:00 STD>),\n",
      "     min_temp=43,\n",
      "     min_temp_time=datetime.datetime(2024, 11, 8, 6, 35, tzinfo=<DstTzInfo 'America/Chicago' CST-1 day, 18:00:00 STD>),\n",
      "     avg_temp=54,\n",
      "     valid_time=datetime.datetime(2024, 11, 8, 16, 0, tzinfo=<DstTzInfo 'America/Chicago' CST-1 day, 18:00:00 STD>)),\n",
      " CLI(issuance_time=datetime.datetime(2024, 11, 2, 1, 33, tzinfo=<DstTzInfo 'America/Chicago' CDT-1 day, 19:00:00 DST>),\n",
      "     issuing_office='LOT',\n",
      "     summary_date=datetime.date(2024, 11, 1),\n",
      "     raw_text='...',\n",
      "     max_temp=54,\n",
      "     max_temp_time=datetime.datetime(2024, 11, 1, 14, 36, tzinfo=<DstTzInfo 'America/Chicago' CDT-1 day, 19:00:00 DST>),\n",
      "     min_temp=39,\n",
      "     min_temp_time=datetime.datetime(2024, 11, 1, 6, 43, tzinfo=<DstTzInfo 'America/Chicago' CDT-1 day, 19:00:00 DST>),\n",
      "     avg_temp=47,\n",
      "     valid_time=None),\n",
      " CLI(issuance_time=datetime.datetime(2024, 11, 18, 0, 34, tzinfo=<DstTzInfo 'America/Chicago' CST-1 day, 18:00:00 STD>),\n",
      "     issuing_office='LOT',\n",
      "     summary_date=datetime.date(2024, 11, 17),\n",
      "     raw_text='...',\n",
      "     max_temp=60,\n",
      "     max_temp_time=datetime.datetime(2024, 11, 17, 15, 21, tzinfo=<DstTzInfo 'America/Chicago' CST-1 day, 18:00:00 STD>),\n",
      "     min_temp=47,\n",
      "     min_temp_time=datetime.datetime(2024, 11, 17, 2, 18, tzinfo=<DstTzInfo 'America/Chicago' CST-1 day, 18:00:00 STD>),\n",
      "     avg_temp=54,\n",
      "     valid_time=None),\n",
      " CLI(issuance_time=datetime.datetime(2024, 11, 5, 0, 37, tzinfo=<DstTzInfo 'America/Chicago' CST-1 day, 18:00:00 STD>),\n",
      "     issuing_office='LOT',\n",
      "     summary_date=datetime.date(2024, 11, 4),\n",
      "     raw_text='...',\n",
      "     max_temp=69,\n",
      "     max_temp_time=datetime.datetime(2024, 11, 4, 15, 38, tzinfo=<DstTzInfo 'America/Chicago' CST-1 day, 18:00:00 STD>),\n",
      "     min_temp=64,\n",
      "     min_temp_time=datetime.datetime(2024, 11, 4, 21, 8, tzinfo=<DstTzInfo 'America/Chicago' CST-1 day, 18:00:00 STD>),\n",
      "     avg_temp=67,\n",
      "     valid_time=None),\n",
      " CLI(issuance_time=datetime.datetime(2024, 11, 11, 0, 44, tzinfo=<DstTzInfo 'America/Chicago' CST-1 day, 18:00:00 STD>),\n",
      "     issuing_office='LOT',\n",
      "     summary_date=datetime.date(2024, 11, 10),\n",
      "     raw_text='...',\n",
      "     max_temp=64,\n",
      "     max_temp_time=datetime.datetime(2024, 11, 10, 13, 40, tzinfo=<DstTzInfo 'America/Chicago' CST-1 day, 18:00:00 STD>),\n",
      "     min_temp=50,\n",
      "     min_temp_time=datetime.datetime(2024, 11, 10, 2, 35, tzinfo=<DstTzInfo 'America/Chicago' CST-1 day, 18:00:00 STD>),\n",
      "     avg_temp=57,\n",
      "     valid_time=None),\n",
      " CLI(issuance_time=datetime.datetime(2024, 11, 17, 0, 36, tzinfo=<DstTzInfo 'America/Chicago' CST-1 day, 18:00:00 STD>),\n",
      "     issuing_office='LOT',\n",
      "     summary_date=datetime.date(2024, 11, 16),\n",
      "     raw_text='...',\n",
      "     max_temp=53,\n",
      "     max_temp_time=datetime.datetime(2024, 11, 16, 14, 9, tzinfo=<DstTzInfo 'America/Chicago' CST-1 day, 18:00:00 STD>),\n",
      "     min_temp=44,\n",
      "     min_temp_time=datetime.datetime(2024, 11, 16, 0, 40, tzinfo=<DstTzInfo 'America/Chicago' CST-1 day, 18:00:00 STD>),\n",
      "     avg_temp=49,\n",
      "     valid_time=None),\n",
      " CLI(issuance_time=datetime.datetime(2024, 11, 11, 16, 33, tzinfo=<DstTzInfo 'America/Chicago' CST-1 day, 18:00:00 STD>),\n",
      "     issuing_office='LOT',\n",
      "     summary_date=datetime.date(2024, 11, 11),\n",
      "     raw_text='...',\n",
      "     max_temp=59,\n",
      "     max_temp_time=datetime.datetime(2024, 11, 11, 13, 55, tzinfo=<DstTzInfo 'America/Chicago' CST-1 day, 18:00:00 STD>),\n",
      "     min_temp=51,\n",
      "     min_temp_time=datetime.datetime(2024, 11, 11, 2, 51, tzinfo=<DstTzInfo 'America/Chicago' CST-1 day, 18:00:00 STD>),\n",
      "     avg_temp=55,\n",
      "     valid_time=datetime.datetime(2024, 11, 11, 16, 0, tzinfo=<DstTzInfo 'America/Chicago' CST-1 day, 18:00:00 STD>)),\n",
      " CLI(issuance_time=datetime.datetime(2024, 11, 3, 1, 34, tzinfo=<DstTzInfo 'America/Chicago' CST-1 day, 18:00:00 STD>),\n",
      "     issuing_office='LOT',\n",
      "     summary_date=datetime.date(2024, 11, 2),\n",
      "     raw_text='...',\n",
      "     max_temp=59,\n",
      "     max_temp_time=datetime.datetime(2024, 11, 2, 15, 11, tzinfo=<DstTzInfo 'America/Chicago' CDT-1 day, 19:00:00 DST>),\n",
      "     min_temp=41,\n",
      "     min_temp_time=datetime.datetime(2024, 11, 2, 6, 55, tzinfo=<DstTzInfo 'America/Chicago' CDT-1 day, 19:00:00 DST>),\n",
      "     avg_temp=50,\n",
      "     valid_time=None),\n",
      " CLI(issuance_time=datetime.datetime(2024, 11, 12, 16, 36, tzinfo=<DstTzInfo 'America/Chicago' CST-1 day, 18:00:00 STD>),\n",
      "     issuing_office='LOT',\n",
      "     summary_date=datetime.date(2024, 11, 12),\n",
      "     raw_text='...',\n",
      "     max_temp=50,\n",
      "     max_temp_time=datetime.datetime(2024, 11, 12, 15, 59, tzinfo=<DstTzInfo 'America/Chicago' CST-1 day, 18:00:00 STD>),\n",
      "     min_temp=44,\n",
      "     min_temp_time=datetime.datetime(2024, 11, 12, 3, 29, tzinfo=<DstTzInfo 'America/Chicago' CST-1 day, 18:00:00 STD>),\n",
      "     avg_temp=47,\n",
      "     valid_time=datetime.datetime(2024, 11, 12, 16, 0, tzinfo=<DstTzInfo 'America/Chicago' CST-1 day, 18:00:00 STD>)),\n",
      " CLI(issuance_time=datetime.datetime(2024, 11, 7, 16, 36, tzinfo=<DstTzInfo 'America/Chicago' CST-1 day, 18:00:00 STD>),\n",
      "     issuing_office='LOT',\n",
      "     summary_date=datetime.date(2024, 11, 7),\n",
      "     raw_text='...',\n",
      "     max_temp=60,\n",
      "     max_temp_time=datetime.datetime(2024, 11, 7, 15, 31, tzinfo=<DstTzInfo 'America/Chicago' CST-1 day, 18:00:00 STD>),\n",
      "     min_temp=45,\n",
      "     min_temp_time=datetime.datetime(2024, 11, 7, 6, 58, tzinfo=<DstTzInfo 'America/Chicago' CST-1 day, 18:00:00 STD>),\n",
      "     avg_temp=53,\n",
      "     valid_time=datetime.datetime(2024, 11, 7, 16, 0, tzinfo=<DstTzInfo 'America/Chicago' CST-1 day, 18:00:00 STD>)),\n",
      " CLI(issuance_time=datetime.datetime(2024, 11, 16, 0, 45, tzinfo=<DstTzInfo 'America/Chicago' CST-1 day, 18:00:00 STD>),\n",
      "     issuing_office='LOT',\n",
      "     summary_date=datetime.date(2024, 11, 15),\n",
      "     raw_text='...',\n",
      "     max_temp=55,\n",
      "     max_temp_time=datetime.datetime(2024, 11, 15, 14, 21, tzinfo=<DstTzInfo 'America/Chicago' CST-1 day, 18:00:00 STD>),\n",
      "     min_temp=45,\n",
      "     min_temp_time=datetime.datetime(2024, 11, 15, 23, 59, tzinfo=<DstTzInfo 'America/Chicago' CST-1 day, 18:00:00 STD>),\n",
      "     avg_temp=50,\n",
      "     valid_time=None),\n",
      " CLI(issuance_time=datetime.datetime(2024, 11, 1, 16, 35, tzinfo=<DstTzInfo 'America/Chicago' CDT-1 day, 19:00:00 DST>),\n",
      "     issuing_office='LOT',\n",
      "     summary_date=datetime.date(2024, 11, 1),\n",
      "     raw_text='...',\n",
      "     max_temp=54,\n",
      "     max_temp_time=datetime.datetime(2024, 11, 1, 14, 36, tzinfo=<DstTzInfo 'America/Chicago' CDT-1 day, 19:00:00 DST>),\n",
      "     min_temp=39,\n",
      "     min_temp_time=datetime.datetime(2024, 11, 1, 6, 43, tzinfo=<DstTzInfo 'America/Chicago' CDT-1 day, 19:00:00 DST>),\n",
      "     avg_temp=47,\n",
      "     valid_time=datetime.datetime(2024, 11, 1, 16, 0, tzinfo=<DstTzInfo 'America/Chicago' CDT-1 day, 19:00:00 DST>)),\n",
      " CLI(issuance_time=datetime.datetime(2024, 10, 23, 1, 34, tzinfo=<DstTzInfo 'America/Chicago' CDT-1 day, 19:00:00 DST>),\n",
      "     issuing_office='LOT',\n",
      "     summary_date=datetime.date(2024, 10, 22),\n",
      "     raw_text='...',\n",
      "     max_temp=75,\n",
      "     max_temp_time=datetime.datetime(2024, 10, 22, 15, 45, tzinfo=<DstTzInfo 'America/Chicago' CDT-1 day, 19:00:00 DST>),\n",
      "     min_temp=55,\n",
      "     min_temp_time=datetime.datetime(2024, 10, 22, 6, 18, tzinfo=<DstTzInfo 'America/Chicago' CDT-1 day, 19:00:00 DST>),\n",
      "     avg_temp=65,\n",
      "     valid_time=None),\n",
      " CLI(issuance_time=datetime.datetime(2024, 10, 30, 16, 34, tzinfo=<DstTzInfo 'America/Chicago' CDT-1 day, 19:00:00 DST>),\n",
      "     issuing_office='LOT',\n",
      "     summary_date=datetime.date(2024, 10, 30),\n",
      "     raw_text='...',\n",
      "     max_temp=81,\n",
      "     max_temp_time=datetime.datetime(2024, 10, 30, 14, 25, tzinfo=<DstTzInfo 'America/Chicago' CDT-1 day, 19:00:00 DST>),\n",
      "     min_temp=69,\n",
      "     min_temp_time=datetime.datetime(2024, 10, 30, 6, 45, tzinfo=<DstTzInfo 'America/Chicago' CDT-1 day, 19:00:00 DST>),\n",
      "     avg_temp=75,\n",
      "     valid_time=datetime.datetime(2024, 10, 30, 16, 0, tzinfo=<DstTzInfo 'America/Chicago' CDT-1 day, 19:00:00 DST>)),\n",
      " CLI(issuance_time=datetime.datetime(2024, 11, 15, 0, 38, tzinfo=<DstTzInfo 'America/Chicago' CST-1 day, 18:00:00 STD>),\n",
      "     issuing_office='LOT',\n",
      "     summary_date=datetime.date(2024, 11, 14),\n",
      "     raw_text='...',\n",
      "     max_temp=55,\n",
      "     max_temp_time=datetime.datetime(2024, 11, 14, 12, 32, tzinfo=<DstTzInfo 'America/Chicago' CST-1 day, 18:00:00 STD>),\n",
      "     min_temp=49,\n",
      "     min_temp_time=datetime.datetime(2024, 11, 14, 23, 3, tzinfo=<DstTzInfo 'America/Chicago' CST-1 day, 18:00:00 STD>),\n",
      "     avg_temp=52,\n",
      "     valid_time=None),\n",
      " CLI(issuance_time=datetime.datetime(2024, 10, 22, 1, 33, tzinfo=<DstTzInfo 'America/Chicago' CDT-1 day, 19:00:00 DST>),\n",
      "     issuing_office='LOT',\n",
      "     summary_date=datetime.date(2024, 10, 21),\n",
      "     raw_text='...',\n",
      "     max_temp=82,\n",
      "     max_temp_time=datetime.datetime(2024, 10, 21, 16, 6, tzinfo=<DstTzInfo 'America/Chicago' CDT-1 day, 19:00:00 DST>),\n",
      "     min_temp=53,\n",
      "     min_temp_time=datetime.datetime(2024, 10, 21, 4, 7, tzinfo=<DstTzInfo 'America/Chicago' CDT-1 day, 19:00:00 DST>),\n",
      "     avg_temp=68,\n",
      "     valid_time=None),\n",
      " CLI(issuance_time=datetime.datetime(2024, 11, 16, 16, 45, tzinfo=<DstTzInfo 'America/Chicago' CST-1 day, 18:00:00 STD>),\n",
      "     issuing_office='LOT',\n",
      "     summary_date=datetime.date(2024, 11, 16),\n",
      "     raw_text='...',\n",
      "     max_temp=53,\n",
      "     max_temp_time=datetime.datetime(2024, 11, 16, 14, 9, tzinfo=<DstTzInfo 'America/Chicago' CST-1 day, 18:00:00 STD>),\n",
      "     min_temp=44,\n",
      "     min_temp_time=datetime.datetime(2024, 11, 16, 0, 40, tzinfo=<DstTzInfo 'America/Chicago' CST-1 day, 18:00:00 STD>),\n",
      "     avg_temp=49,\n",
      "     valid_time=datetime.datetime(2024, 11, 16, 16, 0, tzinfo=<DstTzInfo 'America/Chicago' CST-1 day, 18:00:00 STD>)),\n",
      " CLI(issuance_time=datetime.datetime(2024, 11, 9, 0, 45, tzinfo=<DstTzInfo 'America/Chicago' CST-1 day, 18:00:00 STD>),\n",
      "     issuing_office='LOT',\n",
      "     summary_date=datetime.date(2024, 11, 8),\n",
      "     raw_text='...',\n",
      "     max_temp=64,\n",
      "     max_temp_time=datetime.datetime(2024, 11, 8, 14, 48, tzinfo=<DstTzInfo 'America/Chicago' CST-1 day, 18:00:00 STD>),\n",
      "     min_temp=43,\n",
      "     min_temp_time=datetime.datetime(2024, 11, 8, 6, 35, tzinfo=<DstTzInfo 'America/Chicago' CST-1 day, 18:00:00 STD>),\n",
      "     avg_temp=54,\n",
      "     valid_time=None),\n",
      " CLI(issuance_time=datetime.datetime(2024, 11, 13, 0, 47, tzinfo=<DstTzInfo 'America/Chicago' CST-1 day, 18:00:00 STD>),\n",
      "     issuing_office='LOT',\n",
      "     summary_date=datetime.date(2024, 11, 12),\n",
      "     raw_text='...',\n",
      "     max_temp=50,\n",
      "     max_temp_time=datetime.datetime(2024, 11, 12, 16, 5, tzinfo=<DstTzInfo 'America/Chicago' CST-1 day, 18:00:00 STD>),\n",
      "     min_temp=42,\n",
      "     min_temp_time=datetime.datetime(2024, 11, 12, 23, 59, tzinfo=<DstTzInfo 'America/Chicago' CST-1 day, 18:00:00 STD>),\n",
      "     avg_temp=46,\n",
      "     valid_time=None),\n",
      " CLI(issuance_time=datetime.datetime(2024, 11, 6, 0, 37, tzinfo=<DstTzInfo 'America/Chicago' CST-1 day, 18:00:00 STD>),\n",
      "     issuing_office='LOT',\n",
      "     summary_date=datetime.date(2024, 11, 5),\n",
      "     raw_text='...',\n",
      "     max_temp=68,\n",
      "     max_temp_time=datetime.datetime(2024, 11, 5, 14, 36, tzinfo=<DstTzInfo 'America/Chicago' CST-1 day, 18:00:00 STD>),\n",
      "     min_temp=61,\n",
      "     min_temp_time=datetime.datetime(2024, 11, 5, 23, 59, tzinfo=<DstTzInfo 'America/Chicago' CST-1 day, 18:00:00 STD>),\n",
      "     avg_temp=65,\n",
      "     valid_time=None),\n",
      " CLI(issuance_time=datetime.datetime(2024, 11, 9, 16, 48, tzinfo=<DstTzInfo 'America/Chicago' CST-1 day, 18:00:00 STD>),\n",
      "     issuing_office='LOT',\n",
      "     summary_date=datetime.date(2024, 11, 9),\n",
      "     raw_text='...',\n",
      "     max_temp=56,\n",
      "     max_temp_time=datetime.datetime(2024, 11, 9, 14, 13, tzinfo=<DstTzInfo 'America/Chicago' CST-1 day, 18:00:00 STD>),\n",
      "     min_temp=48,\n",
      "     min_temp_time=datetime.datetime(2024, 11, 9, 7, 25, tzinfo=<DstTzInfo 'America/Chicago' CST-1 day, 18:00:00 STD>),\n",
      "     avg_temp=52,\n",
      "     valid_time=datetime.datetime(2024, 11, 9, 16, 0, tzinfo=<DstTzInfo 'America/Chicago' CST-1 day, 18:00:00 STD>))]\n"
     ]
    }
   ],
   "source": [
    "station = StationID.MDW\n",
    "\n",
    "clis = load_clis(station)\n",
    "\n",
    "pprint([cli.without_raw_text() for cli in clis])"
   ]
  },
  {
   "cell_type": "code",
   "execution_count": 29,
   "metadata": {},
   "outputs": [],
   "source": [
    "# Sort clis by date\n",
    "clis = sorted(clis, key=lambda cli: (cli.summary_date, cli.issuance_time))"
   ]
  },
  {
   "cell_type": "code",
   "execution_count": 30,
   "metadata": {},
   "outputs": [
    {
     "name": "stdout",
     "output_type": "stream",
     "text": [
      "<class 'pandas.core.frame.DataFrame'>\n",
      "RangeIndex: 55 entries, 0 to 54\n",
      "Data columns (total 9 columns):\n",
      " #   Column          Non-Null Count  Dtype                          \n",
      "---  ------          --------------  -----                          \n",
      " 0   issuance_time   55 non-null     datetime64[ns, America/Chicago]\n",
      " 1   issuing_office  55 non-null     object                         \n",
      " 2   summary_date    55 non-null     object                         \n",
      " 3   max_temp        55 non-null     int64                          \n",
      " 4   max_temp_time   54 non-null     datetime64[ns, America/Chicago]\n",
      " 5   min_temp        55 non-null     int64                          \n",
      " 6   min_temp_time   54 non-null     datetime64[ns, America/Chicago]\n",
      " 7   avg_temp        55 non-null     int64                          \n",
      " 8   valid_time      27 non-null     datetime64[ns, America/Chicago]\n",
      "dtypes: datetime64[ns, America/Chicago](4), int64(3), object(2)\n",
      "memory usage: 4.0+ KB\n"
     ]
    },
    {
     "data": {
      "text/html": [
       "<div>\n",
       "<style scoped>\n",
       "    .dataframe tbody tr th:only-of-type {\n",
       "        vertical-align: middle;\n",
       "    }\n",
       "\n",
       "    .dataframe tbody tr th {\n",
       "        vertical-align: top;\n",
       "    }\n",
       "\n",
       "    .dataframe thead th {\n",
       "        text-align: right;\n",
       "    }\n",
       "</style>\n",
       "<table border=\"1\" class=\"dataframe\">\n",
       "  <thead>\n",
       "    <tr style=\"text-align: right;\">\n",
       "      <th></th>\n",
       "      <th>issuance_time</th>\n",
       "      <th>issuing_office</th>\n",
       "      <th>summary_date</th>\n",
       "      <th>max_temp</th>\n",
       "      <th>max_temp_time</th>\n",
       "      <th>min_temp</th>\n",
       "      <th>min_temp_time</th>\n",
       "      <th>avg_temp</th>\n",
       "      <th>valid_time</th>\n",
       "    </tr>\n",
       "  </thead>\n",
       "  <tbody>\n",
       "    <tr>\n",
       "      <th>0</th>\n",
       "      <td>2024-10-22 01:33:00-05:00</td>\n",
       "      <td>LOT</td>\n",
       "      <td>2024-10-21</td>\n",
       "      <td>82</td>\n",
       "      <td>2024-10-21 16:06:00-05:00</td>\n",
       "      <td>53</td>\n",
       "      <td>2024-10-21 04:07:00-05:00</td>\n",
       "      <td>68</td>\n",
       "      <td>NaT</td>\n",
       "    </tr>\n",
       "    <tr>\n",
       "      <th>1</th>\n",
       "      <td>2024-10-22 16:36:00-05:00</td>\n",
       "      <td>LOT</td>\n",
       "      <td>2024-10-22</td>\n",
       "      <td>74</td>\n",
       "      <td>2024-10-22 14:59:00-05:00</td>\n",
       "      <td>55</td>\n",
       "      <td>2024-10-22 06:18:00-05:00</td>\n",
       "      <td>65</td>\n",
       "      <td>2024-10-22 16:00:00-05:00</td>\n",
       "    </tr>\n",
       "    <tr>\n",
       "      <th>2</th>\n",
       "      <td>2024-10-23 01:34:00-05:00</td>\n",
       "      <td>LOT</td>\n",
       "      <td>2024-10-22</td>\n",
       "      <td>75</td>\n",
       "      <td>2024-10-22 15:45:00-05:00</td>\n",
       "      <td>55</td>\n",
       "      <td>2024-10-22 06:18:00-05:00</td>\n",
       "      <td>65</td>\n",
       "      <td>NaT</td>\n",
       "    </tr>\n",
       "    <tr>\n",
       "      <th>3</th>\n",
       "      <td>2024-10-23 16:36:00-05:00</td>\n",
       "      <td>LOT</td>\n",
       "      <td>2024-10-23</td>\n",
       "      <td>65</td>\n",
       "      <td>2024-10-23 14:47:00-05:00</td>\n",
       "      <td>58</td>\n",
       "      <td>2024-10-23 06:37:00-05:00</td>\n",
       "      <td>62</td>\n",
       "      <td>2024-10-23 16:00:00-05:00</td>\n",
       "    </tr>\n",
       "    <tr>\n",
       "      <th>4</th>\n",
       "      <td>2024-10-24 01:37:00-05:00</td>\n",
       "      <td>LOT</td>\n",
       "      <td>2024-10-23</td>\n",
       "      <td>65</td>\n",
       "      <td>NaT</td>\n",
       "      <td>46</td>\n",
       "      <td>NaT</td>\n",
       "      <td>56</td>\n",
       "      <td>NaT</td>\n",
       "    </tr>\n",
       "  </tbody>\n",
       "</table>\n",
       "</div>"
      ],
      "text/plain": [
       "              issuance_time issuing_office summary_date  max_temp  \\\n",
       "0 2024-10-22 01:33:00-05:00            LOT   2024-10-21        82   \n",
       "1 2024-10-22 16:36:00-05:00            LOT   2024-10-22        74   \n",
       "2 2024-10-23 01:34:00-05:00            LOT   2024-10-22        75   \n",
       "3 2024-10-23 16:36:00-05:00            LOT   2024-10-23        65   \n",
       "4 2024-10-24 01:37:00-05:00            LOT   2024-10-23        65   \n",
       "\n",
       "              max_temp_time  min_temp             min_temp_time  avg_temp  \\\n",
       "0 2024-10-21 16:06:00-05:00        53 2024-10-21 04:07:00-05:00        68   \n",
       "1 2024-10-22 14:59:00-05:00        55 2024-10-22 06:18:00-05:00        65   \n",
       "2 2024-10-22 15:45:00-05:00        55 2024-10-22 06:18:00-05:00        65   \n",
       "3 2024-10-23 14:47:00-05:00        58 2024-10-23 06:37:00-05:00        62   \n",
       "4                       NaT        46                       NaT        56   \n",
       "\n",
       "                 valid_time  \n",
       "0                       NaT  \n",
       "1 2024-10-22 16:00:00-05:00  \n",
       "2                       NaT  \n",
       "3 2024-10-23 16:00:00-05:00  \n",
       "4                       NaT  "
      ]
     },
     "execution_count": 30,
     "metadata": {},
     "output_type": "execute_result"
    }
   ],
   "source": [
    "from dataclasses import asdict\n",
    "\n",
    "# Make a dataframe that includes all the issuance times of all the clis\n",
    "df = pd.DataFrame([asdict(cli.without_raw_text()) for cli in clis])\n",
    "df.drop(columns=['raw_text'], inplace=True)\n",
    "df.info()\n",
    "df.head()"
   ]
  },
  {
   "cell_type": "code",
   "execution_count": 31,
   "metadata": {},
   "outputs": [
    {
     "data": {
      "application/vnd.plotly.v1+json": {
       "config": {
        "plotlyServerURL": "https://plot.ly"
       },
       "data": [
        {
         "alignmentgroup": "True",
         "bingroup": "x",
         "hovertemplate": "issuance_time=%{x}<br>count=%{y}<extra></extra>",
         "legendgroup": "",
         "marker": {
          "color": "#636efa",
          "pattern": {
           "shape": ""
          }
         },
         "name": "",
         "nbinsx": 180,
         "offsetgroup": "",
         "orientation": "v",
         "showlegend": false,
         "type": "histogram",
         "x": [
          36,
          36,
          32,
          40,
          33,
          34,
          34,
          33,
          34,
          35,
          35,
          32,
          35,
          37,
          40,
          51,
          36,
          33,
          48,
          34,
          33,
          36,
          33,
          34,
          39,
          45,
          38
         ],
         "xaxis": "x",
         "yaxis": "y"
        }
       ],
       "layout": {
        "barmode": "relative",
        "legend": {
         "tracegroupgap": 0
        },
        "margin": {
         "t": 60
        },
        "template": {
         "data": {
          "bar": [
           {
            "error_x": {
             "color": "#2a3f5f"
            },
            "error_y": {
             "color": "#2a3f5f"
            },
            "marker": {
             "line": {
              "color": "#E5ECF6",
              "width": 0.5
             },
             "pattern": {
              "fillmode": "overlay",
              "size": 10,
              "solidity": 0.2
             }
            },
            "type": "bar"
           }
          ],
          "barpolar": [
           {
            "marker": {
             "line": {
              "color": "#E5ECF6",
              "width": 0.5
             },
             "pattern": {
              "fillmode": "overlay",
              "size": 10,
              "solidity": 0.2
             }
            },
            "type": "barpolar"
           }
          ],
          "carpet": [
           {
            "aaxis": {
             "endlinecolor": "#2a3f5f",
             "gridcolor": "white",
             "linecolor": "white",
             "minorgridcolor": "white",
             "startlinecolor": "#2a3f5f"
            },
            "baxis": {
             "endlinecolor": "#2a3f5f",
             "gridcolor": "white",
             "linecolor": "white",
             "minorgridcolor": "white",
             "startlinecolor": "#2a3f5f"
            },
            "type": "carpet"
           }
          ],
          "choropleth": [
           {
            "colorbar": {
             "outlinewidth": 0,
             "ticks": ""
            },
            "type": "choropleth"
           }
          ],
          "contour": [
           {
            "colorbar": {
             "outlinewidth": 0,
             "ticks": ""
            },
            "colorscale": [
             [
              0,
              "#0d0887"
             ],
             [
              0.1111111111111111,
              "#46039f"
             ],
             [
              0.2222222222222222,
              "#7201a8"
             ],
             [
              0.3333333333333333,
              "#9c179e"
             ],
             [
              0.4444444444444444,
              "#bd3786"
             ],
             [
              0.5555555555555556,
              "#d8576b"
             ],
             [
              0.6666666666666666,
              "#ed7953"
             ],
             [
              0.7777777777777778,
              "#fb9f3a"
             ],
             [
              0.8888888888888888,
              "#fdca26"
             ],
             [
              1,
              "#f0f921"
             ]
            ],
            "type": "contour"
           }
          ],
          "contourcarpet": [
           {
            "colorbar": {
             "outlinewidth": 0,
             "ticks": ""
            },
            "type": "contourcarpet"
           }
          ],
          "heatmap": [
           {
            "colorbar": {
             "outlinewidth": 0,
             "ticks": ""
            },
            "colorscale": [
             [
              0,
              "#0d0887"
             ],
             [
              0.1111111111111111,
              "#46039f"
             ],
             [
              0.2222222222222222,
              "#7201a8"
             ],
             [
              0.3333333333333333,
              "#9c179e"
             ],
             [
              0.4444444444444444,
              "#bd3786"
             ],
             [
              0.5555555555555556,
              "#d8576b"
             ],
             [
              0.6666666666666666,
              "#ed7953"
             ],
             [
              0.7777777777777778,
              "#fb9f3a"
             ],
             [
              0.8888888888888888,
              "#fdca26"
             ],
             [
              1,
              "#f0f921"
             ]
            ],
            "type": "heatmap"
           }
          ],
          "heatmapgl": [
           {
            "colorbar": {
             "outlinewidth": 0,
             "ticks": ""
            },
            "colorscale": [
             [
              0,
              "#0d0887"
             ],
             [
              0.1111111111111111,
              "#46039f"
             ],
             [
              0.2222222222222222,
              "#7201a8"
             ],
             [
              0.3333333333333333,
              "#9c179e"
             ],
             [
              0.4444444444444444,
              "#bd3786"
             ],
             [
              0.5555555555555556,
              "#d8576b"
             ],
             [
              0.6666666666666666,
              "#ed7953"
             ],
             [
              0.7777777777777778,
              "#fb9f3a"
             ],
             [
              0.8888888888888888,
              "#fdca26"
             ],
             [
              1,
              "#f0f921"
             ]
            ],
            "type": "heatmapgl"
           }
          ],
          "histogram": [
           {
            "marker": {
             "pattern": {
              "fillmode": "overlay",
              "size": 10,
              "solidity": 0.2
             }
            },
            "type": "histogram"
           }
          ],
          "histogram2d": [
           {
            "colorbar": {
             "outlinewidth": 0,
             "ticks": ""
            },
            "colorscale": [
             [
              0,
              "#0d0887"
             ],
             [
              0.1111111111111111,
              "#46039f"
             ],
             [
              0.2222222222222222,
              "#7201a8"
             ],
             [
              0.3333333333333333,
              "#9c179e"
             ],
             [
              0.4444444444444444,
              "#bd3786"
             ],
             [
              0.5555555555555556,
              "#d8576b"
             ],
             [
              0.6666666666666666,
              "#ed7953"
             ],
             [
              0.7777777777777778,
              "#fb9f3a"
             ],
             [
              0.8888888888888888,
              "#fdca26"
             ],
             [
              1,
              "#f0f921"
             ]
            ],
            "type": "histogram2d"
           }
          ],
          "histogram2dcontour": [
           {
            "colorbar": {
             "outlinewidth": 0,
             "ticks": ""
            },
            "colorscale": [
             [
              0,
              "#0d0887"
             ],
             [
              0.1111111111111111,
              "#46039f"
             ],
             [
              0.2222222222222222,
              "#7201a8"
             ],
             [
              0.3333333333333333,
              "#9c179e"
             ],
             [
              0.4444444444444444,
              "#bd3786"
             ],
             [
              0.5555555555555556,
              "#d8576b"
             ],
             [
              0.6666666666666666,
              "#ed7953"
             ],
             [
              0.7777777777777778,
              "#fb9f3a"
             ],
             [
              0.8888888888888888,
              "#fdca26"
             ],
             [
              1,
              "#f0f921"
             ]
            ],
            "type": "histogram2dcontour"
           }
          ],
          "mesh3d": [
           {
            "colorbar": {
             "outlinewidth": 0,
             "ticks": ""
            },
            "type": "mesh3d"
           }
          ],
          "parcoords": [
           {
            "line": {
             "colorbar": {
              "outlinewidth": 0,
              "ticks": ""
             }
            },
            "type": "parcoords"
           }
          ],
          "pie": [
           {
            "automargin": true,
            "type": "pie"
           }
          ],
          "scatter": [
           {
            "fillpattern": {
             "fillmode": "overlay",
             "size": 10,
             "solidity": 0.2
            },
            "type": "scatter"
           }
          ],
          "scatter3d": [
           {
            "line": {
             "colorbar": {
              "outlinewidth": 0,
              "ticks": ""
             }
            },
            "marker": {
             "colorbar": {
              "outlinewidth": 0,
              "ticks": ""
             }
            },
            "type": "scatter3d"
           }
          ],
          "scattercarpet": [
           {
            "marker": {
             "colorbar": {
              "outlinewidth": 0,
              "ticks": ""
             }
            },
            "type": "scattercarpet"
           }
          ],
          "scattergeo": [
           {
            "marker": {
             "colorbar": {
              "outlinewidth": 0,
              "ticks": ""
             }
            },
            "type": "scattergeo"
           }
          ],
          "scattergl": [
           {
            "marker": {
             "colorbar": {
              "outlinewidth": 0,
              "ticks": ""
             }
            },
            "type": "scattergl"
           }
          ],
          "scattermapbox": [
           {
            "marker": {
             "colorbar": {
              "outlinewidth": 0,
              "ticks": ""
             }
            },
            "type": "scattermapbox"
           }
          ],
          "scatterpolar": [
           {
            "marker": {
             "colorbar": {
              "outlinewidth": 0,
              "ticks": ""
             }
            },
            "type": "scatterpolar"
           }
          ],
          "scatterpolargl": [
           {
            "marker": {
             "colorbar": {
              "outlinewidth": 0,
              "ticks": ""
             }
            },
            "type": "scatterpolargl"
           }
          ],
          "scatterternary": [
           {
            "marker": {
             "colorbar": {
              "outlinewidth": 0,
              "ticks": ""
             }
            },
            "type": "scatterternary"
           }
          ],
          "surface": [
           {
            "colorbar": {
             "outlinewidth": 0,
             "ticks": ""
            },
            "colorscale": [
             [
              0,
              "#0d0887"
             ],
             [
              0.1111111111111111,
              "#46039f"
             ],
             [
              0.2222222222222222,
              "#7201a8"
             ],
             [
              0.3333333333333333,
              "#9c179e"
             ],
             [
              0.4444444444444444,
              "#bd3786"
             ],
             [
              0.5555555555555556,
              "#d8576b"
             ],
             [
              0.6666666666666666,
              "#ed7953"
             ],
             [
              0.7777777777777778,
              "#fb9f3a"
             ],
             [
              0.8888888888888888,
              "#fdca26"
             ],
             [
              1,
              "#f0f921"
             ]
            ],
            "type": "surface"
           }
          ],
          "table": [
           {
            "cells": {
             "fill": {
              "color": "#EBF0F8"
             },
             "line": {
              "color": "white"
             }
            },
            "header": {
             "fill": {
              "color": "#C8D4E3"
             },
             "line": {
              "color": "white"
             }
            },
            "type": "table"
           }
          ]
         },
         "layout": {
          "annotationdefaults": {
           "arrowcolor": "#2a3f5f",
           "arrowhead": 0,
           "arrowwidth": 1
          },
          "autotypenumbers": "strict",
          "coloraxis": {
           "colorbar": {
            "outlinewidth": 0,
            "ticks": ""
           }
          },
          "colorscale": {
           "diverging": [
            [
             0,
             "#8e0152"
            ],
            [
             0.1,
             "#c51b7d"
            ],
            [
             0.2,
             "#de77ae"
            ],
            [
             0.3,
             "#f1b6da"
            ],
            [
             0.4,
             "#fde0ef"
            ],
            [
             0.5,
             "#f7f7f7"
            ],
            [
             0.6,
             "#e6f5d0"
            ],
            [
             0.7,
             "#b8e186"
            ],
            [
             0.8,
             "#7fbc41"
            ],
            [
             0.9,
             "#4d9221"
            ],
            [
             1,
             "#276419"
            ]
           ],
           "sequential": [
            [
             0,
             "#0d0887"
            ],
            [
             0.1111111111111111,
             "#46039f"
            ],
            [
             0.2222222222222222,
             "#7201a8"
            ],
            [
             0.3333333333333333,
             "#9c179e"
            ],
            [
             0.4444444444444444,
             "#bd3786"
            ],
            [
             0.5555555555555556,
             "#d8576b"
            ],
            [
             0.6666666666666666,
             "#ed7953"
            ],
            [
             0.7777777777777778,
             "#fb9f3a"
            ],
            [
             0.8888888888888888,
             "#fdca26"
            ],
            [
             1,
             "#f0f921"
            ]
           ],
           "sequentialminus": [
            [
             0,
             "#0d0887"
            ],
            [
             0.1111111111111111,
             "#46039f"
            ],
            [
             0.2222222222222222,
             "#7201a8"
            ],
            [
             0.3333333333333333,
             "#9c179e"
            ],
            [
             0.4444444444444444,
             "#bd3786"
            ],
            [
             0.5555555555555556,
             "#d8576b"
            ],
            [
             0.6666666666666666,
             "#ed7953"
            ],
            [
             0.7777777777777778,
             "#fb9f3a"
            ],
            [
             0.8888888888888888,
             "#fdca26"
            ],
            [
             1,
             "#f0f921"
            ]
           ]
          },
          "colorway": [
           "#636efa",
           "#EF553B",
           "#00cc96",
           "#ab63fa",
           "#FFA15A",
           "#19d3f3",
           "#FF6692",
           "#B6E880",
           "#FF97FF",
           "#FECB52"
          ],
          "font": {
           "color": "#2a3f5f"
          },
          "geo": {
           "bgcolor": "white",
           "lakecolor": "white",
           "landcolor": "#E5ECF6",
           "showlakes": true,
           "showland": true,
           "subunitcolor": "white"
          },
          "hoverlabel": {
           "align": "left"
          },
          "hovermode": "closest",
          "mapbox": {
           "style": "light"
          },
          "paper_bgcolor": "white",
          "plot_bgcolor": "#E5ECF6",
          "polar": {
           "angularaxis": {
            "gridcolor": "white",
            "linecolor": "white",
            "ticks": ""
           },
           "bgcolor": "#E5ECF6",
           "radialaxis": {
            "gridcolor": "white",
            "linecolor": "white",
            "ticks": ""
           }
          },
          "scene": {
           "xaxis": {
            "backgroundcolor": "#E5ECF6",
            "gridcolor": "white",
            "gridwidth": 2,
            "linecolor": "white",
            "showbackground": true,
            "ticks": "",
            "zerolinecolor": "white"
           },
           "yaxis": {
            "backgroundcolor": "#E5ECF6",
            "gridcolor": "white",
            "gridwidth": 2,
            "linecolor": "white",
            "showbackground": true,
            "ticks": "",
            "zerolinecolor": "white"
           },
           "zaxis": {
            "backgroundcolor": "#E5ECF6",
            "gridcolor": "white",
            "gridwidth": 2,
            "linecolor": "white",
            "showbackground": true,
            "ticks": "",
            "zerolinecolor": "white"
           }
          },
          "shapedefaults": {
           "line": {
            "color": "#2a3f5f"
           }
          },
          "ternary": {
           "aaxis": {
            "gridcolor": "white",
            "linecolor": "white",
            "ticks": ""
           },
           "baxis": {
            "gridcolor": "white",
            "linecolor": "white",
            "ticks": ""
           },
           "bgcolor": "#E5ECF6",
           "caxis": {
            "gridcolor": "white",
            "linecolor": "white",
            "ticks": ""
           }
          },
          "title": {
           "x": 0.05
          },
          "xaxis": {
           "automargin": true,
           "gridcolor": "white",
           "linecolor": "white",
           "ticks": "",
           "title": {
            "standoff": 15
           },
           "zerolinecolor": "white",
           "zerolinewidth": 2
          },
          "yaxis": {
           "automargin": true,
           "gridcolor": "white",
           "linecolor": "white",
           "ticks": "",
           "title": {
            "standoff": 15
           },
           "zerolinecolor": "white",
           "zerolinewidth": 2
          }
         }
        },
        "xaxis": {
         "anchor": "y",
         "domain": [
          0,
          1
         ],
         "title": {
          "text": "issuance_time"
         }
        },
        "yaxis": {
         "anchor": "x",
         "domain": [
          0,
          1
         ],
         "title": {
          "text": "count"
         }
        }
       }
      }
     },
     "metadata": {},
     "output_type": "display_data"
    }
   ],
   "source": [
    "# Plot the ranges of the CLI timeframes\n",
    "import plotly.express as px\n",
    "\n",
    "issue_df = df[[\"issuance_time\"]].copy()\n",
    "issue_df[\"issuance_time\"] = issue_df[\"issuance_time\"].dt.time\n",
    "# Filter on those that are between 4-5pm\n",
    "hours = range(16, 18)\n",
    "issue_df = issue_df[issue_df[\"issuance_time\"].apply(lambda t: t.hour in hours)]\n",
    "issue_df[\"issuance_time\"] = issue_df[\"issuance_time\"].apply(lambda t: ((t.hour - min(hours)) * 60 + t.minute))\n",
    "\n",
    "binsize = 1 # minute\n",
    "fig = px.histogram(issue_df, x=\"issuance_time\", nbins=180//binsize)\n",
    "fig.show()\n"
   ]
  },
  {
   "cell_type": "code",
   "execution_count": null,
   "metadata": {},
   "outputs": [],
   "source": [
    "# MIA Release times\n",
    "# 16:21 to 16:40 Eastern\n",
    "# NYC Release times\n",
    "# 16:32 to 16:52 Eastern\n",
    "# AUS Release times\n",
    "# 16:22 - 17:59 Central\n",
    "# MDW Release times\n",
    "# 16:32 to 16:51 Central\n"
   ]
  }
 ],
 "metadata": {
  "kernelspec": {
   "display_name": "kalshi",
   "language": "python",
   "name": "python3"
  },
  "language_info": {
   "codemirror_mode": {
    "name": "ipython",
    "version": 3
   },
   "file_extension": ".py",
   "mimetype": "text/x-python",
   "name": "python",
   "nbconvert_exporter": "python",
   "pygments_lexer": "ipython3",
   "version": "3.10.15"
  }
 },
 "nbformat": 4,
 "nbformat_minor": 2
}
