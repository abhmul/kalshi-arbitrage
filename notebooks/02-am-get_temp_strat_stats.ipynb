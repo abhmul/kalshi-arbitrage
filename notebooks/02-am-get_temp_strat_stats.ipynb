{
 "cells": [
  {
   "cell_type": "code",
   "execution_count": 1,
   "metadata": {},
   "outputs": [],
   "source": [
    "from src.nws import NWSClient\n",
    "\n",
    "client = NWSClient()"
   ]
  },
  {
   "cell_type": "code",
   "execution_count": 3,
   "metadata": {},
   "outputs": [
    {
     "data": {
      "text/plain": [
       "[CLI(id='1eae2f39-8187-42ad-ab00-1f212b40a93a', url=URL('https://api.weather.gov/products/1eae2f39-8187-42ad-ab00-1f212b40a93a'), issuance_time=datetime.datetime(2024, 11, 11, 23, 32, tzinfo=datetime.timezone.utc), product_code='CLI', product_name='Climatological Report (Daily)', issuing_office='KEWX', report=ParsedCLIReport(summary_date=datetime.date(2024, 11, 11), max_temp=85, max_temp_time=datetime.datetime(2024, 11, 11, 15, 49), min_temp=54, min_temp_time=datetime.datetime(2024, 11, 11, 7, 1), avg_temp=69, precipitation=None, precipitation_month_to_date=None, precipitation_since_sep_1=None, precipitation_since_jan_1=None, highest_wind_speed=9, highest_wind_direction='NE', highest_gust_speed=16, highest_gust_direction='E', average_wind_speed=2.9, average_sky_cover=0.1, highest_humidity=97, lowest_humidity=41, average_humidity=70)),\n",
       " CLI(id='4bdc776c-7c59-406a-9e12-57cf83dd93b4', url=URL('https://api.weather.gov/products/4bdc776c-7c59-406a-9e12-57cf83dd93b4'), issuance_time=datetime.datetime(2024, 11, 11, 22, 27, tzinfo=datetime.timezone.utc), product_code='CLI', product_name='Climatological Report (Daily)', issuing_office='KEWX', report=ParsedCLIReport(summary_date=datetime.date(2024, 11, 11), max_temp=85, max_temp_time=datetime.datetime(2024, 11, 11, 15, 49), min_temp=54, min_temp_time=datetime.datetime(2024, 11, 11, 7, 1), avg_temp=70, precipitation=None, precipitation_month_to_date=None, precipitation_since_sep_1=None, precipitation_since_jan_1=None, highest_wind_speed=None, highest_wind_direction=None, highest_gust_speed=None, highest_gust_direction=None, average_wind_speed=None, average_sky_cover=None, highest_humidity=None, lowest_humidity=None, average_humidity=70)),\n",
       " CLI(id='8bb85734-3ebf-401a-9289-c45fd8342c2a', url=URL('https://api.weather.gov/products/8bb85734-3ebf-401a-9289-c45fd8342c2a'), issuance_time=datetime.datetime(2024, 11, 11, 13, 51, tzinfo=datetime.timezone.utc), product_code='CLI', product_name='Climatological Report (Daily)', issuing_office='KEWX', report=ParsedCLIReport(summary_date=datetime.date(2024, 11, 11), max_temp=61, max_temp_time=datetime.datetime(2024, 11, 11, 7, 47), min_temp=54, min_temp_time=datetime.datetime(2024, 11, 11, 7, 1), avg_temp=58, precipitation=None, precipitation_month_to_date=None, precipitation_since_sep_1=None, precipitation_since_jan_1=None, highest_wind_speed=None, highest_wind_direction=None, highest_gust_speed=None, highest_gust_direction=None, average_wind_speed=None, average_sky_cover=None, highest_humidity=None, lowest_humidity=None, average_humidity=58)),\n",
       " CLI(id='9c5a3929-9e59-46df-b406-a1aae6ca946c', url=URL('https://api.weather.gov/products/9c5a3929-9e59-46df-b406-a1aae6ca946c'), issuance_time=datetime.datetime(2024, 11, 11, 7, 54, tzinfo=datetime.timezone.utc), product_code='CLI', product_name='Climatological Report (Daily)', issuing_office='KEWX', report=ParsedCLIReport(summary_date=datetime.date(2024, 11, 10), max_temp=87, max_temp_time=datetime.datetime(2024, 11, 10, 16, 3), min_temp=56, min_temp_time=datetime.datetime(2024, 11, 10, 7, 15), avg_temp=62, precipitation=None, precipitation_month_to_date=None, precipitation_since_sep_1=None, precipitation_since_jan_1=None, highest_wind_speed=10, highest_wind_direction='N', highest_gust_speed=15, highest_gust_direction='N', average_wind_speed=1.9, average_sky_cover=0.3, highest_humidity=90, lowest_humidity=34, average_humidity=72)),\n",
       " CLI(id='3d23bd69-8ffa-4e47-a5ea-444bc3737f48', url=URL('https://api.weather.gov/products/3d23bd69-8ffa-4e47-a5ea-444bc3737f48'), issuance_time=datetime.datetime(2024, 11, 10, 23, 40, tzinfo=datetime.timezone.utc), product_code='CLI', product_name='Climatological Report (Daily)', issuing_office='KEWX', report=ParsedCLIReport(summary_date=datetime.date(2024, 11, 10), max_temp=87, max_temp_time=datetime.datetime(2024, 11, 10, 16, 3), min_temp=56, min_temp_time=datetime.datetime(2024, 11, 10, 7, 15), avg_temp=62, precipitation=None, precipitation_month_to_date=None, precipitation_since_sep_1=None, precipitation_since_jan_1=None, highest_wind_speed=10, highest_wind_direction='N', highest_gust_speed=15, highest_gust_direction='N', average_wind_speed=2.5, average_sky_cover=0.4, highest_humidity=90, lowest_humidity=34, average_humidity=72)),\n",
       " CLI(id='8e97a3c9-82af-4cd2-82f1-fce61db6e2d0', url=URL('https://api.weather.gov/products/8e97a3c9-82af-4cd2-82f1-fce61db6e2d0'), issuance_time=datetime.datetime(2024, 11, 10, 22, 42, tzinfo=datetime.timezone.utc), product_code='CLI', product_name='Climatological Report (Daily)', issuing_office='KEWX', report=ParsedCLIReport(summary_date=datetime.date(2024, 11, 10), max_temp=87, max_temp_time=datetime.datetime(2024, 11, 10, 16, 3), min_temp=56, min_temp_time=datetime.datetime(2024, 11, 10, 7, 15), avg_temp=72, precipitation=None, precipitation_month_to_date=None, precipitation_since_sep_1=None, precipitation_since_jan_1=None, highest_wind_speed=None, highest_wind_direction=None, highest_gust_speed=None, highest_gust_direction=None, average_wind_speed=None, average_sky_cover=None, highest_humidity=None, lowest_humidity=None, average_humidity=72)),\n",
       " CLI(id='c2e1b091-00b7-4d49-b016-9554bb3d12e9', url=URL('https://api.weather.gov/products/c2e1b091-00b7-4d49-b016-9554bb3d12e9'), issuance_time=datetime.datetime(2024, 11, 10, 13, 45, tzinfo=datetime.timezone.utc), product_code='CLI', product_name='Climatological Report (Daily)', issuing_office='KEWX', report=ParsedCLIReport(summary_date=datetime.date(2024, 11, 10), max_temp=65, max_temp_time=datetime.datetime(2024, 11, 10, 2, 22), min_temp=56, min_temp_time=datetime.datetime(2024, 11, 10, 7, 15), avg_temp=61, precipitation=None, precipitation_month_to_date=None, precipitation_since_sep_1=None, precipitation_since_jan_1=None, highest_wind_speed=None, highest_wind_direction=None, highest_gust_speed=None, highest_gust_direction=None, average_wind_speed=None, average_sky_cover=None, highest_humidity=None, lowest_humidity=None, average_humidity=61)),\n",
       " CLI(id='68d19735-683d-41a6-b200-0993ec96bc91', url=URL('https://api.weather.gov/products/68d19735-683d-41a6-b200-0993ec96bc91'), issuance_time=datetime.datetime(2024, 11, 10, 7, 42, tzinfo=datetime.timezone.utc), product_code='CLI', product_name='Climatological Report (Daily)', issuing_office='KEWX', report=ParsedCLIReport(summary_date=datetime.date(2024, 11, 9), max_temp=80, max_temp_time=datetime.datetime(2024, 11, 9, 15, 29), min_temp=56, min_temp_time=datetime.datetime(2024, 11, 9, 7, 11), avg_temp=52, precipitation=None, precipitation_month_to_date=None, precipitation_since_sep_1=None, precipitation_since_jan_1=None, highest_wind_speed=17, highest_wind_direction='N', highest_gust_speed=24, highest_gust_direction='N', average_wind_speed=7.7, average_sky_cover=0.3, highest_humidity=81, lowest_humidity=22, average_humidity=68)),\n",
       " CLI(id='703b1947-32be-4243-8690-d8f3485853dc', url=URL('https://api.weather.gov/products/703b1947-32be-4243-8690-d8f3485853dc'), issuance_time=datetime.datetime(2024, 11, 9, 23, 34, tzinfo=datetime.timezone.utc), product_code='CLI', product_name='Climatological Report (Daily)', issuing_office='KEWX', report=ParsedCLIReport(summary_date=datetime.date(2024, 11, 9), max_temp=80, max_temp_time=datetime.datetime(2024, 11, 9, 15, 29), min_temp=56, min_temp_time=datetime.datetime(2024, 11, 9, 7, 11), avg_temp=47, precipitation=None, precipitation_month_to_date=None, precipitation_since_sep_1=None, precipitation_since_jan_1=None, highest_wind_speed=17, highest_wind_direction='N', highest_gust_speed=24, highest_gust_direction='N', average_wind_speed=10.5, average_sky_cover=0.3, highest_humidity=72, lowest_humidity=22, average_humidity=68)),\n",
       " CLI(id='d28252bb-5a52-445e-9f1b-c8be4f580b0f', url=URL('https://api.weather.gov/products/d28252bb-5a52-445e-9f1b-c8be4f580b0f'), issuance_time=datetime.datetime(2024, 11, 9, 22, 37, tzinfo=datetime.timezone.utc), product_code='CLI', product_name='Climatological Report (Daily)', issuing_office='KEWX', report=ParsedCLIReport(summary_date=datetime.date(2024, 11, 9), max_temp=80, max_temp_time=datetime.datetime(2024, 11, 9, 15, 29), min_temp=56, min_temp_time=datetime.datetime(2024, 11, 9, 7, 11), avg_temp=68, precipitation=None, precipitation_month_to_date=None, precipitation_since_sep_1=None, precipitation_since_jan_1=None, highest_wind_speed=None, highest_wind_direction=None, highest_gust_speed=None, highest_gust_direction=None, average_wind_speed=None, average_sky_cover=None, highest_humidity=None, lowest_humidity=None, average_humidity=68)),\n",
       " CLI(id='58f4b50c-44f3-4f3b-af36-86d0205d8e5f', url=URL('https://api.weather.gov/products/58f4b50c-44f3-4f3b-af36-86d0205d8e5f'), issuance_time=datetime.datetime(2024, 11, 9, 13, 41, tzinfo=datetime.timezone.utc), product_code='CLI', product_name='Climatological Report (Daily)', issuing_office='KEWX', report=ParsedCLIReport(summary_date=datetime.date(2024, 11, 9), max_temp=67, max_temp_time=datetime.datetime(2024, 11, 9, 0, 10), min_temp=56, min_temp_time=datetime.datetime(2024, 11, 9, 7, 11), avg_temp=62, precipitation=None, precipitation_month_to_date=None, precipitation_since_sep_1=None, precipitation_since_jan_1=None, highest_wind_speed=None, highest_wind_direction=None, highest_gust_speed=None, highest_gust_direction=None, average_wind_speed=None, average_sky_cover=None, highest_humidity=None, lowest_humidity=None, average_humidity=62)),\n",
       " CLI(id='7897c310-dcee-4f37-a9a1-ad8b06881550', url=URL('https://api.weather.gov/products/7897c310-dcee-4f37-a9a1-ad8b06881550'), issuance_time=datetime.datetime(2024, 11, 9, 9, 39, tzinfo=datetime.timezone.utc), product_code='CLI', product_name='Climatological Report (Daily)', issuing_office='KEWX', report=ParsedCLIReport(summary_date=datetime.date(2024, 11, 8), max_temp=89, max_temp_time=datetime.datetime(2024, 11, 8, 14, 59), min_temp=65, min_temp_time=datetime.datetime(2024, 11, 8, 22, 57), avg_temp=71, precipitation=None, precipitation_month_to_date=None, precipitation_since_sep_1=None, precipitation_since_jan_1=None, highest_wind_speed=18, highest_wind_direction='NW', highest_gust_speed=34, highest_gust_direction='NW', average_wind_speed=8.8, average_sky_cover=0.9, highest_humidity=94, lowest_humidity=47, average_humidity=77)),\n",
       " CLI(id='fb76aac9-2f1f-4308-aa63-294488610901', url=URL('https://api.weather.gov/products/fb76aac9-2f1f-4308-aa63-294488610901'), issuance_time=datetime.datetime(2024, 11, 8, 23, 41, tzinfo=datetime.timezone.utc), product_code='CLI', product_name='Climatological Report (Daily)', issuing_office='KEWX', report=ParsedCLIReport(summary_date=datetime.date(2024, 11, 8), max_temp=89, max_temp_time=datetime.datetime(2024, 11, 8, 14, 59), min_temp=66, min_temp_time=datetime.datetime(2024, 11, 8, 17, 36), avg_temp=71, precipitation=None, precipitation_month_to_date=None, precipitation_since_sep_1=None, precipitation_since_jan_1=None, highest_wind_speed=18, highest_wind_direction='NW', highest_gust_speed=34, highest_gust_direction='NW', average_wind_speed=8.1, average_sky_cover=0.9, highest_humidity=94, lowest_humidity=47, average_humidity=78)),\n",
       " CLI(id='336e22f0-f74f-46f2-a6b5-53efab961d4a', url=URL('https://api.weather.gov/products/336e22f0-f74f-46f2-a6b5-53efab961d4a'), issuance_time=datetime.datetime(2024, 11, 8, 22, 41, tzinfo=datetime.timezone.utc), product_code='CLI', product_name='Climatological Report (Daily)', issuing_office='KEWX', report=ParsedCLIReport(summary_date=datetime.date(2024, 11, 8), max_temp=89, max_temp_time=datetime.datetime(2024, 11, 8, 14, 59), min_temp=73, min_temp_time=datetime.datetime(2024, 11, 8, 7, 45), avg_temp=81, precipitation=None, precipitation_month_to_date=None, precipitation_since_sep_1=None, precipitation_since_jan_1=None, highest_wind_speed=None, highest_wind_direction=None, highest_gust_speed=None, highest_gust_direction=None, average_wind_speed=None, average_sky_cover=None, highest_humidity=None, lowest_humidity=None, average_humidity=81)),\n",
       " CLI(id='49c3e71c-7deb-4cb4-8fc5-baacc0ea2ddc', url=URL('https://api.weather.gov/products/49c3e71c-7deb-4cb4-8fc5-baacc0ea2ddc'), issuance_time=datetime.datetime(2024, 11, 8, 13, 39, tzinfo=datetime.timezone.utc), product_code='CLI', product_name='Climatological Report (Daily)', issuing_office='KEWX', report=ParsedCLIReport(summary_date=datetime.date(2024, 11, 8), max_temp=74, max_temp_time=datetime.datetime(2024, 11, 8, 0, 20), min_temp=73, min_temp_time=datetime.datetime(2024, 11, 8, 7, 30), avg_temp=74, precipitation=None, precipitation_month_to_date=None, precipitation_since_sep_1=None, precipitation_since_jan_1=None, highest_wind_speed=None, highest_wind_direction=None, highest_gust_speed=None, highest_gust_direction=None, average_wind_speed=None, average_sky_cover=None, highest_humidity=None, lowest_humidity=None, average_humidity=74)),\n",
       " CLI(id='ea3392c5-6def-4376-810f-c8eb1f552dd2', url=URL('https://api.weather.gov/products/ea3392c5-6def-4376-810f-c8eb1f552dd2'), issuance_time=datetime.datetime(2024, 11, 8, 9, 10, tzinfo=datetime.timezone.utc), product_code='CLI', product_name='Climatological Report (Daily)', issuing_office='KEWX', report=ParsedCLIReport(summary_date=datetime.date(2024, 11, 7), max_temp=None, max_temp_time=None, min_temp=69, min_temp_time=datetime.datetime(2024, 11, 7, 6, 44), avg_temp=72, precipitation=None, precipitation_month_to_date=None, precipitation_since_sep_1=None, precipitation_since_jan_1=None, highest_wind_speed=16, highest_wind_direction='SE', highest_gust_speed=21, highest_gust_direction='SE', average_wind_speed=8.0, average_sky_cover=0.8, highest_humidity=87, lowest_humidity=57, average_humidity=79)),\n",
       " CLI(id='92abe1f9-2e05-435f-8386-7d3dbc12c3e6', url=URL('https://api.weather.gov/products/92abe1f9-2e05-435f-8386-7d3dbc12c3e6'), issuance_time=datetime.datetime(2024, 11, 7, 23, 59, tzinfo=datetime.timezone.utc), product_code='CLI', product_name='Climatological Report (Daily)', issuing_office='KEWX', report=ParsedCLIReport(summary_date=datetime.date(2024, 11, 7), max_temp=None, max_temp_time=None, min_temp=69, min_temp_time=datetime.datetime(2024, 11, 7, 6, 44), avg_temp=72, precipitation=None, precipitation_month_to_date=None, precipitation_since_sep_1=None, precipitation_since_jan_1=None, highest_wind_speed=16, highest_wind_direction='SE', highest_gust_speed=21, highest_gust_direction='SE', average_wind_speed=7.0, average_sky_cover=0.9, highest_humidity=87, lowest_humidity=57, average_humidity=79)),\n",
       " CLI(id='4dba9925-6e93-496b-9264-cb284dae5df1', url=URL('https://api.weather.gov/products/4dba9925-6e93-496b-9264-cb284dae5df1'), issuance_time=datetime.datetime(2024, 11, 7, 23, 19, tzinfo=datetime.timezone.utc), product_code='CLI', product_name='Climatological Report (Daily)', issuing_office='KEWX', report=ParsedCLIReport(summary_date=datetime.date(2024, 11, 7), max_temp=None, max_temp_time=None, min_temp=69, min_temp_time=datetime.datetime(2024, 11, 7, 6, 44), avg_temp=79, precipitation=None, precipitation_month_to_date=None, precipitation_since_sep_1=None, precipitation_since_jan_1=None, highest_wind_speed=None, highest_wind_direction=None, highest_gust_speed=None, highest_gust_direction=None, average_wind_speed=None, average_sky_cover=None, highest_humidity=None, lowest_humidity=None, average_humidity=79)),\n",
       " CLI(id='a3a62b5b-0215-4cc7-9eb4-bb80b9a5cd69', url=URL('https://api.weather.gov/products/a3a62b5b-0215-4cc7-9eb4-bb80b9a5cd69'), issuance_time=datetime.datetime(2024, 11, 7, 13, 42, tzinfo=datetime.timezone.utc), product_code='CLI', product_name='Climatological Report (Daily)', issuing_office='KEWX', report=ParsedCLIReport(summary_date=datetime.date(2024, 11, 7), max_temp=71, max_temp_time=datetime.datetime(2024, 11, 7, 2, 3), min_temp=69, min_temp_time=datetime.datetime(2024, 11, 7, 6, 44), avg_temp=70, precipitation=None, precipitation_month_to_date=None, precipitation_since_sep_1=None, precipitation_since_jan_1=None, highest_wind_speed=None, highest_wind_direction=None, highest_gust_speed=None, highest_gust_direction=None, average_wind_speed=None, average_sky_cover=None, highest_humidity=None, lowest_humidity=None, average_humidity=70)),\n",
       " CLI(id='f1733062-4327-4a3a-a3b7-d425ccaf35c8', url=URL('https://api.weather.gov/products/f1733062-4327-4a3a-a3b7-d425ccaf35c8'), issuance_time=datetime.datetime(2024, 11, 7, 9, 12, tzinfo=datetime.timezone.utc), product_code='CLI', product_name='Climatological Report (Daily)', issuing_office='KEWX', report=ParsedCLIReport(summary_date=datetime.date(2024, 11, 6), max_temp=81, max_temp_time=datetime.datetime(2024, 11, 6, 16, 19), min_temp=43, min_temp_time=datetime.datetime(2024, 11, 6, 6, 33), avg_temp=65, precipitation=None, precipitation_month_to_date=None, precipitation_since_sep_1=None, precipitation_since_jan_1=None, highest_wind_speed=13, highest_wind_direction='NE', highest_gust_speed=19, highest_gust_direction='E', average_wind_speed=3.7, average_sky_cover=0.2, highest_humidity=100, lowest_humidity=29, average_humidity=62)),\n",
       " CLI(id='bc6dcaf7-73aa-4b17-9a97-28511272d12c', url=URL('https://api.weather.gov/products/bc6dcaf7-73aa-4b17-9a97-28511272d12c'), issuance_time=datetime.datetime(2024, 11, 6, 23, 51, tzinfo=datetime.timezone.utc), product_code='CLI', product_name='Climatological Report (Daily)', issuing_office='KEWX', report=ParsedCLIReport(summary_date=datetime.date(2024, 11, 6), max_temp=81, max_temp_time=datetime.datetime(2024, 11, 6, 16, 19), min_temp=43, min_temp_time=datetime.datetime(2024, 11, 6, 6, 33), avg_temp=65, precipitation=None, precipitation_month_to_date=None, precipitation_since_sep_1=None, precipitation_since_jan_1=None, highest_wind_speed=13, highest_wind_direction='NE', highest_gust_speed=19, highest_gust_direction='E', average_wind_speed=3.5, average_sky_cover=0.0, highest_humidity=100, lowest_humidity=29, average_humidity=62)),\n",
       " CLI(id='e4bc5ff3-42d3-443f-b1de-b301865998b1', url=URL('https://api.weather.gov/products/e4bc5ff3-42d3-443f-b1de-b301865998b1'), issuance_time=datetime.datetime(2024, 11, 6, 22, 35, tzinfo=datetime.timezone.utc), product_code='CLI', product_name='Climatological Report (Daily)', issuing_office='KEWX', report=ParsedCLIReport(summary_date=datetime.date(2024, 11, 6), max_temp=81, max_temp_time=datetime.datetime(2024, 11, 6, 15, 59), min_temp=43, min_temp_time=datetime.datetime(2024, 11, 6, 6, 33), avg_temp=62, precipitation=None, precipitation_month_to_date=None, precipitation_since_sep_1=None, precipitation_since_jan_1=None, highest_wind_speed=None, highest_wind_direction=None, highest_gust_speed=None, highest_gust_direction=None, average_wind_speed=None, average_sky_cover=None, highest_humidity=None, lowest_humidity=None, average_humidity=62)),\n",
       " CLI(id='e9241c36-5bbb-48c7-b554-6ddf4803032a', url=URL('https://api.weather.gov/products/e9241c36-5bbb-48c7-b554-6ddf4803032a'), issuance_time=datetime.datetime(2024, 11, 6, 13, 35, tzinfo=datetime.timezone.utc), product_code='CLI', product_name='Climatological Report (Daily)', issuing_office='KEWX', report=ParsedCLIReport(summary_date=datetime.date(2024, 11, 6), max_temp=51, max_temp_time=datetime.datetime(2024, 11, 6, 0, 48), min_temp=43, min_temp_time=datetime.datetime(2024, 11, 6, 6, 33), avg_temp=47, precipitation=None, precipitation_month_to_date=None, precipitation_since_sep_1=None, precipitation_since_jan_1=None, highest_wind_speed=None, highest_wind_direction=None, highest_gust_speed=None, highest_gust_direction=None, average_wind_speed=None, average_sky_cover=None, highest_humidity=None, lowest_humidity=None, average_humidity=47)),\n",
       " CLI(id='d5306e55-744d-4189-b63d-4f62e32eb0d2', url=URL('https://api.weather.gov/products/d5306e55-744d-4189-b63d-4f62e32eb0d2'), issuance_time=datetime.datetime(2024, 11, 6, 8, 37, tzinfo=datetime.timezone.utc), product_code='CLI', product_name='Climatological Report (Daily)', issuing_office='KEWX', report=ParsedCLIReport(summary_date=datetime.date(2024, 11, 5), max_temp=74, max_temp_time=datetime.datetime(2024, 11, 5, 16, 14), min_temp=49, min_temp_time=datetime.datetime(2024, 11, 5, 23, 40), avg_temp=66, precipitation=None, precipitation_month_to_date=None, precipitation_since_sep_1=None, precipitation_since_jan_1=None, highest_wind_speed=15, highest_wind_direction='N', highest_gust_speed=21, highest_gust_direction='N', average_wind_speed=4.8, average_sky_cover=0.5, highest_humidity=97, lowest_humidity=35, average_humidity=62)),\n",
       " CLI(id='3e3e5e55-7217-49c7-8676-95232c8efa84', url=URL('https://api.weather.gov/products/3e3e5e55-7217-49c7-8676-95232c8efa84'), issuance_time=datetime.datetime(2024, 11, 5, 23, 41, tzinfo=datetime.timezone.utc), product_code='CLI', product_name='Climatological Report (Daily)', issuing_office='KEWX', report=ParsedCLIReport(summary_date=datetime.date(2024, 11, 5), max_temp=74, max_temp_time=datetime.datetime(2024, 11, 5, 16, 14), min_temp=61, min_temp_time=datetime.datetime(2024, 11, 5, 5, 25), avg_temp=66, precipitation=None, precipitation_month_to_date=None, precipitation_since_sep_1=None, precipitation_since_jan_1=None, highest_wind_speed=15, highest_wind_direction='N', highest_gust_speed=21, highest_gust_direction='N', average_wind_speed=6.3, average_sky_cover=0.7, highest_humidity=97, lowest_humidity=35, average_humidity=68)),\n",
       " CLI(id='e900d55d-7afc-4887-b8cf-54c27f06b5ee', url=URL('https://api.weather.gov/products/e900d55d-7afc-4887-b8cf-54c27f06b5ee'), issuance_time=datetime.datetime(2024, 11, 5, 22, 53, tzinfo=datetime.timezone.utc), product_code='CLI', product_name='Climatological Report (Daily)', issuing_office='KEWX', report=ParsedCLIReport(summary_date=datetime.date(2024, 11, 5), max_temp=74, max_temp_time=datetime.datetime(2024, 11, 5, 15, 57), min_temp=61, min_temp_time=datetime.datetime(2024, 11, 5, 5, 25), avg_temp=68, precipitation=None, precipitation_month_to_date=None, precipitation_since_sep_1=None, precipitation_since_jan_1=None, highest_wind_speed=None, highest_wind_direction=None, highest_gust_speed=None, highest_gust_direction=None, average_wind_speed=None, average_sky_cover=None, highest_humidity=None, lowest_humidity=None, average_humidity=68)),\n",
       " CLI(id='ea0c87aa-6e2c-4f00-addd-e1e6cfd510e9', url=URL('https://api.weather.gov/products/ea0c87aa-6e2c-4f00-addd-e1e6cfd510e9'), issuance_time=datetime.datetime(2024, 11, 5, 22, 49, tzinfo=datetime.timezone.utc), product_code='CLI', product_name='Climatological Report (Daily)', issuing_office='KEWX', report=ParsedCLIReport(summary_date=datetime.date(2024, 11, 5), max_temp=74, max_temp_time=datetime.datetime(2024, 11, 5, 15, 57), min_temp=61, min_temp_time=datetime.datetime(2024, 11, 5, 5, 25), avg_temp=68, precipitation=None, precipitation_month_to_date=None, precipitation_since_sep_1=None, precipitation_since_jan_1=None, highest_wind_speed=None, highest_wind_direction=None, highest_gust_speed=None, highest_gust_direction=None, average_wind_speed=None, average_sky_cover=None, highest_humidity=None, lowest_humidity=None, average_humidity=68)),\n",
       " CLI(id='10a1dd45-d6e3-4d8d-96db-80a47af910d9', url=URL('https://api.weather.gov/products/10a1dd45-d6e3-4d8d-96db-80a47af910d9'), issuance_time=datetime.datetime(2024, 11, 5, 13, 41, tzinfo=datetime.timezone.utc), product_code='CLI', product_name='Climatological Report (Daily)', issuing_office='KEWX', report=ParsedCLIReport(summary_date=datetime.date(2024, 11, 5), max_temp=64, max_temp_time=datetime.datetime(2024, 11, 5, 7, 35), min_temp=61, min_temp_time=datetime.datetime(2024, 11, 5, 5, 25), avg_temp=63, precipitation=None, precipitation_month_to_date=None, precipitation_since_sep_1=None, precipitation_since_jan_1=None, highest_wind_speed=None, highest_wind_direction=None, highest_gust_speed=None, highest_gust_direction=None, average_wind_speed=None, average_sky_cover=None, highest_humidity=None, lowest_humidity=None, average_humidity=63)),\n",
       " CLI(id='e5aa805c-70e9-423c-9387-be4a0a4e88f1', url=URL('https://api.weather.gov/products/e5aa805c-70e9-423c-9387-be4a0a4e88f1'), issuance_time=datetime.datetime(2024, 11, 5, 8, 18, tzinfo=datetime.timezone.utc), product_code='CLI', product_name='Climatological Report (Daily)', issuing_office='KEWX', report=ParsedCLIReport(summary_date=datetime.date(2024, 11, 4), max_temp=88, max_temp_time=datetime.datetime(2024, 11, 4, 15, 17), min_temp=62, min_temp_time=datetime.datetime(2024, 11, 4, 23, 59), avg_temp=79, precipitation=None, precipitation_month_to_date=None, precipitation_since_sep_1=None, precipitation_since_jan_1=None, highest_wind_speed=25, highest_wind_direction='S', highest_gust_speed=36, highest_gust_direction='S', average_wind_speed=14.6, average_sky_cover=0.9, highest_humidity=100, lowest_humidity=57, average_humidity=75))]"
      ]
     },
     "execution_count": 3,
     "metadata": {},
     "output_type": "execute_result"
    }
   ],
   "source": [
    "# For each station, I want to get the cli report and determine what time the max temp was achieved at\n",
    "# Since the summaries are for different times, this involves going through the summaries, grouping by summary_date, \n",
    "# and then finding the latest max temp for each day.\n",
    "\n",
    "# Let's start with AUS\n",
    "\n",
    "from src.params import *\n",
    "\n",
    "station = StationID.AUS\n",
    "\n",
    "# Get all the cli reports\n",
    "cli_reports = client.get_all_cli_data(station)\n",
    "cli_reports"
   ]
  },
  {
   "cell_type": "code",
   "execution_count": 10,
   "metadata": {},
   "outputs": [
    {
     "data": {
      "text/plain": [
       "{datetime.date(2024, 11, 11): CLI(id='1eae2f39-8187-42ad-ab00-1f212b40a93a', url=URL('https://api.weather.gov/products/1eae2f39-8187-42ad-ab00-1f212b40a93a'), issuance_time=datetime.datetime(2024, 11, 11, 23, 32, tzinfo=datetime.timezone.utc), product_code='CLI', product_name='Climatological Report (Daily)', issuing_office='KEWX', report=ParsedCLIReport(summary_date=datetime.date(2024, 11, 11), max_temp=85, max_temp_time=datetime.datetime(2024, 11, 11, 15, 49), min_temp=54, min_temp_time=datetime.datetime(2024, 11, 11, 7, 1), avg_temp=69, precipitation=None, precipitation_month_to_date=None, precipitation_since_sep_1=None, precipitation_since_jan_1=None, highest_wind_speed=9, highest_wind_direction='NE', highest_gust_speed=16, highest_gust_direction='E', average_wind_speed=2.9, average_sky_cover=0.1, highest_humidity=97, lowest_humidity=41, average_humidity=70)),\n",
       " datetime.date(2024, 11, 10): CLI(id='9c5a3929-9e59-46df-b406-a1aae6ca946c', url=URL('https://api.weather.gov/products/9c5a3929-9e59-46df-b406-a1aae6ca946c'), issuance_time=datetime.datetime(2024, 11, 11, 7, 54, tzinfo=datetime.timezone.utc), product_code='CLI', product_name='Climatological Report (Daily)', issuing_office='KEWX', report=ParsedCLIReport(summary_date=datetime.date(2024, 11, 10), max_temp=87, max_temp_time=datetime.datetime(2024, 11, 10, 16, 3), min_temp=56, min_temp_time=datetime.datetime(2024, 11, 10, 7, 15), avg_temp=62, precipitation=None, precipitation_month_to_date=None, precipitation_since_sep_1=None, precipitation_since_jan_1=None, highest_wind_speed=10, highest_wind_direction='N', highest_gust_speed=15, highest_gust_direction='N', average_wind_speed=1.9, average_sky_cover=0.3, highest_humidity=90, lowest_humidity=34, average_humidity=72)),\n",
       " datetime.date(2024, 11, 9): CLI(id='68d19735-683d-41a6-b200-0993ec96bc91', url=URL('https://api.weather.gov/products/68d19735-683d-41a6-b200-0993ec96bc91'), issuance_time=datetime.datetime(2024, 11, 10, 7, 42, tzinfo=datetime.timezone.utc), product_code='CLI', product_name='Climatological Report (Daily)', issuing_office='KEWX', report=ParsedCLIReport(summary_date=datetime.date(2024, 11, 9), max_temp=80, max_temp_time=datetime.datetime(2024, 11, 9, 15, 29), min_temp=56, min_temp_time=datetime.datetime(2024, 11, 9, 7, 11), avg_temp=52, precipitation=None, precipitation_month_to_date=None, precipitation_since_sep_1=None, precipitation_since_jan_1=None, highest_wind_speed=17, highest_wind_direction='N', highest_gust_speed=24, highest_gust_direction='N', average_wind_speed=7.7, average_sky_cover=0.3, highest_humidity=81, lowest_humidity=22, average_humidity=68)),\n",
       " datetime.date(2024, 11, 8): CLI(id='7897c310-dcee-4f37-a9a1-ad8b06881550', url=URL('https://api.weather.gov/products/7897c310-dcee-4f37-a9a1-ad8b06881550'), issuance_time=datetime.datetime(2024, 11, 9, 9, 39, tzinfo=datetime.timezone.utc), product_code='CLI', product_name='Climatological Report (Daily)', issuing_office='KEWX', report=ParsedCLIReport(summary_date=datetime.date(2024, 11, 8), max_temp=89, max_temp_time=datetime.datetime(2024, 11, 8, 14, 59), min_temp=65, min_temp_time=datetime.datetime(2024, 11, 8, 22, 57), avg_temp=71, precipitation=None, precipitation_month_to_date=None, precipitation_since_sep_1=None, precipitation_since_jan_1=None, highest_wind_speed=18, highest_wind_direction='NW', highest_gust_speed=34, highest_gust_direction='NW', average_wind_speed=8.8, average_sky_cover=0.9, highest_humidity=94, lowest_humidity=47, average_humidity=77)),\n",
       " datetime.date(2024, 11, 7): CLI(id='ea3392c5-6def-4376-810f-c8eb1f552dd2', url=URL('https://api.weather.gov/products/ea3392c5-6def-4376-810f-c8eb1f552dd2'), issuance_time=datetime.datetime(2024, 11, 8, 9, 10, tzinfo=datetime.timezone.utc), product_code='CLI', product_name='Climatological Report (Daily)', issuing_office='KEWX', report=ParsedCLIReport(summary_date=datetime.date(2024, 11, 7), max_temp=None, max_temp_time=None, min_temp=69, min_temp_time=datetime.datetime(2024, 11, 7, 6, 44), avg_temp=72, precipitation=None, precipitation_month_to_date=None, precipitation_since_sep_1=None, precipitation_since_jan_1=None, highest_wind_speed=16, highest_wind_direction='SE', highest_gust_speed=21, highest_gust_direction='SE', average_wind_speed=8.0, average_sky_cover=0.8, highest_humidity=87, lowest_humidity=57, average_humidity=79)),\n",
       " datetime.date(2024, 11, 6): CLI(id='f1733062-4327-4a3a-a3b7-d425ccaf35c8', url=URL('https://api.weather.gov/products/f1733062-4327-4a3a-a3b7-d425ccaf35c8'), issuance_time=datetime.datetime(2024, 11, 7, 9, 12, tzinfo=datetime.timezone.utc), product_code='CLI', product_name='Climatological Report (Daily)', issuing_office='KEWX', report=ParsedCLIReport(summary_date=datetime.date(2024, 11, 6), max_temp=81, max_temp_time=datetime.datetime(2024, 11, 6, 16, 19), min_temp=43, min_temp_time=datetime.datetime(2024, 11, 6, 6, 33), avg_temp=65, precipitation=None, precipitation_month_to_date=None, precipitation_since_sep_1=None, precipitation_since_jan_1=None, highest_wind_speed=13, highest_wind_direction='NE', highest_gust_speed=19, highest_gust_direction='E', average_wind_speed=3.7, average_sky_cover=0.2, highest_humidity=100, lowest_humidity=29, average_humidity=62)),\n",
       " datetime.date(2024, 11, 5): CLI(id='d5306e55-744d-4189-b63d-4f62e32eb0d2', url=URL('https://api.weather.gov/products/d5306e55-744d-4189-b63d-4f62e32eb0d2'), issuance_time=datetime.datetime(2024, 11, 6, 8, 37, tzinfo=datetime.timezone.utc), product_code='CLI', product_name='Climatological Report (Daily)', issuing_office='KEWX', report=ParsedCLIReport(summary_date=datetime.date(2024, 11, 5), max_temp=74, max_temp_time=datetime.datetime(2024, 11, 5, 16, 14), min_temp=49, min_temp_time=datetime.datetime(2024, 11, 5, 23, 40), avg_temp=66, precipitation=None, precipitation_month_to_date=None, precipitation_since_sep_1=None, precipitation_since_jan_1=None, highest_wind_speed=15, highest_wind_direction='N', highest_gust_speed=21, highest_gust_direction='N', average_wind_speed=4.8, average_sky_cover=0.5, highest_humidity=97, lowest_humidity=35, average_humidity=62)),\n",
       " datetime.date(2024, 11, 4): CLI(id='e5aa805c-70e9-423c-9387-be4a0a4e88f1', url=URL('https://api.weather.gov/products/e5aa805c-70e9-423c-9387-be4a0a4e88f1'), issuance_time=datetime.datetime(2024, 11, 5, 8, 18, tzinfo=datetime.timezone.utc), product_code='CLI', product_name='Climatological Report (Daily)', issuing_office='KEWX', report=ParsedCLIReport(summary_date=datetime.date(2024, 11, 4), max_temp=88, max_temp_time=datetime.datetime(2024, 11, 4, 15, 17), min_temp=62, min_temp_time=datetime.datetime(2024, 11, 4, 23, 59), avg_temp=79, precipitation=None, precipitation_month_to_date=None, precipitation_since_sep_1=None, precipitation_since_jan_1=None, highest_wind_speed=25, highest_wind_direction='S', highest_gust_speed=36, highest_gust_direction='S', average_wind_speed=14.6, average_sky_cover=0.9, highest_humidity=100, lowest_humidity=57, average_humidity=75))}"
      ]
     },
     "execution_count": 10,
     "metadata": {},
     "output_type": "execute_result"
    }
   ],
   "source": [
    "from collections import defaultdict\n",
    "\n",
    "grouped_by_summary_dates = defaultdict(list)\n",
    "for cli in cli_reports:\n",
    "    grouped_by_summary_dates[cli.report.summary_date].append(cli)\n",
    "\n",
    "# Now take the latest summary for each day\n",
    "latest_summaries = {summary_date: max(clis, key=lambda x: x.issuance_time) for summary_date, clis in grouped_by_summary_dates.items()}\n",
    "latest_summaries"
   ]
  },
  {
   "cell_type": "code",
   "execution_count": 12,
   "metadata": {},
   "outputs": [
    {
     "name": "stdout",
     "output_type": "stream",
     "text": [
      "Summary Date: 2024-11-11\n",
      "Max Temp: 85\n",
      "Time of Max Temp: 2024-11-11 15:49:00\n",
      "URL: https://api.weather.gov/products/1eae2f39-8187-42ad-ab00-1f212b40a93a\n",
      "\n",
      "Summary Date: 2024-11-10\n",
      "Max Temp: 87\n",
      "Time of Max Temp: 2024-11-10 16:03:00\n",
      "URL: https://api.weather.gov/products/9c5a3929-9e59-46df-b406-a1aae6ca946c\n",
      "\n",
      "Summary Date: 2024-11-09\n",
      "Max Temp: 80\n",
      "Time of Max Temp: 2024-11-09 15:29:00\n",
      "URL: https://api.weather.gov/products/68d19735-683d-41a6-b200-0993ec96bc91\n",
      "\n",
      "Summary Date: 2024-11-08\n",
      "Max Temp: 89\n",
      "Time of Max Temp: 2024-11-08 14:59:00\n",
      "URL: https://api.weather.gov/products/7897c310-dcee-4f37-a9a1-ad8b06881550\n",
      "\n",
      "Summary Date: 2024-11-07\n",
      "Max Temp: None\n",
      "Time of Max Temp: None\n",
      "URL: https://api.weather.gov/products/ea3392c5-6def-4376-810f-c8eb1f552dd2\n",
      "\n",
      "Summary Date: 2024-11-06\n",
      "Max Temp: 81\n",
      "Time of Max Temp: 2024-11-06 16:19:00\n",
      "URL: https://api.weather.gov/products/f1733062-4327-4a3a-a3b7-d425ccaf35c8\n",
      "\n",
      "Summary Date: 2024-11-05\n",
      "Max Temp: 74\n",
      "Time of Max Temp: 2024-11-05 16:14:00\n",
      "URL: https://api.weather.gov/products/d5306e55-744d-4189-b63d-4f62e32eb0d2\n",
      "\n",
      "Summary Date: 2024-11-04\n",
      "Max Temp: 88\n",
      "Time of Max Temp: 2024-11-04 15:17:00\n",
      "URL: https://api.weather.gov/products/e5aa805c-70e9-423c-9387-be4a0a4e88f1\n",
      "\n"
     ]
    }
   ],
   "source": [
    "for summary_date, cli in sorted(latest_summaries.items(), key=lambda x: x[0], reverse=True):\n",
    "    print(f\"Summary Date: {summary_date}\")\n",
    "    print(f\"Max Temp: {cli.report.max_temp}\")\n",
    "    print(f\"Time of Max Temp: {cli.report.max_temp_time}\")\n",
    "    print(f\"URL: {cli.url}\")\n",
    "    print(f\"\")"
   ]
  }
 ],
 "metadata": {
  "kernelspec": {
   "display_name": "kalshi",
   "language": "python",
   "name": "python3"
  },
  "language_info": {
   "codemirror_mode": {
    "name": "ipython",
    "version": 3
   },
   "file_extension": ".py",
   "mimetype": "text/x-python",
   "name": "python",
   "nbconvert_exporter": "python",
   "pygments_lexer": "ipython3",
   "version": "3.10.15"
  }
 },
 "nbformat": 4,
 "nbformat_minor": 2
}
