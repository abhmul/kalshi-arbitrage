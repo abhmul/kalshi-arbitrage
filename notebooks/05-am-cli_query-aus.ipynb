{
 "cells": [
  {
   "cell_type": "code",
   "execution_count": null,
   "metadata": {},
   "outputs": [
    {
     "name": "stdout",
     "output_type": "stream",
     "text": [
      "Query Time: Wed Nov 13 18:12:13 2024\n",
      "Summary Date 2024-11-13\n",
      "ParsedCLIReport(summary_date=datetime.date(2024, 11, 13),\n",
      "                raw_text=None,\n",
      "                max_temp=88,\n",
      "                max_temp_time=datetime.datetime(2024, 11, 13, 14, 57),\n",
      "                min_temp=55,\n",
      "                min_temp_time=datetime.datetime(2024, 11, 13, 6, 54),\n",
      "                avg_temp=57,\n",
      "                precipitation=None,\n",
      "                precipitation_month_to_date=None,\n",
      "                precipitation_since_sep_1=None,\n",
      "                precipitation_since_jan_1=None,\n",
      "                highest_wind_speed=16,\n",
      "                highest_wind_direction='NW',\n",
      "                highest_gust_speed=24,\n",
      "                highest_gust_direction='NW',\n",
      "                average_wind_speed=5.0,\n",
      "                average_sky_cover=0.2,\n",
      "                highest_humidity=100,\n",
      "                lowest_humidity=14,\n",
      "                average_humidity=72)\n"
     ]
    }
   ],
   "source": [
    "from urlpath import URL\n",
    "import requests\n",
    "from pprint import pprint\n",
    "\n",
    "import time\n",
    "from IPython.display import clear_output\n",
    "\n",
    "from src.params import *\n",
    "\n",
    "# url = URL(\"https://api.weather.gov/products/1eae2f39-8187-42ad-ab00-1f212b40a93a\")\n",
    "# url = URL(\"https://api.weather.gov/products/9c5a3929-9e59-46df-b406-a1aae6ca946c\")\n",
    "station = StationID.AUS\n",
    "url = URL(f\"https://forecast.weather.gov/product.php?site=DTX&issuedby={station}&product=CLI&format=CI&version=1&glossary=0\")\n",
    "while True:\n",
    "    print(f\"Query Time: {time.ctime()}\")\n",
    "    response = requests.get(url)\n",
    "    response.raise_for_status()\n",
    "    # print(response.text, file=open(\"../tmp/cli.html\", 'w'))\n",
    "\n",
    "    lines = response.text.splitlines()\n",
    "    for i in range(len(lines) - 3):\n",
    "        match_start = (f\"CLI{station}\" in lines[i] and \"CLIMATE REPORT\" in lines[i+2] and \"NATIONAL WEATHER SERVICE\" in lines[i+3])\n",
    "        if match_start:\n",
    "            match_start_i = i\n",
    "            # print(i)\n",
    "        match_end = \"$$\" in lines[i]\n",
    "        if match_end:\n",
    "            match_end_i = i\n",
    "            # print(i)\n",
    "\n",
    "    cli_text = \"\\n\".join(lines[match_start_i:match_end_i+1])\n",
    "\n",
    "    from src.nws import NWSClient\n",
    "\n",
    "    report = NWSClient._parse_product_text(cli_text)\n",
    "    report.raw_text = None\n",
    "    print(f\"Summary Date {report.summary_date.strftime('%Y-%m-%d')}\")\n",
    "    pprint(report)\n",
    "\n",
    "    clear_output(wait=True)\n",
    "    time.sleep(15)"
   ]
  },
  {
   "cell_type": "code",
   "execution_count": 9,
   "metadata": {},
   "outputs": [
    {
     "name": "stdout",
     "output_type": "stream",
     "text": [
      "ParsedCLIReport(summary_date=datetime.date(2024, 11, 12),\n",
      "                raw_text=None,\n",
      "                max_temp=50,\n",
      "                max_temp_time=datetime.datetime(2024, 11, 12, 16, 5),\n",
      "                min_temp=42,\n",
      "                min_temp_time=datetime.datetime(2024, 11, 12, 23, 59),\n",
      "                avg_temp=67,\n",
      "                precipitation=None,\n",
      "                precipitation_month_to_date=None,\n",
      "                precipitation_since_sep_1=None,\n",
      "                precipitation_since_jan_1=None,\n",
      "                highest_wind_speed=17,\n",
      "                highest_wind_direction='SE',\n",
      "                highest_gust_speed=26,\n",
      "                highest_gust_direction='E',\n",
      "                average_wind_speed=11.2,\n",
      "                average_sky_cover=0.6,\n",
      "                highest_humidity=79,\n",
      "                lowest_humidity=54,\n",
      "                average_humidity=46)\n"
     ]
    }
   ],
   "source": []
  }
 ],
 "metadata": {
  "kernelspec": {
   "display_name": "kalshi",
   "language": "python",
   "name": "python3"
  },
  "language_info": {
   "codemirror_mode": {
    "name": "ipython",
    "version": 3
   },
   "file_extension": ".py",
   "mimetype": "text/x-python",
   "name": "python",
   "nbconvert_exporter": "python",
   "pygments_lexer": "ipython3",
   "version": "3.10.15"
  }
 },
 "nbformat": 4,
 "nbformat_minor": 2
}
