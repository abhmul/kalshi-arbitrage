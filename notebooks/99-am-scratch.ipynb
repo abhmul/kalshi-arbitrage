{
 "cells": [
  {
   "cell_type": "code",
   "execution_count": 1,
   "metadata": {},
   "outputs": [
    {
     "name": "stdout",
     "output_type": "stream",
     "text": [
      "['CA', 'CO', 'CT', 'DE', 'HI', 'IL', 'MD', 'MA', 'NJ', 'NM', 'NY', 'OR', 'RI', 'VT', 'VA', 'WA']\n"
     ]
    }
   ],
   "source": [
    "lst = [\"ca\",\n",
    "\"co\",\n",
    "\"ct\",\n",
    "\"de\",\n",
    "\"hi\",\n",
    "\"il\",\n",
    "\"md\",\n",
    "\"ma\",\n",
    "\"nj\",\n",
    "\"nm\",\n",
    "\"ny\",\n",
    "\"or\",\n",
    "\"ri\",\n",
    "\"vt\",\n",
    "\"va\",\n",
    "\"wa\",]\n",
    "\n",
    "lst = [x.upper() for x in lst]\n",
    "print(lst)"
   ]
  }
 ],
 "metadata": {
  "kernelspec": {
   "display_name": "kalshi",
   "language": "python",
   "name": "python3"
  },
  "language_info": {
   "codemirror_mode": {
    "name": "ipython",
    "version": 3
   },
   "file_extension": ".py",
   "mimetype": "text/x-python",
   "name": "python",
   "nbconvert_exporter": "python",
   "pygments_lexer": "ipython3",
   "version": "3.10.15"
  }
 },
 "nbformat": 4,
 "nbformat_minor": 2
}
