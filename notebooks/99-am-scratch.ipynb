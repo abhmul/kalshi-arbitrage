{
 "cells": [
  {
   "cell_type": "code",
   "execution_count": 3,
   "metadata": {},
   "outputs": [],
   "source": [
    "from datetime import datetime, timedelta, date, time\n",
    "from dateutil.relativedelta import relativedelta\n",
    "from pprint import pprint\n",
    "import json\n",
    "import requests\n",
    "import numpy as np\n",
    "import pandas as pd\n",
    "\n",
    "from src.params import *\n",
    "from src.nws import NWSClient\n",
    "from src.nws import (\n",
    "    fahrenheit_to_celsius,\n",
    "    celsius_to_fahrenheit,\n",
    "    load_one_minutes,\n",
    "    parse_one_minute_path,\n",
    "    has_date_intersection,\n",
    "    one_minute_path\n",
    ")\n",
    "from src.file_utils import glob"
   ]
  },
  {
   "cell_type": "code",
   "execution_count": 6,
   "metadata": {},
   "outputs": [],
   "source": [
    "import numpy as np\n",
    "import math\n",
    "\n",
    "def f(x):\n",
    "    return (2 * np.sqrt(2 - x) - math.pi* np.sqrt(x) + 2 * np.sqrt(x) * np.arcsin(np.sqrt(x)/np.sqrt(2)))/((2 - x)**(3/2))"
   ]
  },
  {
   "cell_type": "code",
   "execution_count": 7,
   "metadata": {},
   "outputs": [
    {
     "name": "stderr",
     "output_type": "stream",
     "text": [
      "/tmp/ipykernel_204952/1091132694.py:5: RuntimeWarning: invalid value encountered in sqrt\n",
      "  return (2 * np.sqrt(2 - x) - math.pi* np.sqrt(x) + 2 * np.sqrt(x) * np.arcsin(np.sqrt(x)/np.sqrt(2)))/((2 - x)**(3/2))\n",
      "/tmp/ipykernel_204952/1091132694.py:5: RuntimeWarning: invalid value encountered in arcsin\n",
      "  return (2 * np.sqrt(2 - x) - math.pi* np.sqrt(x) + 2 * np.sqrt(x) * np.arcsin(np.sqrt(x)/np.sqrt(2)))/((2 - x)**(3/2))\n",
      "/tmp/ipykernel_204952/1091132694.py:5: RuntimeWarning: invalid value encountered in power\n",
      "  return (2 * np.sqrt(2 - x) - math.pi* np.sqrt(x) + 2 * np.sqrt(x) * np.arcsin(np.sqrt(x)/np.sqrt(2)))/((2 - x)**(3/2))\n"
     ]
    },
    {
     "data": {
      "image/png": "[encoded data removed]",
      "text/plain": [
       "<Figure size 640x480 with 1 Axes>"
      ]
     },
     "metadata": {},
     "output_type": "display_data"
    }
   ],
   "source": [
    "x = np.linspace(0, 10, 100)\n",
    "y = f(x)\n",
    "\n",
    "import matplotlib.pyplot as plt\n",
    "plt.plot(x, y)\n",
    "plt.show()"
   ]
  },
  {
   "cell_type": "code",
   "execution_count": 9,
   "metadata": {},
   "outputs": [
    {
     "name": "stderr",
     "output_type": "stream",
     "text": [
      "/tmp/ipykernel_204952/1091132694.py:5: RuntimeWarning: invalid value encountered in sqrt\n",
      "  return (2 * np.sqrt(2 - x) - math.pi* np.sqrt(x) + 2 * np.sqrt(x) * np.arcsin(np.sqrt(x)/np.sqrt(2)))/((2 - x)**(3/2))\n",
      "/tmp/ipykernel_204952/1091132694.py:5: RuntimeWarning: invalid value encountered in arcsin\n",
      "  return (2 * np.sqrt(2 - x) - math.pi* np.sqrt(x) + 2 * np.sqrt(x) * np.arcsin(np.sqrt(x)/np.sqrt(2)))/((2 - x)**(3/2))\n"
     ]
    },
    {
     "data": {
      "text/plain": [
       "np.complex128(nan+nanj)"
      ]
     },
     "execution_count": 9,
     "metadata": {},
     "output_type": "execute_result"
    }
   ],
   "source": [
    "f(3)"
   ]
  },
  {
   "cell_type": "code",
   "execution_count": 3,
   "metadata": {},
   "outputs": [
    {
     "name": "stdout",
     "output_type": "stream",
     "text": [
      "https://mesonet.agron.iastate.edu/cgi-bin/request/asos1min.py?ets=2024-11-16T04%3A59%3A59Z&sample=1min&station=MIA&sts=2024-11-15T05%3A00%3A00Z&tz=UTC&vars=tmpf&what=view\n"
     ]
    }
   ],
   "source": [
    "\n",
    "station = StationID.MIA\n",
    "params = {\n",
    "    \"station\": str(station),\n",
    "    \"vars\": \"tmpf\",\n",
    "    \"sts\": STATION_TZ[station].localize(datetime(2024, 11, 15, 0, 0, 0)).astimezone(pytz.utc).strftime(\"%Y-%m-%dT%H:%M:%SZ\"),\n",
    "    \"ets\": STATION_TZ[station].localize(datetime(2024, 11, 15, 23, 59, 59)).astimezone(pytz.utc).strftime(\"%Y-%m-%dT%H:%M:%SZ\"),\n",
    "    \"sample\": \"1min\",\n",
    "    \"what\": \"view\",\n",
    "    \"tz\": \"UTC\",\n",
    "}\n",
    "\n",
    "print(ONE_MINUTE_BASE.with_query(params))"
   ]
  },
  {
   "cell_type": "code",
   "execution_count": 2,
   "metadata": {},
   "outputs": [
    {
     "name": "stdout",
     "output_type": "stream",
     "text": [
      "OneMinutePathParse(station=<StationID.AUS: 'AUS'>,\n",
      "                   start=datetime.datetime(2005, 2, 9, 3, 35, tzinfo=<DstTzInfo 'America/Chicago' CST-1 day, 18:00:00 STD>),\n",
      "                   end=datetime.datetime(2005, 2, 28, 23, 59, tzinfo=<DstTzInfo 'America/Chicago' CST-1 day, 18:00:00 STD>),\n",
      "                   output_dir=PosixPath('../tmp'),\n",
      "                   path=PosixPath('../tmp/AUS/one_minute.AUS.start-2005-02-09T03-35-00.end-2005-02-28T23-59-00.csv'))\n"
     ]
    }
   ],
   "source": [
    "fp = TMP_DIR / \"AUS\" / \"one_minute.AUS.start-2005-02-09T03-35-00.end-2005-02-28T23-59-00.csv\"\n",
    "path_parse = parse_one_minute_path(fp)\n",
    "pprint(path_parse)"
   ]
  },
  {
   "cell_type": "code",
   "execution_count": 3,
   "metadata": {},
   "outputs": [
    {
     "name": "stdout",
     "output_type": "stream",
     "text": [
      "../tmp/AUS/one_minute.AUS.start-*.end-*.csv\n",
      "[PosixPath('../tmp/AUS/one_minute.AUS.start-2005-02-09T03-35-00.end-2005-02-28T23-59-00.csv')]\n",
      "1\n"
     ]
    }
   ],
   "source": [
    "one_minute_pattern = one_minute_path(station=path_parse.station, output_dir=path_parse.output_dir)\n",
    "print(one_minute_pattern)\n",
    "one_minute_paths = glob(one_minute_pattern)\n",
    "print(one_minute_paths)\n",
    "print(len(one_minute_paths))"
   ]
  },
  {
   "cell_type": "code",
   "execution_count": 4,
   "metadata": {},
   "outputs": [
    {
     "data": {
      "text/plain": [
       "True"
      ]
     },
     "execution_count": 4,
     "metadata": {},
     "output_type": "execute_result"
    }
   ],
   "source": [
    "has_date_intersection(\n",
    "    start1=path_parse.start,\n",
    "    end1=path_parse.end,\n",
    "    start2=path_parse.start,\n",
    "    end2=path_parse.end,\n",
    ")"
   ]
  },
  {
   "cell_type": "code",
   "execution_count": 7,
   "metadata": {},
   "outputs": [
    {
     "name": "stdout",
     "output_type": "stream",
     "text": [
      "[PosixPath('../tmp/AUS/one_minute.AUS.start-2005-02-09T03-35-00.end-2005-02-28T23-59-00.csv')]\n",
      "{'na_values': ['M']}\n"
     ]
    },
    {
     "name": "stderr",
     "output_type": "stream",
     "text": [
      "/home/abhmul/dev/kalshi-arbitrage/src/pd_utils.py:68: UserWarning: Instantiating StringDtype without any arguments.Pass a StringDtype instance to silence this warning.\n",
      "  df = pd.read_csv(path, dtype=filtered_schema, **kwargs)\n",
      "/home/abhmul/dev/kalshi-arbitrage/src/pd_utils.py:68: UserWarning: Instantiating Int64Dtype without any arguments.Pass a Int64Dtype instance to silence this warning.\n",
      "  df = pd.read_csv(path, dtype=filtered_schema, **kwargs)\n",
      "/home/abhmul/dev/kalshi-arbitrage/src/pd_utils.py:68: UserWarning: Instantiating StringDtype without any arguments.Pass a StringDtype instance to silence this warning.\n",
      "  df = pd.read_csv(path, dtype=filtered_schema, **kwargs)\n",
      "/home/abhmul/dev/kalshi-arbitrage/src/pd_utils.py:68: UserWarning: Instantiating Int64Dtype without any arguments.Pass a Int64Dtype instance to silence this warning.\n",
      "  df = pd.read_csv(path, dtype=filtered_schema, **kwargs)\n"
     ]
    },
    {
     "name": "stdout",
     "output_type": "stream",
     "text": [
      "27991\n"
     ]
    },
    {
     "data": {
      "text/html": [
       "<div>\n",
       "<style scoped>\n",
       "    .dataframe tbody tr th:only-of-type {\n",
       "        vertical-align: middle;\n",
       "    }\n",
       "\n",
       "    .dataframe tbody tr th {\n",
       "        vertical-align: top;\n",
       "    }\n",
       "\n",
       "    .dataframe thead th {\n",
       "        text-align: right;\n",
       "    }\n",
       "</style>\n",
       "<table border=\"1\" class=\"dataframe\">\n",
       "  <thead>\n",
       "    <tr style=\"text-align: right;\">\n",
       "      <th></th>\n",
       "      <th>station</th>\n",
       "      <th>station_name</th>\n",
       "      <th>tmpf</th>\n",
       "      <th>valid</th>\n",
       "    </tr>\n",
       "  </thead>\n",
       "  <tbody>\n",
       "    <tr>\n",
       "      <th>0</th>\n",
       "      <td>AUS</td>\n",
       "      <td>Austin Bergstrom Intl</td>\n",
       "      <td>&lt;NA&gt;</td>\n",
       "      <td>2005-02-09 03:35:00-06:00</td>\n",
       "    </tr>\n",
       "    <tr>\n",
       "      <th>1</th>\n",
       "      <td>AUS</td>\n",
       "      <td>Austin Bergstrom Intl</td>\n",
       "      <td>&lt;NA&gt;</td>\n",
       "      <td>2005-02-09 03:36:00-06:00</td>\n",
       "    </tr>\n",
       "    <tr>\n",
       "      <th>2</th>\n",
       "      <td>AUS</td>\n",
       "      <td>Austin Bergstrom Intl</td>\n",
       "      <td>&lt;NA&gt;</td>\n",
       "      <td>2005-02-09 03:37:00-06:00</td>\n",
       "    </tr>\n",
       "    <tr>\n",
       "      <th>3</th>\n",
       "      <td>AUS</td>\n",
       "      <td>Austin Bergstrom Intl</td>\n",
       "      <td>&lt;NA&gt;</td>\n",
       "      <td>2005-02-09 03:38:00-06:00</td>\n",
       "    </tr>\n",
       "    <tr>\n",
       "      <th>4</th>\n",
       "      <td>AUS</td>\n",
       "      <td>Austin Bergstrom Intl</td>\n",
       "      <td>&lt;NA&gt;</td>\n",
       "      <td>2005-02-09 03:39:00-06:00</td>\n",
       "    </tr>\n",
       "    <tr>\n",
       "      <th>5</th>\n",
       "      <td>AUS</td>\n",
       "      <td>Austin Bergstrom Intl</td>\n",
       "      <td>54</td>\n",
       "      <td>2005-02-09 03:40:00-06:00</td>\n",
       "    </tr>\n",
       "    <tr>\n",
       "      <th>6</th>\n",
       "      <td>AUS</td>\n",
       "      <td>Austin Bergstrom Intl</td>\n",
       "      <td>55</td>\n",
       "      <td>2005-02-09 03:41:00-06:00</td>\n",
       "    </tr>\n",
       "    <tr>\n",
       "      <th>7</th>\n",
       "      <td>AUS</td>\n",
       "      <td>Austin Bergstrom Intl</td>\n",
       "      <td>55</td>\n",
       "      <td>2005-02-09 03:42:00-06:00</td>\n",
       "    </tr>\n",
       "    <tr>\n",
       "      <th>8</th>\n",
       "      <td>AUS</td>\n",
       "      <td>Austin Bergstrom Intl</td>\n",
       "      <td>55</td>\n",
       "      <td>2005-02-09 03:43:00-06:00</td>\n",
       "    </tr>\n",
       "    <tr>\n",
       "      <th>9</th>\n",
       "      <td>AUS</td>\n",
       "      <td>Austin Bergstrom Intl</td>\n",
       "      <td>54</td>\n",
       "      <td>2005-02-09 03:44:00-06:00</td>\n",
       "    </tr>\n",
       "    <tr>\n",
       "      <th>10</th>\n",
       "      <td>AUS</td>\n",
       "      <td>Austin Bergstrom Intl</td>\n",
       "      <td>55</td>\n",
       "      <td>2005-02-09 03:45:00-06:00</td>\n",
       "    </tr>\n",
       "    <tr>\n",
       "      <th>11</th>\n",
       "      <td>AUS</td>\n",
       "      <td>Austin Bergstrom Intl</td>\n",
       "      <td>54</td>\n",
       "      <td>2005-02-09 03:46:00-06:00</td>\n",
       "    </tr>\n",
       "    <tr>\n",
       "      <th>12</th>\n",
       "      <td>AUS</td>\n",
       "      <td>Austin Bergstrom Intl</td>\n",
       "      <td>55</td>\n",
       "      <td>2005-02-09 03:47:00-06:00</td>\n",
       "    </tr>\n",
       "    <tr>\n",
       "      <th>13</th>\n",
       "      <td>AUS</td>\n",
       "      <td>Austin Bergstrom Intl</td>\n",
       "      <td>54</td>\n",
       "      <td>2005-02-09 03:48:00-06:00</td>\n",
       "    </tr>\n",
       "    <tr>\n",
       "      <th>14</th>\n",
       "      <td>AUS</td>\n",
       "      <td>Austin Bergstrom Intl</td>\n",
       "      <td>55</td>\n",
       "      <td>2005-02-09 03:49:00-06:00</td>\n",
       "    </tr>\n",
       "    <tr>\n",
       "      <th>15</th>\n",
       "      <td>AUS</td>\n",
       "      <td>Austin Bergstrom Intl</td>\n",
       "      <td>55</td>\n",
       "      <td>2005-02-09 03:50:00-06:00</td>\n",
       "    </tr>\n",
       "    <tr>\n",
       "      <th>16</th>\n",
       "      <td>AUS</td>\n",
       "      <td>Austin Bergstrom Intl</td>\n",
       "      <td>55</td>\n",
       "      <td>2005-02-09 03:51:00-06:00</td>\n",
       "    </tr>\n",
       "    <tr>\n",
       "      <th>17</th>\n",
       "      <td>AUS</td>\n",
       "      <td>Austin Bergstrom Intl</td>\n",
       "      <td>54</td>\n",
       "      <td>2005-02-09 03:52:00-06:00</td>\n",
       "    </tr>\n",
       "    <tr>\n",
       "      <th>18</th>\n",
       "      <td>AUS</td>\n",
       "      <td>Austin Bergstrom Intl</td>\n",
       "      <td>54</td>\n",
       "      <td>2005-02-09 03:53:00-06:00</td>\n",
       "    </tr>\n",
       "    <tr>\n",
       "      <th>19</th>\n",
       "      <td>AUS</td>\n",
       "      <td>Austin Bergstrom Intl</td>\n",
       "      <td>54</td>\n",
       "      <td>2005-02-09 03:54:00-06:00</td>\n",
       "    </tr>\n",
       "    <tr>\n",
       "      <th>20</th>\n",
       "      <td>AUS</td>\n",
       "      <td>Austin Bergstrom Intl</td>\n",
       "      <td>54</td>\n",
       "      <td>2005-02-09 03:55:00-06:00</td>\n",
       "    </tr>\n",
       "    <tr>\n",
       "      <th>21</th>\n",
       "      <td>AUS</td>\n",
       "      <td>Austin Bergstrom Intl</td>\n",
       "      <td>54</td>\n",
       "      <td>2005-02-09 03:56:00-06:00</td>\n",
       "    </tr>\n",
       "    <tr>\n",
       "      <th>22</th>\n",
       "      <td>AUS</td>\n",
       "      <td>Austin Bergstrom Intl</td>\n",
       "      <td>54</td>\n",
       "      <td>2005-02-09 03:57:00-06:00</td>\n",
       "    </tr>\n",
       "    <tr>\n",
       "      <th>23</th>\n",
       "      <td>AUS</td>\n",
       "      <td>Austin Bergstrom Intl</td>\n",
       "      <td>54</td>\n",
       "      <td>2005-02-09 03:58:00-06:00</td>\n",
       "    </tr>\n",
       "    <tr>\n",
       "      <th>24</th>\n",
       "      <td>AUS</td>\n",
       "      <td>Austin Bergstrom Intl</td>\n",
       "      <td>54</td>\n",
       "      <td>2005-02-09 03:59:00-06:00</td>\n",
       "    </tr>\n",
       "  </tbody>\n",
       "</table>\n",
       "</div>"
      ],
      "text/plain": [
       "   station           station_name  tmpf                     valid\n",
       "0      AUS  Austin Bergstrom Intl  <NA> 2005-02-09 03:35:00-06:00\n",
       "1      AUS  Austin Bergstrom Intl  <NA> 2005-02-09 03:36:00-06:00\n",
       "2      AUS  Austin Bergstrom Intl  <NA> 2005-02-09 03:37:00-06:00\n",
       "3      AUS  Austin Bergstrom Intl  <NA> 2005-02-09 03:38:00-06:00\n",
       "4      AUS  Austin Bergstrom Intl  <NA> 2005-02-09 03:39:00-06:00\n",
       "5      AUS  Austin Bergstrom Intl    54 2005-02-09 03:40:00-06:00\n",
       "6      AUS  Austin Bergstrom Intl    55 2005-02-09 03:41:00-06:00\n",
       "7      AUS  Austin Bergstrom Intl    55 2005-02-09 03:42:00-06:00\n",
       "8      AUS  Austin Bergstrom Intl    55 2005-02-09 03:43:00-06:00\n",
       "9      AUS  Austin Bergstrom Intl    54 2005-02-09 03:44:00-06:00\n",
       "10     AUS  Austin Bergstrom Intl    55 2005-02-09 03:45:00-06:00\n",
       "11     AUS  Austin Bergstrom Intl    54 2005-02-09 03:46:00-06:00\n",
       "12     AUS  Austin Bergstrom Intl    55 2005-02-09 03:47:00-06:00\n",
       "13     AUS  Austin Bergstrom Intl    54 2005-02-09 03:48:00-06:00\n",
       "14     AUS  Austin Bergstrom Intl    55 2005-02-09 03:49:00-06:00\n",
       "15     AUS  Austin Bergstrom Intl    55 2005-02-09 03:50:00-06:00\n",
       "16     AUS  Austin Bergstrom Intl    55 2005-02-09 03:51:00-06:00\n",
       "17     AUS  Austin Bergstrom Intl    54 2005-02-09 03:52:00-06:00\n",
       "18     AUS  Austin Bergstrom Intl    54 2005-02-09 03:53:00-06:00\n",
       "19     AUS  Austin Bergstrom Intl    54 2005-02-09 03:54:00-06:00\n",
       "20     AUS  Austin Bergstrom Intl    54 2005-02-09 03:55:00-06:00\n",
       "21     AUS  Austin Bergstrom Intl    54 2005-02-09 03:56:00-06:00\n",
       "22     AUS  Austin Bergstrom Intl    54 2005-02-09 03:57:00-06:00\n",
       "23     AUS  Austin Bergstrom Intl    54 2005-02-09 03:58:00-06:00\n",
       "24     AUS  Austin Bergstrom Intl    54 2005-02-09 03:59:00-06:00"
      ]
     },
     "metadata": {},
     "output_type": "display_data"
    }
   ],
   "source": [
    "df = load_one_minutes(\n",
    "    station=path_parse.station,\n",
    "    start=path_parse.start,\n",
    "    end=path_parse.end,\n",
    "    output_dir=path_parse.output_dir,\n",
    ")\n",
    "\n",
    "print(len(df))\n",
    "display(df.head(25))"
   ]
  },
  {
   "cell_type": "code",
   "execution_count": 11,
   "metadata": {},
   "outputs": [
    {
     "name": "stdout",
     "output_type": "stream",
     "text": [
      "<class 'pandas.core.frame.DataFrame'>\n",
      "RangeIndex: 27991 entries, 0 to 27990\n",
      "Data columns (total 4 columns):\n",
      " #   Column        Non-Null Count  Dtype                    \n",
      "---  ------        --------------  -----                    \n",
      " 0   station       27991 non-null  object                   \n",
      " 1   station_name  27991 non-null  string                   \n",
      " 2   tmpf          27981 non-null  Int64                    \n",
      " 3   valid         27991 non-null  datetime64[ns, UTC-06:00]\n",
      "dtypes: Int64(1), datetime64[ns, UTC-06:00](1), object(1), string(1)\n",
      "memory usage: 902.2+ KB\n"
     ]
    }
   ],
   "source": [
    "df.info()"
   ]
  },
  {
   "cell_type": "code",
   "execution_count": 8,
   "metadata": {},
   "outputs": [
    {
     "data": {
      "text/plain": [
       "['../data/inputs/cli/MIA/cli.MIA.issued-2024-10-25T04-25-00.summary-2024-10-24.txt',\n",
       " '../data/inputs/cli/MIA/cli.MIA.issued-2024-11-11T16-22-00.summary-2024-11-11.txt',\n",
       " '../data/inputs/cli/MIA/cli.MIA.issued-2024-11-13T04-24-00.summary-2024-11-12.txt',\n",
       " '../data/inputs/cli/MIA/cli.MIA.issued-2024-11-09T16-22-00.summary-2024-11-09.txt',\n",
       " '../data/inputs/cli/MIA/cli.MIA.issued-2024-11-14T16-22-00.summary-2024-11-14.txt',\n",
       " '../data/inputs/cli/MIA/cli.MIA.issued-2024-11-03T04-21-00.summary-2024-11-02.txt',\n",
       " '../data/inputs/cli/MIA/cli.MIA.issued-2024-10-22T04-22-00.summary-2024-10-21.txt',\n",
       " '../data/inputs/cli/MIA/cli.MIA.issued-2024-10-24T16-21-00.summary-2024-10-24.txt',\n",
       " '../data/inputs/cli/MIA/cli.MIA.issued-2024-11-06T16-21-00.summary-2024-11-06.txt',\n",
       " '../data/inputs/cli/MIA/cli.MIA.issued-2024-11-11T04-21-00.summary-2024-11-10.txt',\n",
       " '../data/inputs/cli/MIA/cli.MIA.issued-2024-10-23T16-40-00.summary-2024-10-23.txt',\n",
       " '../data/inputs/cli/MIA/cli.MIA.issued-2024-10-29T04-21-00.summary-2024-10-28.txt',\n",
       " '../data/inputs/cli/MIA/cli.MIA.issued-2024-10-25T16-38-00.summary-2024-10-25.txt',\n",
       " '../data/inputs/cli/MIA/cli.MIA.issued-2024-10-29T16-23-00.summary-2024-10-29.txt',\n",
       " '../data/inputs/cli/MIA/cli.MIA.issued-2024-10-26T16-21-00.summary-2024-10-26.txt',\n",
       " '../data/inputs/cli/MIA/cli.MIA.issued-2024-10-30T16-26-00.summary-2024-10-30.txt',\n",
       " '../data/inputs/cli/MIA/cli.MIA.issued-2024-10-23T04-22-00.summary-2024-10-22.txt',\n",
       " '../data/inputs/cli/MIA/cli.MIA.issued-2024-11-06T04-26-00.summary-2024-11-05.txt',\n",
       " '../data/inputs/cli/MIA/cli.MIA.issued-2024-11-07T16-22-00.summary-2024-11-07.txt',\n",
       " '../data/inputs/cli/MIA/cli.MIA.issued-2024-11-14T04-21-00.summary-2024-11-13.txt',\n",
       " '../data/inputs/cli/MIA/cli.MIA.issued-2024-10-28T04-21-00.summary-2024-10-27.txt',\n",
       " '../data/inputs/cli/MIA/cli.MIA.issued-2024-11-09T04-23-00.summary-2024-11-08.txt',\n",
       " '../data/inputs/cli/MIA/cli.MIA.issued-2024-11-13T16-21-00.summary-2024-11-13.txt',\n",
       " '../data/inputs/cli/MIA/cli.MIA.issued-2024-11-05T16-32-00.summary-2024-11-05.txt',\n",
       " '../data/inputs/cli/MIA/cli.MIA.issued-2024-10-27T16-22-00.summary-2024-10-27.txt',\n",
       " '../data/inputs/cli/MIA/cli.MIA.issued-2024-11-12T16-21-00.summary-2024-11-12.txt',\n",
       " '../data/inputs/cli/MIA/cli.MIA.issued-2024-11-04T16-23-00.summary-2024-11-04.txt',\n",
       " '../data/inputs/cli/MIA/cli.MIA.issued-2024-11-07T04-30-00.summary-2024-11-06.txt',\n",
       " '../data/inputs/cli/MIA/cli.MIA.issued-2024-11-03T16-21-00.summary-2024-11-03.txt',\n",
       " '../data/inputs/cli/MIA/cli.MIA.issued-2024-11-10T16-23-00.summary-2024-11-10.txt',\n",
       " '../data/inputs/cli/MIA/cli.MIA.issued-2024-10-24T04-24-00.summary-2024-10-23.txt',\n",
       " '../data/inputs/cli/MIA/cli.MIA.issued-2024-10-22T16-22-00.summary-2024-10-22.txt',\n",
       " '../data/inputs/cli/MIA/cli.MIA.issued-2024-11-12T04-21-00.summary-2024-11-11.txt',\n",
       " '../data/inputs/cli/MIA/cli.MIA.issued-2024-10-26T04-21-00.summary-2024-10-25.txt',\n",
       " '../data/inputs/cli/MIA/cli.MIA.issued-2024-11-15T16-21-00.summary-2024-11-15.txt',\n",
       " '../data/inputs/cli/MIA/cli.MIA.issued-2024-10-31T16-40-00.summary-2024-10-31.txt',\n",
       " '../data/inputs/cli/MIA/cli.MIA.issued-2024-11-01T16-40-00.summary-2024-11-01.txt',\n",
       " '../data/inputs/cli/MIA/cli.MIA.issued-2024-11-08T16-21-00.summary-2024-11-08.txt',\n",
       " '../data/inputs/cli/MIA/cli.MIA.issued-2024-11-10T04-21-00.summary-2024-11-09.txt',\n",
       " '../data/inputs/cli/MIA/cli.MIA.issued-2024-11-05T04-21-00.summary-2024-11-04.txt',\n",
       " '../data/inputs/cli/MIA/cli.MIA.issued-2024-11-04T04-22-00.summary-2024-11-03.txt',\n",
       " '../data/inputs/cli/MIA/cli.MIA.issued-2024-11-08T04-22-00.summary-2024-11-07.txt',\n",
       " '../data/inputs/cli/MIA/cli.MIA.issued-2024-10-27T04-21-00.summary-2024-10-26.txt',\n",
       " '../data/inputs/cli/MIA/cli.MIA.issued-2024-10-31T04-23-00.summary-2024-10-30.txt',\n",
       " '../data/inputs/cli/MIA/cli.MIA.issued-2024-11-01T04-22-00.summary-2024-10-31.txt',\n",
       " '../data/inputs/cli/MIA/cli.MIA.issued-2024-11-02T16-27-00.summary-2024-11-02.txt',\n",
       " '../data/inputs/cli/MIA/cli.MIA.issued-2024-11-02T04-22-00.summary-2024-11-01.txt',\n",
       " '../data/inputs/cli/MIA/cli.MIA.issued-2024-10-30T04-26-00.summary-2024-10-29.txt',\n",
       " '../data/inputs/cli/MIA/cli.MIA.issued-2024-10-28T16-21-00.summary-2024-10-28.txt',\n",
       " '../data/inputs/cli/MIA/cli.MIA.issued-2024-11-15T04-21-00.summary-2024-11-14.txt']"
      ]
     },
     "execution_count": 8,
     "metadata": {},
     "output_type": "execute_result"
    }
   ],
   "source": [
    "from glob import glob\n",
    "\n",
    "list(glob(str(CLI_OBSERVATIONS / \"MIA\" / \"*.txt\")))"
   ]
  },
  {
   "cell_type": "code",
   "execution_count": 32,
   "metadata": {},
   "outputs": [
    {
     "data": {
      "text/html": [
       "<div>\n",
       "<style scoped>\n",
       "    .dataframe tbody tr th:only-of-type {\n",
       "        vertical-align: middle;\n",
       "    }\n",
       "\n",
       "    .dataframe tbody tr th {\n",
       "        vertical-align: top;\n",
       "    }\n",
       "\n",
       "    .dataframe thead th {\n",
       "        text-align: right;\n",
       "    }\n",
       "</style>\n",
       "<table border=\"1\" class=\"dataframe\">\n",
       "  <thead>\n",
       "    <tr style=\"text-align: right;\">\n",
       "      <th></th>\n",
       "      <th>0</th>\n",
       "      <th>1</th>\n",
       "    </tr>\n",
       "  </thead>\n",
       "  <tbody>\n",
       "    <tr>\n",
       "      <th>0</th>\n",
       "      <td>0</td>\n",
       "      <td>1</td>\n",
       "    </tr>\n",
       "    <tr>\n",
       "      <th>1</th>\n",
       "      <td>2</td>\n",
       "      <td>3</td>\n",
       "    </tr>\n",
       "    <tr>\n",
       "      <th>2</th>\n",
       "      <td>4</td>\n",
       "      <td>5</td>\n",
       "    </tr>\n",
       "    <tr>\n",
       "      <th>3</th>\n",
       "      <td>6</td>\n",
       "      <td>7</td>\n",
       "    </tr>\n",
       "    <tr>\n",
       "      <th>4</th>\n",
       "      <td>8</td>\n",
       "      <td>9</td>\n",
       "    </tr>\n",
       "  </tbody>\n",
       "</table>\n",
       "</div>"
      ],
      "text/plain": [
       "   0  1\n",
       "0  0  1\n",
       "1  2  3\n",
       "2  4  5\n",
       "3  6  7\n",
       "4  8  9"
      ]
     },
     "execution_count": 32,
     "metadata": {},
     "output_type": "execute_result"
    }
   ],
   "source": [
    "pd.concat([pd.DataFrame(), pd.DataFrame(np.arange(10).reshape(5, 2))])"
   ]
  },
  {
   "cell_type": "code",
   "execution_count": 29,
   "metadata": {},
   "outputs": [
    {
     "data": {
      "text/plain": [
       "PeriodIndex(['2010-08', '2010-09', '2010-10', '2010-11', '2010-12', '2011-01',\n",
       "             '2011-02', '2011-03'],\n",
       "            dtype='period[M]')"
      ]
     },
     "metadata": {},
     "output_type": "display_data"
    },
    {
     "data": {
      "text/plain": [
       "Timestamp('2010-09-01 00:00:00')"
      ]
     },
     "execution_count": 29,
     "metadata": {},
     "output_type": "execute_result"
    }
   ],
   "source": [
    "pr = pd.period_range(start='2010-08',end='2011-03', freq='M')\n",
    "display(pr)\n",
    "pr[0].to_timestamp() + relativedelta(months=1)"
   ]
  },
  {
   "cell_type": "code",
   "execution_count": 18,
   "metadata": {},
   "outputs": [
    {
     "data": {
      "text/plain": [
       "<Response [200]>"
      ]
     },
     "execution_count": 18,
     "metadata": {},
     "output_type": "execute_result"
    }
   ],
   "source": [
    "client = NWSClient()\n",
    "\n",
    "station = StationID.MDW\n",
    "start = STATION_TZ[station].localize(datetime(2024, 10, 1))\n",
    "end = STATION_TZ[station].localize(datetime(2024, 11, 1))\n",
    "\n",
    "\n",
    "one_min_res = client._request_one_minute_data(StationID.MDW, start=start, end=end)\n",
    "one_min_res"
   ]
  },
  {
   "cell_type": "code",
   "execution_count": 19,
   "metadata": {},
   "outputs": [
    {
     "name": "stdout",
     "output_type": "stream",
     "text": [
      "<class 'pandas.core.frame.DataFrame'>\n",
      "RangeIndex: 35183 entries, 0 to 35182\n",
      "Data columns (total 4 columns):\n",
      " #   Column        Non-Null Count  Dtype                          \n",
      "---  ------        --------------  -----                          \n",
      " 0   station       35183 non-null  object                         \n",
      " 1   station_name  35183 non-null  object                         \n",
      " 2   valid(UTC)    35183 non-null  datetime64[ns, America/Chicago]\n",
      " 3   tmpf          35183 non-null  object                         \n",
      "dtypes: datetime64[ns, America/Chicago](1), object(3)\n",
      "memory usage: 1.1+ MB\n"
     ]
    },
    {
     "data": {
      "text/html": [
       "<div>\n",
       "<style scoped>\n",
       "    .dataframe tbody tr th:only-of-type {\n",
       "        vertical-align: middle;\n",
       "    }\n",
       "\n",
       "    .dataframe tbody tr th {\n",
       "        vertical-align: top;\n",
       "    }\n",
       "\n",
       "    .dataframe thead th {\n",
       "        text-align: right;\n",
       "    }\n",
       "</style>\n",
       "<table border=\"1\" class=\"dataframe\">\n",
       "  <thead>\n",
       "    <tr style=\"text-align: right;\">\n",
       "      <th></th>\n",
       "      <th>station</th>\n",
       "      <th>station_name</th>\n",
       "      <th>valid(UTC)</th>\n",
       "      <th>tmpf</th>\n",
       "    </tr>\n",
       "  </thead>\n",
       "  <tbody>\n",
       "    <tr>\n",
       "      <th>0</th>\n",
       "      <td>MDW</td>\n",
       "      <td>CHICAGO</td>\n",
       "      <td>2024-10-02 16:37:00-05:00</td>\n",
       "      <td>71</td>\n",
       "    </tr>\n",
       "    <tr>\n",
       "      <th>1</th>\n",
       "      <td>MDW</td>\n",
       "      <td>CHICAGO</td>\n",
       "      <td>2024-10-02 16:38:00-05:00</td>\n",
       "      <td>71</td>\n",
       "    </tr>\n",
       "    <tr>\n",
       "      <th>2</th>\n",
       "      <td>MDW</td>\n",
       "      <td>CHICAGO</td>\n",
       "      <td>2024-10-02 16:39:00-05:00</td>\n",
       "      <td>71</td>\n",
       "    </tr>\n",
       "    <tr>\n",
       "      <th>3</th>\n",
       "      <td>MDW</td>\n",
       "      <td>CHICAGO</td>\n",
       "      <td>2024-10-02 16:40:00-05:00</td>\n",
       "      <td>71</td>\n",
       "    </tr>\n",
       "    <tr>\n",
       "      <th>4</th>\n",
       "      <td>MDW</td>\n",
       "      <td>CHICAGO</td>\n",
       "      <td>2024-10-02 16:41:00-05:00</td>\n",
       "      <td>72</td>\n",
       "    </tr>\n",
       "  </tbody>\n",
       "</table>\n",
       "</div>"
      ],
      "text/plain": [
       "  station station_name                valid(UTC) tmpf\n",
       "0     MDW      CHICAGO 2024-10-02 16:37:00-05:00   71\n",
       "1     MDW      CHICAGO 2024-10-02 16:38:00-05:00   71\n",
       "2     MDW      CHICAGO 2024-10-02 16:39:00-05:00   71\n",
       "3     MDW      CHICAGO 2024-10-02 16:40:00-05:00   71\n",
       "4     MDW      CHICAGO 2024-10-02 16:41:00-05:00   72"
      ]
     },
     "metadata": {},
     "output_type": "display_data"
    },
    {
     "data": {
      "text/plain": [
       "Timestamp('2024-10-02 16:37:00-0500', tz='America/Chicago')"
      ]
     },
     "metadata": {},
     "output_type": "display_data"
    },
    {
     "data": {
      "text/plain": [
       "Timestamp('2024-10-31 23:59:00-0500', tz='America/Chicago')"
      ]
     },
     "metadata": {},
     "output_type": "display_data"
    }
   ],
   "source": [
    "import pandas as pd\n",
    "from io import StringIO\n",
    "\n",
    "df = pd.read_csv(StringIO(one_min_res.text), header=0)\n",
    "df[\"valid(UTC)\"] = pd.to_datetime(df[\"valid(UTC)\"], utc=True)\n",
    "df[\"valid(UTC)\"] = df[\"valid(UTC)\"].dt.tz_convert(STATION_TZ[station])\n",
    "\n",
    "df.info()\n",
    "display(df.head())\n",
    "display(df[\"valid(UTC)\"].min(), df[\"valid(UTC)\"].max())"
   ]
  },
  {
   "cell_type": "code",
   "execution_count": 12,
   "metadata": {},
   "outputs": [
    {
     "name": "stdout",
     "output_type": "stream",
     "text": [
      "<class 'pandas.core.frame.DataFrame'>\n",
      "RangeIndex: 17472 entries, 0 to 17471\n",
      "Data columns (total 4 columns):\n",
      " #   Column        Non-Null Count  Dtype         \n",
      "---  ------        --------------  -----         \n",
      " 0   station       17472 non-null  object        \n",
      " 1   station_name  17472 non-null  object        \n",
      " 2   valid(UTC)    17472 non-null  datetime64[ns]\n",
      " 3   tmpf          17472 non-null  object        \n",
      "dtypes: datetime64[ns](1), object(3)\n",
      "memory usage: 546.1+ KB\n"
     ]
    }
   ],
   "source": []
  },
  {
   "cell_type": "code",
   "execution_count": 4,
   "metadata": {},
   "outputs": [
    {
     "name": "stdout",
     "output_type": "stream",
     "text": [
      "CLI(issuance_time=datetime.datetime(2024, 11, 15, 7, 43, tzinfo=<DstTzInfo 'America/Chicago' CST-1 day, 18:00:00 STD>),\n",
      "    issuing_office='EWX',\n",
      "    summary_date=datetime.date(2024, 11, 15),\n",
      "    raw_text='...',\n",
      "    max_temp=46,\n",
      "    max_temp_time=datetime.datetime(2024, 11, 15, 0, 14, tzinfo=<DstTzInfo 'America/Chicago' CST-1 day, 18:00:00 STD>),\n",
      "    min_temp=37,\n",
      "    min_temp_time=datetime.datetime(2024, 11, 15, 5, 21, tzinfo=<DstTzInfo 'America/Chicago' CST-1 day, 18:00:00 STD>),\n",
      "    avg_temp=42,\n",
      "    valid_time=datetime.datetime(2024, 11, 15, 7, 0, tzinfo=<DstTzInfo 'America/Chicago' CST-1 day, 18:00:00 STD>))\n"
     ]
    }
   ],
   "source": [
    "client = NWSClient()\n",
    "\n",
    "cli_data = client.get_cli_data(StationID.AUS, version=3)\n",
    "pprint(cli_data.without_raw_text())"
   ]
  },
  {
   "cell_type": "code",
   "execution_count": 21,
   "metadata": {},
   "outputs": [
    {
     "data": {
      "text/plain": [
       "datetime.datetime(2024, 11, 14, 0, 0)"
      ]
     },
     "execution_count": 21,
     "metadata": {},
     "output_type": "execute_result"
    }
   ],
   "source": [
    "from dateutil import parser, tz\n",
    "\n",
    "# datetime.strptime('0421 PM EST FRI NOV 15 2024', '%I%M %p %Z %a %b %d %Y')\n",
    "# parser.parse('04:21 PM EST FRI NOV 15 2024', tzinfos={'EST': STATION_TZ[StationID.MIA]})dt\n",
    "parser.parse(\"NOVEMBER 14 2024\")\n",
    "\n",
    "# datetime.strptime('0421 PM EST', '%I%M %p %Z')"
   ]
  },
  {
   "cell_type": "code",
   "execution_count": null,
   "metadata": {},
   "outputs": [],
   "source": [
    "version=1)\n",
    "cli_data.raw_text"
   ]
  },
  {
   "cell_type": "code",
   "execution_count": 15,
   "metadata": {},
   "outputs": [
    {
     "name": "stdout",
     "output_type": "stream",
     "text": [
      "30.5°C = 86.9°F\n",
      "87.8°F = 31.0°C\n"
     ]
    }
   ],
   "source": [
    "temp_c = 30.5\n",
    "\n",
    "\n",
    "print(f\"{temp_c}°C = {celsius_to_fahrenheit(temp_c)}°F\")\n",
    "\n",
    "temp_f = 87.8\n",
    "\n",
    "print(f\"{temp_f}°F = {fahrenheit_to_celsius(temp_f)}°C\")"
   ]
  },
  {
   "cell_type": "code",
   "execution_count": 9,
   "metadata": {},
   "outputs": [
    {
     "name": "stdout",
     "output_type": "stream",
     "text": [
      "2\n",
      "1\n"
     ]
    }
   ],
   "source": [
    "lst = [1,2,3]\n",
    "i = 0\n",
    "a = lst[(i := i + 1)]\n",
    "print(a)\n",
    "print(i)"
   ]
  },
  {
   "cell_type": "code",
   "execution_count": 22,
   "metadata": {},
   "outputs": [
    {
     "data": {
      "application/vnd.plotly.v1+json": {
       "config": {
        "plotlyServerURL": "https://plot.ly"
       },
       "data": [
        {
         "mode": "lines",
         "name": "p1",
         "type": "scatter",
         "x": [
          0,
          1,
          2,
          3,
          4,
          5,
          6,
          7,
          8,
          9,
          10,
          11,
          12,
          13,
          14,
          15,
          16,
          17,
          18,
          19,
          20,
          21,
          22,
          23,
          24,
          25,
          26,
          27,
          28,
          29,
          30,
          31,
          32,
          33,
          34,
          35,
          36,
          37,
          38,
          39,
          40,
          41,
          42,
          43,
          44,
          45,
          46,
          47,
          48,
          49,
          50,
          51,
          52,
          53,
          54,
          55,
          56,
          57,
          58,
          59,
          60,
          61,
          62,
          63,
          64,
          65,
          66,
          67,
          68,
          69,
          70,
          71,
          72,
          73,
          74,
          75,
          76,
          77,
          78,
          79,
          80,
          81,
          82,
          83,
          84,
          85,
          86,
          87,
          88,
          89,
          90,
          91,
          92,
          93,
          94,
          95,
          96,
          97,
          98,
          99,
          100,
          101,
          102,
          103,
          104,
          105,
          106,
          107,
          108,
          109,
          110,
          111,
          112,
          113,
          114,
          115,
          116,
          117,
          118,
          119,
          120,
          121,
          122,
          123,
          124,
          125,
          126,
          127,
          128,
          129,
          130,
          131,
          132,
          133,
          134,
          135,
          136,
          137,
          138,
          139,
          140,
          141,
          142,
          143,
          144,
          145,
          146,
          147,
          148,
          149,
          150
         ],
         "y": [
          0.09890109890109887,
          0.09722645534897896,
          0.09555690809494823,
          0.09389243391066543,
          0.09223300970873782,
          0.09057861254165402,
          0.08892921960072592,
          0.08728480821504074,
          0.08564535585042217,
          0.08401084010840104,
          0.0823812387251954,
          0.08075652957069945,
          0.07913669064748198,
          0.07752170008979345,
          0.07591153616258214,
          0.07430617726051922,
          0.07270560190703215,
          0.07110978875334718,
          0.06951871657754008,
          0.06793236428359534,
          0.06635071090047391,
          0.06477373558118897,
          0.0632014176018901,
          0.06163373636095545,
          0.060070671378091835,
          0.058512202293443075,
          0.05695830886670579,
          0.05540897097625326,
          0.05386416861826695,
          0.05232388190587543,
          0.0507880910683012,
          0.04925677645001455,
          0.04772991850989519,
          0.04620749782040101,
          0.044689495066744016,
          0.04317589104607357,
          0.04166666666666664,
          0.040161802947125076,
          0.03866128101557989,
          0.03716508210890229,
          0.03567318757192172,
          0.034185578856650356,
          0.0327022375215146,
          0.031223145230592927,
          0.029748283752860375,
          0.02827763496143956,
          0.026811180832857922,
          0.02534890344631156,
          0.023890784982935113,
          0.022436807725078067,
          0.020986954055587037,
          0.01954120645709427,
          0.018099547511312184,
          0.016661959898333766,
          0.015228426395939049,
          0.01379892987890732,
          0.01237345331833517,
          0.01095197978096037,
          0.009534492428491267,
          0.008120974516941996,
          0.006711409395973124,
          0.0053057805082378845,
          0.0039040713887339316,
          0.00250626566416036,
          0.0011123470522802755,
          -0.0002777006387115001,
          -0.0016638935108153465,
          -0.0030462475768485518,
          -0.0044247787610619885,
          -0.005799502899751486,
          -0.0071704357418643444,
          -0.0085375929496007,
          -0.009900990099009934,
          -0.011260642680582298,
          -0.01261656609983547,
          -0.013968775677896499,
          -0.015317286652078814,
          -0.016662114176454555,
          -0.0180032733224223,
          -0.01934077907926999,
          -0.02067464635473344,
          -0.02200488997555015,
          -0.023331524688008726,
          -0.024654565158493676,
          -0.025974025974026007,
          -0.027289921642799274,
          -0.02860226659471131,
          -0.02991107518189172,
          -0.031216361679225015,
          -0.03251814028486969,
          -0.03381642512077298,
          -0.03511123023318148,
          -0.0364025695931478,
          -0.03769045709703292,
          -0.038974906567004836,
          -0.040255931751532956,
          -0.04153354632587864,
          -0.042807763892581806,
          -0.04407859798194375,
          -0.045346062052506,
          -0.04661016949152546,
          -0.04787093361544569,
          -0.04912836767036455,
          -0.05038248483249806,
          -0.05163329820864071,
          -0.052880820836621975,
          -0.05412506568575937,
          -0.055366045657307836,
          -0.0566037735849057,
          -0.05783826223501704,
          -0.059069524307370655,
          -0.060297572435395505,
          -0.061522419186652806,
          -0.06274407706326482,
          -0.06396255850234013,
          -0.06517787587639577,
          -0.06639004149377598,
          -0.06759906759906764,
          -0.06880496637351272,
          -0.07000774993541724,
          -0.0712074303405573,
          -0.07240401958258186,
          -0.07359752959341229,
          -0.07478797224363921,
          -0.07597535934291584,
          -0.07715970264034866,
          -0.07834101382488483,
          -0.07951930452569679,
          -0.08069458631256389,
          -0.08186687069625098,
          -0.0830361691288844,
          -0.08420249300432464,
          -0.08536585365853663,
          -0.0865262623699569,
          -0.08768373035985812,
          -0.08883826879271074,
          -0.089989888776542,
          -0.09113860136329215,
          -0.09228441754916797,
          -0.09342734827499373,
          -0.09456740442655939,
          -0.09570459683496613,
          -0.09683893627696943,
          -0.09797043347531952,
          -0.09909909909909913,
          -0.10022494376405904,
          -0.10134797803295062,
          -0.10246821241585642,
          -0.10358565737051799,
          -0.10470032330266105,
          -0.10581222056631898
         ]
        },
        {
         "mode": "lines",
         "name": "p2",
         "type": "scatter",
         "x": [
          0,
          1,
          2,
          3,
          4,
          5,
          6,
          7,
          8,
          9,
          10,
          11,
          12,
          13,
          14,
          15,
          16,
          17,
          18,
          19,
          20,
          21,
          22,
          23,
          24,
          25,
          26,
          27,
          28,
          29,
          30,
          31,
          32,
          33,
          34,
          35,
          36,
          37,
          38,
          39,
          40,
          41,
          42,
          43,
          44,
          45,
          46,
          47,
          48,
          49,
          50,
          51,
          52,
          53,
          54,
          55,
          56,
          57,
          58,
          59,
          60,
          61,
          62,
          63,
          64,
          65,
          66,
          67,
          68,
          69,
          70,
          71,
          72,
          73,
          74,
          75,
          76,
          77,
          78,
          79,
          80,
          81,
          82,
          83,
          84,
          85,
          86,
          87,
          88,
          89,
          90,
          91,
          92,
          93,
          94,
          95,
          96,
          97,
          98,
          99,
          100,
          101,
          102,
          103,
          104,
          105,
          106,
          107,
          108,
          109,
          110,
          111,
          112,
          113,
          114,
          115,
          116,
          117,
          118,
          119,
          120,
          121,
          122,
          123,
          124,
          125,
          126,
          127,
          128,
          129,
          130,
          131,
          132,
          133,
          134,
          135,
          136,
          137,
          138,
          139,
          140,
          141,
          142,
          143,
          144,
          145,
          146,
          147,
          148,
          149,
          150
         ],
         "y": [
          -1,
          -0.9847607436757086,
          -0.9695678636640293,
          -0.9544211485870556,
          -0.9393203883495145,
          -0.9242653741290519,
          -0.9092558983666063,
          -0.8942917547568711,
          -0.879372738238842,
          -0.8644986449864498,
          -0.8496692723992784,
          -0.8348844190933654,
          -0.8201438848920863,
          -0.8054474708171206,
          -0.7907949790794978,
          -0.7761862130707251,
          -0.7616209773539929,
          -0.7470990776554597,
          -0.7326203208556149,
          -0.7181845149807178,
          -0.7037914691943128,
          -0.6894409937888198,
          -0.6751329001772002,
          -0.6608670008846947,
          -0.646643109540636,
          -0.6324610408703323,
          -0.6183206106870228,
          -0.604221635883905,
          -0.5901639344262295,
          -0.5761473253434667,
          -0.5621716287215411,
          -0.5482366656951325,
          -0.5343422584400466,
          -0.5204882301656495,
          -0.5066744051073708,
          -0.49290060851926976,
          -0.4791666666666667,
          -0.4654724068188384,
          -0.4518176572417772,
          -0.43820224719101114,
          -0.4246260069044879,
          -0.41108876759551854,
          -0.397590361445783,
          -0.38413062159839584,
          -0.37070938215102966,
          -0.35732647814910024,
          -0.3439817455790074,
          -0.3306750213614354,
          -0.31740614334470985,
          -0.3041749502982107,
          -0.29098128190584227,
          -0.2778249787595582,
          -0.26470588235294107,
          -0.25162383507483754,
          -0.2385786802030456,
          -0.22557026189805685,
          -0.21259842519685038,
          -0.19966301600673958,
          -0.1867638810992708,
          -0.17390086810417243,
          -0.16107382550335567,
          -0.14828260262496507,
          -0.13552704963747897,
          -0.12280701754385956,
          -0.11012235817575075,
          -0.09747292418772559,
          -0.08485856905158068,
          -0.07227914705067837,
          -0.059734513274336196,
          -0.04722452361226173,
          -0.034749034749034693,
          -0.022307904158633953,
          -0.009900990099009885,
          0.0024718483932986385,
          0.01481075150850264,
          0.027115858668857903,
          0.03938730853391699,
          0.05162523900573615,
          0.06382978723404265,
          0.07600108962135675,
          0.08813928182807405,
          0.10024449877750626,
          0.11231687466087902,
          0.12435654294229216,
          0.13636363636363652,
          0.14833828694947318,
          0.1602806260118728,
          0.17219078415521424,
          0.18406889128094736,
          0.19591507659231405,
          0.20772946859903388,
          0.2195121951219514,
          0.23126338329764456,
          0.24298315958299932,
          0.2546716497597439,
          0.2663289789389497,
          0.2779552715654953,
          0.28955065142249403,
          0.30111524163568787,
          0.31264916467780446,
          0.32415254237288144,
          0.3356254959005555,
          0.347068145800317,
          0.3584806119757321,
          0.3698630136986303,
          0.38121546961325975,
          0.39253809774041,
          0.40383101548150097,
          0.41509433962264164,
          0.42632818633865494,
          0.43753267119707273,
          0.4487079091620988,
          0.4598540145985402,
          0.47097110127570957,
          0.48205928237129503,
          0.4931186704752013,
          0.5041493775933611,
          0.5151515151515151,
          0.5261251939989655,
          0.5370705244122967,
          0.5479876160990713,
          0.5588765782014945,
          0.5697375193000515,
          0.5805705474171166,
          0.591375770020534,
          0.6021532940271725,
          0.6129032258064517,
          0.6236256711838405,
          0.6343207354443311,
          0.6449885233358839,
          0.6556291390728478,
          0.6662426863393539,
          0.676829268292683,
          0.6873889875666076,
          0.6979219462747087,
          0.7084282460136675,
          0.718907987866532,
          0.7293612724059582,
          0.7397881996974283,
          0.7501888693024429,
          0.7605633802816902,
          0.7709118311981915,
          0.7812343201204215,
          0.7915309446254075,
          0.8018018018018017,
          0.8120469882529369,
          0.8222666000998503,
          0.8324607329842934,
          0.8426294820717135,
          0.8527729420542153,
          0.8628912071535023
         ]
        },
        {
         "mode": "lines",
         "name": "expected",
         "type": "scatter",
         "x": [
          0,
          1,
          2,
          3,
          4,
          5,
          6,
          7,
          8,
          9,
          10,
          11,
          12,
          13,
          14,
          15,
          16,
          17,
          18,
          19,
          20,
          21,
          22,
          23,
          24,
          25,
          26,
          27,
          28,
          29,
          30,
          31,
          32,
          33,
          34,
          35,
          36,
          37,
          38,
          39,
          40,
          41,
          42,
          43,
          44,
          45,
          46,
          47,
          48,
          49,
          50,
          51,
          52,
          53,
          54,
          55,
          56,
          57,
          58,
          59,
          60,
          61,
          62,
          63,
          64,
          65,
          66,
          67,
          68,
          69,
          70,
          71,
          72,
          73,
          74,
          75,
          76,
          77,
          78,
          79,
          80,
          81,
          82,
          83,
          84,
          85,
          86,
          87,
          88,
          89,
          90,
          91,
          92,
          93,
          94,
          95,
          96,
          97,
          98,
          99,
          100,
          101,
          102,
          103,
          104,
          105,
          106,
          107,
          108,
          109,
          110,
          111,
          112,
          113,
          114,
          115,
          116,
          117,
          118,
          119,
          120,
          121,
          122,
          123,
          124,
          125,
          126,
          127,
          128,
          129,
          130,
          131,
          132,
          133,
          134,
          135,
          136,
          137,
          138,
          139,
          140,
          141,
          142,
          143,
          144,
          145,
          146,
          147,
          148,
          149,
          150
         ],
         "y": [
          -0.010000000000000037,
          -0.010000000000000023,
          -0.010000000000000037,
          -0.010000000000000037,
          -0.010000000000000023,
          -0.010000000000000023,
          -0.010000000000000037,
          -0.010000000000000037,
          -0.010000000000000037,
          -0.010000000000000037,
          -0.010000000000000023,
          -0.010000000000000037,
          -0.010000000000000037,
          -0.010000000000000023,
          -0.010000000000000037,
          -0.010000000000000023,
          -0.010000000000000037,
          -0.010000000000000023,
          -0.010000000000000023,
          -0.010000000000000023,
          -0.010000000000000023,
          -0.010000000000000023,
          -0.01000000000000003,
          -0.010000000000000023,
          -0.010000000000000023,
          -0.010000000000000023,
          -0.010000000000000016,
          -0.010000000000000037,
          -0.01000000000000003,
          -0.01000000000000003,
          -0.010000000000000023,
          -0.010000000000000016,
          -0.010000000000000037,
          -0.01000000000000003,
          -0.01000000000000003,
          -0.01000000000000003,
          -0.01000000000000003,
          -0.010000000000000023,
          -0.010000000000000023,
          -0.01000000000000003,
          -0.010000000000000023,
          -0.01000000000000003,
          -0.01000000000000002,
          -0.01000000000000002,
          -0.010000000000000026,
          -0.010000000000000026,
          -0.010000000000000033,
          -0.01000000000000002,
          -0.010000000000000033,
          -0.010000000000000026,
          -0.010000000000000026,
          -0.010000000000000033,
          -0.01000000000000002,
          -0.01000000000000003,
          -0.010000000000000026,
          -0.010000000000000024,
          -0.010000000000000033,
          -0.010000000000000024,
          -0.010000000000000026,
          -0.010000000000000026,
          -0.010000000000000026,
          -0.010000000000000031,
          -0.01000000000000002,
          -0.010000000000000028,
          -0.010000000000000024,
          -0.010000000000000024,
          -0.010000000000000033,
          -0.01000000000000002,
          -0.01000000000000003,
          -0.010000000000000026,
          -0.010000000000000023,
          -0.010000000000000033,
          -0.01000000000000003,
          -0.010000000000000028,
          -0.010000000000000014,
          -0.010000000000000023,
          -0.010000000000000023,
          -0.01000000000000003,
          -0.01000000000000003,
          -0.010000000000000016,
          -0.010000000000000024,
          -0.010000000000000012,
          -0.01000000000000004,
          -0.010000000000000031,
          -0.010000000000000014,
          -0.010000000000000023,
          -0.010000000000000012,
          -0.01000000000000004,
          -0.01000000000000003,
          -0.010000000000000012,
          -0.010000000000000023,
          -0.010000000000000009,
          -0.01000000000000004,
          -0.010000000000000023,
          -0.010000000000000012,
          -0.01000000000000002,
          -0.010000000000000033,
          -0.01000000000000004,
          -0.010000000000000026,
          -0.010000000000000009,
          -0.010000000000000023,
          -0.01000000000000003,
          -0.010000000000000044,
          -0.010000000000000023,
          -0.010000000000000023,
          -0.010000000000000023,
          -0.01000000000000003,
          -0.01000000000000003,
          -0.010000000000000023,
          -0.010000000000000009,
          -0.010000000000000023,
          -0.01000000000000003,
          -0.01000000000000003,
          -0.01000000000000003,
          -0.010000000000000016,
          -0.010000000000000016,
          -0.010000000000000023,
          -0.010000000000000044,
          -0.010000000000000023,
          -0.010000000000000016,
          -0.010000000000000016,
          -0.010000000000000037,
          -0.010000000000000037,
          -0.010000000000000023,
          -0.010000000000000016,
          -0.010000000000000023,
          -0.010000000000000023,
          -0.01000000000000003,
          -0.010000000000000023,
          -0.010000000000000009,
          -0.010000000000000009,
          -0.010000000000000037,
          -0.010000000000000037,
          -0.010000000000000023,
          -0.010000000000000023,
          -0.010000000000000037,
          -0.010000000000000023,
          -0.010000000000000037,
          -0.010000000000000023,
          -0.010000000000000009,
          -0.010000000000000023,
          -0.010000000000000023,
          -0.010000000000000037,
          -0.009999999999999995,
          -0.010000000000000023,
          -0.010000000000000037,
          -0.010000000000000037,
          -0.010000000000000009,
          -0.010000000000000023,
          -0.010000000000000023,
          -0.010000000000000037
         ]
        }
       ],
       "layout": {
        "template": {
         "data": {
          "bar": [
           {
            "error_x": {
             "color": "#2a3f5f"
            },
            "error_y": {
             "color": "#2a3f5f"
            },
            "marker": {
             "line": {
              "color": "#E5ECF6",
              "width": 0.5
             },
             "pattern": {
              "fillmode": "overlay",
              "size": 10,
              "solidity": 0.2
             }
            },
            "type": "bar"
           }
          ],
          "barpolar": [
           {
            "marker": {
             "line": {
              "color": "#E5ECF6",
              "width": 0.5
             },
             "pattern": {
              "fillmode": "overlay",
              "size": 10,
              "solidity": 0.2
             }
            },
            "type": "barpolar"
           }
          ],
          "carpet": [
           {
            "aaxis": {
             "endlinecolor": "#2a3f5f",
             "gridcolor": "white",
             "linecolor": "white",
             "minorgridcolor": "white",
             "startlinecolor": "#2a3f5f"
            },
            "baxis": {
             "endlinecolor": "#2a3f5f",
             "gridcolor": "white",
             "linecolor": "white",
             "minorgridcolor": "white",
             "startlinecolor": "#2a3f5f"
            },
            "type": "carpet"
           }
          ],
          "choropleth": [
           {
            "colorbar": {
             "outlinewidth": 0,
             "ticks": ""
            },
            "type": "choropleth"
           }
          ],
          "contour": [
           {
            "colorbar": {
             "outlinewidth": 0,
             "ticks": ""
            },
            "colorscale": [
             [
              0,
              "#0d0887"
             ],
             [
              0.1111111111111111,
              "#46039f"
             ],
             [
              0.2222222222222222,
              "#7201a8"
             ],
             [
              0.3333333333333333,
              "#9c179e"
             ],
             [
              0.4444444444444444,
              "#bd3786"
             ],
             [
              0.5555555555555556,
              "#d8576b"
             ],
             [
              0.6666666666666666,
              "#ed7953"
             ],
             [
              0.7777777777777778,
              "#fb9f3a"
             ],
             [
              0.8888888888888888,
              "#fdca26"
             ],
             [
              1,
              "#f0f921"
             ]
            ],
            "type": "contour"
           }
          ],
          "contourcarpet": [
           {
            "colorbar": {
             "outlinewidth": 0,
             "ticks": ""
            },
            "type": "contourcarpet"
           }
          ],
          "heatmap": [
           {
            "colorbar": {
             "outlinewidth": 0,
             "ticks": ""
            },
            "colorscale": [
             [
              0,
              "#0d0887"
             ],
             [
              0.1111111111111111,
              "#46039f"
             ],
             [
              0.2222222222222222,
              "#7201a8"
             ],
             [
              0.3333333333333333,
              "#9c179e"
             ],
             [
              0.4444444444444444,
              "#bd3786"
             ],
             [
              0.5555555555555556,
              "#d8576b"
             ],
             [
              0.6666666666666666,
              "#ed7953"
             ],
             [
              0.7777777777777778,
              "#fb9f3a"
             ],
             [
              0.8888888888888888,
              "#fdca26"
             ],
             [
              1,
              "#f0f921"
             ]
            ],
            "type": "heatmap"
           }
          ],
          "heatmapgl": [
           {
            "colorbar": {
             "outlinewidth": 0,
             "ticks": ""
            },
            "colorscale": [
             [
              0,
              "#0d0887"
             ],
             [
              0.1111111111111111,
              "#46039f"
             ],
             [
              0.2222222222222222,
              "#7201a8"
             ],
             [
              0.3333333333333333,
              "#9c179e"
             ],
             [
              0.4444444444444444,
              "#bd3786"
             ],
             [
              0.5555555555555556,
              "#d8576b"
             ],
             [
              0.6666666666666666,
              "#ed7953"
             ],
             [
              0.7777777777777778,
              "#fb9f3a"
             ],
             [
              0.8888888888888888,
              "#fdca26"
             ],
             [
              1,
              "#f0f921"
             ]
            ],
            "type": "heatmapgl"
           }
          ],
          "histogram": [
           {
            "marker": {
             "pattern": {
              "fillmode": "overlay",
              "size": 10,
              "solidity": 0.2
             }
            },
            "type": "histogram"
           }
          ],
          "histogram2d": [
           {
            "colorbar": {
             "outlinewidth": 0,
             "ticks": ""
            },
            "colorscale": [
             [
              0,
              "#0d0887"
             ],
             [
              0.1111111111111111,
              "#46039f"
             ],
             [
              0.2222222222222222,
              "#7201a8"
             ],
             [
              0.3333333333333333,
              "#9c179e"
             ],
             [
              0.4444444444444444,
              "#bd3786"
             ],
             [
              0.5555555555555556,
              "#d8576b"
             ],
             [
              0.6666666666666666,
              "#ed7953"
             ],
             [
              0.7777777777777778,
              "#fb9f3a"
             ],
             [
              0.8888888888888888,
              "#fdca26"
             ],
             [
              1,
              "#f0f921"
             ]
            ],
            "type": "histogram2d"
           }
          ],
          "histogram2dcontour": [
           {
            "colorbar": {
             "outlinewidth": 0,
             "ticks": ""
            },
            "colorscale": [
             [
              0,
              "#0d0887"
             ],
             [
              0.1111111111111111,
              "#46039f"
             ],
             [
              0.2222222222222222,
              "#7201a8"
             ],
             [
              0.3333333333333333,
              "#9c179e"
             ],
             [
              0.4444444444444444,
              "#bd3786"
             ],
             [
              0.5555555555555556,
              "#d8576b"
             ],
             [
              0.6666666666666666,
              "#ed7953"
             ],
             [
              0.7777777777777778,
              "#fb9f3a"
             ],
             [
              0.8888888888888888,
              "#fdca26"
             ],
             [
              1,
              "#f0f921"
             ]
            ],
            "type": "histogram2dcontour"
           }
          ],
          "mesh3d": [
           {
            "colorbar": {
             "outlinewidth": 0,
             "ticks": ""
            },
            "type": "mesh3d"
           }
          ],
          "parcoords": [
           {
            "line": {
             "colorbar": {
              "outlinewidth": 0,
              "ticks": ""
             }
            },
            "type": "parcoords"
           }
          ],
          "pie": [
           {
            "automargin": true,
            "type": "pie"
           }
          ],
          "scatter": [
           {
            "fillpattern": {
             "fillmode": "overlay",
             "size": 10,
             "solidity": 0.2
            },
            "type": "scatter"
           }
          ],
          "scatter3d": [
           {
            "line": {
             "colorbar": {
              "outlinewidth": 0,
              "ticks": ""
             }
            },
            "marker": {
             "colorbar": {
              "outlinewidth": 0,
              "ticks": ""
             }
            },
            "type": "scatter3d"
           }
          ],
          "scattercarpet": [
           {
            "marker": {
             "colorbar": {
              "outlinewidth": 0,
              "ticks": ""
             }
            },
            "type": "scattercarpet"
           }
          ],
          "scattergeo": [
           {
            "marker": {
             "colorbar": {
              "outlinewidth": 0,
              "ticks": ""
             }
            },
            "type": "scattergeo"
           }
          ],
          "scattergl": [
           {
            "marker": {
             "colorbar": {
              "outlinewidth": 0,
              "ticks": ""
             }
            },
            "type": "scattergl"
           }
          ],
          "scattermapbox": [
           {
            "marker": {
             "colorbar": {
              "outlinewidth": 0,
              "ticks": ""
             }
            },
            "type": "scattermapbox"
           }
          ],
          "scatterpolar": [
           {
            "marker": {
             "colorbar": {
              "outlinewidth": 0,
              "ticks": ""
             }
            },
            "type": "scatterpolar"
           }
          ],
          "scatterpolargl": [
           {
            "marker": {
             "colorbar": {
              "outlinewidth": 0,
              "ticks": ""
             }
            },
            "type": "scatterpolargl"
           }
          ],
          "scatterternary": [
           {
            "marker": {
             "colorbar": {
              "outlinewidth": 0,
              "ticks": ""
             }
            },
            "type": "scatterternary"
           }
          ],
          "surface": [
           {
            "colorbar": {
             "outlinewidth": 0,
             "ticks": ""
            },
            "colorscale": [
             [
              0,
              "#0d0887"
             ],
             [
              0.1111111111111111,
              "#46039f"
             ],
             [
              0.2222222222222222,
              "#7201a8"
             ],
             [
              0.3333333333333333,
              "#9c179e"
             ],
             [
              0.4444444444444444,
              "#bd3786"
             ],
             [
              0.5555555555555556,
              "#d8576b"
             ],
             [
              0.6666666666666666,
              "#ed7953"
             ],
             [
              0.7777777777777778,
              "#fb9f3a"
             ],
             [
              0.8888888888888888,
              "#fdca26"
             ],
             [
              1,
              "#f0f921"
             ]
            ],
            "type": "surface"
           }
          ],
          "table": [
           {
            "cells": {
             "fill": {
              "color": "#EBF0F8"
             },
             "line": {
              "color": "white"
             }
            },
            "header": {
             "fill": {
              "color": "#C8D4E3"
             },
             "line": {
              "color": "white"
             }
            },
            "type": "table"
           }
          ]
         },
         "layout": {
          "annotationdefaults": {
           "arrowcolor": "#2a3f5f",
           "arrowhead": 0,
           "arrowwidth": 1
          },
          "autotypenumbers": "strict",
          "coloraxis": {
           "colorbar": {
            "outlinewidth": 0,
            "ticks": ""
           }
          },
          "colorscale": {
           "diverging": [
            [
             0,
             "#8e0152"
            ],
            [
             0.1,
             "#c51b7d"
            ],
            [
             0.2,
             "#de77ae"
            ],
            [
             0.3,
             "#f1b6da"
            ],
            [
             0.4,
             "#fde0ef"
            ],
            [
             0.5,
             "#f7f7f7"
            ],
            [
             0.6,
             "#e6f5d0"
            ],
            [
             0.7,
             "#b8e186"
            ],
            [
             0.8,
             "#7fbc41"
            ],
            [
             0.9,
             "#4d9221"
            ],
            [
             1,
             "#276419"
            ]
           ],
           "sequential": [
            [
             0,
             "#0d0887"
            ],
            [
             0.1111111111111111,
             "#46039f"
            ],
            [
             0.2222222222222222,
             "#7201a8"
            ],
            [
             0.3333333333333333,
             "#9c179e"
            ],
            [
             0.4444444444444444,
             "#bd3786"
            ],
            [
             0.5555555555555556,
             "#d8576b"
            ],
            [
             0.6666666666666666,
             "#ed7953"
            ],
            [
             0.7777777777777778,
             "#fb9f3a"
            ],
            [
             0.8888888888888888,
             "#fdca26"
            ],
            [
             1,
             "#f0f921"
            ]
           ],
           "sequentialminus": [
            [
             0,
             "#0d0887"
            ],
            [
             0.1111111111111111,
             "#46039f"
            ],
            [
             0.2222222222222222,
             "#7201a8"
            ],
            [
             0.3333333333333333,
             "#9c179e"
            ],
            [
             0.4444444444444444,
             "#bd3786"
            ],
            [
             0.5555555555555556,
             "#d8576b"
            ],
            [
             0.6666666666666666,
             "#ed7953"
            ],
            [
             0.7777777777777778,
             "#fb9f3a"
            ],
            [
             0.8888888888888888,
             "#fdca26"
            ],
            [
             1,
             "#f0f921"
            ]
           ]
          },
          "colorway": [
           "#636efa",
           "#EF553B",
           "#00cc96",
           "#ab63fa",
           "#FFA15A",
           "#19d3f3",
           "#FF6692",
           "#B6E880",
           "#FF97FF",
           "#FECB52"
          ],
          "font": {
           "color": "#2a3f5f"
          },
          "geo": {
           "bgcolor": "white",
           "lakecolor": "white",
           "landcolor": "#E5ECF6",
           "showlakes": true,
           "showland": true,
           "subunitcolor": "white"
          },
          "hoverlabel": {
           "align": "left"
          },
          "hovermode": "closest",
          "mapbox": {
           "style": "light"
          },
          "paper_bgcolor": "white",
          "plot_bgcolor": "#E5ECF6",
          "polar": {
           "angularaxis": {
            "gridcolor": "white",
            "linecolor": "white",
            "ticks": ""
           },
           "bgcolor": "#E5ECF6",
           "radialaxis": {
            "gridcolor": "white",
            "linecolor": "white",
            "ticks": ""
           }
          },
          "scene": {
           "xaxis": {
            "backgroundcolor": "#E5ECF6",
            "gridcolor": "white",
            "gridwidth": 2,
            "linecolor": "white",
            "showbackground": true,
            "ticks": "",
            "zerolinecolor": "white"
           },
           "yaxis": {
            "backgroundcolor": "#E5ECF6",
            "gridcolor": "white",
            "gridwidth": 2,
            "linecolor": "white",
            "showbackground": true,
            "ticks": "",
            "zerolinecolor": "white"
           },
           "zaxis": {
            "backgroundcolor": "#E5ECF6",
            "gridcolor": "white",
            "gridwidth": 2,
            "linecolor": "white",
            "showbackground": true,
            "ticks": "",
            "zerolinecolor": "white"
           }
          },
          "shapedefaults": {
           "line": {
            "color": "#2a3f5f"
           }
          },
          "ternary": {
           "aaxis": {
            "gridcolor": "white",
            "linecolor": "white",
            "ticks": ""
           },
           "baxis": {
            "gridcolor": "white",
            "linecolor": "white",
            "ticks": ""
           },
           "bgcolor": "#E5ECF6",
           "caxis": {
            "gridcolor": "white",
            "linecolor": "white",
            "ticks": ""
           }
          },
          "title": {
           "x": 0.05
          },
          "xaxis": {
           "automargin": true,
           "gridcolor": "white",
           "linecolor": "white",
           "ticks": "",
           "title": {
            "standoff": 15
           },
           "zerolinecolor": "white",
           "zerolinewidth": 2
          },
          "yaxis": {
           "automargin": true,
           "gridcolor": "white",
           "linecolor": "white",
           "ticks": "",
           "title": {
            "standoff": 15
           },
           "zerolinecolor": "white",
           "zerolinewidth": 2
          }
         }
        }
       }
      }
     },
     "metadata": {},
     "output_type": "display_data"
    }
   ],
   "source": [
    "import plotly.express as px\n",
    "import plotly.graph_objects as go\n",
    "\n",
    "def hedge_formula(p_1, p_2, n_1, n_2):\n",
    "    # If p_1 is correct\n",
    "    res_1 = ((1 - p_1) * n_1 - p_2 * n_2) / (n_1 * p_1 + n_2 * p_2)\n",
    "    # If p_2 is correct\n",
    "    res_2 = - (p_1 * n_1 - (1 - p_2) * n_2) / (n_1 * p_1 + n_2 * p_2)\n",
    "\n",
    "    return res_1, res_2\n",
    "\n",
    "def expected_hedge_formula(p_1, p_2, n_1, n_2):\n",
    "    res1, res2 = hedge_formula(p_1, p_2, n_1, n_2)\n",
    "    return p_1 * res1 + p_2 * res2\n",
    "\n",
    "n_1 = 72\n",
    "n_2 = np.linspace(0, 150, 151)\n",
    "\n",
    "# p_1 = np.linspace(0, 1.0, 10)\n",
    "# p_2 = 1 - p_1\n",
    "p_1 = 0.91\n",
    "p_2 = 0.10\n",
    "\n",
    "# res = [hedge_formula(p_1i, p_2i, n_1, n_2) for p_1i, p_2i in zip(p_1, p_2)]\n",
    "res = hedge_formula(p_1, p_2, n_1, n_2)\n",
    "eres = expected_hedge_formula(p_1, p_2, n_1, n_2)\n",
    "\n",
    "fig = go.Figure()\n",
    "fig.add_trace(go.Scatter(x=n_2, y=res[0],\n",
    "                    mode='lines',\n",
    "                    name='p1'))\n",
    "fig.add_trace(go.Scatter(x=n_2, y=res[1],\n",
    "                    mode='lines',\n",
    "                    name='p2'))\n",
    "fig.add_trace(go.Scatter(x=n_2, y=eres,\n",
    "                    mode='lines',\n",
    "                    name='expected'))"
   ]
  },
  {
   "cell_type": "code",
   "execution_count": 20,
   "metadata": {},
   "outputs": [
    {
     "data": {
      "text/plain": [
       "(0.0507880910683012, -0.5621716287215411)"
      ]
     },
     "execution_count": 20,
     "metadata": {},
     "output_type": "execute_result"
    }
   ],
   "source": [
    "hedge_formula(0.91, 0.1,72, 30)\n",
    "\n",
    "# 72 * 0.91 + 30 * 0.1"
   ]
  },
  {
   "cell_type": "code",
   "execution_count": 33,
   "metadata": {},
   "outputs": [
    {
     "name": "stdout",
     "output_type": "stream",
     "text": [
      "{'STATION': [{'ID': '4981', 'STID': 'KMDW', 'NAME': 'Chicago, Chicago Midway Airport', 'ELEVATION': '617.0', 'LATITUDE': '41.78417', 'LONGITUDE': '-87.75528', 'STATUS': 'ACTIVE', 'MNET_ID': '1', 'STATE': 'IL', 'TIMEZONE': 'America/Chicago', 'ELEV_DEM': '610.2', 'DISTANCE': 0.0, 'PERIOD_OF_RECORD': {'start': '2002-08-14T00:00:00Z', 'end': '2024-11-14T02:48:00Z'}, 'UNITS': {'position': 'm', 'elevation': 'ft'}, 'SENSOR_VARIABLES': {'air_temp': {'air_temp_set_1': {}}, 'relative_humidity': {'relative_humidity_set_1': {}}, 'wind_speed': {'wind_speed_set_1': {}}, 'wind_direction': {'wind_direction_set_1': {}}, 'air_temp_high_6_hour': {'air_temp_high_6_hour_set_1': {}}, 'air_temp_high_24_hour': {'air_temp_high_24_hour_set_1': {}}}, 'OBSERVATIONS': {'date_time': ['2024-11-12T03:35:00Z', '2024-11-12T03:40:00Z', '2024-11-12T03:45:00Z', '2024-11-12T03:50:00Z', '2024-11-12T03:53:00Z', '2024-11-12T03:55:00Z', '2024-11-12T04:00:00Z', '2024-11-12T04:05:00Z', '2024-11-12T04:10:00Z', '2024-11-12T04:15:00Z', '2024-11-12T04:20:00Z', '2024-11-12T04:25:00Z', '2024-11-12T04:30:00Z', '2024-11-12T04:35:00Z', '2024-11-12T04:40:00Z', '2024-11-12T04:45:00Z', '2024-11-12T04:50:00Z', '2024-11-12T04:53:00Z', '2024-11-12T04:55:00Z', '2024-11-12T05:00:00Z', '2024-11-12T05:05:00Z', '2024-11-12T05:10:00Z', '2024-11-12T05:15:00Z', '2024-11-12T05:20:00Z', '2024-11-12T05:25:00Z', '2024-11-12T05:30:00Z', '2024-11-12T05:35:00Z', '2024-11-12T05:40:00Z', '2024-11-12T05:45:00Z', '2024-11-12T05:50:00Z', '2024-11-12T05:53:00Z', '2024-11-12T05:55:00Z', '2024-11-12T06:00:00Z', '2024-11-12T06:05:00Z', '2024-11-12T06:10:00Z', '2024-11-12T06:15:00Z', '2024-11-12T06:20:00Z', '2024-11-12T06:21:00Z', '2024-11-12T06:25:00Z', '2024-11-12T06:30:00Z', '2024-11-12T06:35:00Z', '2024-11-12T06:40:00Z', '2024-11-12T06:45:00Z', '2024-11-12T06:50:00Z', '2024-11-12T06:53:00Z', '2024-11-12T06:55:00Z', '2024-11-12T07:00:00Z', '2024-11-12T07:05:00Z', '2024-11-12T07:10:00Z', '2024-11-12T07:15:00Z', '2024-11-12T07:20:00Z', '2024-11-12T07:25:00Z', '2024-11-12T07:30:00Z', '2024-11-12T07:35:00Z', '2024-11-12T07:40:00Z', '2024-11-12T07:45:00Z', '2024-11-12T07:50:00Z', '2024-11-12T07:53:00Z', '2024-11-12T07:55:00Z', '2024-11-12T08:00:00Z', '2024-11-12T08:05:00Z', '2024-11-12T08:10:00Z', '2024-11-12T08:15:00Z', '2024-11-12T08:20:00Z', '2024-11-12T08:25:00Z', '2024-11-12T08:30:00Z', '2024-11-12T08:35:00Z', '2024-11-12T08:40:00Z', '2024-11-12T08:45:00Z', '2024-11-12T08:50:00Z', '2024-11-12T08:53:00Z', '2024-11-12T08:55:00Z', '2024-11-12T09:00:00Z', '2024-11-12T09:05:00Z', '2024-11-12T09:10:00Z', '2024-11-12T09:15:00Z', '2024-11-12T09:20:00Z', '2024-11-12T09:25:00Z', '2024-11-12T09:30:00Z', '2024-11-12T09:35:00Z', '2024-11-12T09:37:00Z', '2024-11-12T09:40:00Z', '2024-11-12T09:45:00Z', '2024-11-12T09:50:00Z', '2024-11-12T09:51:00Z', '2024-11-12T09:53:00Z', '2024-11-12T09:55:00Z', '2024-11-12T10:00:00Z', '2024-11-12T10:05:00Z', '2024-11-12T10:10:00Z', '2024-11-12T10:15:00Z', '2024-11-12T10:20:00Z', '2024-11-12T10:25:00Z', '2024-11-12T10:30:00Z', '2024-11-12T10:35:00Z', '2024-11-12T10:40:00Z', '2024-11-12T10:45:00Z', '2024-11-12T10:50:00Z', '2024-11-12T10:53:00Z', '2024-11-12T10:55:00Z', '2024-11-12T11:00:00Z', '2024-11-12T11:05:00Z', '2024-11-12T11:10:00Z', '2024-11-12T11:15:00Z', '2024-11-12T11:20:00Z', '2024-11-12T11:25:00Z', '2024-11-12T11:30:00Z', '2024-11-12T11:35:00Z', '2024-11-12T11:40:00Z', '2024-11-12T11:45:00Z', '2024-11-12T11:50:00Z', '2024-11-12T11:53:00Z', '2024-11-12T11:55:00Z', '2024-11-12T12:00:00Z', '2024-11-12T12:05:00Z', '2024-11-12T12:10:00Z', '2024-11-12T12:15:00Z', '2024-11-12T12:20:00Z', '2024-11-12T12:25:00Z', '2024-11-12T12:30:00Z', '2024-11-12T12:35:00Z', '2024-11-12T12:40:00Z', '2024-11-12T12:45:00Z', '2024-11-12T12:50:00Z', '2024-11-12T12:53:00Z', '2024-11-12T12:55:00Z', '2024-11-12T13:00:00Z', '2024-11-12T13:05:00Z', '2024-11-12T13:10:00Z', '2024-11-12T13:15:00Z', '2024-11-12T13:20:00Z', '2024-11-12T13:25:00Z', '2024-11-12T13:30:00Z', '2024-11-12T13:35:00Z', '2024-11-12T13:40:00Z', '2024-11-12T13:45:00Z', '2024-11-12T13:50:00Z', '2024-11-12T13:53:00Z', '2024-11-12T13:55:00Z', '2024-11-12T14:00:00Z', '2024-11-12T14:05:00Z', '2024-11-12T14:10:00Z', '2024-11-12T14:15:00Z', '2024-11-12T14:20:00Z', '2024-11-12T14:25:00Z', '2024-11-12T14:30:00Z', '2024-11-12T14:35:00Z', '2024-11-12T14:40:00Z', '2024-11-12T14:45:00Z', '2024-11-12T14:50:00Z', '2024-11-12T14:53:00Z', '2024-11-12T14:55:00Z', '2024-11-12T15:00:00Z', '2024-11-12T15:05:00Z', '2024-11-12T15:10:00Z', '2024-11-12T15:15:00Z', '2024-11-12T15:20:00Z', '2024-11-12T15:25:00Z', '2024-11-12T15:30:00Z', '2024-11-12T15:35:00Z', '2024-11-12T15:40:00Z', '2024-11-12T15:45:00Z', '2024-11-12T15:50:00Z', '2024-11-12T15:53:00Z', '2024-11-12T15:55:00Z', '2024-11-12T16:00:00Z', '2024-11-12T16:05:00Z', '2024-11-12T16:10:00Z', '2024-11-12T16:15:00Z', '2024-11-12T16:20:00Z', '2024-11-12T16:25:00Z', '2024-11-12T16:30:00Z', '2024-11-12T16:35:00Z', '2024-11-12T16:40:00Z', '2024-11-12T16:45:00Z', '2024-11-12T16:50:00Z', '2024-11-12T16:53:00Z', '2024-11-12T16:55:00Z', '2024-11-12T17:00:00Z', '2024-11-12T17:05:00Z', '2024-11-12T17:10:00Z', '2024-11-12T17:15:00Z', '2024-11-12T17:20:00Z', '2024-11-12T17:25:00Z', '2024-11-12T17:30:00Z', '2024-11-12T17:33:00Z', '2024-11-12T17:35:00Z', '2024-11-12T17:40:00Z', '2024-11-12T17:45:00Z', '2024-11-12T17:50:00Z', '2024-11-12T17:53:00Z', '2024-11-12T17:55:00Z', '2024-11-12T18:00:00Z', '2024-11-12T18:05:00Z', '2024-11-12T18:10:00Z', '2024-11-12T18:15:00Z', '2024-11-12T18:20:00Z', '2024-11-12T18:25:00Z', '2024-11-12T18:30:00Z', '2024-11-12T18:35:00Z', '2024-11-12T18:40:00Z', '2024-11-12T18:45:00Z', '2024-11-12T18:50:00Z', '2024-11-12T18:53:00Z', '2024-11-12T18:55:00Z', '2024-11-12T19:00:00Z', '2024-11-12T19:05:00Z', '2024-11-12T19:10:00Z', '2024-11-12T19:15:00Z', '2024-11-12T19:20:00Z', '2024-11-12T19:25:00Z', '2024-11-12T19:30:00Z', '2024-11-12T19:35:00Z', '2024-11-12T19:40:00Z', '2024-11-12T19:45:00Z', '2024-11-12T19:50:00Z', '2024-11-12T19:53:00Z', '2024-11-12T19:55:00Z', '2024-11-12T20:00:00Z', '2024-11-12T20:05:00Z', '2024-11-12T20:10:00Z', '2024-11-12T20:15:00Z', '2024-11-12T20:20:00Z', '2024-11-12T20:25:00Z', '2024-11-12T20:30:00Z', '2024-11-12T20:35:00Z', '2024-11-12T20:40:00Z', '2024-11-12T20:45:00Z', '2024-11-12T20:50:00Z', '2024-11-12T20:53:00Z', '2024-11-12T20:55:00Z', '2024-11-12T21:00:00Z', '2024-11-12T21:05:00Z', '2024-11-12T21:10:00Z', '2024-11-12T21:15:00Z', '2024-11-12T21:20:00Z', '2024-11-12T21:25:00Z', '2024-11-12T21:30:00Z', '2024-11-12T21:35:00Z', '2024-11-12T21:40:00Z', '2024-11-12T21:45:00Z', '2024-11-12T21:50:00Z', '2024-11-12T21:53:00Z', '2024-11-12T21:55:00Z', '2024-11-12T22:00:00Z', '2024-11-12T22:05:00Z', '2024-11-12T22:10:00Z', '2024-11-12T22:15:00Z', '2024-11-12T22:20:00Z', '2024-11-12T22:25:00Z', '2024-11-12T22:30:00Z', '2024-11-12T22:35:00Z', '2024-11-12T22:40:00Z', '2024-11-12T22:45:00Z', '2024-11-12T22:50:00Z', '2024-11-12T22:53:00Z', '2024-11-12T22:55:00Z', '2024-11-12T23:00:00Z', '2024-11-12T23:05:00Z', '2024-11-12T23:10:00Z', '2024-11-12T23:15:00Z', '2024-11-12T23:20:00Z', '2024-11-12T23:25:00Z', '2024-11-12T23:30:00Z', '2024-11-12T23:35:00Z', '2024-11-12T23:40:00Z', '2024-11-12T23:45:00Z', '2024-11-12T23:50:00Z', '2024-11-12T23:53:00Z', '2024-11-12T23:55:00Z', '2024-11-13T00:00:00Z', '2024-11-13T00:05:00Z', '2024-11-13T00:10:00Z', '2024-11-13T00:15:00Z', '2024-11-13T00:20:00Z', '2024-11-13T00:25:00Z', '2024-11-13T00:30:00Z', '2024-11-13T00:35:00Z', '2024-11-13T00:40:00Z', '2024-11-13T00:45:00Z', '2024-11-13T00:50:00Z', '2024-11-13T00:53:00Z', '2024-11-13T00:55:00Z', '2024-11-13T01:00:00Z', '2024-11-13T01:05:00Z', '2024-11-13T01:10:00Z', '2024-11-13T01:15:00Z', '2024-11-13T01:20:00Z', '2024-11-13T01:25:00Z', '2024-11-13T01:30:00Z', '2024-11-13T01:35:00Z', '2024-11-13T01:40:00Z', '2024-11-13T01:45:00Z', '2024-11-13T01:50:00Z', '2024-11-13T01:53:00Z', '2024-11-13T01:55:00Z', '2024-11-13T02:00:00Z', '2024-11-13T02:05:00Z', '2024-11-13T02:10:00Z', '2024-11-13T02:15:00Z', '2024-11-13T02:20:00Z', '2024-11-13T02:25:00Z', '2024-11-13T02:30:00Z', '2024-11-13T02:35:00Z', '2024-11-13T02:40:00Z', '2024-11-13T02:45:00Z', '2024-11-13T02:50:00Z', '2024-11-13T02:53:00Z', '2024-11-13T02:55:00Z', '2024-11-13T03:00:00Z', '2024-11-13T03:05:00Z', '2024-11-13T03:10:00Z', '2024-11-13T03:15:00Z', '2024-11-13T03:20:00Z', '2024-11-13T03:25:00Z', '2024-11-13T03:30:00Z', '2024-11-13T03:35:00Z', '2024-11-13T03:40:00Z', '2024-11-13T03:45:00Z', '2024-11-13T03:50:00Z', '2024-11-13T03:53:00Z', '2024-11-13T03:55:00Z', '2024-11-13T04:00:00Z', '2024-11-13T04:05:00Z', '2024-11-13T04:10:00Z', '2024-11-13T04:15:00Z', '2024-11-13T04:20:00Z', '2024-11-13T04:25:00Z', '2024-11-13T04:30:00Z', '2024-11-13T04:35:00Z', '2024-11-13T04:40:00Z', '2024-11-13T04:45:00Z', '2024-11-13T04:50:00Z', '2024-11-13T04:53:00Z', '2024-11-13T04:55:00Z', '2024-11-13T05:00:00Z', '2024-11-13T05:05:00Z', '2024-11-13T05:10:00Z', '2024-11-13T05:15:00Z', '2024-11-13T05:20:00Z', '2024-11-13T05:25:00Z', '2024-11-13T05:30:00Z', '2024-11-13T05:35:00Z', '2024-11-13T05:40:00Z', '2024-11-13T05:45:00Z', '2024-11-13T05:50:00Z', '2024-11-13T05:53:00Z', '2024-11-13T05:55:00Z', '2024-11-13T06:00:00Z', '2024-11-13T06:05:00Z', '2024-11-13T06:10:00Z', '2024-11-13T06:15:00Z', '2024-11-13T06:20:00Z', '2024-11-13T06:25:00Z', '2024-11-13T06:30:00Z', '2024-11-13T06:35:00Z', '2024-11-13T06:40:00Z', '2024-11-13T06:45:00Z', '2024-11-13T06:50:00Z', '2024-11-13T06:53:00Z', '2024-11-13T06:55:00Z', '2024-11-13T07:00:00Z', '2024-11-13T07:05:00Z', '2024-11-13T07:10:00Z', '2024-11-13T07:15:00Z', '2024-11-13T07:20:00Z', '2024-11-13T07:25:00Z', '2024-11-13T07:30:00Z', '2024-11-13T07:35:00Z', '2024-11-13T07:40:00Z', '2024-11-13T07:45:00Z', '2024-11-13T07:50:00Z', '2024-11-13T07:53:00Z', '2024-11-13T07:55:00Z', '2024-11-13T08:00:00Z', '2024-11-13T08:05:00Z', '2024-11-13T08:10:00Z', '2024-11-13T08:15:00Z', '2024-11-13T08:20:00Z', '2024-11-13T08:25:00Z', '2024-11-13T08:30:00Z', '2024-11-13T08:35:00Z', '2024-11-13T08:40:00Z', '2024-11-13T08:45:00Z', '2024-11-13T08:50:00Z', '2024-11-13T08:53:00Z', '2024-11-13T08:55:00Z', '2024-11-13T09:00:00Z', '2024-11-13T09:05:00Z', '2024-11-13T09:10:00Z', '2024-11-13T09:15:00Z', '2024-11-13T09:20:00Z', '2024-11-13T09:25:00Z', '2024-11-13T09:30:00Z', '2024-11-13T09:35:00Z', '2024-11-13T09:40:00Z', '2024-11-13T09:45:00Z', '2024-11-13T09:50:00Z', '2024-11-13T09:53:00Z', '2024-11-13T09:55:00Z', '2024-11-13T10:00:00Z', '2024-11-13T10:05:00Z', '2024-11-13T10:10:00Z', '2024-11-13T10:15:00Z', '2024-11-13T10:20:00Z', '2024-11-13T10:25:00Z', '2024-11-13T10:30:00Z', '2024-11-13T10:35:00Z', '2024-11-13T10:40:00Z', '2024-11-13T10:45:00Z', '2024-11-13T10:50:00Z', '2024-11-13T10:53:00Z', '2024-11-13T10:55:00Z', '2024-11-13T11:00:00Z', '2024-11-13T11:05:00Z', '2024-11-13T11:10:00Z', '2024-11-13T11:15:00Z', '2024-11-13T11:20:00Z', '2024-11-13T11:25:00Z', '2024-11-13T11:30:00Z', '2024-11-13T11:35:00Z', '2024-11-13T11:40:00Z', '2024-11-13T11:45:00Z', '2024-11-13T11:50:00Z', '2024-11-13T11:53:00Z', '2024-11-13T11:55:00Z', '2024-11-13T12:00:00Z', '2024-11-13T12:05:00Z', '2024-11-13T12:10:00Z', '2024-11-13T12:15:00Z', '2024-11-13T12:20:00Z', '2024-11-13T12:25:00Z', '2024-11-13T12:30:00Z', '2024-11-13T12:35:00Z', '2024-11-13T12:40:00Z', '2024-11-13T12:45:00Z', '2024-11-13T12:50:00Z', '2024-11-13T12:53:00Z', '2024-11-13T12:55:00Z', '2024-11-13T13:00:00Z', '2024-11-13T13:05:00Z', '2024-11-13T13:10:00Z', '2024-11-13T13:15:00Z', '2024-11-13T13:20:00Z', '2024-11-13T13:25:00Z', '2024-11-13T13:30:00Z', '2024-11-13T13:35:00Z', '2024-11-13T13:40:00Z', '2024-11-13T13:45:00Z', '2024-11-13T13:50:00Z', '2024-11-13T13:53:00Z', '2024-11-13T13:55:00Z', '2024-11-13T14:00:00Z', '2024-11-13T14:05:00Z', '2024-11-13T14:10:00Z', '2024-11-13T14:15:00Z', '2024-11-13T14:20:00Z', '2024-11-13T14:25:00Z', '2024-11-13T14:30:00Z', '2024-11-13T14:35:00Z', '2024-11-13T14:40:00Z', '2024-11-13T14:45:00Z', '2024-11-13T14:50:00Z', '2024-11-13T14:53:00Z', '2024-11-13T14:55:00Z', '2024-11-13T15:00:00Z', '2024-11-13T15:05:00Z', '2024-11-13T15:10:00Z', '2024-11-13T15:15:00Z', '2024-11-13T15:20:00Z', '2024-11-13T15:25:00Z', '2024-11-13T15:30:00Z', '2024-11-13T15:35:00Z', '2024-11-13T15:40:00Z', '2024-11-13T15:45:00Z', '2024-11-13T15:50:00Z', '2024-11-13T15:53:00Z', '2024-11-13T15:55:00Z', '2024-11-13T16:00:00Z', '2024-11-13T16:05:00Z', '2024-11-13T16:10:00Z', '2024-11-13T16:15:00Z', '2024-11-13T16:20:00Z', '2024-11-13T16:25:00Z', '2024-11-13T16:30:00Z', '2024-11-13T16:35:00Z', '2024-11-13T16:40:00Z', '2024-11-13T16:45:00Z', '2024-11-13T16:50:00Z', '2024-11-13T16:53:00Z', '2024-11-13T16:55:00Z', '2024-11-13T17:00:00Z', '2024-11-13T17:05:00Z', '2024-11-13T17:10:00Z', '2024-11-13T17:15:00Z', '2024-11-13T17:20:00Z', '2024-11-13T17:25:00Z', '2024-11-13T17:30:00Z', '2024-11-13T17:35:00Z', '2024-11-13T17:40:00Z', '2024-11-13T17:45:00Z', '2024-11-13T17:50:00Z', '2024-11-13T17:53:00Z', '2024-11-13T17:55:00Z', '2024-11-13T18:00:00Z', '2024-11-13T18:05:00Z', '2024-11-13T18:10:00Z', '2024-11-13T18:15:00Z', '2024-11-13T18:20:00Z', '2024-11-13T18:25:00Z', '2024-11-13T18:30:00Z', '2024-11-13T18:35:00Z', '2024-11-13T18:40:00Z', '2024-11-13T18:45:00Z', '2024-11-13T18:50:00Z', '2024-11-13T18:53:00Z', '2024-11-13T18:55:00Z', '2024-11-13T19:00:00Z', '2024-11-13T19:05:00Z', '2024-11-13T19:10:00Z', '2024-11-13T19:15:00Z', '2024-11-13T19:20:00Z', '2024-11-13T19:25:00Z', '2024-11-13T19:30:00Z', '2024-11-13T19:35:00Z', '2024-11-13T19:40:00Z', '2024-11-13T19:45:00Z', '2024-11-13T19:50:00Z', '2024-11-13T19:53:00Z', '2024-11-13T19:55:00Z', '2024-11-13T20:00:00Z', '2024-11-13T20:05:00Z', '2024-11-13T20:10:00Z', '2024-11-13T20:15:00Z', '2024-11-13T20:20:00Z', '2024-11-13T20:25:00Z', '2024-11-13T20:30:00Z', '2024-11-13T20:35:00Z', '2024-11-13T20:40:00Z', '2024-11-13T20:45:00Z', '2024-11-13T20:50:00Z', '2024-11-13T20:53:00Z', '2024-11-13T20:55:00Z', '2024-11-13T21:00:00Z', '2024-11-13T21:05:00Z', '2024-11-13T21:10:00Z', '2024-11-13T21:15:00Z', '2024-11-13T21:20:00Z', '2024-11-13T21:25:00Z', '2024-11-13T21:30:00Z', '2024-11-13T21:35:00Z', '2024-11-13T21:40:00Z', '2024-11-13T21:45:00Z', '2024-11-13T21:50:00Z', '2024-11-13T21:53:00Z', '2024-11-13T21:55:00Z', '2024-11-13T22:00:00Z', '2024-11-13T22:05:00Z', '2024-11-13T22:10:00Z', '2024-11-13T22:15:00Z', '2024-11-13T22:20:00Z', '2024-11-13T22:25:00Z', '2024-11-13T22:30:00Z', '2024-11-13T22:35:00Z', '2024-11-13T22:40:00Z', '2024-11-13T22:45:00Z', '2024-11-13T22:50:00Z', '2024-11-13T22:53:00Z', '2024-11-13T22:55:00Z', '2024-11-13T23:00:00Z', '2024-11-13T23:05:00Z', '2024-11-13T23:10:00Z', '2024-11-13T23:15:00Z', '2024-11-13T23:20:00Z', '2024-11-13T23:25:00Z', '2024-11-13T23:30:00Z', '2024-11-13T23:35:00Z', '2024-11-13T23:40:00Z', '2024-11-13T23:45:00Z', '2024-11-13T23:50:00Z', '2024-11-13T23:53:00Z', '2024-11-13T23:55:00Z', '2024-11-14T00:00:00Z', '2024-11-14T00:05:00Z', '2024-11-14T00:10:00Z', '2024-11-14T00:15:00Z', '2024-11-14T00:20:00Z', '2024-11-14T00:25:00Z', '2024-11-14T00:30:00Z', '2024-11-14T00:35:00Z', '2024-11-14T00:40:00Z', '2024-11-14T00:45:00Z', '2024-11-14T00:50:00Z', '2024-11-14T00:53:00Z', '2024-11-14T00:55:00Z', '2024-11-14T01:00:00Z', '2024-11-14T01:05:00Z', '2024-11-14T01:10:00Z', '2024-11-14T01:13:00Z', '2024-11-14T01:15:00Z', '2024-11-14T01:20:00Z', '2024-11-14T01:25:00Z', '2024-11-14T01:30:00Z', '2024-11-14T01:35:00Z', '2024-11-14T01:40:00Z', '2024-11-14T01:45:00Z', '2024-11-14T01:50:00Z', '2024-11-14T01:53:00Z', '2024-11-14T01:55:00Z', '2024-11-14T02:00:00Z', '2024-11-14T02:05:00Z', '2024-11-14T02:10:00Z', '2024-11-14T02:11:00Z', '2024-11-14T02:15:00Z', '2024-11-14T02:20:00Z', '2024-11-14T02:25:00Z', '2024-11-14T02:26:00Z', '2024-11-14T02:30:00Z', '2024-11-14T02:35:00Z', '2024-11-14T02:40:00Z', '2024-11-14T02:45:00Z', '2024-11-14T02:48:00Z', '2024-11-14T02:50:00Z', '2024-11-14T02:53:00Z', '2024-11-14T02:55:00Z', '2024-11-14T03:00:00Z', '2024-11-14T03:05:00Z', '2024-11-14T03:10:00Z', '2024-11-14T03:15:00Z', '2024-11-14T03:20:00Z', '2024-11-14T03:25:00Z'], 'air_temp_set_1': [8.0, 8.0, 8.0, 8.0, 8.3, 8.0, 8.0, 8.0, 8.0, 8.0, 8.0, 8.0, 8.0, 8.0, 8.0, 8.0, 8.0, 8.3, 8.0, 8.0, 8.0, 8.0, 8.0, 8.0, 8.0, 8.0, 8.0, 8.0, 8.0, 7.0, 7.2, 7.0, 7.0, 7.0, 7.0, 7.0, 7.0, 7.2, 7.0, 7.0, 7.0, 7.0, 7.0, 7.0, 7.2, 7.0, 7.0, 7.0, 7.0, 7.0, 8.0, 8.0, 8.0, 8.0, 8.0, 8.0, 8.0, 7.8, 8.0, 7.0, 7.0, 7.0, 7.0, 7.0, 7.0, 7.0, 7.0, 7.0, 7.0, 7.0, 6.7, 7.0, 7.0, 7.0, 7.0, 7.0, 7.0, 7.0, 7.0, 9.0, 8.9, 9.0, 9.0, 9.0, 9.0, 8.9, 9.0, 9.0, 9.0, 9.0, 9.0, 9.0, 9.0, 9.0, 9.0, 9.0, 9.0, 9.0, 8.9, 9.0, 9.0, 9.0, 9.0, 9.0, 9.0, 9.0, 9.0, 9.0, 8.0, 8.0, 8.0, 8.3, 8.0, 8.0, 8.0, 8.0, 8.0, 8.0, 8.0, 8.0, 8.0, 8.0, 8.0, 8.0, 8.3, 8.0, 8.0, 8.0, 8.0, 8.0, 8.0, 8.0, 8.0, 8.0, 8.0, 8.0, 8.0, 8.3, 8.0, 8.0, 8.0, 8.0, 8.0, 8.0, 8.0, 8.0, 8.0, 8.0, 8.0, 8.0, 7.8, 8.0, 8.0, 8.0, 8.0, 8.0, 8.0, 8.0, 8.0, 8.0, 8.0, 8.0, 8.0, 8.3, 8.0, 8.0, 9.0, 9.0, 9.0, 8.0, 8.0, 9.0, 9.0, 8.0, 9.0, 8.0, 8.9, 9.0, 9.0, 8.0, 8.0, 8.0, 8.0, 8.0, 8.0, 8.9, 9.0, 9.0, 9.0, 9.0, 8.9, 9.0, 9.0, 9.0, 9.0, 8.0, 8.0, 9.0, 9.0, 9.0, 9.0, 9.0, 9.0, 9.4, 9.0, 9.0, 9.0, 9.0, 9.0, 10.0, 9.0, 9.0, 10.0, 10.0, 9.0, 9.0, 10.0, 10.0, 10.0, 9.0, 9.0, 9.0, 10.0, 10.0, 10.0, 10.0, 10.0, 10.0, 10.0, 10.0, 10.0, 10.0, 10.0, 10.0, 10.0, 10.0, 10.0, 10.0, 10.0, 10.0, 10.0, 10.0, 10.0, 10.0, 10.0, 10.0, 9.0, 9.0, 9.0, 9.0, 9.0, 9.0, 9.0, 9.0, 9.0, 9.4, 9.0, 9.0, 9.0, 9.0, 9.0, 9.0, 9.0, 9.0, 9.0, 9.0, 9.0, 9.0, 8.9, 9.0, 9.0, 9.0, 9.0, 9.0, 8.0, 9.0, 9.0, 9.0, 9.0, 9.0, 9.0, 8.9, 9.0, 8.0, 9.0, 9.0, 8.0, 8.0, 9.0, 8.0, 8.0, 8.0, 8.0, 8.0, 8.3, 8.0, 8.0, 8.0, 8.0, 8.0, 8.0, 8.0, 8.0, 8.0, 8.0, 8.0, 8.0, 7.8, 8.0, 8.0, 8.0, 8.0, 7.0, 8.0, 8.0, 7.0, 7.0, 8.0, 8.0, 7.0, 7.2, 7.0, 7.0, 7.0, 7.0, 7.0, 7.0, 7.0, 7.0, 7.0, 7.0, 7.0, 7.0, 6.7, 7.0, 7.0, 6.0, 7.0, 6.0, 6.0, 6.0, 6.0, 6.0, 6.0, 6.0, 6.0, 6.1, 6.0, 6.0, 6.0, 6.0, 6.0, 6.0, 6.0, 6.0, 6.0, 6.0, 6.0, 6.0, 5.6, 6.0, 6.0, 5.0, 5.0, 5.0, 5.0, 5.0, 5.0, 5.0, 5.0, 5.0, 5.0, 5.0, 5.0, 5.0, 5.0, 5.0, 5.0, 5.0, 4.0, 5.0, 4.0, 4.0, 4.0, 4.0, 4.4, 4.0, 4.0, 4.0, 4.0, 4.0, 4.0, 4.0, 4.0, 4.0, 4.0, 4.0, 4.0, 4.4, 4.0, 4.0, 4.0, 4.0, 5.0, 4.0, 5.0, 4.0, 4.0, 5.0, 5.0, 5.0, 5.0, 5.0, 5.0, 5.0, 6.0, 5.0, 5.0, 5.0, 5.0, 5.0, 5.0, 5.0, 5.0, 5.0, 5.0, 5.0, 5.0, 6.0, 6.0, 6.0, 6.0, 6.0, 6.0, 6.0, 6.0, 6.0, 5.6, 6.0, 6.0, 6.0, 6.0, 6.0, 6.0, 6.0, 6.0, 6.0, 6.0, 6.0, 6.0, 6.1, 6.0, 6.0, 7.0, 7.0, 7.0, 7.0, 7.0, 7.0, 7.0, 7.0, 7.0, 7.0, 7.2, 7.0, 7.0, 7.0, 7.0, 8.0, 8.0, 8.0, 8.0, 8.0, 8.0, 8.0, 9.0, 8.9, 9.0, 9.0, 9.0, 9.0, 9.0, 9.0, 9.0, 9.0, 9.0, 9.0, 9.0, 9.0, 9.4, 9.0, 9.0, 9.0, 9.0, 9.0, 9.0, 9.0, 9.0, 10.0, 10.0, 9.0, 10.0, 10.0, 10.0, 10.0, 10.0, 10.0, 10.0, 10.0, 10.0, 10.0, 10.0, 10.0, 10.0, 11.0, 10.0, 10.0, 10.0, 11.0, 11.0, 11.0, 11.0, 11.0, 11.0, 11.0, 11.0, 11.0, 11.0, 11.1, 11.0, 11.0, 11.0, 12.0, 12.0, 12.0, 12.0, 12.0, 12.0, 12.0, 12.0, 12.0, 11.7, 12.0, 12.0, 12.0, 12.0, 12.0, 12.0, 12.0, 12.0, 12.0, 12.0, 12.0, 12.0, 11.7, 12.0, 12.0, 12.0, 12.0, 12.0, 12.0, 12.0, 12.0, 12.0, 12.0, 12.0, 12.0, 11.7, 12.0, 12.0, 12.0, 12.0, 11.0, 11.0, 11.0, 11.0, 11.0, 11.0, 11.0, 11.0, 10.6, 11.0, 11.0, 11.0, 11.0, 11.0, 10.0, 10.0, 10.0, 9.0, 9.0, 9.0, 9.0, 9.4, 9.0, 9.0, 9.0, 9.0, 9.4, 9.0, 9.0, 9.0, 9.0, 9.0, 9.0, 9.0, 9.0, 9.4, 9.0, 9.0, 9.0, 9.0, 9.4, 9.0, 9.0, 9.0, 9.4, 9.0, 9.0, 9.0, 9.0, 9.0, 9.0, 9.4, 9.0, 9.0, 9.0, 9.0, 9.0, 9.0, 9.0], 'relative_humidity_set_1': [56.99, 56.99, 56.99, 56.99, 55.84, 56.99, 56.99, 56.99, 56.99, 56.99, 61.27, 61.27, 61.27, 61.27, 61.27, 61.27, 61.27, 60.46, 61.27, 61.27, 61.27, 61.27, 61.27, 61.27, 61.27, 61.27, 61.27, 65.82, 65.82, 75.67, 73.59, 75.67, 75.67, 75.67, 75.67, 75.67, 75.67, 73.59, 75.67, 75.67, 75.67, 75.67, 75.67, 75.67, 76.24, 75.67, 75.67, 75.67, 75.67, 75.67, 70.68, 70.68, 70.68, 70.68, 70.68, 75.84, 70.68, 73.18, 70.68, 81.2, 81.2, 81.2, 81.2, 81.2, 81.2, 81.2, 75.67, 75.67, 75.67, 75.67, 78.9, 75.67, 75.67, 75.67, 75.67, 75.67, 75.67, 75.67, 75.67, 66.05, 65.56, 61.51, 61.51, 61.51, 61.51, 62.82, 61.51, 61.51, 57.25, 57.25, 57.25, 57.25, 57.25, 57.25, 61.51, 61.51, 61.51, 61.51, 58.06, 57.25, 57.25, 57.25, 61.51, 61.51, 61.51, 61.51, 61.51, 57.25, 61.27, 61.27, 61.27, 60.46, 61.27, 61.27, 61.27, 61.27, 61.27, 61.27, 61.27, 61.27, 61.27, 61.27, 61.27, 61.27, 60.46, 61.27, 61.27, 61.27, 65.82, 65.82, 61.27, 65.82, 61.27, 65.82, 61.27, 61.27, 65.82, 63.13, 65.82, 65.82, 65.82, 65.82, 65.82, 65.82, 61.27, 61.27, 65.82, 65.82, 65.82, 65.82, 65.31, 65.82, 61.27, 61.27, 65.82, 65.82, 65.82, 61.27, 61.27, 61.27, 61.27, 61.27, 61.27, 63.13, 61.27, 61.27, 61.51, 61.51, 57.25, 61.27, 61.27, 61.51, 61.51, 65.82, 61.51, 65.82, 60.61, 61.51, 61.51, 65.82, 61.27, 65.82, 65.82, 65.82, 65.82, 60.61, 61.51, 57.25, 57.25, 57.25, 60.61, 57.25, 57.25, 57.25, 57.25, 61.27, 61.27, 57.25, 57.25, 57.25, 61.51, 57.25, 61.51, 56.14, 57.25, 57.25, 57.25, 61.51, 57.25, 53.53, 57.25, 57.25, 53.53, 53.53, 61.51, 57.25, 53.92, 57.52, 53.53, 61.51, 61.51, 61.51, 57.52, 57.52, 57.52, 57.52, 57.52, 57.52, 57.52, 56.3, 57.52, 57.52, 57.52, 57.52, 57.52, 57.52, 57.52, 53.53, 57.52, 53.53, 53.53, 57.52, 53.92, 53.53, 57.52, 57.52, 61.51, 61.51, 61.51, 61.51, 61.51, 61.51, 61.51, 61.51, 61.51, 58.61, 61.51, 61.51, 61.51, 61.51, 61.51, 61.51, 61.51, 61.51, 61.51, 61.51, 61.51, 61.51, 60.61, 61.51, 61.51, 61.51, 61.51, 61.51, 65.82, 57.25, 57.25, 57.25, 57.25, 57.25, 57.25, 58.06, 57.25, 61.27, 57.25, 57.25, 61.27, 61.27, 57.25, 61.27, 61.27, 61.27, 61.27, 61.27, 58.32, 61.27, 61.27, 61.27, 61.27, 56.99, 56.99, 56.99, 56.99, 56.99, 56.99, 56.99, 56.99, 60.34, 61.27, 61.27, 61.27, 61.27, 65.6, 61.27, 61.27, 65.6, 65.6, 61.27, 56.99, 61.02, 60.19, 61.02, 61.02, 61.02, 61.02, 61.02, 61.02, 61.02, 61.02, 61.02, 61.02, 61.02, 61.02, 62.29, 61.02, 61.02, 65.37, 61.02, 65.37, 65.37, 65.37, 65.37, 65.37, 65.37, 65.37, 65.37, 64.92, 65.37, 65.37, 65.37, 65.37, 65.37, 65.37, 65.37, 65.37, 65.37, 65.37, 65.37, 65.37, 67.2, 65.37, 65.37, 70.06, 70.06, 70.06, 70.06, 70.06, 70.06, 70.06, 70.06, 70.06, 70.06, 70.06, 70.06, 70.06, 70.06, 70.06, 70.06, 70.06, 75.14, 70.06, 75.14, 75.14, 75.14, 75.14, 73.06, 75.14, 75.14, 75.14, 75.14, 75.14, 75.14, 75.14, 75.14, 75.14, 75.14, 75.14, 75.14, 73.06, 75.14, 75.14, 75.14, 75.14, 70.06, 75.14, 70.06, 75.14, 75.14, 70.06, 70.06, 70.06, 70.06, 70.06, 65.13, 65.13, 60.77, 65.13, 65.13, 65.13, 65.13, 65.13, 65.13, 65.13, 65.13, 67.07, 65.13, 65.13, 65.13, 60.77, 60.77, 60.77, 60.77, 60.77, 60.77, 60.77, 60.77, 60.77, 64.33, 60.77, 60.77, 60.77, 60.77, 65.37, 60.77, 65.37, 65.37, 60.77, 60.77, 65.37, 65.37, 62.14, 65.37, 65.37, 61.02, 61.02, 61.02, 61.02, 61.02, 61.02, 61.02, 61.02, 61.02, 61.02, 60.19, 61.02, 61.02, 61.02, 56.72, 56.99, 56.99, 56.99, 56.99, 56.99, 56.99, 56.99, 53.26, 53.62, 53.26, 57.25, 53.26, 53.26, 53.26, 57.25, 57.25, 57.25, 57.25, 57.25, 57.25, 57.25, 54.15, 57.25, 57.25, 57.25, 57.25, 57.25, 57.25, 57.25, 57.25, 53.53, 53.53, 57.25, 53.53, 53.92, 53.53, 53.53, 53.53, 53.53, 53.53, 53.53, 53.53, 53.53, 53.53, 53.53, 53.53, 53.81, 53.92, 53.53, 53.53, 53.81, 53.81, 53.81, 53.81, 53.81, 53.81, 53.81, 53.81, 53.81, 53.81, 54.22, 53.81, 53.81, 53.81, 50.37, 50.37, 50.37, 50.37, 54.08, 54.08, 54.08, 54.08, 54.08, 54.38, 54.08, 54.08, 54.08, 54.08, 54.08, 54.08, 54.08, 54.08, 54.08, 54.08, 54.08, 54.08, 54.38, 54.08, 54.08, 54.08, 54.08, 54.08, 54.08, 54.08, 54.08, 54.08, 54.08, 54.08, 54.08, 56.34, 58.03, 58.03, 58.03, 58.03, 66.49, 66.49, 66.49, 71.27, 71.27, 71.27, 71.27, 71.27, 71.19, 71.27, 71.27, 71.27, 71.27, 71.27, 76.18, 76.18, 76.18, 87.28, 87.28, 87.28, 87.28, 83.23, 87.28, 87.28, 87.28, 87.28, 83.23, 87.28, 87.28, 87.28, 87.28, 87.28, 87.28, 87.28, 87.28, 83.23, 87.28, 87.28, 87.28, 87.28, 86.14, 87.28, 87.28, 87.28, 86.14, 87.28, 87.28, 87.28, 93.45, 93.45, 93.45, 89.74, 93.45, 93.45, 93.45, 93.45, 93.45, 93.45, 93.45], 'wind_speed_set_1': [5.659, 5.144, 4.63, 5.659, 5.144, 6.173, 6.173, 5.144, 6.173, 7.202, 5.659, 6.173, 5.659, 5.659, 6.173, 5.144, 4.63, 4.63, 4.63, 4.116, 4.116, 4.63, 4.116, 4.63, 6.688, 6.688, 6.173, 7.202, 6.173, 5.659, 7.202, 7.202, 5.144, 4.63, 5.144, 4.63, 5.144, 5.144, 5.144, 4.63, 5.144, 4.116, 4.63, 4.63, 3.601, 3.601, 4.116, 4.116, 4.116, 5.144, 4.116, 5.659, 7.202, 5.659, 5.659, 4.63, 4.63, 3.601, 3.601, 4.116, 5.144, 4.116, 4.63, 4.116, 4.63, 4.116, 4.116, 4.116, 4.116, 4.116, 4.116, 4.116, 3.601, 3.087, 2.572, 3.087, 2.572, 2.572, 4.63, 5.659, 7.202, 6.688, 5.659, 7.202, 6.688, 6.173, 6.173, 6.688, 7.202, 6.688, 6.688, 5.144, 5.659, 5.659, 7.202, 5.659, 5.659, 5.659, 5.144, 4.63, 5.659, 5.659, 6.173, 4.63, 6.173, 5.659, 5.659, 6.688, 6.688, 6.173, 6.173, 6.688, 6.173, 5.144, 6.688, 5.659, 5.144, 6.173, 6.173, 5.144, 5.659, 5.659, 4.63, 5.144, 6.173, 5.659, 5.659, 7.202, 5.144, 6.688, 6.688, 5.659, 4.63, 6.688, 5.659, 6.173, 5.144, 6.688, 5.144, 5.659, 6.173, 5.144, 7.202, 6.688, 6.688, 5.144, 6.173, 5.659, 6.173, 6.173, 6.688, 6.688, 6.173, 5.659, 4.63, 5.659, 6.173, 6.688, 6.173, 6.173, 5.144, 5.659, 6.173, 5.659, 6.173, 5.144, 5.659, 6.688, 5.144, 6.173, 6.173, 6.688, 5.144, 5.659, 6.173, 5.659, 5.144, 5.144, 6.173, 5.144, 3.601, 5.659, 5.144, 4.63, 4.116, 3.601, 4.116, 4.116, 4.63, 3.601, 3.087, 5.144, 3.601, 4.116, 4.63, 4.63, 4.63, 4.116, 3.601, 5.144, 3.601, 3.087, 4.63, 2.572, 3.601, 4.116, 2.572, 2.572, None, 4.63, None, 3.087, 4.63, 4.116, 2.572, 5.144, 4.116, 4.63, 4.63, 3.601, 4.63, 4.116, 4.116, 4.116, 4.63, 2.572, 3.087, 4.63, 3.601, 4.63, 3.601, 4.116, 4.116, 4.116, 4.116, 5.144, 5.144, 4.63, 4.63, 5.144, 5.144, 5.144, 4.63, 4.116, 5.144, 3.601, 4.63, 4.116, 4.63, 4.63, 4.63, 4.63, 4.116, 4.116, 3.087, 2.572, 3.601, 2.572, 2.572, 3.087, 2.572, 2.572, 3.087, 2.572, 2.572, 2.572, 2.058, 2.572, 2.572, 2.058, 2.572, 2.572, 2.058, 2.058, 2.572, 2.572, 2.572, 3.087, 3.087, 3.087, 3.087, 3.601, 3.601, 4.116, 3.601, 3.601, 3.087, 3.601, 3.601, 4.63, 4.116, 4.116, 4.116, 4.63, 4.63, 5.144, 5.659, 6.173, 6.173, 6.173, 6.173, 5.144, 5.659, 6.173, 5.144, 4.116, 4.63, 6.173, 4.63, 5.144, 4.116, 4.116, 5.144, 5.659, 4.116, 5.144, 5.659, 6.173, 6.173, 6.173, 8.231, 6.688, 7.717, 6.173, 5.659, 5.659, 5.144, 5.659, 6.173, 5.659, 7.717, 6.173, 6.173, 7.202, 6.688, 6.688, 7.202, 6.688, 5.659, 7.202, 6.173, 6.173, 5.144, 5.144, 5.659, 5.659, 6.173, 5.659, 6.173, 6.173, 6.173, 6.688, 5.144, 5.144, 4.63, 5.144, 5.144, 5.659, 5.144, 6.173, 5.144, 5.659, 5.144, 4.63, 5.659, 5.144, 4.63, 5.144, 6.688, 4.63, 5.659, 4.63, 5.144, 4.63, 4.116, 4.63, 4.63, 4.116, 3.601, 4.116, 3.601, 3.601, 3.601, 4.116, 4.116, 3.087, 3.601, 3.087, 3.087, 3.087, 2.572, 2.572, 2.572, 2.058, 2.058, 2.572, 2.572, 3.087, 3.601, 3.601, 3.087, 3.087, 4.63, 4.116, 3.601, 3.601, 3.087, 3.601, 3.087, 3.601, 4.63, 5.144, 4.63, 4.116, 4.63, 4.116, 3.601, 3.601, 3.601, 3.087, 4.116, 3.601, 4.116, 3.601, 3.087, 3.087, 3.601, 4.116, 4.63, 4.116, 4.116, 4.63, 5.144, 4.116, 3.601, 3.087, 4.116, 4.116, 4.116, 4.116, 3.601, 3.601, 3.087, 3.601, 3.601, 3.601, 4.63, 3.601, 3.601, 4.63, 3.601, 4.116, 4.116, 5.144, 4.63, 5.659, 5.659, 7.717, 5.659, 5.659, 5.659, 4.63, 5.659, 5.144, 5.144, 5.144, 5.659, 5.659, 5.144, 5.144, 5.144, 4.63, 6.173, 4.63, 4.63, 6.173, 5.144, 4.116, 4.116, 6.173, 5.144, 4.63, 5.659, 5.659, 5.659, 5.659, 6.173, 6.688, 4.63, 6.688, 5.144, 5.659, 5.144, 5.144, 4.63, 5.659, 5.144, 4.116, 5.144, 4.116, 4.63, 5.144, 4.63, 4.63, 4.63, 4.63, 4.116, 5.144, 4.63, 5.144, 5.144, 4.116, 5.144, 5.144, 5.659, 5.659, 4.116, 3.601, 4.63, 4.63, 6.173, 5.144, 5.659, 4.116, 5.144, 5.144, 4.63, 4.116, 3.601, 3.087, 3.087, 4.116, 5.144, 5.144, 5.144, 4.63, 4.116, 4.63, 5.659, 4.63, 4.63, 5.144, 3.601, 3.601, 4.63, 4.116, 5.144, 5.144, 5.659, 4.116, 4.63, 4.116, 3.601, 5.659, 5.144, 4.63, 3.601, 4.63, 4.63, 4.63, 5.144, 4.116, 4.116, 4.63, 5.144, 4.63, 4.116, 3.601, 4.63, 4.116, 5.659, 5.659, 6.173, 5.659, 5.144, 5.144, 5.659, 5.144, 5.659, 4.63, 5.659, 5.144, 7.202, 6.688, 5.659, 8.231, 7.202, 5.659, 7.717, 4.63, 6.173, 4.63, 4.63, 5.144, 4.116, 4.63, 4.63, 4.116, 4.116, 3.601, 4.63, 3.601, 3.087, 2.058, 3.601, 3.601, 4.116, 3.087, 3.087, 2.572, 3.601, 4.63, 4.63, 4.63, 4.63, 4.116, 5.144, 4.63, 4.116, 3.087, 3.601, 3.601, 4.63, 4.116, 4.63, 5.144, 4.116, 4.116, 4.63, 5.144, 5.144], 'wind_direction_set_1': [360.0, 360.0, 360.0, 340.0, 360.0, 340.0, 350.0, 360.0, 360.0, 350.0, 360.0, 360.0, 350.0, 360.0, 360.0, 360.0, 360.0, 360.0, 360.0, 360.0, 360.0, 360.0, 360.0, 10.0, 360.0, 360.0, 350.0, 360.0, 10.0, 360.0, 360.0, 360.0, 360.0, 10.0, 360.0, 350.0, 350.0, 350.0, 350.0, 340.0, 340.0, 350.0, 350.0, 350.0, 350.0, 340.0, 340.0, 330.0, 340.0, 340.0, 360.0, 10.0, 30.0, 20.0, 20.0, 10.0, 10.0, 10.0, 340.0, 330.0, 330.0, 340.0, 340.0, 340.0, 340.0, 330.0, 330.0, 330.0, 320.0, 320.0, 330.0, 330.0, 320.0, 330.0, 350.0, 340.0, 340.0, 340.0, 50.0, 60.0, 70.0, 70.0, 60.0, 70.0, 70.0, 80.0, 60.0, 50.0, 70.0, 50.0, 50.0, 40.0, 40.0, 50.0, 60.0, 60.0, 50.0, 60.0, 70.0, 60.0, 60.0, 50.0, 50.0, 50.0, 60.0, 60.0, 60.0, 70.0, 70.0, 60.0, 60.0, 60.0, 60.0, 70.0, 60.0, 60.0, 80.0, 70.0, 70.0, 80.0, 80.0, 80.0, 80.0, 70.0, 60.0, 60.0, 60.0, 70.0, 70.0, 60.0, 70.0, 70.0, 70.0, 80.0, 80.0, 80.0, 70.0, 60.0, 80.0, 80.0, 90.0, 80.0, 80.0, 80.0, 90.0, 80.0, 90.0, 80.0, 70.0, 90.0, 80.0, 90.0, 100.0, 90.0, 100.0, 100.0, 100.0, 100.0, 90.0, 90.0, 100.0, 100.0, 100.0, 110.0, 120.0, 100.0, 100.0, 120.0, 120.0, 100.0, 90.0, 90.0, 70.0, 80.0, 90.0, 80.0, 70.0, 70.0, 110.0, 100.0, 80.0, 120.0, 100.0, 110.0, 90.0, 70.0, 100.0, 90.0, 60.0, 80.0, 80.0, 110.0, 90.0, 100.0, 90.0, 100.0, 90.0, 90.0, 70.0, 70.0, 90.0, 90.0, 90.0, 100.0, 90.0, 100.0, 100.0, 60.0, None, 90.0, None, 60.0, 90.0, 110.0, 80.0, 80.0, 70.0, 100.0, 80.0, 70.0, 80.0, 70.0, 80.0, 100.0, 90.0, 60.0, 50.0, 70.0, 100.0, 80.0, 90.0, 80.0, 90.0, 70.0, 80.0, 80.0, 80.0, 70.0, 80.0, 90.0, 90.0, 90.0, 100.0, 80.0, 90.0, 100.0, 80.0, 100.0, 90.0, 110.0, 90.0, 90.0, 90.0, 80.0, 90.0, 90.0, 80.0, 80.0, 100.0, 100.0, 100.0, 100.0, 100.0, 110.0, 110.0, 110.0, 110.0, 100.0, 110.0, 110.0, 100.0, 100.0, 120.0, 130.0, 120.0, 120.0, 130.0, 130.0, 120.0, 130.0, 130.0, 120.0, 120.0, 130.0, 130.0, 130.0, 120.0, 130.0, 120.0, 120.0, 130.0, 130.0, 130.0, 130.0, 130.0, 130.0, 120.0, 120.0, 120.0, 120.0, 110.0, 120.0, 120.0, 110.0, 110.0, 120.0, 120.0, 130.0, 120.0, 120.0, 130.0, 130.0, 130.0, 130.0, 130.0, 130.0, 130.0, 130.0, 130.0, 130.0, 130.0, 130.0, 130.0, 130.0, 130.0, 130.0, 130.0, 130.0, 130.0, 130.0, 120.0, 130.0, 120.0, 120.0, 130.0, 120.0, 120.0, 130.0, 120.0, 130.0, 130.0, 120.0, 130.0, 120.0, 120.0, 130.0, 120.0, 120.0, 120.0, 120.0, 120.0, 120.0, 130.0, 120.0, 130.0, 120.0, 120.0, 120.0, 120.0, 120.0, 120.0, 120.0, 120.0, 120.0, 120.0, 120.0, 120.0, 120.0, 120.0, 120.0, 120.0, 130.0, 130.0, 130.0, 130.0, 130.0, 120.0, 120.0, 130.0, 130.0, 130.0, 130.0, 120.0, 120.0, 120.0, 120.0, 120.0, 120.0, 120.0, 120.0, 130.0, 130.0, 120.0, 120.0, 110.0, 110.0, 110.0, 110.0, 110.0, 120.0, 110.0, 110.0, 120.0, 120.0, 120.0, 120.0, 120.0, 120.0, 130.0, 130.0, 130.0, 130.0, 130.0, 130.0, 130.0, 130.0, 130.0, 130.0, 130.0, 130.0, 130.0, 130.0, 130.0, 130.0, 130.0, 130.0, 130.0, 130.0, 120.0, 120.0, 130.0, 120.0, 130.0, 130.0, 120.0, 120.0, 120.0, 120.0, 120.0, 120.0, 130.0, 130.0, 130.0, 130.0, 130.0, 120.0, 120.0, 120.0, 130.0, 130.0, 130.0, 120.0, 130.0, 130.0, 120.0, 120.0, 130.0, 130.0, 130.0, 130.0, 140.0, 140.0, 130.0, 130.0, 140.0, 140.0, 140.0, 140.0, 130.0, 140.0, 150.0, 140.0, 130.0, 130.0, 150.0, 140.0, 130.0, 140.0, 150.0, 140.0, 150.0, 130.0, 130.0, 120.0, 130.0, 120.0, 110.0, 120.0, 120.0, 130.0, 140.0, 120.0, 120.0, 130.0, 140.0, 120.0, 120.0, 130.0, 120.0, 130.0, 130.0, 140.0, 150.0, 130.0, 120.0, 110.0, 120.0, 120.0, 130.0, 130.0, 130.0, 130.0, 120.0, 130.0, 120.0, 120.0, 130.0, 140.0, 130.0, 140.0, 140.0, 150.0, 150.0, 150.0, 130.0, 130.0, 130.0, 130.0, 150.0, 130.0, 140.0, 130.0, 120.0, 120.0, 120.0, 120.0, 140.0, 130.0, 140.0, 130.0, 140.0, 140.0, 150.0, 140.0, 130.0, 140.0, 150.0, 140.0, 140.0, 140.0, 120.0, 150.0, 140.0, 140.0, 140.0, 140.0, 160.0, 140.0, 140.0, 140.0, 130.0, 130.0, 130.0, 130.0, 130.0, 130.0, 130.0, 140.0, 140.0, 140.0, 140.0, 140.0, 140.0, 140.0, 130.0, 130.0, 140.0, 140.0, 140.0, 140.0, 140.0, 140.0, 150.0, 150.0, 160.0, 160.0, 150.0, 150.0, 150.0, 150.0, 140.0, 140.0, 140.0, 140.0, 130.0, 130.0, 130.0, 130.0, 130.0, 130.0, 140.0, 130.0, 140.0, 140.0, 140.0, 130.0, 120.0, 130.0, 130.0, 130.0, 120.0, 120.0, 120.0, 120.0, 110.0, 120.0, 120.0, 120.0, 120.0, 120.0, 120.0, 120.0, 120.0, 110.0, 110.0, 120.0, 110.0, 100.0, 110.0, 110.0, 110.0], 'air_temp_high_6_hour_set_1': [None, None, None, None, None, None, None, None, None, None, None, None, None, None, None, None, None, None, None, None, None, None, None, None, None, None, None, None, None, None, 8.9, None, None, None, None, None, None, None, None, None, None, None, None, None, None, None, None, None, None, None, None, None, None, None, None, None, None, None, None, None, None, None, None, None, None, None, None, None, None, None, None, None, None, None, None, None, None, None, None, None, None, None, None, None, None, None, None, None, None, None, None, None, None, None, None, None, None, None, None, None, None, None, None, None, None, None, None, None, None, None, None, 8.9, None, None, None, None, None, None, None, None, None, None, None, None, None, None, None, None, None, None, None, None, None, None, None, None, None, None, None, None, None, None, None, None, None, None, None, None, None, None, None, None, None, None, None, None, None, None, None, None, None, None, None, None, None, None, None, None, None, None, None, None, None, None, None, None, None, None, None, None, None, None, None, None, None, None, None, None, None, None, 9.4, None, None, None, None, None, None, None, None, None, None, None, None, None, None, None, None, None, None, None, None, None, None, None, None, None, None, None, None, None, None, None, None, None, None, None, None, None, None, None, None, None, None, None, None, None, None, None, None, None, None, None, None, None, None, None, None, None, None, None, None, None, None, None, None, None, None, None, None, None, None, None, None, None, None, None, None, None, 10.0, None, None, None, None, None, None, None, None, None, None, None, None, None, None, None, None, None, None, None, None, None, None, None, None, None, None, None, None, None, None, None, None, None, None, None, None, None, None, None, None, None, None, None, None, None, None, None, None, None, None, None, None, None, None, None, None, None, None, None, None, None, None, None, None, None, None, None, None, None, None, None, None, None, None, None, None, None, 9.4, None, None, None, None, None, None, None, None, None, None, None, None, None, None, None, None, None, None, None, None, None, None, None, None, None, None, None, None, None, None, None, None, None, None, None, None, None, None, None, None, None, None, None, None, None, None, None, None, None, None, None, None, None, None, None, None, None, None, None, None, None, None, None, None, None, None, None, None, None, None, None, None, None, None, None, None, None, 6.1, None, None, None, None, None, None, None, None, None, None, None, None, None, None, None, None, None, None, None, None, None, None, None, None, None, None, None, None, None, None, None, None, None, None, None, None, None, None, None, None, None, None, None, None, None, None, None, None, None, None, None, None, None, None, None, None, None, None, None, None, None, None, None, None, None, None, None, None, None, None, None, None, None, None, None, None, None, 10.0, None, None, None, None, None, None, None, None, None, None, None, None, None, None, None, None, None, None, None, None, None, None, None, None, None, None, None, None, None, None, None, None, None, None, None, None, None, None, None, None, None, None, None, None, None, None, None, None, None, None, None, None, None, None, None, None, None, None, None, None, None, None, None, None, None, None, None, None, None, None, None, None, None, None, None, None, None, 11.7, None, None, None, None, None, None, None, None, None, None, None, None, None, None, None, None, None, None, None, None, None, None, None, None, None, None, None, None, None, None, None, None, None, None, None, None, None, None, None, None, None, None, None, None, None, None, None, None, None, None], 'air_temp_high_24_hour_set_1': [None, None, None, None, None, None, None, None, None, None, None, None, None, None, None, None, None, None, None, None, None, None, None, None, None, None, None, None, None, None, 15.0, None, None, None, None, None, None, None, None, None, None, None, None, None, None, None, None, None, None, None, None, None, None, None, None, None, None, None, None, None, None, None, None, None, None, None, None, None, None, None, None, None, None, None, None, None, None, None, None, None, None, None, None, None, None, None, None, None, None, None, None, None, None, None, None, None, None, None, None, None, None, None, None, None, None, None, None, None, None, None, None, None, None, None, None, None, None, None, None, None, None, None, None, None, None, None, None, None, None, None, None, None, None, None, None, None, None, None, None, None, None, None, None, None, None, None, None, None, None, None, None, None, None, None, None, None, None, None, None, None, None, None, None, None, None, None, None, None, None, None, None, None, None, None, None, None, None, None, None, None, None, None, None, None, None, None, None, None, None, None, None, None, None, None, None, None, None, None, None, None, None, None, None, None, None, None, None, None, None, None, None, None, None, None, None, None, None, None, None, None, None, None, None, None, None, None, None, None, None, None, None, None, None, None, None, None, None, None, None, None, None, None, None, None, None, None, None, None, None, None, None, None, None, None, None, None, None, None, None, None, None, None, None, None, None, None, None, None, None, None, None, None, None, None, None, None, None, None, None, None, None, None, None, None, None, None, None, None, None, None, None, None, None, None, None, None, None, None, None, None, None, None, None, None, None, None, None, None, None, None, None, None, None, None, None, None, None, None, None, None, None, None, None, None, None, None, None, None, None, None, None, None, None, None, None, None, None, None, None, None, None, None, None, None, None, None, 10.0, None, None, None, None, None, None, None, None, None, None, None, None, None, None, None, None, None, None, None, None, None, None, None, None, None, None, None, None, None, None, None, None, None, None, None, None, None, None, None, None, None, None, None, None, None, None, None, None, None, None, None, None, None, None, None, None, None, None, None, None, None, None, None, None, None, None, None, None, None, None, None, None, None, None, None, None, None, None, None, None, None, None, None, None, None, None, None, None, None, None, None, None, None, None, None, None, None, None, None, None, None, None, None, None, None, None, None, None, None, None, None, None, None, None, None, None, None, None, None, None, None, None, None, None, None, None, None, None, None, None, None, None, None, None, None, None, None, None, None, None, None, None, None, None, None, None, None, None, None, None, None, None, None, None, None, None, None, None, None, None, None, None, None, None, None, None, None, None, None, None, None, None, None, None, None, None, None, None, None, None, None, None, None, None, None, None, None, None, None, None, None, None, None, None, None, None, None, None, None, None, None, None, None, None, None, None, None, None, None, None, None, None, None, None, None, None, None, None, None, None, None, None, None, None, None, None, None, None, None, None, None, None, None, None, None, None, None, None, None, None, None, None, None, None, None, None, None, None, None, None, None, None, None, None, None, None, None, None, None, None, None, None, None, None, None, None, None, None, None, None, None, None, None, None, None, None, None, None, None, None, None, None, None, None]}, 'QC_FLAGGED': False, 'RESTRICTED': False}], 'SUMMARY': {'NUMBER_OF_OBJECTS': 1, 'RESPONSE_CODE': 1, 'RESPONSE_MESSAGE': 'OK', 'METADATA_PARSE_TIME': '0.1 ms', 'METADATA_DB_QUERY_TIME': '881.7 ms', 'DATA_QUERY_TIME': '9.7 ms', 'QC_QUERY_TIME': '11.3 ms', 'DATA_PARSING_TIME': '9.9 ms', 'TOTAL_DATA_TIME': '31.0 ms', 'VERSION': 'v2.24.8'}, 'QC_SUMMARY': {'QC_CHECKS_APPLIED': ['sl_range_check'], 'TOTAL_OBSERVATIONS_FLAGGED': 0, 'PERCENT_OF_TOTAL_OBSERVATIONS_FLAGGED': 0.0}, 'UNITS': {'position': 'm', 'elevation': 'ft', 'air_temp': 'Celsius', 'relative_humidity': '%', 'wind_speed': 'm/s', 'wind_direction': 'Degrees', 'air_temp_high_6_hour': 'Celsius', 'air_temp_high_24_hour': 'Celsius'}}\n"
     ]
    }
   ],
   "source": [
    "client = NWSClient()\n",
    "station = StationID.MDW\n",
    "prior_days = 2\n",
    "\n",
    "start = datetime.now(tz=BASE_TZ) - timedelta(days=prior_days)\n",
    "end = datetime.now(tz=BASE_TZ)\n",
    "# Try getting observation data\n",
    "# res = client._request_observations(station, datetime.now(tz=BASE_TZ) - timedelta(days=prior_days), datetime.now(tz=BASE_TZ))\n",
    "url = TIME_SERIES_BASE\n",
    "params = {\n",
    "    \"radius\": \"kmdw,0\",\n",
    "    \"start\": start.astimezone(pytz.utc).strftime(\"%Y%m%d%H%M\"),\n",
    "    \"end\": end.astimezone(pytz.utc).strftime(\"%Y%m%d%H%M\"),\n",
    "    \"vars\": \"air_temp,wind_speed,wind_direction,relative_humidity,air_temp_high_6_hour,air_temp_high_24_hour\",\n",
    "    \"token\": PUBLIC_TOKEN,\n",
    "}\n",
    "response = requests.get(url, params=params)\n",
    "response.raise_for_status()\n",
    "res = response.json()\n",
    "\n",
    "print(res)\n",
    "json.dump(res, fp=(open('../tmp/observations.json', 'w')))"
   ]
  },
  {
   "cell_type": "code",
   "execution_count": 34,
   "metadata": {},
   "outputs": [
    {
     "data": {
      "text/plain": [
       "1"
      ]
     },
     "execution_count": 34,
     "metadata": {},
     "output_type": "execute_result"
    }
   ],
   "source": [
    "len(res[\"STATION\"])"
   ]
  },
  {
   "cell_type": "code",
   "execution_count": 9,
   "metadata": {},
   "outputs": [],
   "source": [
    "from urlpath import URL\n",
    "import requests\n",
    "from pprint import pprint\n",
    "\n",
    "# url = URL(\"https://api.weather.gov/products/1eae2f39-8187-42ad-ab00-1f212b40a93a\")\n",
    "url = URL(\"https://api.weather.gov/products/9c5a3929-9e59-46df-b406-a1aae6ca946c\")\n",
    "station = \"FNT\"\n",
    "url = URL(f\"https://forecast.weather.gov/product.php?site=DTX&issuedby={station}&product=CLI&format=CI&version=1&glossary=0\")\n",
    "\n",
    "response = requests.get(url)\n",
    "response.raise_for_status()\n",
    "print(response.text, file=open(\"../tmp/cli.html\", 'w'))"
   ]
  },
  {
   "cell_type": "code",
   "execution_count": 12,
   "metadata": {},
   "outputs": [
    {
     "name": "stdout",
     "output_type": "stream",
     "text": [
      "461\n",
      "559\n",
      "CLIFNT\n",
      "\n",
      "CLIMATE REPORT\n",
      "NATIONAL WEATHER SERVICE DETROIT/PONTIAC MI\n",
      "430 PM EST TUE NOV 12 2024\n",
      "\n",
      "...................................\n",
      "\n",
      "...THE FLINT MI CLIMATE SUMMARY FOR NOVEMBER 12 2024...\n",
      "VALID TODAY AS OF 0400 PM LOCAL TIME.\n",
      "\n",
      "CLIMATE NORMAL PERIOD 1991 TO 2020\n",
      "CLIMATE RECORD PERIOD 1921 TO 2024\n",
      "\n",
      "\n",
      "WEATHER ITEM   OBSERVED TIME   RECORD YEAR NORMAL DEPARTURE LAST\n",
      "                VALUE   (LST)  VALUE       VALUE  FROM      YEAR\n",
      "                                                  NORMAL\n",
      "...................................................................\n",
      "TEMPERATURE (F)\n",
      " TODAY\n",
      "  MAXIMUM         50        MM  68    1927  48      2       51\n",
      "                                      1964\n",
      "                                      2010\n",
      "  MINIMUM         35        MM   6    2019  32      3       30\n",
      "  AVERAGE         43                        40      3       41\n",
      "\n",
      "PRECIPITATION (IN)\n",
      "  TODAY            0.00          1.35 1992   0.08  -0.08     0.00\n",
      "  MONTH TO DATE    0.54                      0.96  -0.42     0.95\n",
      "  SINCE SEP 1      2.77                      6.63  -3.86     6.11\n",
      "  SINCE JAN 1     28.82                     28.77   0.05    31.69\n",
      "\n",
      "SNOWFALL (IN)\n",
      "  TODAY            0.0           1.4  1959   0.1   -0.1      0.0\n",
      "  MONTH TO DATE    0.0                       0.6   -0.6       T\n",
      "  SINCE SEP 1      0.0                       0.9   -0.9      1.1\n",
      "  SINCE JUL 1      0.0                       0.9   -0.9      1.1\n",
      "  SNOW DEPTH       0\n",
      "\n",
      "DEGREE DAYS\n",
      " HEATING\n",
      "  TODAY           22                        25     -3       24\n",
      "  MONTH TO DATE  114                       273   -159      254\n",
      "  SINCE SEP 1    498                       890   -392      734\n",
      "  SINCE JUL 1    518                       928   -410      761\n",
      "\n",
      " COOLING\n",
      "  TODAY            0                         0      0        0\n",
      "  MONTH TO DATE    2                         0      2        0\n",
      "  SINCE SEP 1     68                        61      7       82\n",
      "  SINCE JAN 1    703                       565    138      537\n",
      "...................................................................\n",
      "\n",
      "\n",
      "WIND (MPH)\n",
      "  HIGHEST WIND SPEED    MM   HIGHEST WIND DIRECTION    MM\n",
      "  HIGHEST GUST SPEED    MM   HIGHEST GUST DIRECTION    MM\n",
      "  AVERAGE WIND SPEED    MM\n",
      "\n",
      "\n",
      "SKY COVER\n",
      "  POSSIBLE SUNSHINE  MM\n",
      "  AVERAGE SKY COVER  MM\n",
      "\n",
      "\n",
      "WEATHER CONDITIONS\n",
      "THE FOLLOWING WEATHER WAS RECORDED TODAY.\n",
      "  NO SIGNIFICANT WEATHER WAS OBSERVED.\n",
      "\n",
      "\n",
      "RELATIVE HUMIDITY (PERCENT)\n",
      " HIGHEST    MM\n",
      " LOWEST     MM\n",
      " AVERAGE    MM\n",
      "\n",
      "..........................................................\n",
      "\n",
      "\n",
      "THE FLINT MI CLIMATE NORMALS FOR TOMORROW\n",
      "                         NORMAL    RECORD    YEAR\n",
      " MAXIMUM TEMPERATURE (F)   48        71      1989\n",
      " MINIMUM TEMPERATURE (F)   32         1      2019\n",
      "\n",
      "\n",
      "SUNRISE AND SUNSET\n",
      "NOVEMBER 12 2024......SUNRISE   724 AM EST   SUNSET   514 PM EST\n",
      "NOVEMBER 13 2024......SUNRISE   725 AM EST   SUNSET   513 PM EST\n",
      "\n",
      "\n",
      "-  INDICATES NEGATIVE NUMBERS.\n",
      "R  INDICATES RECORD WAS SET OR TIED.\n",
      "MM INDICATES DATA IS MISSING.\n",
      "T  INDICATES TRACE AMOUNT.\n",
      "\n",
      "\n",
      "\n",
      "\n",
      "$$\n"
     ]
    }
   ],
   "source": [
    "lines = response.text.splitlines()\n",
    "for i in range(len(lines) - 3):\n",
    "    match_start = (f\"CLI{station}\" in lines[i] and \"CLIMATE REPORT\" in lines[i+2] and \"NATIONAL WEATHER SERVICE\" in lines[i+3])\n",
    "    if match_start:\n",
    "        match_start_i = i\n",
    "        print(i)\n",
    "    match_end = \"$$\" in lines[i]\n",
    "    if match_end:\n",
    "        match_end_i = i\n",
    "        print(i)\n",
    "\n",
    "print(\"\\n\".join(lines[match_start_i:match_end_i+1]))"
   ]
  },
  {
   "cell_type": "code",
   "execution_count": null,
   "metadata": {},
   "outputs": [],
   "source": [
    "from src.nws import NWSClient\n",
    "from src.params import *\n",
    "from datetime import datetime, timedelta\n",
    "\n",
    "client = NWSClient()\n",
    "res = client.get_timeseries(StationID.AUS, start=datetime.now() - timedelta(days=2), end=datetime.now())\n",
    "\n",
    "res"
   ]
  },
  {
   "cell_type": "code",
   "execution_count": null,
   "metadata": {},
   "outputs": [],
   "source": [
    "res[\"STATION\"][0][\"OBSERVATIONS\"].keys()\n",
    "res[\"STATION\"][0][\"OBSERVATIONS\"][\"air_temp_set_1\"]"
   ]
  },
  {
   "cell_type": "code",
   "execution_count": null,
   "metadata": {},
   "outputs": [],
   "source": [
    "from src.nws import NWSClient\n",
    "from src.params import *\n",
    "\n",
    "client = NWSClient()\n",
    "client.get_all_cli_data(StationID.AUS)"
   ]
  },
  {
   "cell_type": "code",
   "execution_count": null,
   "metadata": {},
   "outputs": [],
   "source": [
    "client.get_all_cli_data(StationID.AUS)\n"
   ]
  },
  {
   "cell_type": "code",
   "execution_count": null,
   "metadata": {},
   "outputs": [],
   "source": [
    "from dataclasses import dataclass\n",
    "from datetime import datetime, date\n",
    "import re\n",
    "from typing import Optional\n",
    "from pprint import pprint\n",
    "\n",
    "@dataclass\n",
    "class ParsedCLIReport:\n",
    "    issuance_time: datetime\n",
    "    summary_date: date\n",
    "    product_code: str\n",
    "    product_name: str\n",
    "    issuing_office: str\n",
    "    max_temp: Optional[int] = None\n",
    "    max_temp_time: Optional[datetime] = None\n",
    "    min_temp: Optional[int] = None\n",
    "    min_temp_time: Optional[datetime] = None\n",
    "    avg_temp: Optional[int] = None\n",
    "    precipitation: Optional[float] = None\n",
    "    precipitation_month_to_date: Optional[float] = None\n",
    "    precipitation_since_sep_1: Optional[float] = None\n",
    "    precipitation_since_jan_1: Optional[float] = None\n",
    "    highest_wind_speed: Optional[int] = None\n",
    "    highest_wind_direction: Optional[str] = None\n",
    "    highest_gust_speed: Optional[int] = None\n",
    "    highest_gust_direction: Optional[str] = None\n",
    "    average_wind_speed: Optional[float] = None\n",
    "    average_sky_cover: Optional[float] = None\n",
    "    highest_humidity: Optional[int] = None\n",
    "    lowest_humidity: Optional[int] = None\n",
    "    average_humidity: Optional[int] = None\n",
    "    \n",
    "\n",
    "def _parse_product_text(product_text: str, issuance_time: datetime, product_code: str, product_name: str, issuing_office: str) -> ParsedCLIReport:\n",
    "    # Extract relevant sections using regular expressions\n",
    "\n",
    "    date_match = re.search(r\"THE AUSTIN BERGSTROM CLIMATE SUMMARY FOR (.+?)\\.\\.\\.\", product_text)\n",
    "\n",
    "    temp_pattern = re.compile(r\"\"\"\n",
    "        (MAXIMUM|MINIMUM|AVERAGE)\\s+         # Match the label (MAXIMUM, MINIMUM, AVERAGE)\n",
    "        (\\d+)\\s+                             # Match the observed value\n",
    "        (\\d{1,2}:\\d{2}\\s[APM]{2})?\\s*        # Match the time (optional for AVERAGE)\n",
    "        (\\d+)?\\s*                            # Match the record value (optional for AVERAGE)\n",
    "        (\\d{4})?\\s*                          # Match the record year (optional for AVERAGE)\n",
    "        (\\d+)?\\s*                            # Match the normal value (optional for AVERAGE)\n",
    "        ([+-]?\\d+)?\\s*                       # Match the departure from normal (optional for AVERAGE)\n",
    "        (\\d+)?                               # Match the last year value (optional for AVERAGE)\n",
    "    \"\"\", re.VERBOSE)\n",
    "\n",
    "    matches = temp_pattern.findall(product_text)\n",
    "\n",
    "    temp_data = {\n",
    "        \"max_temp\": None,\n",
    "        \"max_temp_time\": None,\n",
    "        \"min_temp\": None,\n",
    "        \"min_temp_time\": None,\n",
    "        \"avg_temp\": None,\n",
    "    }\n",
    "    \n",
    "\n",
    "    for match in matches:\n",
    "        label, observed_value, time, *_ = match\n",
    "        if label == \"MAXIMUM\":\n",
    "            temp_data[\"max_temp\"] = int(observed_value)\n",
    "            if time:\n",
    "                temp_data[\"max_temp_time\"] = datetime.strptime(f\"{date_match.group(1)} {time}\", \"%B %d %Y %I:%M %p\")\n",
    "        elif label == \"MINIMUM\":\n",
    "            temp_data[\"min_temp\"] = int(observed_value)\n",
    "            if time:\n",
    "                temp_data[\"min_temp_time\"] = datetime.strptime(f\"{date_match.group(1)} {time}\", \"%B %d %Y %I:%M %p\")\n",
    "        elif label == \"AVERAGE\":\n",
    "            temp_data[\"avg_temp\"] = int(observed_value)\n",
    "\n",
    "    # precip_pattern = re.compile(r\"\"\"\n",
    "    #     PRECIPITATION\\s+\\(IN\\)\\s+            # Match the PRECIPITATION header\n",
    "    #     (?:.*?\\n)+?                          # Non-greedy match to skip lines until labels\n",
    "    #     (YESTERDAY|TODAY|MONTH TO DATE|SINCE SEP 1|SINCE JAN 1)\\s+  # Match the label\n",
    "    #     (\\d+\\.\\d+)\\s+                                         # Match the observed value\n",
    "    #     (\\d+\\.\\d+)?\\s*                                        # Match the record value (optional)\n",
    "    #     (\\d{4})?\\s*                                           # Match the record year (optional)\n",
    "    #     (\\d+\\.\\d+)?\\s*                                        # Match the normal value (optional)\n",
    "    #     ([+-]?\\d+\\.\\d+)?\\s*                                   # Match the departure from normal (optional)\n",
    "    #     (\\d+\\.\\d+)?                                           # Match the last year value (optional)\n",
    "    # \"\"\", re.VERBOSE)\n",
    "\n",
    "    # matches = precip_pattern.findall(product_text)\n",
    "\n",
    "    # precipitation_data = {\n",
    "    #     \"day\": None,\n",
    "    #     \"month_to_date\": None,\n",
    "    #     \"since_sep_1\": None,\n",
    "    #     \"since_jan_1\": None\n",
    "    # }\n",
    "\n",
    "    # for match in matches:\n",
    "    #     label, observed_value, *_ = match\n",
    "    #     print(label, observed_value)\n",
    "    #     if label == \"YESTERDAY\" or label == \"TODAY\":\n",
    "    #         precipitation_data[\"day\"] = float(observed_value)\n",
    "    #     elif label == \"MONTH TO DATE\":\n",
    "    #         precipitation_data[\"month_to_date\"] = float(observed_value)\n",
    "    #     elif label == \"SINCE SEP 1\":\n",
    "    #         precipitation_data[\"since_sep_1\"] = float(observed_value)\n",
    "    #     elif label == \"SINCE JAN 1\":\n",
    "    #         precipitation_data[\"since_jan_1\"] = float(observed_value)\n",
    "\n",
    "    highest_wind_speed_match = re.search(r\"HIGHEST WIND SPEED\\s+(\\d+)\", product_text)\n",
    "    highest_wind_direction_match = re.search(r\"HIGHEST WIND DIRECTION\\s+(\\w+)\", product_text)\n",
    "    highest_gust_speed_match = re.search(r\"HIGHEST GUST SPEED\\s+(\\d+)\", product_text)\n",
    "    highest_gust_direction_match = re.search(r\"HIGHEST GUST DIRECTION\\s+(\\w+)\", product_text)\n",
    "    average_wind_speed_match = re.search(r\"AVERAGE WIND SPEED\\s+(\\d+\\.\\d+)\", product_text)\n",
    "    average_sky_cover_match = re.search(r\"AVERAGE SKY COVER\\s+(\\d+\\.\\d+)\", product_text)\n",
    "    highest_humidity_match = re.search(r\"HIGHEST\\s+(\\d+)\", product_text)\n",
    "    lowest_humidity_match = re.search(r\"LOWEST\\s+(\\d+)\", product_text)\n",
    "    average_humidity_match = re.search(r\"AVERAGE\\s+(\\d+)\", product_text)\n",
    "\n",
    "    # Convert date and time strings to date and datetime objects\n",
    "    summary_date_obj = datetime.strptime(date_match.group(1), \"%B %d %Y\").date() if date_match else None\n",
    "\n",
    "    return ParsedCLIReport(\n",
    "        issuance_time=issuance_time,\n",
    "        summary_date=summary_date_obj,\n",
    "        max_temp=temp_data[\"max_temp\"],\n",
    "        max_temp_time=temp_data[\"max_temp_time\"],\n",
    "        min_temp=temp_data[\"min_temp\"],\n",
    "        min_temp_time=temp_data[\"min_temp_time\"],\n",
    "        avg_temp=temp_data[\"avg_temp\"],\n",
    "        # precipitation=precipitation_data[\"day\"],\n",
    "        # precipitation_month_to_date=precipitation_data[\"month_to_date\"],\n",
    "        # precipitation_since_sep_1=precipitation_data[\"since_sep_1\"],\n",
    "        # precipitation_since_jan_1=precipitation_data[\"since_jan_1\"],\n",
    "        highest_wind_speed=int(highest_wind_speed_match.group(1)) if highest_wind_speed_match else None,\n",
    "        highest_wind_direction=highest_wind_direction_match.group(1) if highest_wind_direction_match else None,\n",
    "        highest_gust_speed=int(highest_gust_speed_match.group(1)) if highest_gust_speed_match else None,\n",
    "        highest_gust_direction=highest_gust_direction_match.group(1) if highest_gust_direction_match else None,\n",
    "        average_wind_speed=float(average_wind_speed_match.group(1)) if average_wind_speed_match else None,\n",
    "        average_sky_cover=float(average_sky_cover_match.group(1)) if average_sky_cover_match else None,\n",
    "        highest_humidity=int(highest_humidity_match.group(1)) if highest_humidity_match else None,\n",
    "        lowest_humidity=int(lowest_humidity_match.group(1)) if lowest_humidity_match else None,\n",
    "        average_humidity=int(average_humidity_match.group(1)) if average_humidity_match else None,\n",
    "        product_code=product_code,\n",
    "        product_name=product_name,\n",
    "        issuing_office=issuing_office\n",
    "    )\n",
    "\n",
    "def parse_json(json_data: dict) -> ParsedCLIReport:\n",
    "    issuance_time = datetime.fromisoformat(json_data['issuanceTime'])\n",
    "    product_code = json_data['productCode']\n",
    "    product_name = json_data['productName']\n",
    "    issuing_office = json_data['issuingOffice']\n",
    "    product_text = json_data['productText']\n",
    "\n",
    "    # print(product_text)\n",
    "    parsed_report = _parse_product_text(product_text, issuance_time, product_code, product_name, issuing_office)\n",
    "\n",
    "    return parsed_report\n",
    "\n",
    "# Example usage\n",
    "import requests\n",
    "\n",
    "url = \"https://api.weather.gov/products/1eae2f39-8187-42ad-ab00-1f212b40a93a\"\n",
    "response = requests.get(url)\n",
    "response.raise_for_status()\n",
    "data = response.json()\n",
    "\n",
    "parsed_report = parse_json(data)\n",
    "pprint(parsed_report)"
   ]
  },
  {
   "cell_type": "code",
   "execution_count": null,
   "metadata": {},
   "outputs": [],
   "source": [
    "from datetime import datetime\n",
    "\n",
    "product_text = \"\"\"000\n",
    "CDUS44 KEWX 112332\n",
    "CLIAUS\n",
    "\n",
    "CLIMATE REPORT \n",
    "NATIONAL WEATHER SERVICE AUSTIN/SAN ANTONIO\n",
    "532 PM CST MON NOV 11 2024\n",
    "\n",
    "...................................\n",
    "\n",
    "...THE AUSTIN BERGSTROM CLIMATE SUMMARY FOR NOVEMBER 11 2024...\n",
    "VALID TODAY AS OF 0500 PM LOCAL TIME.\n",
    "\n",
    "CLIMATE NORMAL PERIOD: 1991 TO 2020\n",
    "CLIMATE RECORD PERIOD: 1943 TO 2024\n",
    "\n",
    "\n",
    "WEATHER ITEM   OBSERVED TIME   RECORD YEAR NORMAL DEPARTURE LAST      \n",
    "                VALUE   (LST)  VALUE       VALUE  FROM      YEAR     \n",
    "                                                  NORMAL           \n",
    "...................................................................\n",
    "TEMPERATURE (F)                                                          \n",
    " TODAY                                                               \n",
    "  MAXIMUM         85   3:49 PM  87    2015  73     12       62        \n",
    "  MINIMUM         54   7:01 AM  26    1950  48      6       54        \n",
    "                                      2011                           \n",
    "  AVERAGE         70                        61      9       58     \n",
    "\n",
    "PRECIPITATION (IN)                                                    \n",
    "  TODAY            0.00          1.91 1957   0.10  -0.10      T       \n",
    "  MONTH TO DATE    1.37                      1.21   0.16     0.76     \n",
    "  SINCE SEP 1      1.45                      8.49  -7.04     8.09     \n",
    "  SINCE JAN 1     28.09                     31.49  -3.40    24.07     \n",
    "\n",
    "SNOWFALL (IN)                                                              \n",
    "  TODAY            0.0                                                \n",
    "  MONTH TO DATE    0.0                                                \n",
    "  SINCE SEP 1      0.0                                                \n",
    "  SINCE JUL 1      0.0                                                \n",
    "  SNOW DEPTH       0                                                 \n",
    "\n",
    "DEGREE DAYS                                                           \n",
    " HEATING                                                              \n",
    "  TODAY            0                         6     -6        7        \n",
    "  MONTH TO DATE    6                        56    -50       52        \n",
    "  SINCE SEP 1     13                       101    -88      104        \n",
    "  SINCE JUL 1     13                       101    -88      104        \n",
    "\n",
    " COOLING                                                              \n",
    "  TODAY            5                         2      3        0        \n",
    "  MONTH TO DATE   89                        26     63       31        \n",
    "  SINCE SEP 1    934                       644    290      903        \n",
    "  SINCE JAN 1   3486                      2960    526     3477        \n",
    "...................................................................\n",
    "\n",
    "\n",
    "WIND (MPH)                                                            \n",
    "  HIGHEST WIND SPEED     9   HIGHEST WIND DIRECTION    NE (50)        \n",
    "  HIGHEST GUST SPEED    16   HIGHEST GUST DIRECTION     E (70)        \n",
    "  AVERAGE WIND SPEED     2.9                                        \n",
    "\n",
    "\n",
    "SKY COVER                                                             \n",
    "  AVERAGE SKY COVER 0.1                                                 \n",
    "\n",
    "\n",
    "WEATHER CONDITIONS                                                    \n",
    "THE FOLLOWING WEATHER WAS RECORDED TODAY.                             \n",
    "  NO SIGNIFICANT WEATHER WAS OBSERVED.                                  \n",
    "\n",
    "\n",
    "RELATIVE HUMIDITY (PERCENT)\n",
    " HIGHEST    97           5:00 AM                                      \n",
    " LOWEST     41           5:00 PM                                      \n",
    " AVERAGE    69                                                        \n",
    "\n",
    "..........................................................\n",
    "\n",
    "\n",
    "THE AUSTIN BERGSTROM CLIMATE NORMALS FOR TOMORROW\n",
    "                         NORMAL    RECORD    YEAR                     \n",
    " MAXIMUM TEMPERATURE (F)   73        87      1988                      \n",
    " MINIMUM TEMPERATURE (F)   48        26      1950                      \n",
    "\n",
    "\n",
    "SUNRISE AND SUNSET                                                    \n",
    "NOVEMBER 11 2024......SUNRISE   6:53 AM CST   SUNSET   5:36 PM CST     \n",
    "NOVEMBER 12 2024......SUNRISE   6:54 AM CST   SUNSET   5:35 PM CST     \n",
    "\n",
    "\n",
    "-  INDICATES NEGATIVE NUMBERS.\n",
    "R  INDICATES RECORD WAS SET OR TIED.\n",
    "MM INDICATES DATA IS MISSING.\n",
    "T  INDICATES TRACE AMOUNT.\n",
    "\n",
    "\n",
    "\n",
    "\n",
    "$$\"\"\"\n",
    "\n",
    "lines = [l.strip() for l in product_text.splitlines()]\n",
    "\n",
    "for line in lines:\n",
    "    \n",
    "\n",
    "issuance_time = datetime.strptime(lines[6], '%I%M %p %Z %a %b %d %Y')\n",
    "\n",
    "summary_date_str = \" \".join(lines[10].strip(\"...\").split()[-3:])\n",
    "summary_time_str = \" \".join(lines[11].split()[-4:-2])\n",
    "summary_datetime = datetime.strptime(f\"{summary_date_str} {summary_time_str}\", '%B %d %Y %I%M %p')\n",
    "\n",
    "temp_max_details = lines[23].split()\n",
    "temp_max = int(temp_max_details[1])\n",
    "temp_max_time = datetime.strptime(\" \".join(temp_max_details[2:4]), '%I:%M %p').time()\n",
    "temp_min_details = lines[24].split()\n",
    "temp_min = int(temp_min_details[1])\n",
    "temp_min_time = datetime.strptime(\" \".join(temp_min_details[2:4]), '%I:%M %p').time()\n",
    "\n",
    "precip_day = float(lines[29].split()[1])\n",
    "precip_month = float(lines[30].split()[1])\n",
    "precip_ = float(lines[31].split()[1])\n",
    "\n",
    "# print(\" \".join(lines[10].strip(\"...\").split(' ')[-3:]))\n",
    "# summary_date = datetime.strptime(lines[10].split(' ')[-1], '%b %d %Y').date()\n",
    "\n",
    "issuance_time, summary_datetime, temp_max, temp_max_time, temp_min, temp_min_time"
   ]
  },
  {
   "cell_type": "code",
   "execution_count": null,
   "metadata": {},
   "outputs": [],
   "source": [
    "from dataclasses import dataclass\n",
    "from datetime import datetime, date\n",
    "from typing import Optional\n",
    "\n",
    "@dataclass\n",
    "class ParsedCLIReport:\n",
    "    issuance_time: datetime\n",
    "    summary_date: date\n",
    "    product_code: str\n",
    "    product_name: str\n",
    "    issuing_office: str\n",
    "    max_temp: Optional[int] = None\n",
    "    max_temp_time: Optional[datetime] = None\n",
    "    min_temp: Optional[int] = None\n",
    "    min_temp_time: Optional[datetime] = None\n",
    "    avg_temp: Optional[int] = None\n",
    "    precipitation: Optional[float] = None\n",
    "    precipitation_month_to_date: Optional[float] = None\n",
    "    precipitation_since_sep_1: Optional[float] = None\n",
    "    precipitation_since_jan_1: Optional[float] = None\n",
    "    highest_wind_speed: Optional[int] = None\n",
    "    highest_wind_direction: Optional[str] = None\n",
    "    highest_gust_speed: Optional[int] = None\n",
    "    highest_gust_direction: Optional[str] = None\n",
    "    average_wind_speed: Optional[float] = None\n",
    "    average_sky_cover: Optional[float] = None\n",
    "    highest_humidity: Optional[int] = None\n",
    "    lowest_humidity: Optional[int] = None\n",
    "    average_humidity: Optional[int] = None\n",
    "\n",
    "    ['000',\n",
    " 'CDUS44 KEWX 112332',\n",
    " 'CLIAUS',\n",
    " '',\n",
    " 'CLIMATE REPORT ',\n",
    " 'NATIONAL WEATHER SERVICE AUSTIN/SAN ANTONIO',\n",
    " '532 PM CST MON NOV 11 2024',\n",
    " '',\n",
    " '...................................',\n",
    " '',\n",
    " '...THE AUSTIN BERGSTROM CLIMATE SUMMARY FOR NOVEMBER 11 2024...',\n",
    " 'VALID TODAY AS OF 0500 PM LOCAL TIME.',\n",
    " '',\n",
    " 'CLIMATE NORMAL PERIOD: 1991 TO 2020',\n",
    " 'CLIMATE RECORD PERIOD: 1943 TO 2024',\n",
    " '',\n",
    " '',\n",
    " 'WEATHER ITEM   OBSERVED TIME   RECORD YEAR NORMAL DEPARTURE LAST      ',\n",
    " '                VALUE   (LST)  VALUE       VALUE  FROM      YEAR     ',\n",
    " '                                                  NORMAL           ',\n",
    " '...................................................................',\n",
    " 'TEMPERATURE (F)                                                          ',\n",
    " ' TODAY                                                               ',\n",
    " '  MAXIMUM         85   3:49 PM  87    2015  73     12       62        ',\n",
    " '  MINIMUM         54   7:01 AM  26    1950  48      6       54        ',\n",
    " '                                      2011                           ',\n",
    " '  AVERAGE         70                        61      9       58     ',\n",
    " '',\n",
    " 'PRECIPITATION (IN)                                                    ',\n",
    " '  TODAY            0.00          1.91 1957   0.10  -0.10      T       ',\n",
    " '  MONTH TO DATE    1.37                      1.21   0.16     0.76     ',\n",
    " '  SINCE SEP 1      1.45                      8.49  -7.04     8.09     ',\n",
    " '  SINCE JAN 1     28.09                     31.49  -3.40    24.07     ',\n",
    " '',\n",
    " 'SNOWFALL (IN)                                                              ',\n",
    " '  TODAY            0.0                                                ',\n",
    " '  MONTH TO DATE    0.0                                                ',\n",
    " '  SINCE SEP 1      0.0                                                ',\n",
    " '  SINCE JUL 1      0.0                                                ',\n",
    " '  SNOW DEPTH       0                                                 ',\n",
    " '',\n",
    " 'DEGREE DAYS                                                           ',\n",
    " ' HEATING                                                              ',\n",
    " '  TODAY            0                         6     -6        7        ',\n",
    " '  MONTH TO DATE    6                        56    -50       52        ',\n",
    " '  SINCE SEP 1     13                       101    -88      104        ',\n",
    " '  SINCE JUL 1     13                       101    -88      104        ',\n",
    " '',\n",
    " ' COOLING                                                              ',\n",
    " '  TODAY            5                         2      3        0        ',\n",
    " '  MONTH TO DATE   89                        26     63       31        ',\n",
    " '  SINCE SEP 1    934                       644    290      903        ',\n",
    " '  SINCE JAN 1   3486                      2960    526     3477        ',\n",
    " '...................................................................',\n",
    " '',\n",
    " '',\n",
    " 'WIND (MPH)                                                            ',\n",
    " '  HIGHEST WIND SPEED     9   HIGHEST WIND DIRECTION    NE (50)        ',\n",
    " '  HIGHEST GUST SPEED    16   HIGHEST GUST DIRECTION     E (70)        ',\n",
    " '  AVERAGE WIND SPEED     2.9                                        ',\n",
    " '',\n",
    " '',\n",
    " 'SKY COVER                                                             ',\n",
    " '  AVERAGE SKY COVER 0.1                                                 ',\n",
    " '',\n",
    " '',\n",
    " 'WEATHER CONDITIONS                                                    ',\n",
    " 'THE FOLLOWING WEATHER WAS RECORDED TODAY.                             ',\n",
    " '  NO SIGNIFICANT WEATHER WAS OBSERVED.                                  ',\n",
    " '',\n",
    " '',\n",
    " 'RELATIVE HUMIDITY (PERCENT)',\n",
    " ' HIGHEST    97           5:00 AM                                      ',\n",
    " ' LOWEST     41           5:00 PM                                      ',\n",
    " ' AVERAGE    69                                                        ',\n",
    " '',\n",
    " '..........................................................',\n",
    " '',\n",
    " '',\n",
    " 'THE AUSTIN BERGSTROM CLIMATE NORMALS FOR TOMORROW',\n",
    " '                         NORMAL    RECORD    YEAR                     ',\n",
    " ' MAXIMUM TEMPERATURE (F)   73        87      1988                      ',\n",
    " ' MINIMUM TEMPERATURE (F)   48        26      1950                      ',\n",
    " '',\n",
    " '',\n",
    " 'SUNRISE AND SUNSET                                                    ',\n",
    " 'NOVEMBER 11 2024......SUNRISE   6:53 AM CST   SUNSET   5:36 PM CST     ',\n",
    " 'NOVEMBER 12 2024......SUNRISE   6:54 AM CST   SUNSET   5:35 PM CST     ',\n",
    " '',\n",
    " '',\n",
    " '-  INDICATES NEGATIVE NUMBERS.',\n",
    " 'R  INDICATES RECORD WAS SET OR TIED.',\n",
    " 'MM INDICATES DATA IS MISSING.',\n",
    " 'T  INDICATES TRACE AMOUNT.',\n",
    " '',\n",
    " '',\n",
    " '',\n",
    " '',\n",
    " '$$']\n",
    "\n",
    "\n",
    "def parse_product_text(product_text: str) -> ParsedCLIReport:\n",
    "    lines = product_text.splitlines()\n",
    "    pprint(lines)\n",
    "    \n",
    "    issuance_time = datetime.strptime(lines[6], '%I%M %p %Z %a %b %d %Y')\n",
    "    summary_date = datetime.strptime(lines[10].split(' ')[-1], '%b %d %Y').date()\n",
    "    product_code = lines[1].split(' ')[1]\n",
    "    product_name = lines[3].strip()\n",
    "    issuing_office = lines[5].strip()\n",
    "    \n",
    "    max_temp = int(lines[17].split()[1])\n",
    "    max_temp_time = datetime.strptime(lines[17].split()[2] + ' ' + lines[17].split()[3], '%I:%M %p')\n",
    "    min_temp = int(lines[18].split()[1])\n",
    "    min_temp_time = datetime.strptime(lines[18].split()[2] + ' ' + lines[18].split()[3], '%I:%M %p')\n",
    "    avg_temp = int(lines[19].split()[1])\n",
    "    \n",
    "    precipitation = float(lines[22].split()[1])\n",
    "    precipitation_month_to_date = float(lines[23].split()[2])\n",
    "    precipitation_since_sep_1 = float(lines[24].split()[2])\n",
    "    precipitation_since_jan_1 = float(lines[25].split()[2])\n",
    "    \n",
    "    highest_wind_speed = int(lines[30].split()[3])\n",
    "    highest_wind_direction = lines[30].split()[6]\n",
    "    highest_gust_speed = int(lines[31].split()[3])\n",
    "    highest_gust_direction = lines[31].split()[6]\n",
    "    average_wind_speed = float(lines[32].split()[3])\n",
    "    \n",
    "    average_sky_cover = float(lines[35].split()[3])\n",
    "    \n",
    "    highest_humidity = int(lines[41].split()[1])\n",
    "    lowest_humidity = int(lines[42].split()[1])\n",
    "    average_humidity = int(lines[43].split()[1])\n",
    "    \n",
    "    return ParsedCLIReport(\n",
    "        issuance_time=issuance_time,\n",
    "        summary_date=summary_date,\n",
    "        product_code=product_code,\n",
    "        product_name=product_name,\n",
    "        issuing_office=issuing_office,\n",
    "        max_temp=max_temp,\n",
    "        max_temp_time=max_temp_time,\n",
    "        min_temp=min_temp,\n",
    "        min_temp_time=min_temp_time,\n",
    "        avg_temp=avg_temp,\n",
    "        precipitation=precipitation,\n",
    "        precipitation_month_to_date=precipitation_month_to_date,\n",
    "        precipitation_since_sep_1=precipitation_since_sep_1,\n",
    "        precipitation_since_jan_1=precipitation_since_jan_1,\n",
    "        highest_wind_speed=highest_wind_speed,\n",
    "        highest_wind_direction=highest_wind_direction,\n",
    "        highest_gust_speed=highest_gust_speed,\n",
    "        highest_gust_direction=highest_gust_direction,\n",
    "        average_wind_speed=average_wind_speed,\n",
    "        average_sky_cover=average_sky_cover,\n",
    "        highest_humidity=highest_humidity,\n",
    "        lowest_humidity=lowest_humidity,\n",
    "        average_humidity=average_humidity\n",
    "    )\n",
    "\n",
    "product_text = \"\"\"000\n",
    "CDUS44 KEWX 112332\n",
    "CLIAUS\n",
    "\n",
    "CLIMATE REPORT \n",
    "NATIONAL WEATHER SERVICE AUSTIN/SAN ANTONIO\n",
    "532 PM CST MON NOV 11 2024\n",
    "\n",
    "...................................\n",
    "\n",
    "...THE AUSTIN BERGSTROM CLIMATE SUMMARY FOR NOVEMBER 11 2024...\n",
    "VALID TODAY AS OF 0500 PM LOCAL TIME.\n",
    "\n",
    "CLIMATE NORMAL PERIOD: 1991 TO 2020\n",
    "CLIMATE RECORD PERIOD: 1943 TO 2024\n",
    "\n",
    "\n",
    "WEATHER ITEM   OBSERVED TIME   RECORD YEAR NORMAL DEPARTURE LAST      \n",
    "                VALUE   (LST)  VALUE       VALUE  FROM      YEAR     \n",
    "                                                  NORMAL           \n",
    "...................................................................\n",
    "TEMPERATURE (F)                                                          \n",
    " TODAY                                                               \n",
    "  MAXIMUM         85   3:49 PM  87    2015  73     12       62        \n",
    "  MINIMUM         54   7:01 AM  26    1950  48      6       54        \n",
    "                                      2011                           \n",
    "  AVERAGE         70                        61      9       58     \n",
    "\n",
    "PRECIPITATION (IN)                                                    \n",
    "  TODAY            0.00          1.91 1957   0.10  -0.10      T       \n",
    "  MONTH TO DATE    1.37                      1.21   0.16     0.76     \n",
    "  SINCE SEP 1      1.45                      8.49  -7.04     8.09     \n",
    "  SINCE JAN 1     28.09                     31.49  -3.40    24.07     \n",
    "\n",
    "SNOWFALL (IN)                                                              \n",
    "  TODAY            0.0                                                \n",
    "  MONTH TO DATE    0.0                                                \n",
    "  SINCE SEP 1      0.0                                                \n",
    "  SINCE JUL 1      0.0                                                \n",
    "  SNOW DEPTH       0                                                 \n",
    "\n",
    "DEGREE DAYS                                                           \n",
    " HEATING                                                              \n",
    "  TODAY            0                         6     -6        7        \n",
    "  MONTH TO DATE    6                        56    -50       52        \n",
    "  SINCE SEP 1     13                       101    -88      104        \n",
    "  SINCE JUL 1     13                       101    -88      104        \n",
    "\n",
    " COOLING                                                              \n",
    "  TODAY            5                         2      3        0        \n",
    "  MONTH TO DATE   89                        26     63       31        \n",
    "  SINCE SEP 1    934                       644    290      903        \n",
    "  SINCE JAN 1   3486                      2960    526     3477        \n",
    "...................................................................\n",
    "\n",
    "\n",
    "WIND (MPH)                                                            \n",
    "  HIGHEST WIND SPEED     9   HIGHEST WIND DIRECTION    NE (50)        \n",
    "  HIGHEST GUST SPEED    16   HIGHEST GUST DIRECTION     E (70)        \n",
    "  AVERAGE WIND SPEED     2.9                                        \n",
    "\n",
    "\n",
    "SKY COVER                                                             \n",
    "  AVERAGE SKY COVER 0.1                                                 \n",
    "\n",
    "\n",
    "WEATHER CONDITIONS                                                    \n",
    "THE FOLLOWING WEATHER WAS RECORDED TODAY.                             \n",
    "  NO SIGNIFICANT WEATHER WAS OBSERVED.                                  \n",
    "\n",
    "\n",
    "RELATIVE HUMIDITY (PERCENT)\n",
    " HIGHEST    97           5:00 AM                                      \n",
    " LOWEST     41           5:00 PM                                      \n",
    " AVERAGE    69                                                        \n",
    "\n",
    "..........................................................\n",
    "\n",
    "\n",
    "THE AUSTIN BERGSTROM CLIMATE NORMALS FOR TOMORROW\n",
    "                         NORMAL    RECORD    YEAR                     \n",
    " MAXIMUM TEMPERATURE (F)   73        87      1988                      \n",
    " MINIMUM TEMPERATURE (F)   48        26      1950                      \n",
    "\n",
    "\n",
    "SUNRISE AND SUNSET                                                    \n",
    "NOVEMBER 11 2024......SUNRISE   6:53 AM CST   SUNSET   5:36 PM CST     \n",
    "NOVEMBER 12 2024......SUNRISE   6:54 AM CST   SUNSET   5:35 PM CST     \n",
    "\n",
    "\n",
    "-  INDICATES NEGATIVE NUMBERS.\n",
    "R  INDICATES RECORD WAS SET OR TIED.\n",
    "MM INDICATES DATA IS MISSING.\n",
    "T  INDICATES TRACE AMOUNT.\n",
    "\n",
    "\n",
    "\n",
    "\n",
    "$$\"\"\"\n",
    "\n",
    "parsed_report = parse_product_text(product_text)\n",
    "print(parsed_report)"
   ]
  },
  {
   "cell_type": "code",
   "execution_count": null,
   "metadata": {},
   "outputs": [],
   "source": [
    "from cfgrib import dataset, messages\n",
    "import os\n",
    "import xarray as xr\n",
    "\n",
    "from src.params import *\n",
    "\n",
    "data_fp = INPUTS_DIR / \"nam_218_20241006_0000_002.grb2\"\n",
    "\n",
    "def open_file(\n",
    "    path,\n",
    "    errors: str = \"warn\",\n",
    "    indexpath: str = messages.DEFAULT_INDEXPATH,\n",
    "    filter_by_keys = {},\n",
    "    read_keys= (),\n",
    "    time_dims= (\"time\", \"step\"),\n",
    "    extra_coords= {},\n",
    "    ignore_keys = [],\n",
    "    **kwargs,\n",
    "):\n",
    "    \"\"\"Open a GRIB file as a ``cfgrib.Dataset``.\"\"\"\n",
    "    path = os.fspath(path)\n",
    "    stream = messages.FileStream(path, errors=errors)\n",
    "    index_keys = dataset.compute_index_keys(time_dims, extra_coords)\n",
    "    index = dataset.open_fileindex(stream, indexpath, index_keys, ignore_keys=ignore_keys, filter_by_keys=filter_by_keys)\n",
    "    return index\n",
    "\n",
    "\n",
    "def enforce_unique_attributes(index, attributes_keys=dataset.DATA_ATTRIBUTES_KEYS, filter_by_keys={}):\n",
    "    attributes = {}\n",
    "    for key in attributes_keys:\n",
    "        values = index.get(key, [])\n",
    "        print(key)\n",
    "        print(values)\n",
    "        # if len(values) > 1:\n",
    "        #     fbks = []\n",
    "        #     for value in values:\n",
    "        #         fbk = {key: value}\n",
    "        #         fbk.update(filter_by_keys)\n",
    "        #         fbks.append(fbk)\n",
    "\n",
    "index = open_file(data_fp)\n",
    "enforce_unique_attributes(index, filter_by_keys={\"typeOfLevel\": \"surface\", \"stepType\": \"instant\"})"
   ]
  },
  {
   "cell_type": "code",
   "execution_count": null,
   "metadata": {},
   "outputs": [],
   "source": [
    "import xarray as xr\n",
    "\n",
    "from src.params import *\n",
    "\n",
    "# filter_by_keys={'typeOfLevel': 'meanSea'}\n",
    "# filter_by_keys={'typeOfLevel': 'hybrid'}\n",
    "# filter_by_keys={'typeOfLevel': 'atmosphereSingleLayer'}\n",
    "# filter_by_keys={'typeOfLevel': 'surface'}\n",
    "# filter_by_keys={'typeOfLevel': 'cloudTop'}\n",
    "# filter_by_keys={'typeOfLevel': 'planetaryBoundaryLayer'}\n",
    "# filter_by_keys={'typeOfLevel': 'isobaricInhPa'}\n",
    "# filter_by_keys={'typeOfLevel': 'heightAboveGround'}\n",
    "# filter_by_keys={'typeOfLevel': 'depthBelowLandLayer'}\n",
    "# filter_by_keys={'typeOfLevel': 'depthBelowLand'}\n",
    "# filter_by_keys={'typeOfLevel': 'lowestLevelWetBulb0'}\n",
    "# filter_by_keys={'typeOfLevel': 'isobaricLayer'}\n",
    "# filter_by_keys={'typeOfLevel': 'cloudBase'}\n",
    "# filter_by_keys={'typeOfLevel': 'heightAboveGroundLayer'}\n",
    "# filter_by_keys={'typeOfLevel': 'tropopause'}\n",
    "# filter_by_keys={'typeOfLevel': 'maxWind'}\n",
    "# filter_by_keys={'typeOfLevel': 'isothermZero'}\n",
    "# filter_by_keys={'typeOfLevel': 'pressureFromGroundLayer'}\n",
    "# filter_by_keys={'typeOfLevel': 'sigmaLayer'}\n",
    "\n",
    "data_fp = INPUTS_DIR / \"nam_218_20241006_0000_002.grb2\"\n",
    "ds = xr.open_dataset(data_fp, engine=\"cfgrib\", filter_by_keys={\"typeOfLevel\": \"surface\"})"
   ]
  },
  {
   "cell_type": "code",
   "execution_count": null,
   "metadata": {},
   "outputs": [],
   "source": [
    "print(ds)"
   ]
  },
  {
   "cell_type": "code",
   "execution_count": null,
   "metadata": {},
   "outputs": [],
   "source": [
    "from timeit import timeit\n",
    "\n",
    "from src.params import *\n",
    "\n",
    "from src.nws import NWSClient\n",
    "\n",
    "first_time = timeit(lambda: NWSClient().get_location_info(NYC[0], NYC[1]), number=2)\n",
    "print(f\"First time: {first_time}\")\n",
    "\n",
    "client = NWSClient()\n",
    "client.get_location_info(NYC[0], NYC[1])\n",
    "\n",
    "second_time = timeit(lambda: client.get_location_info(NYC[0], NYC[1]), number=2)\n",
    "print(f\"Second time: {second_time}\")"
   ]
  },
  {
   "cell_type": "code",
   "execution_count": 1,
   "metadata": {},
   "outputs": [],
   "source": [
    "from pprint import pprint\n",
    "import requests\n",
    "\n",
    "from src.params import *\n",
    "from src.nws import NWSClient\n",
    "# intForecastFeatureFlags\n",
    "\n",
    "client = NWSClient()\n",
    "url = client.get_forecast_url(*NYC)\n",
    "res1 = requests.get(url).json()\n",
    "url = client.get_hourly_forecast_url(*NYC)\n",
    "res2 = requests.get(url).json()\n",
    "\n",
    "# max(res['properties']['periods']['temperature']['values'], key=lambda x: x['validTime'])\n",
    "# client.get_location_info(CENTRAL_PARK[0], CENTRAL_PARK[1])\n",
    "forecast = client.get_forecast_data(*NYC)\n",
    "hourly_forecast = client.get_hourly_forecast_data(*NYC)\n",
    "# pprint(client.get_hourly_forecast_data(*CENTRAL_PARK))\n",
    "\n",
    "# print(forecast)\n",
    "# pprint(res)"
   ]
  },
  {
   "cell_type": "code",
   "execution_count": null,
   "metadata": {},
   "outputs": [],
   "source": [
    "res1"
   ]
  },
  {
   "cell_type": "code",
   "execution_count": null,
   "metadata": {},
   "outputs": [],
   "source": [
    "pprint(forecast)"
   ]
  },
  {
   "cell_type": "code",
   "execution_count": null,
   "metadata": {},
   "outputs": [],
   "source": [
    "pprint(client.get_hourly_forecast_data(*NYC))"
   ]
  },
  {
   "cell_type": "code",
   "execution_count": null,
   "metadata": {},
   "outputs": [],
   "source": [
    "from urlpath import URL\n",
    "URL(\"https://api.weather.gov\") / \"points\" / \"39.7456,-97.0892\" / \"forecast\""
   ]
  },
  {
   "cell_type": "code",
   "execution_count": null,
   "metadata": {},
   "outputs": [],
   "source": [
    "lst = [\"ca\",\n",
    "\"co\",\n",
    "\"ct\",\n",
    "\"de\",\n",
    "\"hi\",\n",
    "\"il\",\n",
    "\"md\",\n",
    "\"ma\",\n",
    "\"nj\",\n",
    "\"nm\",\n",
    "\"ny\",\n",
    "\"or\",\n",
    "\"ri\",\n",
    "\"vt\",\n",
    "\"va\",\n",
    "\"wa\",]\n",
    "\n",
    "lst = [x.upper() for x in lst]\n",
    "print(lst)"
   ]
  }
 ],
 "metadata": {
  "kernelspec": {
   "display_name": "kalshi",
   "language": "python",
   "name": "python3"
  },
  "language_info": {
   "codemirror_mode": {
    "name": "ipython",
    "version": 3
   },
   "file_extension": ".py",
   "mimetype": "text/x-python",
   "name": "python",
   "nbconvert_exporter": "python",
   "pygments_lexer": "ipython3",
   "version": "3.10.15"
  }
 },
 "nbformat": 4,
 "nbformat_minor": 2
}
