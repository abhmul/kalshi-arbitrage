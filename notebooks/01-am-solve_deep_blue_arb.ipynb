{
 "cells": [
  {
   "cell_type": "code",
   "execution_count": 2,
   "metadata": {},
   "outputs": [],
   "source": [
    "# First setup client\n",
    "from pprint import pprint\n",
    "\n",
    "from src.client import ExchangeClient\n",
    "from src.request_utils import load_private_key_from_file"
   ]
  },
  {
   "cell_type": "code",
   "execution_count": 3,
   "metadata": {},
   "outputs": [
    {
     "name": "stdout",
     "output_type": "stream",
     "text": [
      "{'exchange_active': True, 'trading_active': True}\n"
     ]
    }
   ],
   "source": [
    "from src.params import *\n",
    "\n",
    "prod_private_key = load_private_key_from_file(KALSHI_KEY)\n",
    "exchange_client = ExchangeClient(exchange_api_base=PROD_API_BASE, key_id = API_ID, private_key = prod_private_key)\n",
    "\n",
    "# first we will check on the exchange status to confirm you are properly connected...\n",
    "print(exchange_client.get_exchange_status())"
   ]
  },
  {
   "cell_type": "code",
   "execution_count": 8,
   "metadata": {},
   "outputs": [
    {
     "data": {
      "text/plain": [
       "{'markets': [{'ticker': 'KXSTATEDEEPDJT-24-R',\n",
       "   'event_ticker': 'KXSTATEDEEPDJT-24-R',\n",
       "   'market_type': 'binary',\n",
       "   'title': 'Will Trump win a deep blue state?',\n",
       "   'subtitle': '',\n",
       "   'yes_sub_title': 'Yes',\n",
       "   'no_sub_title': 'Yes',\n",
       "   'open_time': '2024-10-25T14:00:00Z',\n",
       "   'close_time': '2025-11-05T15:00:00Z',\n",
       "   'expected_expiration_time': '2025-01-07T15:00:00Z',\n",
       "   'expiration_time': '2025-11-05T15:00:00Z',\n",
       "   'latest_expiration_time': '2025-11-05T15:00:00Z',\n",
       "   'settlement_timer_seconds': 300,\n",
       "   'status': 'active',\n",
       "   'response_price_units': 'usd_cent',\n",
       "   'notional_value': 100,\n",
       "   'tick_size': 1,\n",
       "   'yes_bid': 21,\n",
       "   'yes_ask': 24,\n",
       "   'no_bid': 76,\n",
       "   'no_ask': 79,\n",
       "   'last_price': 24,\n",
       "   'previous_yes_bid': 20,\n",
       "   'previous_yes_ask': 23,\n",
       "   'previous_price': 23,\n",
       "   'volume': 1218859,\n",
       "   'volume_24h': 490210,\n",
       "   'liquidity': 204415702,\n",
       "   'open_interest': 722794,\n",
       "   'result': '',\n",
       "   'can_close_early': True,\n",
       "   'expiration_value': '',\n",
       "   'category': 'Elections',\n",
       "   'risk_limit_cents': 0,\n",
       "   'rules_primary': 'If the Republican party wins any deep blue state in 2024, then the market resolves to Yes.',\n",
       "   'rules_secondary': 'The relevant states are: California, Colorado, Connecticut, Delaware, Hawaii, Illinois, Maryland, Massachusetts, New Jersey, New Mexico, New York, Oregon, Rhode Island, Vermont, Virginia, and Washington'}],\n",
       " 'cursor': ''}"
      ]
     },
     "execution_count": 8,
     "metadata": {},
     "output_type": "execute_result"
    }
   ],
   "source": [
    "# First get the trading prices for the deep-blue bet\n",
    "response = exchange_client.get_markets(series_ticker=\"KXSTATEDEEPDJT\")\n",
    "response"
   ]
  },
  {
   "cell_type": "code",
   "execution_count": 10,
   "metadata": {},
   "outputs": [
    {
     "data": {
      "text/plain": [
       "{'markets': [{'ticker': 'PRESPARTYCA-24-R',\n",
       "   'event_ticker': 'PRESPARTYCA-24',\n",
       "   'market_type': 'binary',\n",
       "   'title': 'Will the Republican party win California in the presidential election?',\n",
       "   'subtitle': ':: or another Republican',\n",
       "   'yes_sub_title': 'Donald Trump',\n",
       "   'no_sub_title': 'Donald Trump',\n",
       "   'open_time': '2024-10-11T14:00:00Z',\n",
       "   'close_time': '2025-11-05T15:00:00Z',\n",
       "   'expected_expiration_time': '2025-01-07T15:00:00Z',\n",
       "   'expiration_time': '2025-11-05T15:00:00Z',\n",
       "   'latest_expiration_time': '2025-11-05T15:00:00Z',\n",
       "   'settlement_timer_seconds': 14,\n",
       "   'status': 'active',\n",
       "   'response_price_units': 'usd_cent',\n",
       "   'notional_value': 100,\n",
       "   'tick_size': 1,\n",
       "   'yes_bid': 3,\n",
       "   'yes_ask': 4,\n",
       "   'no_bid': 96,\n",
       "   'no_ask': 97,\n",
       "   'last_price': 4,\n",
       "   'previous_yes_bid': 2,\n",
       "   'previous_yes_ask': 4,\n",
       "   'previous_price': 4,\n",
       "   'volume': 888325,\n",
       "   'volume_24h': 250975,\n",
       "   'liquidity': 460962894,\n",
       "   'open_interest': 622267,\n",
       "   'result': '',\n",
       "   'can_close_early': True,\n",
       "   'expiration_value': '',\n",
       "   'category': 'Elections',\n",
       "   'risk_limit_cents': 0,\n",
       "   'strike_type': 'custom',\n",
       "   'custom_strike': {'Candidate': 'Donald Trump', 'Party': 'Republican'},\n",
       "   'rules_primary': 'If Donald Trump or another representative of the Republican party wins California in the 2024 presidential election, then the market resolves to Yes.',\n",
       "   'rules_secondary': ''},\n",
       "  {'ticker': 'PRESPARTYCA-24-D',\n",
       "   'event_ticker': 'PRESPARTYCA-24',\n",
       "   'market_type': 'binary',\n",
       "   'title': 'Will the Democratic party win California in the presidential election?',\n",
       "   'subtitle': ':: or another Democrat',\n",
       "   'yes_sub_title': 'Kamala Harris',\n",
       "   'no_sub_title': 'Kamala Harris',\n",
       "   'open_time': '2024-10-11T14:00:00Z',\n",
       "   'close_time': '2025-11-05T15:00:00Z',\n",
       "   'expected_expiration_time': '2025-01-07T15:00:00Z',\n",
       "   'expiration_time': '2025-11-05T15:00:00Z',\n",
       "   'latest_expiration_time': '2025-11-05T15:00:00Z',\n",
       "   'settlement_timer_seconds': 14,\n",
       "   'status': 'active',\n",
       "   'response_price_units': 'usd_cent',\n",
       "   'notional_value': 100,\n",
       "   'tick_size': 1,\n",
       "   'yes_bid': 97,\n",
       "   'yes_ask': 98,\n",
       "   'no_bid': 2,\n",
       "   'no_ask': 3,\n",
       "   'last_price': 98,\n",
       "   'previous_yes_bid': 96,\n",
       "   'previous_yes_ask': 98,\n",
       "   'previous_price': 96,\n",
       "   'volume': 315861,\n",
       "   'volume_24h': 104470,\n",
       "   'liquidity': 492569720,\n",
       "   'open_interest': 232785,\n",
       "   'result': '',\n",
       "   'can_close_early': True,\n",
       "   'expiration_value': '',\n",
       "   'category': 'Elections',\n",
       "   'risk_limit_cents': 0,\n",
       "   'strike_type': 'custom',\n",
       "   'custom_strike': {'Candidate': 'Kamala Harris', 'Party': 'Democratic'},\n",
       "   'rules_primary': 'If Kamala Harris or another representative of the Democratic party wins California in the 2024 presidential election, then the market resolves to Yes.',\n",
       "   'rules_secondary': ''}],\n",
       " 'cursor': ''}"
      ]
     },
     "execution_count": 10,
     "metadata": {},
     "output_type": "execute_result"
    }
   ],
   "source": [
    "# TODO Use this to get the data for the other states\n",
    "response = exchange_client.get_markets(series_ticker=\"PRESPARTYCA\")\n",
    "response"
   ]
  },
  {
   "cell_type": "code",
   "execution_count": 8,
   "metadata": {},
   "outputs": [],
   "source": [
    "# Solver for the linear program\n",
    "import numpy as np\n",
    "from scipy.optimize import linprog\n",
    "\n",
    "from src.np_utils import enumerate_binary_inputs\n",
    "\n",
    "def make_event_matrix(n: int, probs: np.ndarray, fix_most_likely: int=0) -> np.ndarray:\n",
    "    # last event is product of first n-1 events\n",
    "    varying_events = n - 1 - fix_most_likely\n",
    "    event_mat = np.empty((2 ** varying_events, n), dtype=np.int8)\n",
    "    event_mat[:, :varying_events] = enumerate_binary_inputs(varying_events, dtype=event_mat.dtype)\n",
    "    event_mat[:, varying_events:-1] = 1\n",
    "    event_mat[:, -1] = np.prod(event_mat[:, :-1], axis=1)\n",
    "    # Now rearrange based on probabilities\n",
    "    # varying_events...n-1 are the most likely\n",
    "    # 0...varying_events-1 are the least likely\n",
    "    # Make a permutation to sort the columns\n",
    "    if fix_most_likely > 0:\n",
    "        prob_argsort = np.argsort(probs)\n",
    "        col_inds = np.argsort(prob_argsort)\n",
    "        event_mat[:, :-1] = event_mat[:, col_inds]\n",
    "    \n",
    "    return event_mat\n",
    "\n",
    "def make_bound_matrix(event_matrix: np.ndarray, cost_weights: np.ndarray) -> np.ndarray:\n",
    "    n = event_matrix.shape[1]\n",
    "    # Result should be 2^(n-1) x 2n\n",
    "    bound_matrix = np.empty((event_matrix.shape[0], 2*n), dtype=cost_weights.dtype)\n",
    "    bound_matrix[:, :n] = event_matrix - cost_weights[None, :n]\n",
    "    bound_matrix[:, n:] = 1 - event_matrix - cost_weights[None, n:]\n",
    "    return bound_matrix\n",
    "\n",
    "\n"
   ]
  },
  {
   "cell_type": "code",
   "execution_count": null,
   "metadata": {},
   "outputs": [],
   "source": [
    "# Test things out first\n",
    "n_events = 4\n",
    "min_profit_rate=0.625\n",
    "# cost_weights = np.full(n_events * 2, 0.3, dtype=np.float16)\n",
    "cost_weights = np.array([0.1, 0.1, 0.1, 0.5, 0.9, 0.9, 0.9, 0.5], dtype=np.float16) # Test for n_events = 4\n",
    "event_matrix = make_event_matrix(n_events)\n",
    "bound_matrix = make_bound_matrix(event_matrix, cost_weights)"
   ]
  },
  {
   "cell_type": "code",
   "execution_count": 100,
   "metadata": {},
   "outputs": [
    {
     "name": "stdout",
     "output_type": "stream",
     "text": [
      "[0.1 0.1 0.1 0.5 0.9 0.9 0.9 0.5]\n",
      "[[0 0 0 0]\n",
      " [0 0 1 0]\n",
      " [0 1 0 0]\n",
      " [0 1 1 0]\n",
      " [1 0 0 0]\n",
      " [1 0 1 0]\n",
      " [1 1 0 0]\n",
      " [1 1 1 1]]\n",
      "[[-0.1        -0.1        -0.1        -0.5         0.10000002  0.10000002\n",
      "   0.10000002  0.5       ]\n",
      " [-0.1        -0.1         0.9        -0.5         0.10000002  0.10000002\n",
      "  -0.9         0.5       ]\n",
      " [-0.1         0.9        -0.1        -0.5         0.10000002 -0.9\n",
      "   0.10000002  0.5       ]\n",
      " [-0.1         0.9         0.9        -0.5         0.10000002 -0.9\n",
      "  -0.9         0.5       ]\n",
      " [ 0.9        -0.1        -0.1        -0.5        -0.9         0.10000002\n",
      "   0.10000002  0.5       ]\n",
      " [ 0.9        -0.1         0.9        -0.5        -0.9         0.10000002\n",
      "  -0.9         0.5       ]\n",
      " [ 0.9         0.9        -0.1        -0.5        -0.9        -0.9\n",
      "   0.10000002  0.5       ]\n",
      " [ 0.9         0.9         0.9         0.5        -0.9        -0.9\n",
      "  -0.9        -0.5       ]]\n"
     ]
    }
   ],
   "source": [
    "print(cost_weights)\n",
    "print(event_matrix)\n",
    "print(bound_matrix)"
   ]
  },
  {
   "cell_type": "code",
   "execution_count": 101,
   "metadata": {},
   "outputs": [
    {
     "data": {
      "text/plain": [
       "'Optimization terminated successfully. (HiGHS Status 7: Optimal)'"
      ]
     },
     "execution_count": 101,
     "metadata": {},
     "output_type": "execute_result"
    }
   ],
   "source": [
    "res = linprog(\n",
    "    cost_weights, \n",
    "    A_ub=-bound_matrix, # Negative because this computes negative profit\n",
    "    b_ub=np.full(bound_matrix.shape[0], fill_value=-min_profit_rate), # Negative because we want to lower bound profit\n",
    "    A_eq=cost_weights[None, :],\n",
    "    b_eq=np.array([1], dtype=cost_weights.dtype),  # We are constrained to spending $1\n",
    "    bounds=(0, None)\n",
    ")\n",
    "\n",
    "res.message"
   ]
  },
  {
   "cell_type": "code",
   "execution_count": 102,
   "metadata": {},
   "outputs": [
    {
     "name": "stdout",
     "output_type": "stream",
     "text": [
      "[0.06249999 0.         1.56250005 0.        ]\n",
      "[ 0.06249999 -0.          0.          1.56250001]\n",
      "0.9999999999999999\n"
     ]
    }
   ],
   "source": [
    "yes = res.x[:n_events]\n",
    "no = res.x[n_events:]\n",
    "\n",
    "print(yes)\n",
    "print(no)\n",
    "print(res.fun)"
   ]
  },
  {
   "cell_type": "code",
   "execution_count": 103,
   "metadata": {},
   "outputs": [
    {
     "data": {
      "text/plain": [
       "np.float64(0.6250000000000001)"
      ]
     },
     "execution_count": 103,
     "metadata": {},
     "output_type": "execute_result"
    }
   ],
   "source": [
    "# Min profit achieved by solution\n",
    "guaranteed_profit_rate = np.min(bound_matrix @ res.x) / (cost_weights @ res.x)\n",
    "guaranteed_profit_rate"
   ]
  },
  {
   "cell_type": "code",
   "execution_count": 28,
   "metadata": {},
   "outputs": [],
   "source": [
    "# Now we test things out for real\n",
    "DEEP_BLUE_STATES = [\n",
    "    \"CA\",\n",
    "    \"CO\",\n",
    "    \"CT\",\n",
    "    \"DE\",\n",
    "    \"HI\",\n",
    "    \"IL\",\n",
    "    \"MD\",\n",
    "    \"MA\",\n",
    "    \"NJ\",\n",
    "    \"NM\",\n",
    "    \"NY\",\n",
    "    \"OR\",\n",
    "    \"RI\",\n",
    "    \"VT\",\n",
    "    \"VA\",\n",
    "    \"WA\",\n",
    "]\n",
    "DEEP_BLUE_STATE_TICKERS = [f\"PRESPARTY{abbr}-24\" for abbr in DEEP_BLUE_STATES]\n",
    "DEEP_BLUE_TICKER = \"KXSTATEDEEPDJT-24-R\""
   ]
  },
  {
   "cell_type": "code",
   "execution_count": 29,
   "metadata": {},
   "outputs": [
    {
     "name": "stdout",
     "output_type": "stream",
     "text": [
      "{'cursor': '',\n",
      " 'markets': [{'can_close_early': True,\n",
      "              'category': 'Elections',\n",
      "              'close_time': '2025-11-05T15:00:00Z',\n",
      "              'event_ticker': 'KXSTATEDEEPDJT-24-R',\n",
      "              'expected_expiration_time': '2025-01-07T15:00:00Z',\n",
      "              'expiration_time': '2025-11-05T15:00:00Z',\n",
      "              'expiration_value': '',\n",
      "              'last_price': 24,\n",
      "              'latest_expiration_time': '2025-11-05T15:00:00Z',\n",
      "              'liquidity': 203951240,\n",
      "              'market_type': 'binary',\n",
      "              'no_ask': 80,\n",
      "              'no_bid': 76,\n",
      "              'no_sub_title': 'Yes',\n",
      "              'notional_value': 100,\n",
      "              'open_interest': 730324,\n",
      "              'open_time': '2024-10-25T14:00:00Z',\n",
      "              'previous_price': 22,\n",
      "              'previous_yes_ask': 22,\n",
      "              'previous_yes_bid': 20,\n",
      "              'response_price_units': 'usd_cent',\n",
      "              'result': '',\n",
      "              'risk_limit_cents': 0,\n",
      "              'rules_primary': 'If the Republican party wins any deep blue '\n",
      "                               'state in 2024, then the market resolves to '\n",
      "                               'Yes.',\n",
      "              'rules_secondary': 'The relevant states are: California, '\n",
      "                                 'Colorado, Connecticut, Delaware, Hawaii, '\n",
      "                                 'Illinois, Maryland, Massachusetts, New '\n",
      "                                 'Jersey, New Mexico, New York, Oregon, Rhode '\n",
      "                                 'Island, Vermont, Virginia, and Washington',\n",
      "              'settlement_timer_seconds': 300,\n",
      "              'status': 'active',\n",
      "              'subtitle': '',\n",
      "              'tick_size': 1,\n",
      "              'ticker': 'KXSTATEDEEPDJT-24-R',\n",
      "              'title': 'Will Trump win a deep blue state?',\n",
      "              'volume': 1231346,\n",
      "              'volume_24h': 495280,\n",
      "              'yes_ask': 24,\n",
      "              'yes_bid': 20,\n",
      "              'yes_sub_title': 'Yes'}]}\n"
     ]
    },
    {
     "data": {
      "text/plain": [
       "(0.8, 0.24)"
      ]
     },
     "execution_count": 29,
     "metadata": {},
     "output_type": "execute_result"
    }
   ],
   "source": [
    "# Get the price for the deep blue bet\n",
    "response = exchange_client.get_markets(tickers=DEEP_BLUE_TICKER)\n",
    "# This is the price to buy \"No, DJT does not win any deep blue states\"\n",
    "db_kam = response['markets'][0]['no_ask'] / 100\n",
    "# This is the price to buy \"Yes, DJT does win some deep blue states\"\n",
    "db_trump = response['markets'][0]['yes_ask'] / 100\n",
    "\n",
    "pprint(response)\n",
    "db_kam, db_trump"
   ]
  },
  {
   "cell_type": "code",
   "execution_count": 30,
   "metadata": {},
   "outputs": [
    {
     "name": "stdout",
     "output_type": "stream",
     "text": [
      "CA: Kamala Harris: 0.97 Trump: 0.04\n",
      "CO: Kamala Harris: 0.95 Trump: 0.06\n",
      "CT: Kamala Harris: 0.97 Trump: 0.05\n",
      "DE: Kamala Harris: 0.97 Trump: 0.04\n",
      "HI: Kamala Harris: 0.96 Trump: 0.06\n",
      "IL: Kamala Harris: 0.96 Trump: 0.06\n",
      "MD: Kamala Harris: 0.97 Trump: 0.05\n",
      "MA: Kamala Harris: 0.98 Trump: 0.04\n",
      "NJ: Kamala Harris: 0.95 Trump: 0.07\n",
      "NM: Kamala Harris: 0.9 Trump: 0.11\n",
      "NY: Kamala Harris: 0.96 Trump: 0.05\n",
      "OR: Kamala Harris: 0.96 Trump: 0.06\n",
      "RI: Kamala Harris: 0.97 Trump: 0.05\n",
      "VT: Kamala Harris: 0.98 Trump: 0.04\n",
      "VA: Kamala Harris: 0.88 Trump: 0.13\n",
      "WA: Kamala Harris: 0.97 Trump: 0.04\n"
     ]
    }
   ],
   "source": [
    "# Get the price for the deep blue bet\n",
    "kam_state_prices = []\n",
    "trump_state_prices = []\n",
    "for state, ticker in zip(DEEP_BLUE_STATES, DEEP_BLUE_STATE_TICKERS):\n",
    "    response_d = exchange_client.get_markets(tickers=f\"{ticker}-D\")\n",
    "    response_r = exchange_client.get_markets(tickers=f\"{ticker}-R\")\n",
    "    # This is the price to buy \"Yes, Kamala Harris wins this state\"\n",
    "    kam_price = min(response_d['markets'][0]['yes_ask'] / 100, response_r['markets'][0]['no_ask'] / 100)\n",
    "    # This is the price to buy \"Yes, DJT does win some deep blue states\"\n",
    "    trump_price = min(response_d['markets'][0]['no_ask'] / 100, response_r['markets'][0]['yes_ask'] / 100)\n",
    "\n",
    "    # pprint(response)\n",
    "    kam_state_prices.append(kam_price)\n",
    "    trump_state_prices.append(trump_price)\n",
    "\n",
    "for state, kam_price, trump_price in zip(DEEP_BLUE_STATES, kam_state_prices, trump_state_prices):\n",
    "    print(f\"{state}: Kamala Harris: {kam_price} Trump: {trump_price}\")\n",
    "\n"
   ]
  },
  {
   "cell_type": "code",
   "execution_count": 81,
   "metadata": {},
   "outputs": [
    {
     "name": "stdout",
     "output_type": "stream",
     "text": [
      "Number of events: 17\n",
      "Cost Weights: [0.97 0.95 0.97 0.97 0.96 0.96 0.97 0.98 0.95 0.9  0.96 0.96 0.97 0.98\n",
      " 0.88 0.97 0.8  0.04 0.06 0.05 0.04 0.06 0.06 0.05 0.04 0.07 0.11 0.05\n",
      " 0.06 0.05 0.04 0.13 0.04 0.24]\n",
      "Min profit rate: 0.0306\n",
      "Event Matrix Shape: (8192, 17)\n",
      "Event Matrix First Rows: [[0 0 0 0 0 0 0 1 0 0 0 0 0 1 0 1 0]\n",
      " [0 0 0 0 0 0 0 1 0 0 0 0 1 1 0 1 0]\n",
      " [0 0 0 0 0 0 1 1 0 0 0 0 0 1 0 1 0]\n",
      " [0 0 0 0 0 0 1 1 0 0 0 0 1 1 0 1 0]\n",
      " [0 0 0 1 0 0 0 1 0 0 0 0 0 1 0 1 0]\n",
      " [0 0 0 1 0 0 0 1 0 0 0 0 1 1 0 1 0]\n",
      " [0 0 0 1 0 0 1 1 0 0 0 0 0 1 0 1 0]\n",
      " [0 0 0 1 0 0 1 1 0 0 0 0 1 1 0 1 0]\n",
      " [0 0 1 0 0 0 0 1 0 0 0 0 0 1 0 1 0]\n",
      " [0 0 1 0 0 0 0 1 0 0 0 0 1 1 0 1 0]]\n",
      "Event Matrix Dtype: int8\n",
      "Bound Matrix Shape: (8192, 34)\n",
      "Bound Matrix First Rows: [[-0.97    -0.95    -0.97    -0.97    -0.96    -0.96    -0.97     0.02002\n",
      "  -0.95    -0.9     -0.96    -0.96    -0.97     0.02002 -0.88     0.02979\n",
      "  -0.8      0.96     0.94     0.95     0.96     0.94     0.94     0.95\n",
      "  -0.04     0.93     0.89     0.95     0.94     0.95    -0.04     0.87\n",
      "  -0.04     0.76   ]\n",
      " [-0.97    -0.95    -0.97    -0.97    -0.96    -0.96    -0.97     0.02002\n",
      "  -0.95    -0.9     -0.96    -0.96     0.02979  0.02002 -0.88     0.02979\n",
      "  -0.8      0.96     0.94     0.95     0.96     0.94     0.94     0.95\n",
      "  -0.04     0.93     0.89     0.95     0.94    -0.05    -0.04     0.87\n",
      "  -0.04     0.76   ]\n",
      " [-0.97    -0.95    -0.97    -0.97    -0.96    -0.96     0.02979  0.02002\n",
      "  -0.95    -0.9     -0.96    -0.96    -0.97     0.02002 -0.88     0.02979\n",
      "  -0.8      0.96     0.94     0.95     0.96     0.94     0.94    -0.05\n",
      "  -0.04     0.93     0.89     0.95     0.94     0.95    -0.04     0.87\n",
      "  -0.04     0.76   ]\n",
      " [-0.97    -0.95    -0.97    -0.97    -0.96    -0.96     0.02979  0.02002\n",
      "  -0.95    -0.9     -0.96    -0.96     0.02979  0.02002 -0.88     0.02979\n",
      "  -0.8      0.96     0.94     0.95     0.96     0.94     0.94    -0.05\n",
      "  -0.04     0.93     0.89     0.95     0.94    -0.05    -0.04     0.87\n",
      "  -0.04     0.76   ]\n",
      " [-0.97    -0.95    -0.97     0.02979 -0.96    -0.96    -0.97     0.02002\n",
      "  -0.95    -0.9     -0.96    -0.96    -0.97     0.02002 -0.88     0.02979\n",
      "  -0.8      0.96     0.94     0.95    -0.04     0.94     0.94     0.95\n",
      "  -0.04     0.93     0.89     0.95     0.94     0.95    -0.04     0.87\n",
      "  -0.04     0.76   ]\n",
      " [-0.97    -0.95    -0.97     0.02979 -0.96    -0.96    -0.97     0.02002\n",
      "  -0.95    -0.9     -0.96    -0.96     0.02979  0.02002 -0.88     0.02979\n",
      "  -0.8      0.96     0.94     0.95    -0.04     0.94     0.94     0.95\n",
      "  -0.04     0.93     0.89     0.95     0.94    -0.05    -0.04     0.87\n",
      "  -0.04     0.76   ]\n",
      " [-0.97    -0.95    -0.97     0.02979 -0.96    -0.96     0.02979  0.02002\n",
      "  -0.95    -0.9     -0.96    -0.96    -0.97     0.02002 -0.88     0.02979\n",
      "  -0.8      0.96     0.94     0.95    -0.04     0.94     0.94    -0.05\n",
      "  -0.04     0.93     0.89     0.95     0.94     0.95    -0.04     0.87\n",
      "  -0.04     0.76   ]\n",
      " [-0.97    -0.95    -0.97     0.02979 -0.96    -0.96     0.02979  0.02002\n",
      "  -0.95    -0.9     -0.96    -0.96     0.02979  0.02002 -0.88     0.02979\n",
      "  -0.8      0.96     0.94     0.95    -0.04     0.94     0.94    -0.05\n",
      "  -0.04     0.93     0.89     0.95     0.94    -0.05    -0.04     0.87\n",
      "  -0.04     0.76   ]\n",
      " [-0.97    -0.95     0.02979 -0.97    -0.96    -0.96    -0.97     0.02002\n",
      "  -0.95    -0.9     -0.96    -0.96    -0.97     0.02002 -0.88     0.02979\n",
      "  -0.8      0.96     0.94    -0.05     0.96     0.94     0.94     0.95\n",
      "  -0.04     0.93     0.89     0.95     0.94     0.95    -0.04     0.87\n",
      "  -0.04     0.76   ]\n",
      " [-0.97    -0.95     0.02979 -0.97    -0.96    -0.96    -0.97     0.02002\n",
      "  -0.95    -0.9     -0.96    -0.96     0.02979  0.02002 -0.88     0.02979\n",
      "  -0.8      0.96     0.94    -0.05     0.96     0.94     0.94     0.95\n",
      "  -0.04     0.93     0.89     0.95     0.94    -0.05    -0.04     0.87\n",
      "  -0.04     0.76   ]]\n",
      "Bound Matrix Dtype: float16\n"
     ]
    }
   ],
   "source": [
    "cost_weights = np.array(kam_state_prices + [db_kam] + trump_state_prices + [db_trump], dtype=np.float16)\n",
    "# Alternatively we \n",
    "# cost_weights = np.array(kam_state_prices + [db_kam], dtype=np.float16)\n",
    "# cost_weights = np.concatenate([cost_weights, 1- cost_weights])\n",
    "\n",
    "assert len(cost_weights) % 2 == 0\n",
    "n_events = len(cost_weights) // 2\n",
    "print(f\"Number of events: {n_events}\")\n",
    "\n",
    "# What if I edit the cost weights for deep blue\n",
    "# cost_weights[n_events] = 0.5\n",
    "# cost_weights[-1] = 0.5\n",
    "print(f\"Cost Weights: {cost_weights}\")\n",
    "\n",
    "min_profit_rate=0.0306\n",
    "print(f\"Min profit rate: {min_profit_rate}\")\n",
    "\n",
    "event_matrix = make_event_matrix(n_events, fix_most_likely=3, probs=cost_weights[:n_events-1])\n",
    "bound_matrix = make_bound_matrix(event_matrix, cost_weights)\n",
    "print(f\"Event Matrix Shape: {event_matrix.shape}\")\n",
    "print(f\"Event Matrix First Rows: {event_matrix[:10]}\")\n",
    "print(f\"Event Matrix Dtype: {event_matrix.dtype}\")\n",
    "print(f\"Bound Matrix Shape: {bound_matrix.shape}\")\n",
    "print(f\"Bound Matrix First Rows: {bound_matrix[:10]}\")\n",
    "print(f\"Bound Matrix Dtype: {bound_matrix.dtype}\")"
   ]
  },
  {
   "cell_type": "code",
   "execution_count": 82,
   "metadata": {},
   "outputs": [
    {
     "data": {
      "text/plain": [
       "'Optimization terminated successfully. (HiGHS Status 7: Optimal)'"
      ]
     },
     "execution_count": 82,
     "metadata": {},
     "output_type": "execute_result"
    }
   ],
   "source": [
    "res = linprog(\n",
    "    cost_weights, \n",
    "    A_ub=-bound_matrix, # Negative because this computes negative profit\n",
    "    b_ub=np.full(bound_matrix.shape[0], fill_value=-min_profit_rate), # Negative because we want to lower bound profit\n",
    "    A_eq=cost_weights[None, :],\n",
    "    b_eq=np.array([1], dtype=cost_weights.dtype),  # We are constrained to spending $1, this will force us to do something\n",
    "    bounds=(0, None),\n",
    "    method=\"highs\"\n",
    ")\n",
    "\n",
    "res.message"
   ]
  },
  {
   "cell_type": "code",
   "execution_count": 83,
   "metadata": {},
   "outputs": [
    {
     "name": "stdout",
     "output_type": "stream",
     "text": [
      "[-0.          0.          0.         -0.          0.00194145  0.\n",
      "  0.          0.          0.          0.         -0.          0.\n",
      "  0.          0.          0.          1.02865855  0.        ]\n",
      "[0.97 0.95 0.97 0.97 0.96 0.96 0.97 0.98 0.95 0.9  0.96 0.96 0.97 0.98\n",
      " 0.88 0.97]\n",
      "[ 0.          0.          0.          0.          0.00194157  0.\n",
      "  0.          0.          0.          0.          0.         -0.\n",
      "  0.          0.          0.          0.          0.        ]\n",
      "[0.06 0.05 0.04 0.06 0.06 0.05 0.04 0.07 0.11 0.05 0.06 0.05 0.04 0.13\n",
      " 0.04]\n",
      "1.0\n",
      "[ 7 13  0  2  3  6 12 15  4  5 10 11  1  8  9 14]\n"
     ]
    }
   ],
   "source": [
    "yes = res.x[:n_events]\n",
    "no = res.x[n_events:]\n",
    "\n",
    "print(yes)\n",
    "print(cost_weights[:n_events-1])\n",
    "\n",
    "print(no)\n",
    "print(cost_weights[n_events+1:-1])\n",
    "\n",
    "print(res.fun)\n",
    "print(np.argsort(-cost_weights[:n_events-1]))"
   ]
  },
  {
   "cell_type": "code",
   "execution_count": 56,
   "metadata": {},
   "outputs": [
    {
     "data": {
      "text/plain": [
       "np.float64(0.03009999915957451)"
      ]
     },
     "execution_count": 56,
     "metadata": {},
     "output_type": "execute_result"
    }
   ],
   "source": [
    "# Min profit achieved by solution\n",
    "profit_rates = (bound_matrix @ res.x.astype(np.float32)) / (cost_weights @ res.x)\n",
    "guaranteed_profit_rate = np.min(profit_rates)\n",
    "profit_rate_minimizer = np.argmin(profit_rates)\n",
    "print(guaranteed_profit_rate)\n",
    "print(event_matrix[profit_rate_minimizer])\n"
   ]
  },
  {
   "cell_type": "code",
   "execution_count": 4,
   "metadata": {},
   "outputs": [],
   "source": [
    "DEEP_RED_STATES = [\n",
    "    \"AL\",\n",
    "    \"AK\",\n",
    "    \"AR\",\n",
    "    \"ID\",\n",
    "    \"IN\",\n",
    "    \"IA\",\n",
    "    \"KS\",\n",
    "    \"KY\",\n",
    "    \"LA\",\n",
    "    \"MS\",\n",
    "    \"MO\",\n",
    "    \"MT\",\n",
    "    \"NE\",\n",
    "    \"ND\",\n",
    "    \"OH\",\n",
    "    \"OK\",\n",
    "    \"SC\",\n",
    "    \"SD\",\n",
    "    \"TN\",\n",
    "    \"UT\",\n",
    "    \"WV\",\n",
    "    \"WY\",\n",
    "]\n",
    "DEEP_RED_STATE_TICKERS = [f\"PRESPARTY{abbr}-24\" for abbr in DEEP_RED_STATES]\n",
    "DEEP_RED_TICKER = \"KXSTATEDEEPKH-24-D\""
   ]
  },
  {
   "cell_type": "code",
   "execution_count": 5,
   "metadata": {},
   "outputs": [
    {
     "name": "stdout",
     "output_type": "stream",
     "text": [
      "{'cursor': '',\n",
      " 'markets': [{'can_close_early': True,\n",
      "              'category': 'Elections',\n",
      "              'close_time': '2025-11-05T15:00:00Z',\n",
      "              'event_ticker': 'KXSTATEDEEPKH-24-D',\n",
      "              'expected_expiration_time': '2025-01-07T15:00:00Z',\n",
      "              'expiration_time': '2025-11-05T15:00:00Z',\n",
      "              'expiration_value': '',\n",
      "              'last_price': 24,\n",
      "              'latest_expiration_time': '2025-11-05T15:00:00Z',\n",
      "              'liquidity': 150007488,\n",
      "              'market_type': 'binary',\n",
      "              'no_ask': 76,\n",
      "              'no_bid': 72,\n",
      "              'no_sub_title': 'Yes',\n",
      "              'notional_value': 100,\n",
      "              'open_interest': 188275,\n",
      "              'open_time': '2024-10-25T14:00:00Z',\n",
      "              'previous_price': 31,\n",
      "              'previous_yes_ask': 31,\n",
      "              'previous_yes_bid': 24,\n",
      "              'response_price_units': 'usd_cent',\n",
      "              'result': '',\n",
      "              'risk_limit_cents': 0,\n",
      "              'rules_primary': 'If the Democratic party wins any solid red '\n",
      "                               'state in 2024, then the market resolves to '\n",
      "                               'Yes.',\n",
      "              'rules_secondary': 'The relevant states are: Alabama, Alaska, '\n",
      "                                 'Arkansas, Idaho, Indiana, Iowa, Kansas, '\n",
      "                                 'Kentucky, Louisiana, Mississippi, Missouri, '\n",
      "                                 'Montana, Nebraska, North Dakota, Ohio, '\n",
      "                                 'Oklahoma, South Carolina, South Dakota, '\n",
      "                                 'Tennessee, Utah, West Virginia, Wyoming',\n",
      "              'settlement_timer_seconds': 300,\n",
      "              'status': 'active',\n",
      "              'subtitle': '',\n",
      "              'tick_size': 1,\n",
      "              'ticker': 'KXSTATEDEEPKH-24-D',\n",
      "              'title': 'Will Harris win a solid red state?',\n",
      "              'volume': 398445,\n",
      "              'volume_24h': 118431,\n",
      "              'yes_ask': 28,\n",
      "              'yes_bid': 24,\n",
      "              'yes_sub_title': 'Yes'}]}\n"
     ]
    },
    {
     "data": {
      "text/plain": [
       "(0.28, 0.76)"
      ]
     },
     "execution_count": 5,
     "metadata": {},
     "output_type": "execute_result"
    }
   ],
   "source": [
    "# Get the price for the deep red bet\n",
    "response = exchange_client.get_markets(tickers=DEEP_RED_TICKER)\n",
    "# This is the price to buy \"No, KH does not win any deep red states\"\n",
    "dr_trump = response['markets'][0]['no_ask'] / 100\n",
    "# This is the price to buy \"Yes, KH does win some deep red states\"\n",
    "dr_kh = response['markets'][0]['yes_ask'] / 100\n",
    "\n",
    "pprint(response)\n",
    "dr_kh, dr_trump"
   ]
  },
  {
   "cell_type": "code",
   "execution_count": 6,
   "metadata": {},
   "outputs": [
    {
     "name": "stdout",
     "output_type": "stream",
     "text": [
      "AL: Kamala Harris: 0.04 Trump: 1.0\n",
      "AK: Kamala Harris: 0.09 Trump: 0.92\n",
      "AR: Kamala Harris: 0.03 Trump: 1.0\n",
      "ID: Kamala Harris: 0.03 Trump: 0.98\n",
      "IN: Kamala Harris: 0.05 Trump: 0.97\n",
      "IA: Kamala Harris: 0.2 Trump: 0.82\n",
      "KS: Kamala Harris: 0.07 Trump: 0.95\n",
      "KY: Kamala Harris: 0.04 Trump: 0.99\n",
      "LA: Kamala Harris: 0.06 Trump: 0.98\n",
      "MS: Kamala Harris: 0.05 Trump: 0.97\n",
      "MO: Kamala Harris: 0.05 Trump: 0.97\n",
      "MT: Kamala Harris: 0.05 Trump: 0.98\n",
      "NE: Kamala Harris: 0.07 Trump: 0.96\n",
      "ND: Kamala Harris: 0.03 Trump: 0.99\n",
      "OH: Kamala Harris: 0.09 Trump: 0.92\n",
      "OK: Kamala Harris: 0.04 Trump: 0.98\n",
      "SC: Kamala Harris: 0.05 Trump: 0.97\n",
      "SD: Kamala Harris: 0.03 Trump: 0.98\n",
      "TN: Kamala Harris: 0.05 Trump: 0.97\n",
      "UT: Kamala Harris: 0.05 Trump: 0.97\n",
      "WV: Kamala Harris: 0.03 Trump: 0.98\n",
      "WY: Kamala Harris: 0.04 Trump: 0.98\n"
     ]
    }
   ],
   "source": [
    "# Get the price for the deep blue bet\n",
    "kam_state_prices = []\n",
    "trump_state_prices = []\n",
    "for state, ticker in zip(DEEP_RED_STATES, DEEP_RED_STATE_TICKERS):\n",
    "    response_d = exchange_client.get_markets(tickers=f\"{ticker}-D\")\n",
    "    response_r = exchange_client.get_markets(tickers=f\"{ticker}-R\")\n",
    "    # This is the price to buy \"Yes, Trump wins this state\"\n",
    "    trump_price = min(response_r['markets'][0]['yes_ask'] / 100, response_d['markets'][0]['no_ask'] / 100)\n",
    "    # This is the price to buy \"No, Trump does not win this state\"\n",
    "    kam_price = min(response_r['markets'][0]['no_ask'] / 100, response_d['markets'][0]['yes_ask'] / 100)\n",
    "\n",
    "    # pprint(response)\n",
    "    kam_state_prices.append(kam_price)\n",
    "    trump_state_prices.append(trump_price)\n",
    "\n",
    "for state, kam_price, trump_price in zip(DEEP_RED_STATES, kam_state_prices, trump_state_prices):\n",
    "    print(f\"{state}: Kamala Harris: {kam_price} Trump: {trump_price}\")\n",
    "\n"
   ]
  },
  {
   "cell_type": "code",
   "execution_count": 24,
   "metadata": {},
   "outputs": [
    {
     "name": "stdout",
     "output_type": "stream",
     "text": [
      "Number of events: 23\n",
      "Cost Weights: [1.   0.92 1.   0.98 0.97 0.82 0.95 0.99 0.98 0.97 0.97 0.98 0.96 0.99\n",
      " 0.92 0.98 0.97 0.98 0.97 0.97 0.98 0.98 0.76 0.04 0.09 0.03 0.03 0.05\n",
      " 0.2  0.07 0.04 0.06 0.05 0.05 0.05 0.07 0.03 0.09 0.04 0.05 0.03 0.05\n",
      " 0.05 0.03 0.04 0.28]\n",
      "Min profit rate: 0.02\n",
      "Event Matrix Shape: (32768, 23)\n",
      "Event Matrix First Rows: [[1 0 1 1 0 0 0 1 1 0 0 0 0 1 0 0 0 0 0 0 1 0 0]\n",
      " [1 0 1 1 0 0 0 1 1 0 0 1 0 1 0 0 0 0 0 0 1 0 0]\n",
      " [1 0 1 1 0 0 0 1 1 0 0 0 0 1 0 0 0 0 0 0 1 1 0]\n",
      " [1 0 1 1 0 0 0 1 1 0 0 1 0 1 0 0 0 0 0 0 1 1 0]\n",
      " [1 0 1 1 0 0 0 1 1 0 0 0 0 1 0 1 0 0 0 0 1 0 0]\n",
      " [1 0 1 1 0 0 0 1 1 0 0 1 0 1 0 1 0 0 0 0 1 0 0]\n",
      " [1 0 1 1 0 0 0 1 1 0 0 0 0 1 0 1 0 0 0 0 1 1 0]\n",
      " [1 0 1 1 0 0 0 1 1 0 0 1 0 1 0 1 0 0 0 0 1 1 0]\n",
      " [1 0 1 1 0 0 0 1 1 0 0 0 0 1 0 0 0 1 0 0 1 0 0]\n",
      " [1 0 1 1 0 0 0 1 1 0 0 1 0 1 0 0 0 1 0 0 1 0 0]]\n",
      "Event Matrix Dtype: int8\n",
      "Bound Matrix Shape: (32768, 46)\n",
      "Bound Matrix First Rows: [[ 0.       -0.92      0.        0.02002  -0.97     -0.82     -0.95\n",
      "   0.009766  0.02002  -0.97     -0.97     -0.98     -0.96      0.009766\n",
      "  -0.92     -0.98     -0.97     -0.98     -0.97     -0.97      0.02002\n",
      "  -0.98     -0.76     -0.04      0.91     -0.03     -0.03      0.95\n",
      "   0.8       0.93     -0.04     -0.06      0.95      0.95      0.95\n",
      "   0.93     -0.03      0.91      0.96      0.95      0.97      0.95\n",
      "   0.95     -0.03      0.96      0.7197  ]\n",
      " [ 0.       -0.92      0.        0.02002  -0.97     -0.82     -0.95\n",
      "   0.009766  0.02002  -0.97     -0.97      0.02002  -0.96      0.009766\n",
      "  -0.92     -0.98     -0.97     -0.98     -0.97     -0.97      0.02002\n",
      "  -0.98     -0.76     -0.04      0.91     -0.03     -0.03      0.95\n",
      "   0.8       0.93     -0.04     -0.06      0.95      0.95     -0.05\n",
      "   0.93     -0.03      0.91      0.96      0.95      0.97      0.95\n",
      "   0.95     -0.03      0.96      0.7197  ]\n",
      " [ 0.       -0.92      0.        0.02002  -0.97     -0.82     -0.95\n",
      "   0.009766  0.02002  -0.97     -0.97     -0.98     -0.96      0.009766\n",
      "  -0.92     -0.98     -0.97     -0.98     -0.97     -0.97      0.02002\n",
      "   0.02002  -0.76     -0.04      0.91     -0.03     -0.03      0.95\n",
      "   0.8       0.93     -0.04     -0.06      0.95      0.95      0.95\n",
      "   0.93     -0.03      0.91      0.96      0.95      0.97      0.95\n",
      "   0.95     -0.03     -0.04      0.7197  ]\n",
      " [ 0.       -0.92      0.        0.02002  -0.97     -0.82     -0.95\n",
      "   0.009766  0.02002  -0.97     -0.97      0.02002  -0.96      0.009766\n",
      "  -0.92     -0.98     -0.97     -0.98     -0.97     -0.97      0.02002\n",
      "   0.02002  -0.76     -0.04      0.91     -0.03     -0.03      0.95\n",
      "   0.8       0.93     -0.04     -0.06      0.95      0.95     -0.05\n",
      "   0.93     -0.03      0.91      0.96      0.95      0.97      0.95\n",
      "   0.95     -0.03     -0.04      0.7197  ]\n",
      " [ 0.       -0.92      0.        0.02002  -0.97     -0.82     -0.95\n",
      "   0.009766  0.02002  -0.97     -0.97     -0.98     -0.96      0.009766\n",
      "  -0.92      0.02002  -0.97     -0.98     -0.97     -0.97      0.02002\n",
      "  -0.98     -0.76     -0.04      0.91     -0.03     -0.03      0.95\n",
      "   0.8       0.93     -0.04     -0.06      0.95      0.95      0.95\n",
      "   0.93     -0.03      0.91     -0.04      0.95      0.97      0.95\n",
      "   0.95     -0.03      0.96      0.7197  ]\n",
      " [ 0.       -0.92      0.        0.02002  -0.97     -0.82     -0.95\n",
      "   0.009766  0.02002  -0.97     -0.97      0.02002  -0.96      0.009766\n",
      "  -0.92      0.02002  -0.97     -0.98     -0.97     -0.97      0.02002\n",
      "  -0.98     -0.76     -0.04      0.91     -0.03     -0.03      0.95\n",
      "   0.8       0.93     -0.04     -0.06      0.95      0.95     -0.05\n",
      "   0.93     -0.03      0.91     -0.04      0.95      0.97      0.95\n",
      "   0.95     -0.03      0.96      0.7197  ]\n",
      " [ 0.       -0.92      0.        0.02002  -0.97     -0.82     -0.95\n",
      "   0.009766  0.02002  -0.97     -0.97     -0.98     -0.96      0.009766\n",
      "  -0.92      0.02002  -0.97     -0.98     -0.97     -0.97      0.02002\n",
      "   0.02002  -0.76     -0.04      0.91     -0.03     -0.03      0.95\n",
      "   0.8       0.93     -0.04     -0.06      0.95      0.95      0.95\n",
      "   0.93     -0.03      0.91     -0.04      0.95      0.97      0.95\n",
      "   0.95     -0.03     -0.04      0.7197  ]\n",
      " [ 0.       -0.92      0.        0.02002  -0.97     -0.82     -0.95\n",
      "   0.009766  0.02002  -0.97     -0.97      0.02002  -0.96      0.009766\n",
      "  -0.92      0.02002  -0.97     -0.98     -0.97     -0.97      0.02002\n",
      "   0.02002  -0.76     -0.04      0.91     -0.03     -0.03      0.95\n",
      "   0.8       0.93     -0.04     -0.06      0.95      0.95     -0.05\n",
      "   0.93     -0.03      0.91     -0.04      0.95      0.97      0.95\n",
      "   0.95     -0.03     -0.04      0.7197  ]\n",
      " [ 0.       -0.92      0.        0.02002  -0.97     -0.82     -0.95\n",
      "   0.009766  0.02002  -0.97     -0.97     -0.98     -0.96      0.009766\n",
      "  -0.92     -0.98     -0.97      0.02002  -0.97     -0.97      0.02002\n",
      "  -0.98     -0.76     -0.04      0.91     -0.03     -0.03      0.95\n",
      "   0.8       0.93     -0.04     -0.06      0.95      0.95      0.95\n",
      "   0.93     -0.03      0.91      0.96      0.95     -0.03      0.95\n",
      "   0.95     -0.03      0.96      0.7197  ]\n",
      " [ 0.       -0.92      0.        0.02002  -0.97     -0.82     -0.95\n",
      "   0.009766  0.02002  -0.97     -0.97      0.02002  -0.96      0.009766\n",
      "  -0.92     -0.98     -0.97      0.02002  -0.97     -0.97      0.02002\n",
      "  -0.98     -0.76     -0.04      0.91     -0.03     -0.03      0.95\n",
      "   0.8       0.93     -0.04     -0.06      0.95      0.95     -0.05\n",
      "   0.93     -0.03      0.91      0.96      0.95     -0.03      0.95\n",
      "   0.95     -0.03      0.96      0.7197  ]]\n",
      "Bound Matrix Dtype: float16\n"
     ]
    }
   ],
   "source": [
    "import numpy as np\n",
    "\n",
    "cost_weights = np.array(trump_state_prices + [dr_trump] + kam_state_prices + [dr_kh], dtype=np.float16)\n",
    "# Alternatively we \n",
    "# cost_weights = np.array(kam_state_prices + [db_kam], dtype=np.float16)\n",
    "# cost_weights = np.concatenate([cost_weights, 1- cost_weights])\n",
    "\n",
    "assert len(cost_weights) % 2 == 0\n",
    "n_events = len(cost_weights) // 2\n",
    "print(f\"Number of events: {n_events}\")\n",
    "\n",
    "# What if I edit the cost weights for deep blue\n",
    "# cost_weights[n_events] = 0.5\n",
    "# cost_weights[-1] = 0.5\n",
    "print(f\"Cost Weights: {cost_weights}\")\n",
    "\n",
    "min_profit_rate=0.02\n",
    "print(f\"Min profit rate: {min_profit_rate}\")\n",
    "\n",
    "event_matrix = make_event_matrix(n_events, probs=cost_weights[:n_events-1], fix_most_likely=7)\n",
    "bound_matrix = make_bound_matrix(event_matrix, cost_weights)\n",
    "print(f\"Event Matrix Shape: {event_matrix.shape}\")\n",
    "print(f\"Event Matrix First Rows: {event_matrix[:10]}\")\n",
    "print(f\"Event Matrix Dtype: {event_matrix.dtype}\")\n",
    "print(f\"Bound Matrix Shape: {bound_matrix.shape}\")\n",
    "print(f\"Bound Matrix First Rows: {bound_matrix[:10]}\")\n",
    "print(f\"Bound Matrix Dtype: {bound_matrix.dtype}\")"
   ]
  },
  {
   "cell_type": "code",
   "execution_count": 25,
   "metadata": {},
   "outputs": [
    {
     "data": {
      "text/plain": [
       "'Optimization terminated successfully. (HiGHS Status 7: Optimal)'"
      ]
     },
     "execution_count": 25,
     "metadata": {},
     "output_type": "execute_result"
    }
   ],
   "source": [
    "from scipy.optimize import linprog\n",
    "\n",
    "res = linprog(\n",
    "    cost_weights, \n",
    "    A_ub=-bound_matrix, # Negative because this computes negative profit\n",
    "    b_ub=np.full(bound_matrix.shape[0], fill_value=-min_profit_rate), # Negative because we want to lower bound profit\n",
    "    A_eq=cost_weights[None, :],\n",
    "    b_eq=np.array([1], dtype=cost_weights.dtype),  # We are constrained to spending $1, this will force us to do something\n",
    "    bounds=(0, None),\n",
    "    method=\"highs\"\n",
    ")\n",
    "\n",
    "res.message"
   ]
  },
  {
   "cell_type": "code",
   "execution_count": 27,
   "metadata": {},
   "outputs": [
    {
     "name": "stdout",
     "output_type": "stream",
     "text": [
      "[ 0.          0.          0.          0.97904762  0.         -0.\n",
      "  0.          0.04095238  0.         -0.         -0.          0.\n",
      "  0.          0.          0.          0.          0.          0.\n",
      "  0.          0.          0.          0.          0.        ]\n",
      "[ 0.  0.  0.  0. -0.  0. -0.  0.  0.  0.  0. -0.  0.  0.  0. -0.  0. -0.\n",
      " -0. -0.  0. -0.  0.]\n",
      "1.0\n",
      "[1.   0.92 1.   0.98 0.97 0.82 0.95 0.99 0.98 0.97 0.97 0.98 0.96 0.99\n",
      " 0.92 0.98 0.97 0.98 0.97 0.97 0.98 0.98]\n"
     ]
    }
   ],
   "source": [
    "yes = res.x[:n_events]\n",
    "no = res.x[n_events:]\n",
    "\n",
    "print(yes)\n",
    "print(no)\n",
    "print(res.fun)\n",
    "print(cost_weights[:n_events-1])"
   ]
  }
 ],
 "metadata": {
  "kernelspec": {
   "display_name": "kalshi",
   "language": "python",
   "name": "python3"
  },
  "language_info": {
   "codemirror_mode": {
    "name": "ipython",
    "version": 3
   },
   "file_extension": ".py",
   "mimetype": "text/x-python",
   "name": "python",
   "nbconvert_exporter": "python",
   "pygments_lexer": "ipython3",
   "version": "3.10.15"
  }
 },
 "nbformat": 4,
 "nbformat_minor": 2
}
