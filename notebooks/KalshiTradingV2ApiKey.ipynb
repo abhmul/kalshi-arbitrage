{
 "cells": [
  {
   "cell_type": "code",
   "execution_count": 10,
   "metadata": {},
   "outputs": [],
   "source": [
    "# Welcome to the Kalshi REST v2 Starter Code!\n",
    "\n",
    "# pypi client: recommended for more advanced programmers\n",
    "#import kalshi_python\n",
    "\n",
    "# starter client: recommended for all levels of programming experience (what this client is implemented using)\n",
    "from src.client import ExchangeClient\n",
    "import time\n",
    "import json\n",
    "import uuid"
   ]
  },
  {
   "cell_type": "code",
   "execution_count": 11,
   "metadata": {},
   "outputs": [],
   "source": [
    "from cryptography.hazmat.primitives import serialization\n",
    "from cryptography.hazmat.backends import default_backend\n",
    "\n",
    "def load_private_key_from_file(file_path):\n",
    "    with open(file_path, \"rb\") as key_file:\n",
    "        private_key = serialization.load_pem_private_key(\n",
    "            key_file.read(),\n",
    "            password=None,  # or provide a password if your key is encrypted\n",
    "            backend=default_backend()\n",
    "        )\n",
    "    return private_key"
   ]
  },
  {
   "cell_type": "code",
   "execution_count": 12,
   "metadata": {},
   "outputs": [
    {
     "name": "stdout",
     "output_type": "stream",
     "text": [
      "{'exchange_active': True, 'trading_active': True}\n"
     ]
    }
   ],
   "source": [
    "from src.params import *\n",
    "\n",
    "# To start off, you need to have created an account at https://kalshi.com (Production) \n",
    "# or an account on the Demo https://demo.kalshi.co/\n",
    "\n",
    "prod_key_id = API_ID # change these to be your personal credentials\n",
    "prod_private_key = load_private_key_from_file(KALSHI_KEY)\n",
    "\n",
    "# demo_key_id = DEMO_API_ID # change these to be your personal credentials\n",
    "# demo_private_key = load_private_key_from_file(DEMO_KALSHI_KEY)\n",
    "\n",
    "demo_key_id = DEMO_LEGACY_API_ID # change these to be your personal credentials\n",
    "demo_private_key = load_private_key_from_file(LEGACY_DEMO_KALSHI_KEY)\n",
    "\n",
    "# for prod\n",
    "prod_api_base = \"https://api.elections.kalshi.com/trade-api/v2\"\n",
    "\n",
    "# for demo\n",
    "# demo_api_base = \"https://demo-api.elections.kalshi.co/trade-api/v2\"\n",
    "demo_api_base = \"https://demo-api.kalshi.co/trade-api/v2\"\n",
    "\n",
    "## if wanting to test in prod:\n",
    "exchange_client = ExchangeClient(exchange_api_base=prod_api_base, key_id = prod_key_id, private_key = prod_private_key)\n",
    "\n",
    "## if wanting to test in demo\n",
    "# exchange_client = ExchangeClient(exchange_api_base = demo_api_base, key_id = demo_key_id, private_key = demo_private_key)\n",
    "\n",
    "# first we will check on the exchange status to confirm you are properly connected...\n",
    "print(exchange_client.get_exchange_status())"
   ]
  },
  {
   "cell_type": "code",
   "execution_count": 13,
   "metadata": {
    "tags": []
   },
   "outputs": [
    {
     "name": "stdout",
     "output_type": "stream",
     "text": [
      "keys: dict_keys(['markets', 'cursor'])\n",
      "\n",
      "number of objects: 100\n",
      "\n",
      "first market in payload: {'ticker': 'KXEURUSDH-24NOV0617-T1.10659', 'event_ticker': 'KXEURUSDH-24NOV0617', 'market_type': 'binary', 'title': 'Will the EUR/USD open price be above 1.10659 at Nov 6, 2024 at 5pm EST?', 'subtitle': '1.10660 or above', 'yes_sub_title': '1.10660 or above', 'no_sub_title': '1.10660 or above', 'open_time': '2024-11-05T22:00:00Z', 'close_time': '2024-11-06T22:00:00Z', 'expected_expiration_time': '2024-11-06T22:00:00Z', 'expiration_time': '2024-11-13T22:00:00Z', 'latest_expiration_time': '2024-11-13T22:00:00Z', 'settlement_timer_seconds': 3600, 'status': 'initialized', 'response_price_units': 'usd_cent', 'notional_value': 100, 'tick_size': 1, 'yes_bid': 0, 'yes_ask': 0, 'no_bid': 100, 'no_ask': 100, 'last_price': 0, 'previous_yes_bid': 0, 'previous_yes_ask': 0, 'previous_price': 0, 'volume': 0, 'volume_24h': 0, 'liquidity': 0, 'open_interest': 0, 'result': '', 'can_close_early': True, 'expiration_value': '', 'category': 'Financials', 'risk_limit_cents': 0, 'strike_type': 'greater', 'floor_strike': 1.10659, 'rules_primary': 'If the open price of the Euro/Dollar for November 06, 2024 is above 1.10659 at 5 PM EST, then the market resolves to Yes.', 'rules_secondary': ''}\n",
      "\n",
      "cursor: CgwIqOqmuQYQiO7U5AESHEtYRVVSVVNESC0yNE5PVjA2MTctVDEuMDY2OTk\n"
     ]
    }
   ],
   "source": [
    "# You can discover markets through the get_markets endpoint...\n",
    "\n",
    "# and use query parameters to filter your search!\n",
    "market_params = {'limit':100,\n",
    "                    'cursor':None, # passing in the cursor from the previous get_markets call\n",
    "                    'event_ticker': None,\n",
    "                    'series_ticker':None,\n",
    "                    'max_close_ts':None, # pass in unix_ts\n",
    "                    'min_close_ts':None, # pass in unix_ts\n",
    "                    'status':None,\n",
    "                    'tickers':None}\n",
    "\n",
    "markets_response = exchange_client.get_markets(**market_params)\n",
    "cursor = markets_response['cursor']\n",
    "\n",
    "print('keys:', markets_response.keys())\n",
    "print()\n",
    "print('number of objects:', len(markets_response['markets'])) # 100 objects!\n",
    "print()\n",
    "print('first market in payload:', markets_response['markets'][0])\n",
    "print()\n",
    "print('cursor:', cursor)"
   ]
  },
  {
   "cell_type": "code",
   "execution_count": 5,
   "metadata": {},
   "outputs": [
    {
     "name": "stdout",
     "output_type": "stream",
     "text": [
      "msg_string 1724881874725GET/trade-api/v2/markets\n",
      "signature OLTtRHSz9Bq/mzH/5yvhBbM5R8G6fyrLsYuo5Ds1nJnZoM6rOzHN0rdF7jEeMMGGifpWrlLvlfYjzYHmj/wcLtjuKbh+mCqV9gjUjvnOv7+LeHD2eKoMH49NoaPFbgCvUYKO+oaL5ssRxgC+sjSqm6xMfIHXs+n7oaEAMdrYlNRd+lihAtziLzghXmfJi3M2B8fJW4KEiE3+JFZ1MwGd7lYLTu/LKOjWixZyo0c86UZzIgqU8u7Kd2YhYKWZs+tpM3RoOYS/tbYSzg6r7wVijpuX4DMXrsiwuVs8dQkmXtz1W39AZr4IpjtFYwhhWuwWTzn1ANglAYgCtzpgmq/eeA==\n",
      "keys: dict_keys(['markets', 'cursor'])\n",
      "\n",
      "number of objects: 100\n",
      "\n",
      "first market in market_response payload: {'ticker': 'AUDUSDH-24AUG2817-T0.64199', 'event_ticker': 'AUDUSDH-24AUG2817', 'market_type': 'binary', 'title': 'AUD/USD price on Aug 28, 2024 at 5pm EDT?', 'subtitle': '0.64200 or above', 'yes_sub_title': '0.64200 or above', 'no_sub_title': '0.64200 or above', 'open_time': '2024-08-28T13:03:02Z', 'close_time': '2024-08-28T21:00:00Z', 'expected_expiration_time': '2024-08-28T21:00:00Z', 'expiration_time': '2024-09-04T21:00:00Z', 'latest_expiration_time': '2024-09-04T21:00:00Z', 'settlement_timer_seconds': 3600, 'status': 'closed', 'response_price_units': 'usd_cent', 'notional_value': 100, 'tick_size': 1, 'yes_bid': 0, 'yes_ask': 0, 'no_bid': 100, 'no_ask': 100, 'last_price': 0, 'previous_yes_bid': 0, 'previous_yes_ask': 0, 'previous_price': 0, 'volume': 0, 'volume_24h': 0, 'liquidity': 0, 'open_interest': 0, 'result': '', 'can_close_early': True, 'expiration_value': '', 'category': 'Financials', 'risk_limit_cents': 0, 'strike_type': 'greater', 'floor_strike': 0.64199, 'rules_primary': 'If the price of the Australian Dollar/US Dollar for August 28, 2024 at 5 PM EDT is above 0.64199, then the market resolves to Yes.', 'rules_secondary': ''}\n",
      "\n",
      "new cursor! CgsI6L-8tgYQiJ6AfhIaR0JQVVNESC0yNEFVRzI4MTctVDEuMzAxMzk\n"
     ]
    }
   ],
   "source": [
    "# What are cursors and how do they work?\n",
    "    \n",
    "# The Cursor represents a pointer to the next page of records in the pagination.\n",
    "# So this optional parameter, when filled, should be filled with the cursor string returned in a previous request to this end-point.\n",
    "# Filling this would basically tell the api to get the next page containing the number of records passed on the limit parameter.\n",
    "# On the other side not filling it tells the api you want to get the first page for another query.\n",
    "# The cursor does not store any filters, so if any filter parameters like tickers, max_ts or min_ts were passed in the original query they must be passed again.\n",
    "\n",
    "# Let's try it in action! Suppose we wanted to get the next 100 market objects...\n",
    "\n",
    "market_params = {'limit':100,\n",
    "                    'cursor':cursor, # passing in the cursor from the previous get_markets call\n",
    "                    'event_ticker': None,\n",
    "                    'series_ticker': None,\n",
    "                    'max_close_ts': None, # pass in unix_ts\n",
    "                    'min_close_ts': None, # pass in unix_ts\n",
    "                    'status': None,\n",
    "                    'tickers':None}\n",
    "\n",
    "markets_response = exchange_client.get_markets(**market_params)\n",
    "cursor = markets_response['cursor']\n",
    "\n",
    "print('keys:', markets_response.keys())\n",
    "print()\n",
    "print('number of objects:', len(markets_response['markets'])) # 100 objects!\n",
    "print()\n",
    "print('first market in market_response payload:', markets_response['markets'][0]) # new markets!\n",
    "print()\n",
    "print('new cursor!', cursor)"
   ]
  },
  {
   "cell_type": "code",
   "execution_count": 12,
   "metadata": {},
   "outputs": [
    {
     "name": "stdout",
     "output_type": "stream",
     "text": [
      "keys: dict_keys(['event', 'markets'])\n",
      "\n",
      "event object: {'event_ticker': 'KXEURUSDH-24NOV0617', 'series_ticker': 'KXEURUSDH', 'sub_title': 'Nov 6, 2024 at 5pm EST', 'title': 'EUR/USD price range on Nov 6, 2024 at 5pm EST?', 'mutually_exclusive': False, 'category': 'Financials', 'strike_date': '2024-11-06T22:00:00Z'}\n",
      "\n",
      "first market in event_response payload: {'ticker': 'KXEURUSDH-24NOV0617-T1.06699', 'event_ticker': 'KXEURUSDH-24NOV0617', 'market_type': 'binary', 'title': '', 'subtitle': '1.06700 or above', 'yes_sub_title': '1.06700 or above', 'no_sub_title': '1.06700 or above', 'open_time': '2024-11-05T22:00:00Z', 'close_time': '2024-11-06T22:00:00Z', 'expected_expiration_time': '2024-11-06T22:00:00Z', 'expiration_time': '2024-11-13T22:00:00Z', 'latest_expiration_time': '2024-11-13T22:00:00Z', 'settlement_timer_seconds': 3600, 'status': 'initialized', 'response_price_units': 'usd_cent', 'notional_value': 100, 'tick_size': 1, 'yes_bid': 0, 'yes_ask': 0, 'no_bid': 100, 'no_ask': 100, 'last_price': 0, 'previous_yes_bid': 0, 'previous_yes_ask': 0, 'previous_price': 0, 'volume': 0, 'volume_24h': 0, 'liquidity': 0, 'open_interest': 0, 'result': '', 'can_close_early': True, 'expiration_value': '', 'category': '', 'risk_limit_cents': 0, 'strike_type': 'greater', 'floor_strike': 1.06699, 'rules_primary': 'If the open price of the Euro/Dollar for November 06, 2024 is above 1.06699 at 5 PM EST, then the market resolves to Yes.', 'rules_secondary': ''}\n"
     ]
    }
   ],
   "source": [
    "# Next, let's look at event level data by passing an event ticker to the get_event endpoint...\n",
    "\n",
    "event_ticker = markets_response['markets'][5]['event_ticker']\n",
    "event_params = {'event_ticker': event_ticker}\n",
    "event_response = exchange_client.get_event(**event_params)\n",
    "\n",
    "print('keys:', event_response.keys())\n",
    "print()\n",
    "print('event object:', event_response['event'])\n",
    "print()\n",
    "print('first market in event_response payload:', event_response['markets'][0])"
   ]
  },
  {
   "cell_type": "code",
   "execution_count": 9,
   "metadata": {},
   "outputs": [
    {
     "name": "stdout",
     "output_type": "stream",
     "text": [
      "keys: dict_keys(['series'])\n",
      "\n",
      "series object: {'ticker': 'GBPUSDH', 'frequency': 'hourly', 'title': 'GBP/USD over/under', 'category': 'Financials', 'tags': [], 'settlement_sources': [{'url': 'https://www.tradingview.com/chart/?symbol=FX_IDC%3AGBPUSD', 'name': 'ICE'}], 'contract_url': 'https://kalshi-public-docs.s3.us-east-1.amazonaws.com/regulatory/product-certifications/GBPUSD.pdf'}\n",
      "\n"
     ]
    }
   ],
   "source": [
    "# Next, let's look at series level data by passing a series ticker to the get_series endpoint! \n",
    "series_ticker = event_response['event']['series_ticker']\n",
    "series_params = {'series_ticker': series_ticker}\n",
    "series_response = exchange_client.get_series(**series_params)\n",
    "\n",
    "print('keys:', series_response.keys())\n",
    "print()\n",
    "print('series object:', series_response['series'])\n",
    "print()"
   ]
  },
  {
   "cell_type": "code",
   "execution_count": 7,
   "metadata": {},
   "outputs": [
    {
     "name": "stdout",
     "output_type": "stream",
     "text": [
      "keys: dict_keys(['ticker', 'history', 'cursor'])\n",
      "\n",
      "most recent market history object: {'yes_price': 23, 'yes_bid': 23, 'yes_ask': 87, 'no_bid': 13, 'no_ask': 77, 'volume': 2761, 'open_interest': 1644, 'ts': 1669651310}\n",
      "\n",
      "keys: dict_keys(['orderbook'])\n",
      "\n",
      "orderbook object: {'orderbook': {'yes': [[1, 515], [23, 2503]], 'no': [[1, 1146], [2, 152], [3, 38], [6, 300], [7, 38], [12, 62], [13, 154]]}}\n",
      "\n"
     ]
    }
   ],
   "source": [
    "# Next let's look at the recent market history for a market\n",
    "ticker = 'NGDP-22-C7.5'\n",
    "\n",
    "market_history_params = {'ticker': ticker,\n",
    "                            'limit': 100,\n",
    "                            'cursor': None,\n",
    "                            'max_ts': None, # pass in unix_ts\n",
    "                            'min_ts': round(time.time()-1000000) # passing a recent unix_ts\n",
    "                                }\n",
    "market_history_response = exchange_client.get_market_history(**market_history_params)\n",
    "\n",
    "print('keys:', market_history_response.keys())\n",
    "print()\n",
    "print('most recent market history object:', market_history_response['history'][-1])\n",
    "print()\n",
    "\n",
    "# and then also look at the most current view of the orderbook\n",
    "market_history_params = {'ticker':ticker,\n",
    "                            'depth': 30\n",
    "                                }\n",
    "orderbook_response = exchange_client.get_orderbook(**market_history_params)\n",
    "\n",
    "print('keys:', orderbook_response.keys())\n",
    "print()\n",
    "print('orderbook object:', orderbook_response)\n",
    "print()"
   ]
  },
  {
   "cell_type": "code",
   "execution_count": 13,
   "metadata": {},
   "outputs": [
    {
     "data": {
      "text/plain": [
       "{'balance': 0}"
      ]
     },
     "execution_count": 13,
     "metadata": {},
     "output_type": "execute_result"
    }
   ],
   "source": [
    "# Now let's suppose we wanted to place a trade on one of these markets... \n",
    "# to do so, we would first want to check out available balance...\n",
    "\n",
    "current_balance = exchange_client.get_balance()\n",
    "current_balance"
   ]
  },
  {
   "cell_type": "code",
   "execution_count": 14,
   "metadata": {},
   "outputs": [
    {
     "data": {
      "text/plain": [
       "{'cursor': '', 'market_positions': [], 'event_positions': []}"
      ]
     },
     "execution_count": 14,
     "metadata": {},
     "output_type": "execute_result"
    }
   ],
   "source": [
    "# Now that you have some balance, you might want to see how your current positions are doing...\n",
    "\n",
    "positions_params = {'limit': None,\n",
    "                        'cursor': None,\n",
    "                        'settlement_status': None,\n",
    "                        'ticker': None,\n",
    "                        'event_ticker': None}\n",
    "\n",
    "current_position = exchange_client.get_positions(**positions_params)\n",
    "current_position"
   ]
  },
  {
   "cell_type": "code",
   "execution_count": 15,
   "metadata": {},
   "outputs": [
    {
     "data": {
      "text/plain": [
       "{'fills': [], 'cursor': ''}"
      ]
     },
     "execution_count": 15,
     "metadata": {},
     "output_type": "execute_result"
    }
   ],
   "source": [
    "# seems like some of your recent orders had been filled. To check on those we use the get_positions endpoint ...\n",
    "\n",
    "fills_params = {'ticker':None,\n",
    "                    'order_id':None,\n",
    "                    'min_ts':None,\n",
    "                    'max_ts':None,\n",
    "                    'limit': None,\n",
    "                    'cursor': None}\n",
    "\n",
    "fills = exchange_client.get_fills(**fills_params)\n",
    "fills"
   ]
  },
  {
   "cell_type": "code",
   "execution_count": 16,
   "metadata": {},
   "outputs": [
    {
     "data": {
      "text/plain": [
       "{'settlements': [], 'cursor': ''}"
      ]
     },
     "execution_count": 16,
     "metadata": {},
     "output_type": "execute_result"
    }
   ],
   "source": [
    "# you may even want to check on some of your recent positions settled...\n",
    "\n",
    "settlement_params = {'limit': None,\n",
    "                        'cursor': None}\n",
    "\n",
    "settlements = exchange_client.get_portfolio_settlements(**settlement_params)\n",
    "settlements"
   ]
  },
  {
   "cell_type": "code",
   "execution_count": 6,
   "metadata": {},
   "outputs": [
    {
     "name": "stdout",
     "output_type": "stream",
     "text": [
      "{'ticker': 'TESTING-5', 'client_order_id': 'bfbd2cb1-2a37-454a-9276-4700ba64f084', 'side': 'no', 'action': 'buy', 'count': 10, 'type': 'limit', 'no_price': 30}\n",
      "msg_string 1724881878733POST/trade-api/v2/portfolio/orders\n",
      "signature nSL5OZMoq4ijxiEOrnh4LgROWhXh4rnY+DYGPykEX8AIPl7Sz2BIjmIH8pSYUGmXwScYYMMGkyyOPXIVdSxKTaJKNS9Q7LFKxJXTUW7ij/ApRB/SmxNca7Uew7d5dfCPmr/fg5bds0y/3PuahpAGyBTCEXb7vFqFt2DxaMZP2RMs8wv6sfBJzbo4YLG0iJsxCbxpJO1Xl/Vw99kXjHs4aLrzwCkeAfj3ZrnJ9oq0ZSaOOIW3DX1CymV5BgsOxgqWxLFfTUL2A2ebBKcby1dSlTC41Nzdji3qB10At9S9SpZ53tIS5y1sQSIKuLXhNKmp3eX6Wh5hZfF84YgBJjG/5A==\n"
     ]
    },
    {
     "data": {
      "text/plain": [
       "{'order': {'order_id': 'a83b4604-6ad5-49e0-bf65-d89b175df537',\n",
       "  'user_id': 'd6a190b7-31de-4855-9fed-e1fd364dc2cf',\n",
       "  'ticker': 'TESTING-5',\n",
       "  'status': 'resting',\n",
       "  'yes_price': 70,\n",
       "  'no_price': 30,\n",
       "  'created_time': '2024-08-28T21:51:18.993589Z',\n",
       "  'expiration_time': None,\n",
       "  'self_trade_prevention_type': '',\n",
       "  'action': 'buy',\n",
       "  'side': 'no',\n",
       "  'type': 'limit',\n",
       "  'client_order_id': 'bfbd2cb1-2a37-454a-9276-4700ba64f084',\n",
       "  'order_group_id': ''}}"
      ]
     },
     "execution_count": 6,
     "metadata": {},
     "output_type": "execute_result"
    }
   ],
   "source": [
    "# Now onto placing an order...\n",
    "# There are many different ways to think about placing orders at Kalshi. \n",
    "# The following param examples will walk through some of those\n",
    "\n",
    "# Limit buy order for 10 units at 30c No on GDPW-22-A3\n",
    "\n",
    "ticker = 'TESTING-5'\n",
    "\n",
    "order_params = {'ticker':ticker,\n",
    "                    'client_order_id':str(uuid.uuid4()),\n",
    "                    'type':'limit',\n",
    "                    'action':'buy',\n",
    "                    'side':'no',\n",
    "                    'count':10,\n",
    "                    'yes_price':None, # yes_price = 100 - no_price\n",
    "                    'no_price':30, # no_price = 100 - yes_price\n",
    "                    'expiration_ts':None,\n",
    "                    'sell_position_floor':None,\n",
    "                    'buy_max_cost':None}\n",
    "\n",
    "exchange_client.create_order(**order_params)\n",
    "\n",
    "# EQUIVALENTLY, because buying No is equivalent to selling yes...\n",
    "\n",
    "# order_params = {'ticker':ticker,\n",
    "#                     'client_order_id':str(uuid.uuid4()),\n",
    "#                     'type':'limit',\n",
    "#                     'action':'sell',\n",
    "#                     'side':'yes',\n",
    "#                     'count':10,\n",
    "#                     'yes_price':None, # yes_price = 100 - no_price\n",
    "#                     'no_price':30, # no_price = 100 - yes_price\n",
    "#                     'expiration_ts':None,\n",
    "#                     'sell_position_floor':None,\n",
    "#                     'buy_max_cost':None}\n",
    "\n",
    "# exchange_client.create_order(**order_params)\n",
    "\n",
    "\n",
    "# # Market sell order for 12 units Yes on GDPW-22-A3, without flipping position\n",
    "\n",
    "# order_params = {'ticker':ticker,\n",
    "#                     'client_order_id':str(uuid.uuid4()),\n",
    "#                     'type':'market',\n",
    "#                     'action':'sell',\n",
    "#                     'side':'yes',\n",
    "#                     'count':12,\n",
    "#                     'yes_price':1,\n",
    "#                     'no_price':None,\n",
    "#                     'expiration_ts':None,\n",
    "#                     'sell_position_floor':0,\n",
    "#                     'buy_max_cost':None}\n",
    "\n",
    "# exchange_client.create_order(**order_params)\n",
    "\n",
    "# # EQUIVALENTLY, because buying No is equivalent to selling yes...\n",
    "\n",
    "# order_params = {'ticker':ticker,\n",
    "#                     'client_order_id':str(uuid.uuid4()),\n",
    "#                     'type':'market',\n",
    "#                     'action':'buy',\n",
    "#                     'side':'no',\n",
    "#                     'count':12,\n",
    "#                     'yes_price':1,\n",
    "#                     'no_price':None,\n",
    "#                     'expiration_ts':None,\n",
    "#                     'sell_position_floor':0,\n",
    "#                     'buy_max_cost':None}\n",
    "\n",
    "# exchange_client.create_order(**order_params)             \n"
   ]
  },
  {
   "cell_type": "code",
   "execution_count": null,
   "metadata": {},
   "outputs": [],
   "source": []
  }
 ],
 "metadata": {
  "kernelspec": {
   "display_name": "kalshi",
   "language": "python",
   "name": "python3"
  },
  "language_info": {
   "codemirror_mode": {
    "name": "ipython",
    "version": 3
   },
   "file_extension": ".py",
   "mimetype": "text/x-python",
   "name": "python",
   "nbconvert_exporter": "python",
   "pygments_lexer": "ipython3",
   "version": "3.10.15"
  }
 },
 "nbformat": 4,
 "nbformat_minor": 4
}
