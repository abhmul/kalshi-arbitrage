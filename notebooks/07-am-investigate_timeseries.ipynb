{
 "cells": [
  {
   "cell_type": "code",
   "execution_count": 1,
   "metadata": {},
   "outputs": [],
   "source": [
    "from datetime import datetime, timedelta, date\n",
    "from dateutil.relativedelta import relativedelta\n",
    "from pprint import pprint\n",
    "import json\n",
    "import requests\n",
    "import numpy as np\n",
    "import pandas as pd\n",
    "\n",
    "from src.params import *\n",
    "from src.nws import NWSClient\n",
    "from src.nws import (\n",
    "    fahrenheit_to_celsius,\n",
    "    celsius_to_fahrenheit,\n",
    "    load_clis,\n",
    "    load_one_minutes,\n",
    "    end_of_day,\n",
    "    start_of_day,\n",
    "    in_date_range\n",
    ")"
   ]
  },
  {
   "cell_type": "code",
   "execution_count": 2,
   "metadata": {},
   "outputs": [],
   "source": [
    "nws = NWSClient()"
   ]
  },
  {
   "cell_type": "markdown",
   "metadata": {},
   "source": [
    "# Initial Questions\n",
    "\n",
    "In the long term, I'd like to build a model that can accurately predict the probability of the high temp being in a certain 2 degree range given the available information. Using the link from @BigJ, I now have 1-minute observations on the 4 thermometers MIA, NYC, MDW, and AUS. The first questions:\n",
    "1. @BigJ claims that temps in CLIs are exactly the max of these one-minute readings. Verify this.\n",
    "    - So this is not true... Raises the question of where the CLI result even comes from. Maybe worth checking with NWS again.\n",
    "2. Given (1) is true, what is the variation between the linear interpolation of the 5 minute readings and the 1 minute readings? I'd like to see this both as a timeseries and as a histogram. Same for the precise 1 hour readings. Does it follow a particular distribution?"
   ]
  },
  {
   "cell_type": "code",
   "execution_count": 3,
   "metadata": {},
   "outputs": [
    {
     "name": "stdout",
     "output_type": "stream",
     "text": [
      "[CLI(issuance_time=datetime.datetime(2024, 10, 25, 4, 25, tzinfo=<DstTzInfo 'America/New_York' EDT-1 day, 20:00:00 DST>),\n",
      "     issuing_office='MFL',\n",
      "     summary_date=datetime.date(2024, 10, 24),\n",
      "     raw_text='...',\n",
      "     max_temp=84,\n",
      "     max_temp_time=datetime.datetime(2024, 10, 24, 14, 22, tzinfo=<DstTzInfo 'America/New_York' EDT-1 day, 20:00:00 DST>),\n",
      "     min_temp=73,\n",
      "     min_temp_time=datetime.datetime(2024, 10, 24, 5, 31, tzinfo=<DstTzInfo 'America/New_York' EDT-1 day, 20:00:00 DST>),\n",
      "     avg_temp=79,\n",
      "     valid_time=None),\n",
      " CLI(issuance_time=datetime.datetime(2024, 11, 11, 16, 22, tzinfo=<DstTzInfo 'America/New_York' EST-1 day, 19:00:00 STD>),\n",
      "     issuing_office='MFL',\n",
      "     summary_date=datetime.date(2024, 11, 11),\n",
      "     raw_text='...',\n",
      "     max_temp=87,\n",
      "     max_temp_time=datetime.datetime(2024, 11, 11, 11, 17, tzinfo=<DstTzInfo 'America/New_York' EST-1 day, 19:00:00 STD>),\n",
      "     min_temp=74,\n",
      "     min_temp_time=datetime.datetime(2024, 11, 11, 3, 50, tzinfo=<DstTzInfo 'America/New_York' EST-1 day, 19:00:00 STD>),\n",
      "     avg_temp=81,\n",
      "     valid_time=datetime.datetime(2024, 11, 11, 16, 0, tzinfo=<DstTzInfo 'America/New_York' EST-1 day, 19:00:00 STD>)),\n",
      " CLI(issuance_time=datetime.datetime(2024, 11, 13, 4, 24, tzinfo=<DstTzInfo 'America/New_York' EST-1 day, 19:00:00 STD>),\n",
      "     issuing_office='MFL',\n",
      "     summary_date=datetime.date(2024, 11, 12),\n",
      "     raw_text='...',\n",
      "     max_temp=86,\n",
      "     max_temp_time=datetime.datetime(2024, 11, 12, 12, 14, tzinfo=<DstTzInfo 'America/New_York' EST-1 day, 19:00:00 STD>),\n",
      "     min_temp=78,\n",
      "     min_temp_time=datetime.datetime(2024, 11, 12, 6, 48, tzinfo=<DstTzInfo 'America/New_York' EST-1 day, 19:00:00 STD>),\n",
      "     avg_temp=82,\n",
      "     valid_time=None),\n",
      " CLI(issuance_time=datetime.datetime(2024, 11, 9, 16, 22, tzinfo=<DstTzInfo 'America/New_York' EST-1 day, 19:00:00 STD>),\n",
      "     issuing_office='MFL',\n",
      "     summary_date=datetime.date(2024, 11, 9),\n",
      "     raw_text='...',\n",
      "     max_temp=85,\n",
      "     max_temp_time=datetime.datetime(2024, 11, 9, 14, 22, tzinfo=<DstTzInfo 'America/New_York' EST-1 day, 19:00:00 STD>),\n",
      "     min_temp=77,\n",
      "     min_temp_time=datetime.datetime(2024, 11, 9, 6, 56, tzinfo=<DstTzInfo 'America/New_York' EST-1 day, 19:00:00 STD>),\n",
      "     avg_temp=81,\n",
      "     valid_time=datetime.datetime(2024, 11, 9, 16, 0, tzinfo=<DstTzInfo 'America/New_York' EST-1 day, 19:00:00 STD>)),\n",
      " CLI(issuance_time=datetime.datetime(2024, 11, 14, 16, 22, tzinfo=<DstTzInfo 'America/New_York' EST-1 day, 19:00:00 STD>),\n",
      "     issuing_office='MFL',\n",
      "     summary_date=datetime.date(2024, 11, 14),\n",
      "     raw_text='...',\n",
      "     max_temp=83,\n",
      "     max_temp_time=datetime.datetime(2024, 11, 14, 13, 2, tzinfo=<DstTzInfo 'America/New_York' EST-1 day, 19:00:00 STD>),\n",
      "     min_temp=75,\n",
      "     min_temp_time=datetime.datetime(2024, 11, 14, 6, 53, tzinfo=<DstTzInfo 'America/New_York' EST-1 day, 19:00:00 STD>),\n",
      "     avg_temp=79,\n",
      "     valid_time=datetime.datetime(2024, 11, 14, 16, 0, tzinfo=<DstTzInfo 'America/New_York' EST-1 day, 19:00:00 STD>)),\n",
      " CLI(issuance_time=datetime.datetime(2024, 11, 3, 4, 21, tzinfo=<DstTzInfo 'America/New_York' EST-1 day, 19:00:00 STD>),\n",
      "     issuing_office='MFL',\n",
      "     summary_date=datetime.date(2024, 11, 2),\n",
      "     raw_text='...',\n",
      "     max_temp=85,\n",
      "     max_temp_time=datetime.datetime(2024, 11, 2, 14, 40, tzinfo=<DstTzInfo 'America/New_York' EDT-1 day, 20:00:00 DST>),\n",
      "     min_temp=76,\n",
      "     min_temp_time=datetime.datetime(2024, 11, 2, 9, 31, tzinfo=<DstTzInfo 'America/New_York' EDT-1 day, 20:00:00 DST>),\n",
      "     avg_temp=81,\n",
      "     valid_time=None),\n",
      " CLI(issuance_time=datetime.datetime(2024, 10, 22, 4, 22, tzinfo=<DstTzInfo 'America/New_York' EDT-1 day, 20:00:00 DST>),\n",
      "     issuing_office='MFL',\n",
      "     summary_date=datetime.date(2024, 10, 21),\n",
      "     raw_text='...',\n",
      "     max_temp=86,\n",
      "     max_temp_time=datetime.datetime(2024, 10, 21, 14, 45, tzinfo=<DstTzInfo 'America/New_York' EDT-1 day, 20:00:00 DST>),\n",
      "     min_temp=74,\n",
      "     min_temp_time=datetime.datetime(2024, 10, 21, 7, 5, tzinfo=<DstTzInfo 'America/New_York' EDT-1 day, 20:00:00 DST>),\n",
      "     avg_temp=80,\n",
      "     valid_time=None),\n",
      " CLI(issuance_time=datetime.datetime(2024, 10, 24, 16, 21, tzinfo=<DstTzInfo 'America/New_York' EDT-1 day, 20:00:00 DST>),\n",
      "     issuing_office='MFL',\n",
      "     summary_date=datetime.date(2024, 10, 24),\n",
      "     raw_text='...',\n",
      "     max_temp=84,\n",
      "     max_temp_time=datetime.datetime(2024, 10, 24, 14, 22, tzinfo=<DstTzInfo 'America/New_York' EDT-1 day, 20:00:00 DST>),\n",
      "     min_temp=73,\n",
      "     min_temp_time=datetime.datetime(2024, 10, 24, 5, 31, tzinfo=<DstTzInfo 'America/New_York' EDT-1 day, 20:00:00 DST>),\n",
      "     avg_temp=79,\n",
      "     valid_time=datetime.datetime(2024, 10, 24, 16, 0, tzinfo=<DstTzInfo 'America/New_York' EDT-1 day, 20:00:00 DST>)),\n",
      " CLI(issuance_time=datetime.datetime(2024, 11, 6, 16, 21, tzinfo=<DstTzInfo 'America/New_York' EST-1 day, 19:00:00 STD>),\n",
      "     issuing_office='MFL',\n",
      "     summary_date=datetime.date(2024, 11, 6),\n",
      "     raw_text='...',\n",
      "     max_temp=86,\n",
      "     max_temp_time=datetime.datetime(2024, 11, 6, 12, 42, tzinfo=<DstTzInfo 'America/New_York' EST-1 day, 19:00:00 STD>),\n",
      "     min_temp=81,\n",
      "     min_temp_time=datetime.datetime(2024, 11, 6, 7, 48, tzinfo=<DstTzInfo 'America/New_York' EST-1 day, 19:00:00 STD>),\n",
      "     avg_temp=84,\n",
      "     valid_time=datetime.datetime(2024, 11, 6, 16, 0, tzinfo=<DstTzInfo 'America/New_York' EST-1 day, 19:00:00 STD>)),\n",
      " CLI(issuance_time=datetime.datetime(2024, 11, 11, 4, 21, tzinfo=<DstTzInfo 'America/New_York' EST-1 day, 19:00:00 STD>),\n",
      "     issuing_office='MFL',\n",
      "     summary_date=datetime.date(2024, 11, 10),\n",
      "     raw_text='...',\n",
      "     max_temp=86,\n",
      "     max_temp_time=datetime.datetime(2024, 11, 10, 11, 46, tzinfo=<DstTzInfo 'America/New_York' EST-1 day, 19:00:00 STD>),\n",
      "     min_temp=77,\n",
      "     min_temp_time=datetime.datetime(2024, 11, 10, 23, 59, tzinfo=<DstTzInfo 'America/New_York' EST-1 day, 19:00:00 STD>),\n",
      "     avg_temp=82,\n",
      "     valid_time=None),\n",
      " CLI(issuance_time=datetime.datetime(2024, 10, 23, 16, 40, tzinfo=<DstTzInfo 'America/New_York' EDT-1 day, 20:00:00 DST>),\n",
      "     issuing_office='MFL',\n",
      "     summary_date=datetime.date(2024, 10, 23),\n",
      "     raw_text='...',\n",
      "     max_temp=87,\n",
      "     max_temp_time=datetime.datetime(2024, 10, 23, 13, 26, tzinfo=<DstTzInfo 'America/New_York' EDT-1 day, 20:00:00 DST>),\n",
      "     min_temp=75,\n",
      "     min_temp_time=datetime.datetime(2024, 10, 23, 7, 3, tzinfo=<DstTzInfo 'America/New_York' EDT-1 day, 20:00:00 DST>),\n",
      "     avg_temp=81,\n",
      "     valid_time=datetime.datetime(2024, 10, 23, 16, 0, tzinfo=<DstTzInfo 'America/New_York' EDT-1 day, 20:00:00 DST>)),\n",
      " CLI(issuance_time=datetime.datetime(2024, 10, 29, 4, 21, tzinfo=<DstTzInfo 'America/New_York' EDT-1 day, 20:00:00 DST>),\n",
      "     issuing_office='MFL',\n",
      "     summary_date=datetime.date(2024, 10, 28),\n",
      "     raw_text='...',\n",
      "     max_temp=83,\n",
      "     max_temp_time=datetime.datetime(2024, 10, 28, 12, 32, tzinfo=<DstTzInfo 'America/New_York' EDT-1 day, 20:00:00 DST>),\n",
      "     min_temp=74,\n",
      "     min_temp_time=datetime.datetime(2024, 10, 28, 2, 43, tzinfo=<DstTzInfo 'America/New_York' EDT-1 day, 20:00:00 DST>),\n",
      "     avg_temp=79,\n",
      "     valid_time=None),\n",
      " CLI(issuance_time=datetime.datetime(2024, 10, 25, 16, 38, tzinfo=<DstTzInfo 'America/New_York' EDT-1 day, 20:00:00 DST>),\n",
      "     issuing_office='MFL',\n",
      "     summary_date=datetime.date(2024, 10, 25),\n",
      "     raw_text='...',\n",
      "     max_temp=85,\n",
      "     max_temp_time=datetime.datetime(2024, 10, 25, 13, 40, tzinfo=<DstTzInfo 'America/New_York' EDT-1 day, 20:00:00 DST>),\n",
      "     min_temp=73,\n",
      "     min_temp_time=datetime.datetime(2024, 10, 25, 5, 23, tzinfo=<DstTzInfo 'America/New_York' EDT-1 day, 20:00:00 DST>),\n",
      "     avg_temp=79,\n",
      "     valid_time=datetime.datetime(2024, 10, 25, 16, 0, tzinfo=<DstTzInfo 'America/New_York' EDT-1 day, 20:00:00 DST>)),\n",
      " CLI(issuance_time=datetime.datetime(2024, 10, 29, 16, 23, tzinfo=<DstTzInfo 'America/New_York' EDT-1 day, 20:00:00 DST>),\n",
      "     issuing_office='MFL',\n",
      "     summary_date=datetime.date(2024, 10, 29),\n",
      "     raw_text='...',\n",
      "     max_temp=85,\n",
      "     max_temp_time=datetime.datetime(2024, 10, 29, 14, 55, tzinfo=<DstTzInfo 'America/New_York' EDT-1 day, 20:00:00 DST>),\n",
      "     min_temp=77,\n",
      "     min_temp_time=datetime.datetime(2024, 10, 29, 2, 12, tzinfo=<DstTzInfo 'America/New_York' EDT-1 day, 20:00:00 DST>),\n",
      "     avg_temp=81,\n",
      "     valid_time=datetime.datetime(2024, 10, 29, 16, 0, tzinfo=<DstTzInfo 'America/New_York' EDT-1 day, 20:00:00 DST>)),\n",
      " CLI(issuance_time=datetime.datetime(2024, 10, 26, 16, 21, tzinfo=<DstTzInfo 'America/New_York' EDT-1 day, 20:00:00 DST>),\n",
      "     issuing_office='MFL',\n",
      "     summary_date=datetime.date(2024, 10, 26),\n",
      "     raw_text='...',\n",
      "     max_temp=86,\n",
      "     max_temp_time=datetime.datetime(2024, 10, 26, 12, 30, tzinfo=<DstTzInfo 'America/New_York' EDT-1 day, 20:00:00 DST>),\n",
      "     min_temp=74,\n",
      "     min_temp_time=datetime.datetime(2024, 10, 26, 7, 2, tzinfo=<DstTzInfo 'America/New_York' EDT-1 day, 20:00:00 DST>),\n",
      "     avg_temp=80,\n",
      "     valid_time=datetime.datetime(2024, 10, 26, 16, 0, tzinfo=<DstTzInfo 'America/New_York' EDT-1 day, 20:00:00 DST>)),\n",
      " CLI(issuance_time=datetime.datetime(2024, 10, 30, 16, 26, tzinfo=<DstTzInfo 'America/New_York' EDT-1 day, 20:00:00 DST>),\n",
      "     issuing_office='MFL',\n",
      "     summary_date=datetime.date(2024, 10, 30),\n",
      "     raw_text='...',\n",
      "     max_temp=86,\n",
      "     max_temp_time=datetime.datetime(2024, 10, 30, 13, 39, tzinfo=<DstTzInfo 'America/New_York' EDT-1 day, 20:00:00 DST>),\n",
      "     min_temp=78,\n",
      "     min_temp_time=datetime.datetime(2024, 10, 30, 3, 58, tzinfo=<DstTzInfo 'America/New_York' EDT-1 day, 20:00:00 DST>),\n",
      "     avg_temp=82,\n",
      "     valid_time=datetime.datetime(2024, 10, 30, 16, 0, tzinfo=<DstTzInfo 'America/New_York' EDT-1 day, 20:00:00 DST>)),\n",
      " CLI(issuance_time=datetime.datetime(2024, 10, 23, 4, 22, tzinfo=<DstTzInfo 'America/New_York' EDT-1 day, 20:00:00 DST>),\n",
      "     issuing_office='MFL',\n",
      "     summary_date=datetime.date(2024, 10, 22),\n",
      "     raw_text='...',\n",
      "     max_temp=86,\n",
      "     max_temp_time=datetime.datetime(2024, 10, 22, 13, 47, tzinfo=<DstTzInfo 'America/New_York' EDT-1 day, 20:00:00 DST>),\n",
      "     min_temp=76,\n",
      "     min_temp_time=datetime.datetime(2024, 10, 22, 5, 41, tzinfo=<DstTzInfo 'America/New_York' EDT-1 day, 20:00:00 DST>),\n",
      "     avg_temp=81,\n",
      "     valid_time=None),\n",
      " CLI(issuance_time=datetime.datetime(2024, 11, 6, 4, 26, tzinfo=<DstTzInfo 'America/New_York' EST-1 day, 19:00:00 STD>),\n",
      "     issuing_office='MFL',\n",
      "     summary_date=datetime.date(2024, 11, 5),\n",
      "     raw_text='...',\n",
      "     max_temp=None,\n",
      "     max_temp_time=None,\n",
      "     min_temp=77,\n",
      "     min_temp_time=datetime.datetime(2024, 11, 5, 4, 30, tzinfo=<DstTzInfo 'America/New_York' EST-1 day, 19:00:00 STD>),\n",
      "     avg_temp=None,\n",
      "     valid_time=None),\n",
      " CLI(issuance_time=datetime.datetime(2024, 11, 7, 16, 22, tzinfo=<DstTzInfo 'America/New_York' EST-1 day, 19:00:00 STD>),\n",
      "     issuing_office='MFL',\n",
      "     summary_date=datetime.date(2024, 11, 7),\n",
      "     raw_text='...',\n",
      "     max_temp=85,\n",
      "     max_temp_time=datetime.datetime(2024, 11, 7, 14, 56, tzinfo=<DstTzInfo 'America/New_York' EST-1 day, 19:00:00 STD>),\n",
      "     min_temp=81,\n",
      "     min_temp_time=datetime.datetime(2024, 11, 7, 7, 39, tzinfo=<DstTzInfo 'America/New_York' EST-1 day, 19:00:00 STD>),\n",
      "     avg_temp=83,\n",
      "     valid_time=datetime.datetime(2024, 11, 7, 16, 0, tzinfo=<DstTzInfo 'America/New_York' EST-1 day, 19:00:00 STD>)),\n",
      " CLI(issuance_time=datetime.datetime(2024, 11, 14, 4, 21, tzinfo=<DstTzInfo 'America/New_York' EST-1 day, 19:00:00 STD>),\n",
      "     issuing_office='MFL',\n",
      "     summary_date=datetime.date(2024, 11, 13),\n",
      "     raw_text='...',\n",
      "     max_temp=85,\n",
      "     max_temp_time=datetime.datetime(2024, 11, 13, 11, 35, tzinfo=<DstTzInfo 'America/New_York' EST-1 day, 19:00:00 STD>),\n",
      "     min_temp=77,\n",
      "     min_temp_time=datetime.datetime(2024, 11, 13, 23, 46, tzinfo=<DstTzInfo 'America/New_York' EST-1 day, 19:00:00 STD>),\n",
      "     avg_temp=81,\n",
      "     valid_time=None),\n",
      " CLI(issuance_time=datetime.datetime(2024, 10, 28, 4, 21, tzinfo=<DstTzInfo 'America/New_York' EDT-1 day, 20:00:00 DST>),\n",
      "     issuing_office='MFL',\n",
      "     summary_date=datetime.date(2024, 10, 27),\n",
      "     raw_text='...',\n",
      "     max_temp=83,\n",
      "     max_temp_time=datetime.datetime(2024, 10, 27, 12, 9, tzinfo=<DstTzInfo 'America/New_York' EDT-1 day, 20:00:00 DST>),\n",
      "     min_temp=74,\n",
      "     min_temp_time=datetime.datetime(2024, 10, 27, 7, 14, tzinfo=<DstTzInfo 'America/New_York' EDT-1 day, 20:00:00 DST>),\n",
      "     avg_temp=79,\n",
      "     valid_time=None),\n",
      " CLI(issuance_time=datetime.datetime(2024, 11, 9, 4, 23, tzinfo=<DstTzInfo 'America/New_York' EST-1 day, 19:00:00 STD>),\n",
      "     issuing_office='MFL',\n",
      "     summary_date=datetime.date(2024, 11, 8),\n",
      "     raw_text='...',\n",
      "     max_temp=86,\n",
      "     max_temp_time=datetime.datetime(2024, 11, 8, 12, 56, tzinfo=<DstTzInfo 'America/New_York' EST-1 day, 19:00:00 STD>),\n",
      "     min_temp=77,\n",
      "     min_temp_time=datetime.datetime(2024, 11, 8, 6, 46, tzinfo=<DstTzInfo 'America/New_York' EST-1 day, 19:00:00 STD>),\n",
      "     avg_temp=82,\n",
      "     valid_time=None),\n",
      " CLI(issuance_time=datetime.datetime(2024, 11, 13, 16, 21, tzinfo=<DstTzInfo 'America/New_York' EST-1 day, 19:00:00 STD>),\n",
      "     issuing_office='MFL',\n",
      "     summary_date=datetime.date(2024, 11, 13),\n",
      "     raw_text='...',\n",
      "     max_temp=85,\n",
      "     max_temp_time=datetime.datetime(2024, 11, 13, 11, 35, tzinfo=<DstTzInfo 'America/New_York' EST-1 day, 19:00:00 STD>),\n",
      "     min_temp=78,\n",
      "     min_temp_time=datetime.datetime(2024, 11, 13, 7, 20, tzinfo=<DstTzInfo 'America/New_York' EST-1 day, 19:00:00 STD>),\n",
      "     avg_temp=82,\n",
      "     valid_time=datetime.datetime(2024, 11, 13, 16, 0, tzinfo=<DstTzInfo 'America/New_York' EST-1 day, 19:00:00 STD>)),\n",
      " CLI(issuance_time=datetime.datetime(2024, 11, 5, 16, 32, tzinfo=<DstTzInfo 'America/New_York' EST-1 day, 19:00:00 STD>),\n",
      "     issuing_office='MFL',\n",
      "     summary_date=datetime.date(2024, 11, 5),\n",
      "     raw_text='...',\n",
      "     max_temp=None,\n",
      "     max_temp_time=None,\n",
      "     min_temp=77,\n",
      "     min_temp_time=datetime.datetime(2024, 11, 5, 4, 30, tzinfo=<DstTzInfo 'America/New_York' EST-1 day, 19:00:00 STD>),\n",
      "     avg_temp=None,\n",
      "     valid_time=datetime.datetime(2024, 11, 5, 16, 0, tzinfo=<DstTzInfo 'America/New_York' EST-1 day, 19:00:00 STD>)),\n",
      " CLI(issuance_time=datetime.datetime(2024, 10, 27, 16, 22, tzinfo=<DstTzInfo 'America/New_York' EDT-1 day, 20:00:00 DST>),\n",
      "     issuing_office='MFL',\n",
      "     summary_date=datetime.date(2024, 10, 27),\n",
      "     raw_text='...',\n",
      "     max_temp=83,\n",
      "     max_temp_time=datetime.datetime(2024, 10, 27, 12, 9, tzinfo=<DstTzInfo 'America/New_York' EDT-1 day, 20:00:00 DST>),\n",
      "     min_temp=74,\n",
      "     min_temp_time=datetime.datetime(2024, 10, 27, 7, 14, tzinfo=<DstTzInfo 'America/New_York' EDT-1 day, 20:00:00 DST>),\n",
      "     avg_temp=79,\n",
      "     valid_time=datetime.datetime(2024, 10, 27, 16, 0, tzinfo=<DstTzInfo 'America/New_York' EDT-1 day, 20:00:00 DST>)),\n",
      " CLI(issuance_time=datetime.datetime(2024, 11, 12, 16, 21, tzinfo=<DstTzInfo 'America/New_York' EST-1 day, 19:00:00 STD>),\n",
      "     issuing_office='MFL',\n",
      "     summary_date=datetime.date(2024, 11, 12),\n",
      "     raw_text='...',\n",
      "     max_temp=86,\n",
      "     max_temp_time=datetime.datetime(2024, 11, 12, 12, 14, tzinfo=<DstTzInfo 'America/New_York' EST-1 day, 19:00:00 STD>),\n",
      "     min_temp=78,\n",
      "     min_temp_time=datetime.datetime(2024, 11, 12, 6, 48, tzinfo=<DstTzInfo 'America/New_York' EST-1 day, 19:00:00 STD>),\n",
      "     avg_temp=82,\n",
      "     valid_time=datetime.datetime(2024, 11, 12, 16, 0, tzinfo=<DstTzInfo 'America/New_York' EST-1 day, 19:00:00 STD>)),\n",
      " CLI(issuance_time=datetime.datetime(2024, 11, 4, 16, 23, tzinfo=<DstTzInfo 'America/New_York' EST-1 day, 19:00:00 STD>),\n",
      "     issuing_office='MFL',\n",
      "     summary_date=datetime.date(2024, 11, 4),\n",
      "     raw_text='...',\n",
      "     max_temp=85,\n",
      "     max_temp_time=datetime.datetime(2024, 11, 4, 14, 44, tzinfo=<DstTzInfo 'America/New_York' EST-1 day, 19:00:00 STD>),\n",
      "     min_temp=76,\n",
      "     min_temp_time=datetime.datetime(2024, 11, 4, 6, 44, tzinfo=<DstTzInfo 'America/New_York' EST-1 day, 19:00:00 STD>),\n",
      "     avg_temp=81,\n",
      "     valid_time=datetime.datetime(2024, 11, 4, 16, 0, tzinfo=<DstTzInfo 'America/New_York' EST-1 day, 19:00:00 STD>)),\n",
      " CLI(issuance_time=datetime.datetime(2024, 11, 7, 4, 30, tzinfo=<DstTzInfo 'America/New_York' EST-1 day, 19:00:00 STD>),\n",
      "     issuing_office='MFL',\n",
      "     summary_date=datetime.date(2024, 11, 6),\n",
      "     raw_text='...',\n",
      "     max_temp=86,\n",
      "     max_temp_time=datetime.datetime(2024, 11, 6, 12, 42, tzinfo=<DstTzInfo 'America/New_York' EST-1 day, 19:00:00 STD>),\n",
      "     min_temp=81,\n",
      "     min_temp_time=datetime.datetime(2024, 11, 6, 7, 48, tzinfo=<DstTzInfo 'America/New_York' EST-1 day, 19:00:00 STD>),\n",
      "     avg_temp=84,\n",
      "     valid_time=None),\n",
      " CLI(issuance_time=datetime.datetime(2024, 11, 3, 16, 21, tzinfo=<DstTzInfo 'America/New_York' EST-1 day, 19:00:00 STD>),\n",
      "     issuing_office='MFL',\n",
      "     summary_date=datetime.date(2024, 11, 3),\n",
      "     raw_text='...',\n",
      "     max_temp=85,\n",
      "     max_temp_time=datetime.datetime(2024, 11, 3, 13, 56, tzinfo=<DstTzInfo 'America/New_York' EST-1 day, 19:00:00 STD>),\n",
      "     min_temp=77,\n",
      "     min_temp_time=datetime.datetime(2024, 11, 3, 5, 31, tzinfo=<DstTzInfo 'America/New_York' EST-1 day, 19:00:00 STD>),\n",
      "     avg_temp=81,\n",
      "     valid_time=datetime.datetime(2024, 11, 3, 16, 0, tzinfo=<DstTzInfo 'America/New_York' EST-1 day, 19:00:00 STD>)),\n",
      " CLI(issuance_time=datetime.datetime(2024, 11, 10, 16, 23, tzinfo=<DstTzInfo 'America/New_York' EST-1 day, 19:00:00 STD>),\n",
      "     issuing_office='MFL',\n",
      "     summary_date=datetime.date(2024, 11, 10),\n",
      "     raw_text='...',\n",
      "     max_temp=86,\n",
      "     max_temp_time=datetime.datetime(2024, 11, 10, 11, 46, tzinfo=<DstTzInfo 'America/New_York' EST-1 day, 19:00:00 STD>),\n",
      "     min_temp=77,\n",
      "     min_temp_time=datetime.datetime(2024, 11, 10, 4, 29, tzinfo=<DstTzInfo 'America/New_York' EST-1 day, 19:00:00 STD>),\n",
      "     avg_temp=82,\n",
      "     valid_time=datetime.datetime(2024, 11, 10, 16, 0, tzinfo=<DstTzInfo 'America/New_York' EST-1 day, 19:00:00 STD>)),\n",
      " CLI(issuance_time=datetime.datetime(2024, 10, 24, 4, 24, tzinfo=<DstTzInfo 'America/New_York' EDT-1 day, 20:00:00 DST>),\n",
      "     issuing_office='MFL',\n",
      "     summary_date=datetime.date(2024, 10, 23),\n",
      "     raw_text='...',\n",
      "     max_temp=87,\n",
      "     max_temp_time=datetime.datetime(2024, 10, 23, 13, 26, tzinfo=<DstTzInfo 'America/New_York' EDT-1 day, 20:00:00 DST>),\n",
      "     min_temp=75,\n",
      "     min_temp_time=datetime.datetime(2024, 10, 23, 23, 59, tzinfo=<DstTzInfo 'America/New_York' EDT-1 day, 20:00:00 DST>),\n",
      "     avg_temp=81,\n",
      "     valid_time=None),\n",
      " CLI(issuance_time=datetime.datetime(2024, 10, 22, 16, 22, tzinfo=<DstTzInfo 'America/New_York' EDT-1 day, 20:00:00 DST>),\n",
      "     issuing_office='MFL',\n",
      "     summary_date=datetime.date(2024, 10, 22),\n",
      "     raw_text='...',\n",
      "     max_temp=86,\n",
      "     max_temp_time=datetime.datetime(2024, 10, 22, 13, 47, tzinfo=<DstTzInfo 'America/New_York' EDT-1 day, 20:00:00 DST>),\n",
      "     min_temp=76,\n",
      "     min_temp_time=datetime.datetime(2024, 10, 22, 5, 41, tzinfo=<DstTzInfo 'America/New_York' EDT-1 day, 20:00:00 DST>),\n",
      "     avg_temp=81,\n",
      "     valid_time=datetime.datetime(2024, 10, 22, 16, 0, tzinfo=<DstTzInfo 'America/New_York' EDT-1 day, 20:00:00 DST>)),\n",
      " CLI(issuance_time=datetime.datetime(2024, 11, 12, 4, 21, tzinfo=<DstTzInfo 'America/New_York' EST-1 day, 19:00:00 STD>),\n",
      "     issuing_office='MFL',\n",
      "     summary_date=datetime.date(2024, 11, 11),\n",
      "     raw_text='...',\n",
      "     max_temp=87,\n",
      "     max_temp_time=datetime.datetime(2024, 11, 11, 11, 17, tzinfo=<DstTzInfo 'America/New_York' EST-1 day, 19:00:00 STD>),\n",
      "     min_temp=74,\n",
      "     min_temp_time=datetime.datetime(2024, 11, 11, 3, 50, tzinfo=<DstTzInfo 'America/New_York' EST-1 day, 19:00:00 STD>),\n",
      "     avg_temp=81,\n",
      "     valid_time=None),\n",
      " CLI(issuance_time=datetime.datetime(2024, 10, 26, 4, 21, tzinfo=<DstTzInfo 'America/New_York' EDT-1 day, 20:00:00 DST>),\n",
      "     issuing_office='MFL',\n",
      "     summary_date=datetime.date(2024, 10, 25),\n",
      "     raw_text='...',\n",
      "     max_temp=85,\n",
      "     max_temp_time=datetime.datetime(2024, 10, 25, 13, 40, tzinfo=<DstTzInfo 'America/New_York' EDT-1 day, 20:00:00 DST>),\n",
      "     min_temp=73,\n",
      "     min_temp_time=datetime.datetime(2024, 10, 25, 5, 23, tzinfo=<DstTzInfo 'America/New_York' EDT-1 day, 20:00:00 DST>),\n",
      "     avg_temp=79,\n",
      "     valid_time=None),\n",
      " CLI(issuance_time=datetime.datetime(2024, 11, 15, 16, 21, tzinfo=<DstTzInfo 'America/New_York' EST-1 day, 19:00:00 STD>),\n",
      "     issuing_office='MFL',\n",
      "     summary_date=datetime.date(2024, 11, 15),\n",
      "     raw_text='...',\n",
      "     max_temp=87,\n",
      "     max_temp_time=datetime.datetime(2024, 11, 15, 14, 34, tzinfo=<DstTzInfo 'America/New_York' EST-1 day, 19:00:00 STD>),\n",
      "     min_temp=70,\n",
      "     min_temp_time=datetime.datetime(2024, 11, 15, 3, 50, tzinfo=<DstTzInfo 'America/New_York' EST-1 day, 19:00:00 STD>),\n",
      "     avg_temp=79,\n",
      "     valid_time=datetime.datetime(2024, 11, 15, 16, 0, tzinfo=<DstTzInfo 'America/New_York' EST-1 day, 19:00:00 STD>)),\n",
      " CLI(issuance_time=datetime.datetime(2024, 10, 31, 16, 40, tzinfo=<DstTzInfo 'America/New_York' EDT-1 day, 20:00:00 DST>),\n",
      "     issuing_office='MFL',\n",
      "     summary_date=datetime.date(2024, 10, 31),\n",
      "     raw_text='...',\n",
      "     max_temp=85,\n",
      "     max_temp_time=datetime.datetime(2024, 10, 31, 13, 2, tzinfo=<DstTzInfo 'America/New_York' EDT-1 day, 20:00:00 DST>),\n",
      "     min_temp=76,\n",
      "     min_temp_time=datetime.datetime(2024, 10, 31, 6, 0, tzinfo=<DstTzInfo 'America/New_York' EDT-1 day, 20:00:00 DST>),\n",
      "     avg_temp=81,\n",
      "     valid_time=datetime.datetime(2024, 10, 31, 16, 0, tzinfo=<DstTzInfo 'America/New_York' EDT-1 day, 20:00:00 DST>)),\n",
      " CLI(issuance_time=datetime.datetime(2024, 11, 1, 16, 40, tzinfo=<DstTzInfo 'America/New_York' EDT-1 day, 20:00:00 DST>),\n",
      "     issuing_office='MFL',\n",
      "     summary_date=datetime.date(2024, 11, 1),\n",
      "     raw_text='...',\n",
      "     max_temp=86,\n",
      "     max_temp_time=datetime.datetime(2024, 11, 1, 13, 36, tzinfo=<DstTzInfo 'America/New_York' EDT-1 day, 20:00:00 DST>),\n",
      "     min_temp=77,\n",
      "     min_temp_time=datetime.datetime(2024, 11, 1, 4, 0, tzinfo=<DstTzInfo 'America/New_York' EDT-1 day, 20:00:00 DST>),\n",
      "     avg_temp=82,\n",
      "     valid_time=datetime.datetime(2024, 11, 1, 16, 0, tzinfo=<DstTzInfo 'America/New_York' EDT-1 day, 20:00:00 DST>)),\n",
      " CLI(issuance_time=datetime.datetime(2024, 11, 8, 16, 21, tzinfo=<DstTzInfo 'America/New_York' EST-1 day, 19:00:00 STD>),\n",
      "     issuing_office='MFL',\n",
      "     summary_date=datetime.date(2024, 11, 8),\n",
      "     raw_text='...',\n",
      "     max_temp=86,\n",
      "     max_temp_time=datetime.datetime(2024, 11, 8, 12, 56, tzinfo=<DstTzInfo 'America/New_York' EST-1 day, 19:00:00 STD>),\n",
      "     min_temp=77,\n",
      "     min_temp_time=datetime.datetime(2024, 11, 8, 6, 46, tzinfo=<DstTzInfo 'America/New_York' EST-1 day, 19:00:00 STD>),\n",
      "     avg_temp=82,\n",
      "     valid_time=datetime.datetime(2024, 11, 8, 16, 0, tzinfo=<DstTzInfo 'America/New_York' EST-1 day, 19:00:00 STD>)),\n",
      " CLI(issuance_time=datetime.datetime(2024, 11, 10, 4, 21, tzinfo=<DstTzInfo 'America/New_York' EST-1 day, 19:00:00 STD>),\n",
      "     issuing_office='MFL',\n",
      "     summary_date=datetime.date(2024, 11, 9),\n",
      "     raw_text='...',\n",
      "     max_temp=85,\n",
      "     max_temp_time=datetime.datetime(2024, 11, 9, 14, 22, tzinfo=<DstTzInfo 'America/New_York' EST-1 day, 19:00:00 STD>),\n",
      "     min_temp=77,\n",
      "     min_temp_time=datetime.datetime(2024, 11, 9, 6, 56, tzinfo=<DstTzInfo 'America/New_York' EST-1 day, 19:00:00 STD>),\n",
      "     avg_temp=81,\n",
      "     valid_time=None),\n",
      " CLI(issuance_time=datetime.datetime(2024, 11, 5, 4, 21, tzinfo=<DstTzInfo 'America/New_York' EST-1 day, 19:00:00 STD>),\n",
      "     issuing_office='MFL',\n",
      "     summary_date=datetime.date(2024, 11, 4),\n",
      "     raw_text='...',\n",
      "     max_temp=85,\n",
      "     max_temp_time=datetime.datetime(2024, 11, 4, 14, 44, tzinfo=<DstTzInfo 'America/New_York' EST-1 day, 19:00:00 STD>),\n",
      "     min_temp=76,\n",
      "     min_temp_time=datetime.datetime(2024, 11, 4, 23, 34, tzinfo=<DstTzInfo 'America/New_York' EST-1 day, 19:00:00 STD>),\n",
      "     avg_temp=81,\n",
      "     valid_time=None),\n",
      " CLI(issuance_time=datetime.datetime(2024, 11, 4, 4, 22, tzinfo=<DstTzInfo 'America/New_York' EST-1 day, 19:00:00 STD>),\n",
      "     issuing_office='MFL',\n",
      "     summary_date=datetime.date(2024, 11, 3),\n",
      "     raw_text='...',\n",
      "     max_temp=85,\n",
      "     max_temp_time=datetime.datetime(2024, 11, 3, 13, 56, tzinfo=<DstTzInfo 'America/New_York' EST-1 day, 19:00:00 STD>),\n",
      "     min_temp=74,\n",
      "     min_temp_time=datetime.datetime(2024, 11, 3, 18, 53, tzinfo=<DstTzInfo 'America/New_York' EST-1 day, 19:00:00 STD>),\n",
      "     avg_temp=80,\n",
      "     valid_time=None),\n",
      " CLI(issuance_time=datetime.datetime(2024, 11, 8, 4, 22, tzinfo=<DstTzInfo 'America/New_York' EST-1 day, 19:00:00 STD>),\n",
      "     issuing_office='MFL',\n",
      "     summary_date=datetime.date(2024, 11, 7),\n",
      "     raw_text='...',\n",
      "     max_temp=85,\n",
      "     max_temp_time=datetime.datetime(2024, 11, 7, 14, 56, tzinfo=<DstTzInfo 'America/New_York' EST-1 day, 19:00:00 STD>),\n",
      "     min_temp=80,\n",
      "     min_temp_time=datetime.datetime(2024, 11, 7, 23, 59, tzinfo=<DstTzInfo 'America/New_York' EST-1 day, 19:00:00 STD>),\n",
      "     avg_temp=83,\n",
      "     valid_time=None),\n",
      " CLI(issuance_time=datetime.datetime(2024, 10, 27, 4, 21, tzinfo=<DstTzInfo 'America/New_York' EDT-1 day, 20:00:00 DST>),\n",
      "     issuing_office='MFL',\n",
      "     summary_date=datetime.date(2024, 10, 26),\n",
      "     raw_text='...',\n",
      "     max_temp=86,\n",
      "     max_temp_time=datetime.datetime(2024, 10, 26, 12, 30, tzinfo=<DstTzInfo 'America/New_York' EDT-1 day, 20:00:00 DST>),\n",
      "     min_temp=74,\n",
      "     min_temp_time=datetime.datetime(2024, 10, 26, 7, 2, tzinfo=<DstTzInfo 'America/New_York' EDT-1 day, 20:00:00 DST>),\n",
      "     avg_temp=80,\n",
      "     valid_time=None),\n",
      " CLI(issuance_time=datetime.datetime(2024, 10, 31, 4, 23, tzinfo=<DstTzInfo 'America/New_York' EDT-1 day, 20:00:00 DST>),\n",
      "     issuing_office='MFL',\n",
      "     summary_date=datetime.date(2024, 10, 30),\n",
      "     raw_text='...',\n",
      "     max_temp=86,\n",
      "     max_temp_time=datetime.datetime(2024, 10, 30, 13, 39, tzinfo=<DstTzInfo 'America/New_York' EDT-1 day, 20:00:00 DST>),\n",
      "     min_temp=75,\n",
      "     min_temp_time=datetime.datetime(2024, 10, 30, 19, 54, tzinfo=<DstTzInfo 'America/New_York' EDT-1 day, 20:00:00 DST>),\n",
      "     avg_temp=81,\n",
      "     valid_time=None),\n",
      " CLI(issuance_time=datetime.datetime(2024, 11, 1, 4, 22, tzinfo=<DstTzInfo 'America/New_York' EDT-1 day, 20:00:00 DST>),\n",
      "     issuing_office='MFL',\n",
      "     summary_date=datetime.date(2024, 10, 31),\n",
      "     raw_text='...',\n",
      "     max_temp=85,\n",
      "     max_temp_time=datetime.datetime(2024, 10, 31, 13, 2, tzinfo=<DstTzInfo 'America/New_York' EDT-1 day, 20:00:00 DST>),\n",
      "     min_temp=76,\n",
      "     min_temp_time=datetime.datetime(2024, 10, 31, 6, 0, tzinfo=<DstTzInfo 'America/New_York' EDT-1 day, 20:00:00 DST>),\n",
      "     avg_temp=81,\n",
      "     valid_time=None),\n",
      " CLI(issuance_time=datetime.datetime(2024, 11, 2, 16, 27, tzinfo=<DstTzInfo 'America/New_York' EDT-1 day, 20:00:00 DST>),\n",
      "     issuing_office='MFL',\n",
      "     summary_date=datetime.date(2024, 11, 2),\n",
      "     raw_text='...',\n",
      "     max_temp=85,\n",
      "     max_temp_time=datetime.datetime(2024, 11, 2, 14, 40, tzinfo=<DstTzInfo 'America/New_York' EDT-1 day, 20:00:00 DST>),\n",
      "     min_temp=76,\n",
      "     min_temp_time=datetime.datetime(2024, 11, 2, 9, 31, tzinfo=<DstTzInfo 'America/New_York' EDT-1 day, 20:00:00 DST>),\n",
      "     avg_temp=81,\n",
      "     valid_time=datetime.datetime(2024, 11, 2, 16, 0, tzinfo=<DstTzInfo 'America/New_York' EDT-1 day, 20:00:00 DST>)),\n",
      " CLI(issuance_time=datetime.datetime(2024, 11, 2, 4, 22, tzinfo=<DstTzInfo 'America/New_York' EDT-1 day, 20:00:00 DST>),\n",
      "     issuing_office='MFL',\n",
      "     summary_date=datetime.date(2024, 11, 1),\n",
      "     raw_text='...',\n",
      "     max_temp=86,\n",
      "     max_temp_time=datetime.datetime(2024, 11, 1, 13, 36, tzinfo=<DstTzInfo 'America/New_York' EDT-1 day, 20:00:00 DST>),\n",
      "     min_temp=77,\n",
      "     min_temp_time=datetime.datetime(2024, 11, 1, 4, 0, tzinfo=<DstTzInfo 'America/New_York' EDT-1 day, 20:00:00 DST>),\n",
      "     avg_temp=82,\n",
      "     valid_time=None),\n",
      " CLI(issuance_time=datetime.datetime(2024, 10, 30, 4, 26, tzinfo=<DstTzInfo 'America/New_York' EDT-1 day, 20:00:00 DST>),\n",
      "     issuing_office='MFL',\n",
      "     summary_date=datetime.date(2024, 10, 29),\n",
      "     raw_text='...',\n",
      "     max_temp=85,\n",
      "     max_temp_time=datetime.datetime(2024, 10, 29, 14, 55, tzinfo=<DstTzInfo 'America/New_York' EDT-1 day, 20:00:00 DST>),\n",
      "     min_temp=77,\n",
      "     min_temp_time=datetime.datetime(2024, 10, 29, 2, 12, tzinfo=<DstTzInfo 'America/New_York' EDT-1 day, 20:00:00 DST>),\n",
      "     avg_temp=81,\n",
      "     valid_time=None),\n",
      " CLI(issuance_time=datetime.datetime(2024, 10, 28, 16, 21, tzinfo=<DstTzInfo 'America/New_York' EDT-1 day, 20:00:00 DST>),\n",
      "     issuing_office='MFL',\n",
      "     summary_date=datetime.date(2024, 10, 28),\n",
      "     raw_text='...',\n",
      "     max_temp=83,\n",
      "     max_temp_time=datetime.datetime(2024, 10, 28, 12, 32, tzinfo=<DstTzInfo 'America/New_York' EDT-1 day, 20:00:00 DST>),\n",
      "     min_temp=74,\n",
      "     min_temp_time=datetime.datetime(2024, 10, 28, 2, 43, tzinfo=<DstTzInfo 'America/New_York' EDT-1 day, 20:00:00 DST>),\n",
      "     avg_temp=79,\n",
      "     valid_time=datetime.datetime(2024, 10, 28, 16, 0, tzinfo=<DstTzInfo 'America/New_York' EDT-1 day, 20:00:00 DST>)),\n",
      " CLI(issuance_time=datetime.datetime(2024, 11, 15, 4, 21, tzinfo=<DstTzInfo 'America/New_York' EST-1 day, 19:00:00 STD>),\n",
      "     issuing_office='MFL',\n",
      "     summary_date=datetime.date(2024, 11, 14),\n",
      "     raw_text='...',\n",
      "     max_temp=83,\n",
      "     max_temp_time=datetime.datetime(2024, 11, 14, 13, 2, tzinfo=<DstTzInfo 'America/New_York' EST-1 day, 19:00:00 STD>),\n",
      "     min_temp=74,\n",
      "     min_temp_time=datetime.datetime(2024, 11, 14, 23, 59, tzinfo=<DstTzInfo 'America/New_York' EST-1 day, 19:00:00 STD>),\n",
      "     avg_temp=79,\n",
      "     valid_time=None)]\n"
     ]
    }
   ],
   "source": [
    "# Verify that CLI maxes are same as max of 1-minute observations\n",
    "# Load all the CLIS\n",
    "station = StationID.MIA\n",
    "\n",
    "clis = load_clis(station)\n",
    "\n",
    "pprint([cli.without_raw_text() for cli in clis])"
   ]
  },
  {
   "cell_type": "code",
   "execution_count": 4,
   "metadata": {},
   "outputs": [],
   "source": [
    "# Throw out any CLIs missing max temperature\n",
    "clis = [cli for cli in clis if cli.max_temp is not None]\n",
    "# Sort clis by date\n",
    "clis = sorted(clis, key=lambda cli: cli.summary_date)"
   ]
  },
  {
   "cell_type": "code",
   "execution_count": 5,
   "metadata": {},
   "outputs": [
    {
     "name": "stdout",
     "output_type": "stream",
     "text": [
      "[PosixPath('../data/inputs/one_minute/MIA/one_minute.MIA.start-2010-05-01T00-00-00.end-2010-05-31T23-59-00.csv'), PosixPath('../data/inputs/one_minute/MIA/one_minute.MIA.start-2019-03-29T17-13-00.end-2019-03-31T23-59-00.csv'), PosixPath('../data/inputs/one_minute/MIA/one_minute.MIA.start-2003-11-03T04-39-00.end-2003-11-30T23-59-00.csv'), PosixPath('../data/inputs/one_minute/MIA/one_minute.MIA.start-2018-09-01T00-00-00.end-2018-09-30T23-59-00.csv'), PosixPath('../data/inputs/one_minute/MIA/one_minute.MIA.start-2019-07-01T00-00-00.end-2019-07-31T23-59-00.csv'), PosixPath('../data/inputs/one_minute/MIA/one_minute.MIA.start-2008-02-01T00-00-00.end-2008-02-28T15-34-00.csv'), PosixPath('../data/inputs/one_minute/MIA/one_minute.MIA.start-2002-08-01T00-00-00.end-2002-08-31T23-59-00.csv'), PosixPath('../data/inputs/one_minute/MIA/one_minute.MIA.start-2005-07-01T00-00-00.end-2005-07-31T23-59-00.csv'), PosixPath('../data/inputs/one_minute/MIA/one_minute.MIA.start-2022-11-01T01-00-00.end-2022-11-30T07-57-00.csv'), PosixPath('../data/inputs/one_minute/MIA/one_minute.MIA.start-2022-04-01T01-00-00.end-2022-04-30T08-57-00.csv'), PosixPath('../data/inputs/one_minute/MIA/one_minute.MIA.start-2014-07-01T00-00-00.end-2014-07-31T23-59-00.csv'), PosixPath('../data/inputs/one_minute/MIA/one_minute.MIA.start-2008-04-01T00-00-00.end-2008-04-30T23-59-00.csv'), PosixPath('../data/inputs/one_minute/MIA/one_minute.MIA.start-2014-02-01T00-00-00.end-2014-02-28T23-59-00.csv'), PosixPath('../data/inputs/one_minute/MIA/one_minute.MIA.start-2006-07-01T00-00-00.end-2006-07-31T23-59-00.csv'), PosixPath('../data/inputs/one_minute/MIA/one_minute.MIA.start-2012-04-01T00-00-00.end-2012-04-30T23-59-00.csv'), PosixPath('../data/inputs/one_minute/MIA/one_minute.MIA.start-2024-10-02T18-43-00.end-2024-10-31T23-59-00.csv'), PosixPath('../data/inputs/one_minute/MIA/one_minute.MIA.start-2020-11-01T01-00-00.end-2020-11-30T09-04-00.csv'), PosixPath('../data/inputs/one_minute/MIA/one_minute.MIA.start-2007-12-01T00-00-00.end-2007-12-31T19-48-00.csv'), PosixPath('../data/inputs/one_minute/MIA/one_minute.MIA.start-2008-09-01T00-00-00.end-2008-09-30T23-59-00.csv'), PosixPath('../data/inputs/one_minute/MIA/one_minute.MIA.start-2019-08-01T00-00-00.end-2019-08-31T20-31-00.csv'), PosixPath('../data/inputs/one_minute/MIA/one_minute.MIA.start-2017-05-01T00-00-00.end-2017-05-31T23-59-00.csv'), PosixPath('../data/inputs/one_minute/MIA/one_minute.MIA.start-2001-01-01T00-00-00.end-2001-01-31T23-59-00.csv'), PosixPath('../data/inputs/one_minute/MIA/one_minute.MIA.start-2012-08-01T16-11-00.end-2012-08-31T23-59-00.csv'), PosixPath('../data/inputs/one_minute/MIA/one_minute.MIA.start-2016-03-01T00-00-00.end-2016-03-31T23-59-00.csv'), PosixPath('../data/inputs/one_minute/MIA/one_minute.MIA.start-2011-03-01T00-00-00.end-2011-03-31T23-59-00.csv'), PosixPath('../data/inputs/one_minute/MIA/one_minute.MIA.start-2011-06-01T00-00-00.end-2011-06-30T23-59-00.csv'), PosixPath('../data/inputs/one_minute/MIA/one_minute.MIA.start-2010-03-01T00-00-00.end-2010-03-31T23-59-00.csv'), PosixPath('../data/inputs/one_minute/MIA/one_minute.MIA.start-2009-07-01T00-00-00.end-2009-07-31T23-59-00.csv'), PosixPath('../data/inputs/one_minute/MIA/one_minute.MIA.start-2024-03-01T00-00-00.end-2024-03-31T23-59-00.csv'), PosixPath('../data/inputs/one_minute/MIA/one_minute.MIA.start-2022-05-01T01-00-00.end-2022-05-31T11-02-00.csv'), PosixPath('../data/inputs/one_minute/MIA/one_minute.MIA.start-2010-01-01T06-24-00.end-2010-01-31T23-59-00.csv'), PosixPath('../data/inputs/one_minute/MIA/one_minute.MIA.start-2008-07-01T00-00-00.end-2008-07-31T23-59-00.csv'), PosixPath('../data/inputs/one_minute/MIA/one_minute.MIA.start-2005-11-01T00-00-00.end-2005-11-30T23-59-00.csv'), PosixPath('../data/inputs/one_minute/MIA/one_minute.MIA.start-2004-06-01T00-00-00.end-2004-06-30T23-59-00.csv'), PosixPath('../data/inputs/one_minute/MIA/one_minute.MIA.start-2005-05-01T00-00-00.end-2005-05-31T23-59-00.csv'), PosixPath('../data/inputs/one_minute/MIA/one_minute.MIA.start-2015-11-01T00-00-00.end-2015-11-30T23-59-00.csv'), PosixPath('../data/inputs/one_minute/MIA/one_minute.MIA.start-2013-10-01T00-00-00.end-2013-10-31T23-59-00.csv'), PosixPath('../data/inputs/one_minute/MIA/one_minute.MIA.start-2016-09-01T00-00-00.end-2016-09-30T23-59-00.csv'), PosixPath('../data/inputs/one_minute/MIA/one_minute.MIA.start-2012-01-01T06-13-00.end-2012-01-31T23-59-00.csv'), PosixPath('../data/inputs/one_minute/MIA/one_minute.MIA.start-2005-06-01T00-00-00.end-2005-06-30T23-59-00.csv'), PosixPath('../data/inputs/one_minute/MIA/one_minute.MIA.start-2002-04-01T00-00-00.end-2002-04-30T23-59-00.csv'), PosixPath('../data/inputs/one_minute/MIA/one_minute.MIA.start-2016-05-01T00-00-00.end-2016-05-31T23-59-00.csv'), PosixPath('../data/inputs/one_minute/MIA/one_minute.MIA.start-2010-08-01T00-00-00.end-2010-08-31T23-59-00.csv'), PosixPath('../data/inputs/one_minute/MIA/one_minute.MIA.start-2004-03-01T00-00-00.end-2004-03-31T23-59-00.csv'), PosixPath('../data/inputs/one_minute/MIA/one_minute.MIA.start-2011-01-01T01-27-00.end-2011-01-31T23-59-00.csv'), PosixPath('../data/inputs/one_minute/MIA/one_minute.MIA.start-2007-08-01T00-00-00.end-2007-08-31T23-59-00.csv'), PosixPath('../data/inputs/one_minute/MIA/one_minute.MIA.start-2005-08-01T00-00-00.end-2005-08-31T11-27-00.csv'), PosixPath('../data/inputs/one_minute/MIA/one_minute.MIA.start-2005-02-01T00-00-00.end-2005-02-28T23-59-00.csv'), PosixPath('../data/inputs/one_minute/MIA/one_minute.MIA.start-2023-05-01T01-00-00.end-2023-05-31T09-03-00.csv'), PosixPath('../data/inputs/one_minute/MIA/one_minute.MIA.start-2004-12-01T00-00-00.end-2004-12-31T23-59-00.csv'), PosixPath('../data/inputs/one_minute/MIA/one_minute.MIA.start-2000-04-01T00-00-00.end-2000-04-30T23-59-00.csv'), PosixPath('../data/inputs/one_minute/MIA/one_minute.MIA.start-2014-09-01T00-00-00.end-2014-09-30T23-59-00.csv'), PosixPath('../data/inputs/one_minute/MIA/one_minute.MIA.start-2015-12-01T00-00-00.end-2015-12-31T19-11-00.csv'), PosixPath('../data/inputs/one_minute/MIA/one_minute.MIA.start-2000-06-01T00-00-00.end-2000-06-30T23-59-00.csv'), PosixPath('../data/inputs/one_minute/MIA/one_minute.MIA.start-2016-10-01T00-00-00.end-2016-10-31T23-59-00.csv'), PosixPath('../data/inputs/one_minute/MIA/one_minute.MIA.start-2004-07-01T00-00-00.end-2004-07-31T23-59-00.csv'), PosixPath('../data/inputs/one_minute/MIA/one_minute.MIA.start-2023-01-01T00-00-00.end-2023-01-31T08-05-00.csv'), PosixPath('../data/inputs/one_minute/MIA/one_minute.MIA.start-2013-11-01T00-00-00.end-2013-11-30T23-59-00.csv'), PosixPath('../data/inputs/one_minute/MIA/one_minute.MIA.start-2021-07-01T01-00-00.end-2021-07-31T07-58-00.csv'), PosixPath('../data/inputs/one_minute/MIA/one_minute.MIA.start-2020-08-01T01-00-00.end-2020-08-30T10-42-00.csv'), PosixPath('../data/inputs/one_minute/MIA/one_minute.MIA.start-2021-11-01T01-00-00.end-2021-11-30T10-59-00.csv'), PosixPath('../data/inputs/one_minute/MIA/one_minute.MIA.start-2015-07-01T00-00-00.end-2015-07-31T23-09-00.csv'), PosixPath('../data/inputs/one_minute/MIA/one_minute.MIA.start-2007-02-01T00-00-00.end-2007-02-28T23-00-00.csv'), PosixPath('../data/inputs/one_minute/MIA/one_minute.MIA.start-2011-07-01T00-00-00.end-2011-07-31T23-59-00.csv'), PosixPath('../data/inputs/one_minute/MIA/one_minute.MIA.start-2002-12-02T01-32-00.end-2002-12-31T23-59-00.csv'), PosixPath('../data/inputs/one_minute/MIA/one_minute.MIA.start-2000-03-01T00-00-00.end-2000-03-31T23-59-00.csv'), PosixPath('../data/inputs/one_minute/MIA/one_minute.MIA.start-2013-03-01T00-00-00.end-2013-03-31T23-59-00.csv'), PosixPath('../data/inputs/one_minute/MIA/one_minute.MIA.start-2000-11-01T00-00-00.end-2000-11-30T23-59-00.csv'), PosixPath('../data/inputs/one_minute/MIA/one_minute.MIA.start-2023-04-01T01-00-00.end-2023-04-30T04-06-00.csv'), PosixPath('../data/inputs/one_minute/MIA/one_minute.MIA.start-2018-11-01T00-00-00.end-2018-11-30T23-59-00.csv'), PosixPath('../data/inputs/one_minute/MIA/one_minute.MIA.start-2022-06-01T01-00-00.end-2022-06-30T09-05-00.csv'), PosixPath('../data/inputs/one_minute/MIA/one_minute.MIA.start-2023-02-01T00-00-00.end-2023-02-28T05-00-00.csv'), PosixPath('../data/inputs/one_minute/MIA/one_minute.MIA.start-2018-04-01T00-00-00.end-2018-04-30T23-59-00.csv'), PosixPath('../data/inputs/one_minute/MIA/one_minute.MIA.start-2010-09-01T00-00-00.end-2010-09-30T23-59-00.csv'), PosixPath('../data/inputs/one_minute/MIA/one_minute.MIA.start-2018-12-01T00-00-00.end-2018-12-31T21-14-00.csv'), PosixPath('../data/inputs/one_minute/MIA/one_minute.MIA.start-2006-05-01T00-00-00.end-2006-05-31T23-59-00.csv'), PosixPath('../data/inputs/one_minute/MIA/one_minute.MIA.start-2016-07-01T00-00-00.end-2016-07-31T23-59-00.csv'), PosixPath('../data/inputs/one_minute/MIA/one_minute.MIA.start-2004-09-01T00-00-00.end-2004-09-30T23-59-00.csv'), PosixPath('../data/inputs/one_minute/MIA/one_minute.MIA.start-2020-02-01T00-00-00.end-2020-02-29T23-59-00.csv'), PosixPath('../data/inputs/one_minute/MIA/one_minute.MIA.start-2006-10-01T00-00-00.end-2006-10-31T23-59-00.csv'), PosixPath('../data/inputs/one_minute/MIA/one_minute.MIA.start-2008-08-01T00-00-00.end-2008-08-31T23-59-00.csv'), PosixPath('../data/inputs/one_minute/MIA/one_minute.MIA.start-2011-12-01T00-00-00.end-2011-12-31T17-22-00.csv'), PosixPath('../data/inputs/one_minute/MIA/one_minute.MIA.start-2015-10-01T00-00-00.end-2015-10-31T23-59-00.csv'), PosixPath('../data/inputs/one_minute/MIA/one_minute.MIA.start-2023-12-01T00-00-00.end-2023-12-31T23-59-00.csv'), PosixPath('../data/inputs/one_minute/MIA/one_minute.MIA.start-2005-10-01T00-00-00.end-2005-10-31T23-59-00.csv'), PosixPath('../data/inputs/one_minute/MIA/one_minute.MIA.start-2000-02-01T00-00-00.end-2000-02-29T18-59-00.csv'), PosixPath('../data/inputs/one_minute/MIA/one_minute.MIA.start-2003-01-01T00-00-00.end-2003-01-31T23-59-00.csv'), PosixPath('../data/inputs/one_minute/MIA/one_minute.MIA.start-2014-06-01T00-00-00.end-2014-06-30T23-59-00.csv'), PosixPath('../data/inputs/one_minute/MIA/one_minute.MIA.start-2018-07-01T00-00-00.end-2018-07-31T23-59-00.csv'), PosixPath('../data/inputs/one_minute/MIA/one_minute.MIA.start-2002-10-01T00-00-00.end-2002-10-31T22-12-00.csv'), PosixPath('../data/inputs/one_minute/MIA/one_minute.MIA.start-2009-01-01T00-00-00.end-2009-01-31T23-59-00.csv'), PosixPath('../data/inputs/one_minute/MIA/one_minute.MIA.start-2002-02-01T00-00-00.end-2002-02-28T23-59-00.csv'), PosixPath('../data/inputs/one_minute/MIA/one_minute.MIA.start-2014-12-01T00-00-00.end-2014-12-31T22-11-00.csv'), PosixPath('../data/inputs/one_minute/MIA/one_minute.MIA.start-2024-02-01T01-41-00.end-2024-02-29T08-33-00.csv'), PosixPath('../data/inputs/one_minute/MIA/one_minute.MIA.start-2023-11-01T00-00-00.end-2023-11-30T23-59-00.csv'), PosixPath('../data/inputs/one_minute/MIA/one_minute.MIA.start-2002-06-01T00-00-00.end-2002-06-30T23-59-00.csv'), PosixPath('../data/inputs/one_minute/MIA/one_minute.MIA.start-2018-05-01T00-00-00.end-2018-05-31T23-59-00.csv'), PosixPath('../data/inputs/one_minute/MIA/one_minute.MIA.start-2008-06-01T00-00-00.end-2008-06-30T23-59-00.csv'), PosixPath('../data/inputs/one_minute/MIA/one_minute.MIA.start-2022-09-01T01-00-00.end-2022-09-30T23-59-00.csv'), PosixPath('../data/inputs/one_minute/MIA/one_minute.MIA.start-2004-10-01T00-00-00.end-2004-10-31T23-59-00.csv'), PosixPath('../data/inputs/one_minute/MIA/one_minute.MIA.start-2008-03-01T05-31-00.end-2008-03-31T23-59-00.csv'), PosixPath('../data/inputs/one_minute/MIA/one_minute.MIA.start-2016-04-01T00-00-00.end-2016-04-30T23-59-00.csv'), PosixPath('../data/inputs/one_minute/MIA/one_minute.MIA.start-2021-01-01T00-00-00.end-2021-01-31T23-59-00.csv'), PosixPath('../data/inputs/one_minute/MIA/one_minute.MIA.start-2016-11-01T00-00-00.end-2016-11-30T23-59-00.csv'), PosixPath('../data/inputs/one_minute/MIA/one_minute.MIA.start-2003-03-01T00-00-00.end-2003-03-31T23-59-00.csv'), PosixPath('../data/inputs/one_minute/MIA/one_minute.MIA.start-2015-05-01T00-00-00.end-2015-05-31T23-59-00.csv'), PosixPath('../data/inputs/one_minute/MIA/one_minute.MIA.start-2019-12-01T00-00-00.end-2019-12-31T22-08-00.csv'), PosixPath('../data/inputs/one_minute/MIA/one_minute.MIA.start-2020-05-01T00-00-00.end-2020-05-31T23-59-00.csv'), PosixPath('../data/inputs/one_minute/MIA/one_minute.MIA.start-2020-12-01T00-00-00.end-2020-12-31T08-59-00.csv'), PosixPath('../data/inputs/one_minute/MIA/one_minute.MIA.start-2013-05-01T00-00-00.end-2013-05-31T12-02-00.csv'), PosixPath('../data/inputs/one_minute/MIA/one_minute.MIA.start-2015-08-02T04-12-00.end-2015-08-31T23-59-00.csv'), PosixPath('../data/inputs/one_minute/MIA/one_minute.MIA.start-2006-09-01T00-00-00.end-2006-09-30T23-59-00.csv'), PosixPath('../data/inputs/one_minute/MIA/one_minute.MIA.start-2020-03-01T00-00-00.end-2020-03-31T23-59-00.csv'), PosixPath('../data/inputs/one_minute/MIA/one_minute.MIA.start-2014-05-01T00-00-00.end-2014-05-31T23-59-00.csv'), PosixPath('../data/inputs/one_minute/MIA/one_minute.MIA.start-2007-11-01T00-00-00.end-2007-11-30T23-59-00.csv'), PosixPath('../data/inputs/one_minute/MIA/one_minute.MIA.start-2019-01-01T00-00-00.end-2019-01-31T23-59-00.csv'), PosixPath('../data/inputs/one_minute/MIA/one_minute.MIA.start-2023-03-01T00-00-00.end-2023-03-31T05-06-00.csv'), PosixPath('../data/inputs/one_minute/MIA/one_minute.MIA.start-2017-09-01T00-00-00.end-2017-09-30T23-59-00.csv'), PosixPath('../data/inputs/one_minute/MIA/one_minute.MIA.start-2001-07-01T00-00-00.end-2001-07-31T23-59-00.csv'), PosixPath('../data/inputs/one_minute/MIA/one_minute.MIA.start-2005-09-01T03-20-00.end-2005-09-30T23-59-00.csv'), PosixPath('../data/inputs/one_minute/MIA/one_minute.MIA.start-2013-12-01T00-00-00.end-2013-12-31T16-21-00.csv'), PosixPath('../data/inputs/one_minute/MIA/one_minute.MIA.start-2006-01-01T07-27-00.end-2006-01-31T23-59-00.csv'), PosixPath('../data/inputs/one_minute/MIA/one_minute.MIA.start-2002-07-01T00-00-00.end-2002-07-31T23-59-00.csv'), PosixPath('../data/inputs/one_minute/MIA/one_minute.MIA.start-2003-04-01T00-00-00.end-2003-04-30T23-59-00.csv'), PosixPath('../data/inputs/one_minute/MIA/one_minute.MIA.start-2024-06-01T00-00-00.end-2024-06-30T23-59-00.csv'), PosixPath('../data/inputs/one_minute/MIA/one_minute.MIA.start-2015-04-01T00-00-00.end-2015-04-30T23-59-00.csv'), PosixPath('../data/inputs/one_minute/MIA/one_minute.MIA.start-2000-09-01T00-00-00.end-2000-09-30T23-59-00.csv'), PosixPath('../data/inputs/one_minute/MIA/one_minute.MIA.start-2017-07-01T00-00-00.end-2017-07-31T23-59-00.csv'), PosixPath('../data/inputs/one_minute/MIA/one_minute.MIA.start-2021-12-01T00-00-00.end-2021-12-31T12-02-00.csv'), PosixPath('../data/inputs/one_minute/MIA/one_minute.MIA.start-2009-10-01T00-00-00.end-2009-10-31T23-59-00.csv'), PosixPath('../data/inputs/one_minute/MIA/one_minute.MIA.start-2012-05-01T00-00-00.end-2012-05-31T23-59-00.csv'), PosixPath('../data/inputs/one_minute/MIA/one_minute.MIA.start-2007-09-01T00-00-00.end-2007-09-30T23-59-00.csv'), PosixPath('../data/inputs/one_minute/MIA/one_minute.MIA.start-2007-03-01T00-04-00.end-2007-03-31T22-52-00.csv'), PosixPath('../data/inputs/one_minute/MIA/one_minute.MIA.start-2010-04-01T00-00-00.end-2010-04-30T23-59-00.csv'), PosixPath('../data/inputs/one_minute/MIA/one_minute.MIA.start-2009-03-01T00-00-00.end-2009-03-31T23-59-00.csv'), PosixPath('../data/inputs/one_minute/MIA/one_minute.MIA.start-2000-07-01T00-00-00.end-2000-07-31T23-59-00.csv'), PosixPath('../data/inputs/one_minute/MIA/one_minute.MIA.start-2019-11-01T00-00-00.end-2019-11-30T23-59-00.csv'), PosixPath('../data/inputs/one_minute/MIA/one_minute.MIA.start-2015-03-01T00-00-00.end-2015-03-31T23-59-00.csv'), PosixPath('../data/inputs/one_minute/MIA/one_minute.MIA.start-2001-08-01T00-00-00.end-2001-08-31T23-59-00.csv'), PosixPath('../data/inputs/one_minute/MIA/one_minute.MIA.start-2021-08-01T01-00-00.end-2021-08-31T09-57-00.csv'), PosixPath('../data/inputs/one_minute/MIA/one_minute.MIA.start-2011-10-01T00-00-00.end-2011-10-31T23-59-00.csv'), PosixPath('../data/inputs/one_minute/MIA/one_minute.MIA.start-2022-02-01T00-00-00.end-2022-02-28T23-59-00.csv'), PosixPath('../data/inputs/one_minute/MIA/one_minute.MIA.start-2012-11-01T00-00-00.end-2012-11-30T23-59-00.csv'), PosixPath('../data/inputs/one_minute/MIA/one_minute.MIA.start-2017-06-01T00-00-00.end-2017-06-30T23-59-00.csv'), PosixPath('../data/inputs/one_minute/MIA/one_minute.MIA.start-2007-04-01T02-38-00.end-2007-04-30T23-59-00.csv'), PosixPath('../data/inputs/one_minute/MIA/one_minute.MIA.start-2007-06-01T00-00-00.end-2007-06-30T23-59-00.csv'), PosixPath('../data/inputs/one_minute/MIA/one_minute.MIA.start-2012-09-01T00-00-00.end-2012-09-30T23-59-00.csv'), PosixPath('../data/inputs/one_minute/MIA/one_minute.MIA.start-2000-12-01T00-00-00.end-2000-12-31T23-59-00.csv'), PosixPath('../data/inputs/one_minute/MIA/one_minute.MIA.start-2012-10-01T00-00-00.end-2012-10-31T23-59-00.csv'), PosixPath('../data/inputs/one_minute/MIA/one_minute.MIA.start-2001-03-01T00-00-00.end-2001-03-31T23-59-00.csv'), PosixPath('../data/inputs/one_minute/MIA/one_minute.MIA.start-2010-12-01T00-00-00.end-2010-12-31T23-59-00.csv'), PosixPath('../data/inputs/one_minute/MIA/one_minute.MIA.start-2003-09-01T00-00-00.end-2003-09-30T23-59-00.csv'), PosixPath('../data/inputs/one_minute/MIA/one_minute.MIA.start-2008-12-01T00-00-00.end-2008-12-31T22-29-00.csv'), PosixPath('../data/inputs/one_minute/MIA/one_minute.MIA.start-2018-02-01T00-00-00.end-2018-02-28T23-59-00.csv'), PosixPath('../data/inputs/one_minute/MIA/one_minute.MIA.start-2013-06-01T00-17-00.end-2013-06-30T23-59-00.csv'), PosixPath('../data/inputs/one_minute/MIA/one_minute.MIA.start-2000-08-01T00-00-00.end-2000-08-31T23-59-00.csv'), PosixPath('../data/inputs/one_minute/MIA/one_minute.MIA.start-2001-02-01T00-00-00.end-2001-02-28T23-59-00.csv'), PosixPath('../data/inputs/one_minute/MIA/one_minute.MIA.start-2017-11-01T00-00-00.end-2017-11-30T03-29-00.csv'), PosixPath('../data/inputs/one_minute/MIA/one_minute.MIA.start-2017-01-01T05-16-00.end-2017-01-31T23-59-00.csv'), PosixPath('../data/inputs/one_minute/MIA/one_minute.MIA.start-2016-12-01T00-00-00.end-2016-12-31T19-14-00.csv'), PosixPath('../data/inputs/one_minute/MIA/one_minute.MIA.start-2003-02-01T00-00-00.end-2003-02-28T23-59-00.csv'), PosixPath('../data/inputs/one_minute/MIA/one_minute.MIA.start-2019-09-02T21-31-00.end-2019-09-30T23-59-00.csv'), PosixPath('../data/inputs/one_minute/MIA/one_minute.MIA.start-2002-05-01T00-00-00.end-2002-05-31T23-59-00.csv'), PosixPath('../data/inputs/one_minute/MIA/one_minute.MIA.start-2004-05-01T00-00-00.end-2004-05-31T23-59-00.csv'), PosixPath('../data/inputs/one_minute/MIA/one_minute.MIA.start-2023-08-01T17-00-00.end-2023-08-29T22-57-00.csv'), PosixPath('../data/inputs/one_minute/MIA/one_minute.MIA.start-2006-02-01T00-00-00.end-2006-02-28T23-59-00.csv'), PosixPath('../data/inputs/one_minute/MIA/one_minute.MIA.start-2019-05-01T00-00-00.end-2019-05-31T23-59-00.csv'), PosixPath('../data/inputs/one_minute/MIA/one_minute.MIA.start-2020-01-01T00-00-00.end-2020-01-31T23-59-00.csv'), PosixPath('../data/inputs/one_minute/MIA/one_minute.MIA.start-2021-10-01T01-00-00.end-2021-10-31T02-03-00.csv'), PosixPath('../data/inputs/one_minute/MIA/one_minute.MIA.start-2000-10-01T00-00-00.end-2000-10-31T23-59-00.csv'), PosixPath('../data/inputs/one_minute/MIA/one_minute.MIA.start-2017-12-01T22-25-00.end-2017-12-31T22-13-00.csv'), PosixPath('../data/inputs/one_minute/MIA/one_minute.MIA.start-2018-06-01T00-00-00.end-2018-06-30T23-59-00.csv'), PosixPath('../data/inputs/one_minute/MIA/one_minute.MIA.start-2022-10-01T00-00-00.end-2022-10-31T01-10-00.csv'), PosixPath('../data/inputs/one_minute/MIA/one_minute.MIA.start-2004-08-01T00-00-00.end-2004-08-31T23-59-00.csv'), PosixPath('../data/inputs/one_minute/MIA/one_minute.MIA.start-2013-09-01T00-00-00.end-2013-09-30T23-59-00.csv'), PosixPath('../data/inputs/one_minute/MIA/one_minute.MIA.start-2021-05-01T01-00-00.end-2021-05-31T12-19-00.csv'), PosixPath('../data/inputs/one_minute/MIA/one_minute.MIA.start-2005-03-01T00-00-00.end-2005-03-31T23-59-00.csv'), PosixPath('../data/inputs/one_minute/MIA/one_minute.MIA.start-2013-02-01T00-00-00.end-2013-02-28T23-59-00.csv'), PosixPath('../data/inputs/one_minute/MIA/one_minute.MIA.start-2016-08-01T00-00-00.end-2016-08-31T23-59-00.csv'), PosixPath('../data/inputs/one_minute/MIA/one_minute.MIA.start-2002-11-01T10-17-00.end-2002-11-30T08-30-00.csv'), PosixPath('../data/inputs/one_minute/MIA/one_minute.MIA.start-2024-07-01T00-00-00.end-2024-07-31T23-59-00.csv'), PosixPath('../data/inputs/one_minute/MIA/one_minute.MIA.start-2010-11-01T00-00-00.end-2010-11-30T23-59-00.csv'), PosixPath('../data/inputs/one_minute/MIA/one_minute.MIA.start-2002-03-01T00-00-00.end-2002-03-31T23-59-00.csv'), PosixPath('../data/inputs/one_minute/MIA/one_minute.MIA.start-2006-12-01T00-00-00.end-2006-12-31T23-59-00.csv'), PosixPath('../data/inputs/one_minute/MIA/one_minute.MIA.start-2005-01-01T00-00-00.end-2005-01-31T23-59-00.csv'), PosixPath('../data/inputs/one_minute/MIA/one_minute.MIA.start-2024-09-01T00-00-00.end-2024-09-26T16-52-00.csv'), PosixPath('../data/inputs/one_minute/MIA/one_minute.MIA.start-2013-08-01T00-00-00.end-2013-08-31T23-59-00.csv'), PosixPath('../data/inputs/one_minute/MIA/one_minute.MIA.start-2017-03-01T00-00-00.end-2017-03-31T23-59-00.csv'), PosixPath('../data/inputs/one_minute/MIA/one_minute.MIA.start-2005-04-01T00-00-00.end-2005-04-30T23-59-00.csv'), PosixPath('../data/inputs/one_minute/MIA/one_minute.MIA.start-2003-12-01T00-00-00.end-2003-12-26T21-03-00.csv'), PosixPath('../data/inputs/one_minute/MIA/one_minute.MIA.start-2020-09-01T06-43-00.end-2020-09-30T05-42-00.csv'), PosixPath('../data/inputs/one_minute/MIA/one_minute.MIA.start-2001-11-01T00-00-00.end-2001-11-30T23-59-00.csv'), PosixPath('../data/inputs/one_minute/MIA/one_minute.MIA.start-2011-08-01T00-00-00.end-2011-08-31T23-59-00.csv'), PosixPath('../data/inputs/one_minute/MIA/one_minute.MIA.start-2019-02-01T00-00-00.end-2019-02-28T23-59-00.csv'), PosixPath('../data/inputs/one_minute/MIA/one_minute.MIA.start-2011-04-01T00-00-00.end-2011-04-30T23-59-00.csv'), PosixPath('../data/inputs/one_minute/MIA/one_minute.MIA.start-2013-01-01T04-06-00.end-2013-01-31T23-59-00.csv'), PosixPath('../data/inputs/one_minute/MIA/one_minute.MIA.start-2020-07-01T01-00-00.end-2020-07-31T10-18-00.csv'), PosixPath('../data/inputs/one_minute/MIA/one_minute.MIA.start-2020-04-01T00-00-00.end-2020-04-30T23-59-00.csv'), PosixPath('../data/inputs/one_minute/MIA/one_minute.MIA.start-2022-07-01T01-00-00.end-2022-07-31T23-59-00.csv'), PosixPath('../data/inputs/one_minute/MIA/one_minute.MIA.start-2012-02-01T00-00-00.end-2012-02-29T23-59-00.csv'), PosixPath('../data/inputs/one_minute/MIA/one_minute.MIA.start-2011-02-01T00-00-00.end-2011-02-28T23-59-00.csv'), PosixPath('../data/inputs/one_minute/MIA/one_minute.MIA.start-2004-11-01T00-00-00.end-2004-11-30T23-59-00.csv'), PosixPath('../data/inputs/one_minute/MIA/one_minute.MIA.start-2020-10-01T01-00-00.end-2020-10-31T04-06-00.csv'), PosixPath('../data/inputs/one_minute/MIA/one_minute.MIA.start-2004-02-01T00-00-00.end-2004-02-29T23-59-00.csv'), PosixPath('../data/inputs/one_minute/MIA/one_minute.MIA.start-2014-03-01T00-00-00.end-2014-03-31T23-59-00.csv'), PosixPath('../data/inputs/one_minute/MIA/one_minute.MIA.start-2018-08-01T00-00-00.end-2018-08-31T23-59-00.csv'), PosixPath('../data/inputs/one_minute/MIA/one_minute.MIA.start-2000-05-01T00-00-00.end-2000-05-31T23-59-00.csv'), PosixPath('../data/inputs/one_minute/MIA/one_minute.MIA.start-2013-04-01T00-00-00.end-2013-04-30T23-59-00.csv'), PosixPath('../data/inputs/one_minute/MIA/one_minute.MIA.start-2001-04-01T00-00-00.end-2001-04-30T23-59-00.csv'), PosixPath('../data/inputs/one_minute/MIA/one_minute.MIA.start-2021-06-01T00-43-00.end-2021-06-30T10-05-00.csv'), PosixPath('../data/inputs/one_minute/MIA/one_minute.MIA.start-2008-05-01T00-00-00.end-2008-05-31T23-59-00.csv'), PosixPath('../data/inputs/one_minute/MIA/one_minute.MIA.start-2005-12-01T00-00-00.end-2005-12-31T21-28-00.csv'), PosixPath('../data/inputs/one_minute/MIA/one_minute.MIA.start-2010-07-01T00-00-00.end-2010-07-31T23-59-00.csv'), PosixPath('../data/inputs/one_minute/MIA/one_minute.MIA.start-2024-01-01T10-56-00.end-2024-01-30T16-02-00.csv'), PosixPath('../data/inputs/one_minute/MIA/one_minute.MIA.start-2008-11-01T00-00-00.end-2008-11-30T23-59-00.csv'), PosixPath('../data/inputs/one_minute/MIA/one_minute.MIA.start-2023-06-01T01-00-00.end-2023-06-30T04-05-00.csv'), PosixPath('../data/inputs/one_minute/MIA/one_minute.MIA.start-2003-06-02T04-23-00.end-2003-06-30T23-59-00.csv'), PosixPath('../data/inputs/one_minute/MIA/one_minute.MIA.start-2004-01-01T22-29-00.end-2004-01-31T23-59-00.csv'), PosixPath('../data/inputs/one_minute/MIA/one_minute.MIA.start-2017-04-01T00-00-00.end-2017-04-30T23-59-00.csv'), PosixPath('../data/inputs/one_minute/MIA/one_minute.MIA.start-2009-02-01T00-00-00.end-2009-02-28T23-59-00.csv'), PosixPath('../data/inputs/one_minute/MIA/one_minute.MIA.start-2014-11-01T00-00-00.end-2014-11-30T23-59-00.csv'), PosixPath('../data/inputs/one_minute/MIA/one_minute.MIA.start-2013-07-01T00-00-00.end-2013-07-31T23-59-00.csv'), PosixPath('../data/inputs/one_minute/MIA/one_minute.MIA.start-2017-08-01T00-00-00.end-2017-08-31T23-59-00.csv'), PosixPath('../data/inputs/one_minute/MIA/one_minute.MIA.start-2001-06-01T00-00-00.end-2001-06-30T23-59-00.csv'), PosixPath('../data/inputs/one_minute/MIA/one_minute.MIA.start-2001-10-01T00-00-00.end-2001-10-31T23-59-00.csv'), PosixPath('../data/inputs/one_minute/MIA/one_minute.MIA.start-2018-03-01T00-00-00.end-2018-03-31T23-59-00.csv'), PosixPath('../data/inputs/one_minute/MIA/one_minute.MIA.start-2007-01-01T00-00-00.end-2007-01-31T23-59-00.csv'), PosixPath('../data/inputs/one_minute/MIA/one_minute.MIA.start-2011-05-01T00-00-00.end-2011-05-31T23-59-00.csv'), PosixPath('../data/inputs/one_minute/MIA/one_minute.MIA.start-2021-03-01T00-00-00.end-2021-03-31T16-20-00.csv'), PosixPath('../data/inputs/one_minute/MIA/one_minute.MIA.start-2012-12-01T00-00-00.end-2012-12-31T18-08-00.csv'), PosixPath('../data/inputs/one_minute/MIA/one_minute.MIA.start-2015-01-01T00-00-00.end-2015-01-31T23-59-00.csv'), PosixPath('../data/inputs/one_minute/MIA/one_minute.MIA.start-2010-10-01T00-00-00.end-2010-10-31T23-59-00.csv'), PosixPath('../data/inputs/one_minute/MIA/one_minute.MIA.start-2001-05-01T00-00-00.end-2001-05-31T23-59-00.csv'), PosixPath('../data/inputs/one_minute/MIA/one_minute.MIA.start-2016-02-01T00-00-00.end-2016-02-29T23-59-00.csv'), PosixPath('../data/inputs/one_minute/MIA/one_minute.MIA.start-2019-04-01T00-00-00.end-2019-04-30T23-59-00.csv'), PosixPath('../data/inputs/one_minute/MIA/one_minute.MIA.start-2017-10-01T00-00-00.end-2017-10-31T23-59-00.csv'), PosixPath('../data/inputs/one_minute/MIA/one_minute.MIA.start-2018-01-01T00-00-00.end-2018-01-31T23-59-00.csv'), PosixPath('../data/inputs/one_minute/MIA/one_minute.MIA.start-2021-09-01T02-07-00.end-2021-09-30T05-11-00.csv'), PosixPath('../data/inputs/one_minute/MIA/one_minute.MIA.start-2024-08-01T00-00-00.end-2024-08-31T23-59-00.csv'), PosixPath('../data/inputs/one_minute/MIA/one_minute.MIA.start-2007-07-01T00-00-00.end-2007-07-31T23-59-00.csv'), PosixPath('../data/inputs/one_minute/MIA/one_minute.MIA.start-2009-05-01T00-00-00.end-2009-05-31T23-59-00.csv'), PosixPath('../data/inputs/one_minute/MIA/one_minute.MIA.start-2022-03-01T00-00-00.end-2022-03-31T12-48-00.csv'), PosixPath('../data/inputs/one_minute/MIA/one_minute.MIA.start-2015-02-01T00-00-00.end-2015-02-28T23-59-00.csv'), PosixPath('../data/inputs/one_minute/MIA/one_minute.MIA.start-2002-01-01T16-40-00.end-2002-01-31T23-59-00.csv'), PosixPath('../data/inputs/one_minute/MIA/one_minute.MIA.start-2021-02-01T00-00-00.end-2021-02-28T11-03-00.csv'), PosixPath('../data/inputs/one_minute/MIA/one_minute.MIA.start-2002-09-01T00-00-00.end-2002-09-30T23-59-00.csv'), PosixPath('../data/inputs/one_minute/MIA/one_minute.MIA.start-2016-06-01T00-00-00.end-2016-06-30T23-59-00.csv'), PosixPath('../data/inputs/one_minute/MIA/one_minute.MIA.start-2019-10-01T00-00-00.end-2019-10-31T23-59-00.csv'), PosixPath('../data/inputs/one_minute/MIA/one_minute.MIA.start-2009-11-01T00-00-00.end-2009-11-30T23-59-00.csv'), PosixPath('../data/inputs/one_minute/MIA/one_minute.MIA.start-2009-04-01T00-00-00.end-2009-04-30T23-59-00.csv'), PosixPath('../data/inputs/one_minute/MIA/one_minute.MIA.start-2003-05-01T00-00-00.end-2003-05-31T09-07-00.csv'), PosixPath('../data/inputs/one_minute/MIA/one_minute.MIA.start-2012-07-01T00-00-00.end-2012-07-31T21-42-00.csv'), PosixPath('../data/inputs/one_minute/MIA/one_minute.MIA.start-2001-12-01T00-00-00.end-2001-12-30T17-57-00.csv'), PosixPath('../data/inputs/one_minute/MIA/one_minute.MIA.start-2014-08-01T00-00-00.end-2014-08-31T23-59-00.csv'), PosixPath('../data/inputs/one_minute/MIA/one_minute.MIA.start-2009-09-01T00-00-00.end-2009-09-30T23-59-00.csv'), PosixPath('../data/inputs/one_minute/MIA/one_minute.MIA.start-2023-10-01T00-00-00.end-2023-10-31T23-59-00.csv'), PosixPath('../data/inputs/one_minute/MIA/one_minute.MIA.start-2000-01-01T00-00-00.end-2000-01-31T23-59-00.csv'), PosixPath('../data/inputs/one_minute/MIA/one_minute.MIA.start-2010-02-01T00-00-00.end-2010-02-28T23-59-00.csv'), PosixPath('../data/inputs/one_minute/MIA/one_minute.MIA.start-2009-06-01T00-00-00.end-2009-06-30T23-59-00.csv'), PosixPath('../data/inputs/one_minute/MIA/one_minute.MIA.start-2018-10-01T00-00-00.end-2018-10-31T23-59-00.csv'), PosixPath('../data/inputs/one_minute/MIA/one_minute.MIA.start-2007-05-01T00-00-00.end-2007-05-31T23-59-00.csv'), PosixPath('../data/inputs/one_minute/MIA/one_minute.MIA.start-2006-11-01T00-00-00.end-2006-11-30T23-59-00.csv'), PosixPath('../data/inputs/one_minute/MIA/one_minute.MIA.start-2017-02-01T00-00-00.end-2017-02-28T23-59-00.csv'), PosixPath('../data/inputs/one_minute/MIA/one_minute.MIA.start-2011-11-01T00-00-00.end-2011-11-30T23-59-00.csv'), PosixPath('../data/inputs/one_minute/MIA/one_minute.MIA.start-2007-10-01T00-00-00.end-2007-10-31T23-59-00.csv'), PosixPath('../data/inputs/one_minute/MIA/one_minute.MIA.start-2014-01-01T02-20-00.end-2014-01-31T23-59-00.csv'), PosixPath('../data/inputs/one_minute/MIA/one_minute.MIA.start-2006-04-01T00-00-00.end-2006-04-30T23-59-00.csv'), PosixPath('../data/inputs/one_minute/MIA/one_minute.MIA.start-2006-03-09T15-25-00.end-2006-03-31T23-59-00.csv'), PosixPath('../data/inputs/one_minute/MIA/one_minute.MIA.start-2021-04-01T01-43-00.end-2021-04-30T05-05-00.csv'), PosixPath('../data/inputs/one_minute/MIA/one_minute.MIA.start-2003-10-01T00-00-00.end-2003-10-29T03-48-00.csv'), PosixPath('../data/inputs/one_minute/MIA/one_minute.MIA.start-2006-08-01T00-00-00.end-2006-08-31T23-59-00.csv'), PosixPath('../data/inputs/one_minute/MIA/one_minute.MIA.start-2014-10-01T00-00-00.end-2014-10-31T23-59-00.csv'), PosixPath('../data/inputs/one_minute/MIA/one_minute.MIA.start-2008-01-01T00-00-00.end-2008-01-31T23-59-00.csv'), PosixPath('../data/inputs/one_minute/MIA/one_minute.MIA.start-2023-09-01T01-00-00.end-2023-09-30T23-59-00.csv'), PosixPath('../data/inputs/one_minute/MIA/one_minute.MIA.start-2009-08-01T00-00-00.end-2009-08-31T23-59-00.csv'), PosixPath('../data/inputs/one_minute/MIA/one_minute.MIA.start-2008-10-01T00-00-00.end-2008-10-31T23-59-00.csv'), PosixPath('../data/inputs/one_minute/MIA/one_minute.MIA.start-2012-06-01T00-00-00.end-2012-06-30T23-59-00.csv'), PosixPath('../data/inputs/one_minute/MIA/one_minute.MIA.start-2023-07-01T01-00-00.end-2023-07-29T17-59-00.csv'), PosixPath('../data/inputs/one_minute/MIA/one_minute.MIA.start-2024-11-01T00-00-00.end-2024-11-16T01-47-00.csv'), PosixPath('../data/inputs/one_minute/MIA/one_minute.MIA.start-2009-12-01T00-00-00.end-2009-12-31T19-28-00.csv'), PosixPath('../data/inputs/one_minute/MIA/one_minute.MIA.start-2004-04-01T00-00-00.end-2004-04-30T23-59-00.csv'), PosixPath('../data/inputs/one_minute/MIA/one_minute.MIA.start-2024-05-01T00-00-00.end-2024-05-31T23-59-00.csv'), PosixPath('../data/inputs/one_minute/MIA/one_minute.MIA.start-2006-06-01T00-00-00.end-2006-06-30T23-59-00.csv'), PosixPath('../data/inputs/one_minute/MIA/one_minute.MIA.start-2001-09-01T00-00-00.end-2001-09-30T23-59-00.csv'), PosixPath('../data/inputs/one_minute/MIA/one_minute.MIA.start-2022-08-01T00-00-00.end-2022-08-31T07-08-00.csv'), PosixPath('../data/inputs/one_minute/MIA/one_minute.MIA.start-2015-09-01T00-00-00.end-2015-09-30T23-59-00.csv'), PosixPath('../data/inputs/one_minute/MIA/one_minute.MIA.start-2022-01-01T00-00-00.end-2022-01-31T12-03-00.csv'), PosixPath('../data/inputs/one_minute/MIA/one_minute.MIA.start-2019-06-01T00-00-00.end-2019-06-30T23-59-00.csv'), PosixPath('../data/inputs/one_minute/MIA/one_minute.MIA.start-2012-03-01T00-00-00.end-2012-03-31T23-59-00.csv'), PosixPath('../data/inputs/one_minute/MIA/one_minute.MIA.start-2014-04-01T00-00-00.end-2014-04-30T23-59-00.csv'), PosixPath('../data/inputs/one_minute/MIA/one_minute.MIA.start-2010-06-01T00-00-00.end-2010-06-30T23-59-00.csv'), PosixPath('../data/inputs/one_minute/MIA/one_minute.MIA.start-2003-07-01T00-00-00.end-2003-07-31T23-59-00.csv'), PosixPath('../data/inputs/one_minute/MIA/one_minute.MIA.start-2024-04-01T00-00-00.end-2024-04-30T23-59-00.csv'), PosixPath('../data/inputs/one_minute/MIA/one_minute.MIA.start-2020-06-01T00-00-00.end-2020-06-30T04-17-00.csv'), PosixPath('../data/inputs/one_minute/MIA/one_minute.MIA.start-2016-01-05T06-09-00.end-2016-01-31T23-59-00.csv'), PosixPath('../data/inputs/one_minute/MIA/one_minute.MIA.start-2015-06-01T00-00-00.end-2015-06-30T23-59-00.csv'), PosixPath('../data/inputs/one_minute/MIA/one_minute.MIA.start-2003-08-01T00-00-00.end-2003-08-31T23-59-00.csv'), PosixPath('../data/inputs/one_minute/MIA/one_minute.MIA.start-2011-09-01T00-00-00.end-2011-09-30T23-59-00.csv'), PosixPath('../data/inputs/one_minute/MIA/one_minute.MIA.start-2022-12-01T00-00-00.end-2022-12-31T00-05-00.csv')]\n",
      "{'na_values': ['M']}\n",
      "{'na_values': ['M']}\n"
     ]
    },
    {
     "name": "stderr",
     "output_type": "stream",
     "text": [
      "/home/abhmul/dev/kalshi-arbitrage/src/pd_utils.py:42: FutureWarning: In a future version of pandas, parsing datetimes with mixed time zones will raise an error unless `utc=True`. Please specify `utc=True` to opt in to the new behaviour and silence this warning. To create a `Series` with mixed offsets and `object` dtype, please use `apply` and `datetime.datetime.strptime`\n",
      "  df[col] = pd.to_datetime(df[col])\n"
     ]
    }
   ],
   "source": [
    "# Now load all the 1-minute observations within the same time range\n",
    "start_date = min(cli.summary_date for cli in clis)\n",
    "end_date = max(cli.summary_date for cli in clis)\n",
    "\n",
    "one_min_df = load_one_minutes(\n",
    "    station,\n",
    "    start=start_of_day(start_date, tz=STATION_TZ[station]),\n",
    "    end=end_of_day(end_date, tz=STATION_TZ[station]),\n",
    ")"
   ]
  },
  {
   "cell_type": "code",
   "execution_count": 6,
   "metadata": {},
   "outputs": [],
   "source": [
    "# Extract a dataframe for each CLI covering the same time range\n",
    "clis_df: list[pd.DataFrame] = []\n",
    "for cli in clis:\n",
    "    cli_start = start_of_day(cli.summary_date, tz=STATION_TZ[station])\n",
    "    if cli.valid_time is not None:\n",
    "        cli_end = cli.valid_time\n",
    "    else:\n",
    "        cli_end = end_of_day(cli.summary_date, tz=STATION_TZ[station])\n",
    "    cli_df = one_min_df[\n",
    "        one_min_df[\"valid\"].apply(\n",
    "            lambda row: in_date_range(row, cli_start, cli_end)\n",
    "        )\n",
    "    ]\n",
    "    clis_df.append(cli_df)\n",
    "\n",
    "# Filter out clis and one_min_df when we have no one_min observations\n",
    "clis = [cli for cli, cli_df in zip(clis, clis_df) if not cli_df.empty]\n",
    "clis_df = [cli_df for cli_df in clis_df if not cli_df.empty]\n"
   ]
  },
  {
   "cell_type": "code",
   "execution_count": 8,
   "metadata": {},
   "outputs": [
    {
     "data": {
      "application/vnd.plotly.v1+json": {
       "config": {
        "plotlyServerURL": "https://plot.ly"
       },
       "data": [
        {
         "alignmentgroup": "True",
         "base": [
          "2024-10-21T04:00:00+00:00",
          "2024-10-22T04:00:00+00:00",
          "2024-10-22T04:00:00+00:00",
          "2024-10-23T04:00:00+00:00",
          "2024-10-23T04:00:00+00:00",
          "2024-10-24T04:00:00+00:00",
          "2024-10-24T04:00:00+00:00",
          "2024-10-25T04:00:00+00:00",
          "2024-10-25T04:00:00+00:00",
          "2024-10-27T03:06:00+00:00",
          "2024-10-27T04:00:00+00:00",
          "2024-10-27T04:00:00+00:00",
          "2024-10-28T04:00:00+00:00",
          "2024-10-28T04:00:00+00:00",
          "2024-10-29T04:00:00+00:00",
          "2024-10-29T04:00:00+00:00",
          "2024-10-30T04:00:00+00:00",
          "2024-10-30T04:00:00+00:00",
          "2024-10-31T04:00:00+00:00",
          "2024-10-31T04:00:00+00:00",
          "2024-11-01T04:00:00+00:00",
          "2024-11-01T04:00:00+00:00",
          "2024-11-02T04:00:00+00:00",
          "2024-11-02T04:00:00+00:00",
          "2024-11-03T04:00:00+00:00",
          "2024-11-03T04:00:00+00:00",
          "2024-11-04T05:00:00+00:00",
          "2024-11-04T05:00:00+00:00",
          "2024-11-06T05:00:00+00:00",
          "2024-11-06T05:00:00+00:00",
          "2024-11-07T05:00:00+00:00",
          "2024-11-07T05:00:00+00:00",
          "2024-11-08T05:00:00+00:00",
          "2024-11-08T05:00:00+00:00",
          "2024-11-09T05:00:00+00:00",
          "2024-11-09T05:00:00+00:00",
          "2024-11-10T05:00:00+00:00",
          "2024-11-10T05:00:00+00:00",
          "2024-11-11T05:00:00+00:00",
          "2024-11-11T05:00:00+00:00",
          "2024-11-12T05:00:00+00:00",
          "2024-11-12T05:00:00+00:00",
          "2024-11-13T11:50:00+00:00",
          "2024-11-13T11:50:00+00:00",
          "2024-11-14T09:48:00+00:00",
          "2024-11-14T09:48:00+00:00",
          "2024-11-15T05:00:00+00:00"
         ],
         "hovertemplate": "Start=%{base}<br>End=%{x}<br>CLI=%{y}<extra></extra>",
         "legendgroup": "",
         "marker": {
          "color": "#636efa",
          "pattern": {
           "shape": ""
          }
         },
         "name": "",
         "offsetgroup": "",
         "orientation": "h",
         "showlegend": false,
         "textposition": "auto",
         "type": "bar",
         "x": [
          86340000,
          86340000,
          57600000,
          57600000,
          86340000,
          86340000,
          57600000,
          53820000,
          53820000,
          3180000,
          86340000,
          57600000,
          86340000,
          43020000,
          57600000,
          86340000,
          57600000,
          86340000,
          57600000,
          86340000,
          57600000,
          86340000,
          86340000,
          57600000,
          61200000,
          89940000,
          57600000,
          86340000,
          57600000,
          86340000,
          57600000,
          86340000,
          86340000,
          57600000,
          46080000,
          86340000,
          86340000,
          57600000,
          57600000,
          86340000,
          78540000,
          57600000,
          43140000,
          33000000,
          40320000,
          69060000,
          57600000
         ],
         "xaxis": "x",
         "y": [
          0,
          1,
          2,
          3,
          4,
          5,
          6,
          7,
          8,
          9,
          10,
          11,
          12,
          13,
          14,
          15,
          16,
          17,
          18,
          19,
          20,
          21,
          22,
          23,
          24,
          25,
          26,
          27,
          28,
          29,
          30,
          31,
          32,
          33,
          34,
          35,
          36,
          37,
          38,
          39,
          40,
          41,
          42,
          43,
          44,
          45,
          46
         ],
         "yaxis": "y"
        }
       ],
       "layout": {
        "barmode": "overlay",
        "legend": {
         "tracegroupgap": 0
        },
        "margin": {
         "t": 60
        },
        "template": {
         "data": {
          "bar": [
           {
            "error_x": {
             "color": "#2a3f5f"
            },
            "error_y": {
             "color": "#2a3f5f"
            },
            "marker": {
             "line": {
              "color": "#E5ECF6",
              "width": 0.5
             },
             "pattern": {
              "fillmode": "overlay",
              "size": 10,
              "solidity": 0.2
             }
            },
            "type": "bar"
           }
          ],
          "barpolar": [
           {
            "marker": {
             "line": {
              "color": "#E5ECF6",
              "width": 0.5
             },
             "pattern": {
              "fillmode": "overlay",
              "size": 10,
              "solidity": 0.2
             }
            },
            "type": "barpolar"
           }
          ],
          "carpet": [
           {
            "aaxis": {
             "endlinecolor": "#2a3f5f",
             "gridcolor": "white",
             "linecolor": "white",
             "minorgridcolor": "white",
             "startlinecolor": "#2a3f5f"
            },
            "baxis": {
             "endlinecolor": "#2a3f5f",
             "gridcolor": "white",
             "linecolor": "white",
             "minorgridcolor": "white",
             "startlinecolor": "#2a3f5f"
            },
            "type": "carpet"
           }
          ],
          "choropleth": [
           {
            "colorbar": {
             "outlinewidth": 0,
             "ticks": ""
            },
            "type": "choropleth"
           }
          ],
          "contour": [
           {
            "colorbar": {
             "outlinewidth": 0,
             "ticks": ""
            },
            "colorscale": [
             [
              0,
              "#0d0887"
             ],
             [
              0.1111111111111111,
              "#46039f"
             ],
             [
              0.2222222222222222,
              "#7201a8"
             ],
             [
              0.3333333333333333,
              "#9c179e"
             ],
             [
              0.4444444444444444,
              "#bd3786"
             ],
             [
              0.5555555555555556,
              "#d8576b"
             ],
             [
              0.6666666666666666,
              "#ed7953"
             ],
             [
              0.7777777777777778,
              "#fb9f3a"
             ],
             [
              0.8888888888888888,
              "#fdca26"
             ],
             [
              1,
              "#f0f921"
             ]
            ],
            "type": "contour"
           }
          ],
          "contourcarpet": [
           {
            "colorbar": {
             "outlinewidth": 0,
             "ticks": ""
            },
            "type": "contourcarpet"
           }
          ],
          "heatmap": [
           {
            "colorbar": {
             "outlinewidth": 0,
             "ticks": ""
            },
            "colorscale": [
             [
              0,
              "#0d0887"
             ],
             [
              0.1111111111111111,
              "#46039f"
             ],
             [
              0.2222222222222222,
              "#7201a8"
             ],
             [
              0.3333333333333333,
              "#9c179e"
             ],
             [
              0.4444444444444444,
              "#bd3786"
             ],
             [
              0.5555555555555556,
              "#d8576b"
             ],
             [
              0.6666666666666666,
              "#ed7953"
             ],
             [
              0.7777777777777778,
              "#fb9f3a"
             ],
             [
              0.8888888888888888,
              "#fdca26"
             ],
             [
              1,
              "#f0f921"
             ]
            ],
            "type": "heatmap"
           }
          ],
          "heatmapgl": [
           {
            "colorbar": {
             "outlinewidth": 0,
             "ticks": ""
            },
            "colorscale": [
             [
              0,
              "#0d0887"
             ],
             [
              0.1111111111111111,
              "#46039f"
             ],
             [
              0.2222222222222222,
              "#7201a8"
             ],
             [
              0.3333333333333333,
              "#9c179e"
             ],
             [
              0.4444444444444444,
              "#bd3786"
             ],
             [
              0.5555555555555556,
              "#d8576b"
             ],
             [
              0.6666666666666666,
              "#ed7953"
             ],
             [
              0.7777777777777778,
              "#fb9f3a"
             ],
             [
              0.8888888888888888,
              "#fdca26"
             ],
             [
              1,
              "#f0f921"
             ]
            ],
            "type": "heatmapgl"
           }
          ],
          "histogram": [
           {
            "marker": {
             "pattern": {
              "fillmode": "overlay",
              "size": 10,
              "solidity": 0.2
             }
            },
            "type": "histogram"
           }
          ],
          "histogram2d": [
           {
            "colorbar": {
             "outlinewidth": 0,
             "ticks": ""
            },
            "colorscale": [
             [
              0,
              "#0d0887"
             ],
             [
              0.1111111111111111,
              "#46039f"
             ],
             [
              0.2222222222222222,
              "#7201a8"
             ],
             [
              0.3333333333333333,
              "#9c179e"
             ],
             [
              0.4444444444444444,
              "#bd3786"
             ],
             [
              0.5555555555555556,
              "#d8576b"
             ],
             [
              0.6666666666666666,
              "#ed7953"
             ],
             [
              0.7777777777777778,
              "#fb9f3a"
             ],
             [
              0.8888888888888888,
              "#fdca26"
             ],
             [
              1,
              "#f0f921"
             ]
            ],
            "type": "histogram2d"
           }
          ],
          "histogram2dcontour": [
           {
            "colorbar": {
             "outlinewidth": 0,
             "ticks": ""
            },
            "colorscale": [
             [
              0,
              "#0d0887"
             ],
             [
              0.1111111111111111,
              "#46039f"
             ],
             [
              0.2222222222222222,
              "#7201a8"
             ],
             [
              0.3333333333333333,
              "#9c179e"
             ],
             [
              0.4444444444444444,
              "#bd3786"
             ],
             [
              0.5555555555555556,
              "#d8576b"
             ],
             [
              0.6666666666666666,
              "#ed7953"
             ],
             [
              0.7777777777777778,
              "#fb9f3a"
             ],
             [
              0.8888888888888888,
              "#fdca26"
             ],
             [
              1,
              "#f0f921"
             ]
            ],
            "type": "histogram2dcontour"
           }
          ],
          "mesh3d": [
           {
            "colorbar": {
             "outlinewidth": 0,
             "ticks": ""
            },
            "type": "mesh3d"
           }
          ],
          "parcoords": [
           {
            "line": {
             "colorbar": {
              "outlinewidth": 0,
              "ticks": ""
             }
            },
            "type": "parcoords"
           }
          ],
          "pie": [
           {
            "automargin": true,
            "type": "pie"
           }
          ],
          "scatter": [
           {
            "fillpattern": {
             "fillmode": "overlay",
             "size": 10,
             "solidity": 0.2
            },
            "type": "scatter"
           }
          ],
          "scatter3d": [
           {
            "line": {
             "colorbar": {
              "outlinewidth": 0,
              "ticks": ""
             }
            },
            "marker": {
             "colorbar": {
              "outlinewidth": 0,
              "ticks": ""
             }
            },
            "type": "scatter3d"
           }
          ],
          "scattercarpet": [
           {
            "marker": {
             "colorbar": {
              "outlinewidth": 0,
              "ticks": ""
             }
            },
            "type": "scattercarpet"
           }
          ],
          "scattergeo": [
           {
            "marker": {
             "colorbar": {
              "outlinewidth": 0,
              "ticks": ""
             }
            },
            "type": "scattergeo"
           }
          ],
          "scattergl": [
           {
            "marker": {
             "colorbar": {
              "outlinewidth": 0,
              "ticks": ""
             }
            },
            "type": "scattergl"
           }
          ],
          "scattermapbox": [
           {
            "marker": {
             "colorbar": {
              "outlinewidth": 0,
              "ticks": ""
             }
            },
            "type": "scattermapbox"
           }
          ],
          "scatterpolar": [
           {
            "marker": {
             "colorbar": {
              "outlinewidth": 0,
              "ticks": ""
             }
            },
            "type": "scatterpolar"
           }
          ],
          "scatterpolargl": [
           {
            "marker": {
             "colorbar": {
              "outlinewidth": 0,
              "ticks": ""
             }
            },
            "type": "scatterpolargl"
           }
          ],
          "scatterternary": [
           {
            "marker": {
             "colorbar": {
              "outlinewidth": 0,
              "ticks": ""
             }
            },
            "type": "scatterternary"
           }
          ],
          "surface": [
           {
            "colorbar": {
             "outlinewidth": 0,
             "ticks": ""
            },
            "colorscale": [
             [
              0,
              "#0d0887"
             ],
             [
              0.1111111111111111,
              "#46039f"
             ],
             [
              0.2222222222222222,
              "#7201a8"
             ],
             [
              0.3333333333333333,
              "#9c179e"
             ],
             [
              0.4444444444444444,
              "#bd3786"
             ],
             [
              0.5555555555555556,
              "#d8576b"
             ],
             [
              0.6666666666666666,
              "#ed7953"
             ],
             [
              0.7777777777777778,
              "#fb9f3a"
             ],
             [
              0.8888888888888888,
              "#fdca26"
             ],
             [
              1,
              "#f0f921"
             ]
            ],
            "type": "surface"
           }
          ],
          "table": [
           {
            "cells": {
             "fill": {
              "color": "#EBF0F8"
             },
             "line": {
              "color": "white"
             }
            },
            "header": {
             "fill": {
              "color": "#C8D4E3"
             },
             "line": {
              "color": "white"
             }
            },
            "type": "table"
           }
          ]
         },
         "layout": {
          "annotationdefaults": {
           "arrowcolor": "#2a3f5f",
           "arrowhead": 0,
           "arrowwidth": 1
          },
          "autotypenumbers": "strict",
          "coloraxis": {
           "colorbar": {
            "outlinewidth": 0,
            "ticks": ""
           }
          },
          "colorscale": {
           "diverging": [
            [
             0,
             "#8e0152"
            ],
            [
             0.1,
             "#c51b7d"
            ],
            [
             0.2,
             "#de77ae"
            ],
            [
             0.3,
             "#f1b6da"
            ],
            [
             0.4,
             "#fde0ef"
            ],
            [
             0.5,
             "#f7f7f7"
            ],
            [
             0.6,
             "#e6f5d0"
            ],
            [
             0.7,
             "#b8e186"
            ],
            [
             0.8,
             "#7fbc41"
            ],
            [
             0.9,
             "#4d9221"
            ],
            [
             1,
             "#276419"
            ]
           ],
           "sequential": [
            [
             0,
             "#0d0887"
            ],
            [
             0.1111111111111111,
             "#46039f"
            ],
            [
             0.2222222222222222,
             "#7201a8"
            ],
            [
             0.3333333333333333,
             "#9c179e"
            ],
            [
             0.4444444444444444,
             "#bd3786"
            ],
            [
             0.5555555555555556,
             "#d8576b"
            ],
            [
             0.6666666666666666,
             "#ed7953"
            ],
            [
             0.7777777777777778,
             "#fb9f3a"
            ],
            [
             0.8888888888888888,
             "#fdca26"
            ],
            [
             1,
             "#f0f921"
            ]
           ],
           "sequentialminus": [
            [
             0,
             "#0d0887"
            ],
            [
             0.1111111111111111,
             "#46039f"
            ],
            [
             0.2222222222222222,
             "#7201a8"
            ],
            [
             0.3333333333333333,
             "#9c179e"
            ],
            [
             0.4444444444444444,
             "#bd3786"
            ],
            [
             0.5555555555555556,
             "#d8576b"
            ],
            [
             0.6666666666666666,
             "#ed7953"
            ],
            [
             0.7777777777777778,
             "#fb9f3a"
            ],
            [
             0.8888888888888888,
             "#fdca26"
            ],
            [
             1,
             "#f0f921"
            ]
           ]
          },
          "colorway": [
           "#636efa",
           "#EF553B",
           "#00cc96",
           "#ab63fa",
           "#FFA15A",
           "#19d3f3",
           "#FF6692",
           "#B6E880",
           "#FF97FF",
           "#FECB52"
          ],
          "font": {
           "color": "#2a3f5f"
          },
          "geo": {
           "bgcolor": "white",
           "lakecolor": "white",
           "landcolor": "#E5ECF6",
           "showlakes": true,
           "showland": true,
           "subunitcolor": "white"
          },
          "hoverlabel": {
           "align": "left"
          },
          "hovermode": "closest",
          "mapbox": {
           "style": "light"
          },
          "paper_bgcolor": "white",
          "plot_bgcolor": "#E5ECF6",
          "polar": {
           "angularaxis": {
            "gridcolor": "white",
            "linecolor": "white",
            "ticks": ""
           },
           "bgcolor": "#E5ECF6",
           "radialaxis": {
            "gridcolor": "white",
            "linecolor": "white",
            "ticks": ""
           }
          },
          "scene": {
           "xaxis": {
            "backgroundcolor": "#E5ECF6",
            "gridcolor": "white",
            "gridwidth": 2,
            "linecolor": "white",
            "showbackground": true,
            "ticks": "",
            "zerolinecolor": "white"
           },
           "yaxis": {
            "backgroundcolor": "#E5ECF6",
            "gridcolor": "white",
            "gridwidth": 2,
            "linecolor": "white",
            "showbackground": true,
            "ticks": "",
            "zerolinecolor": "white"
           },
           "zaxis": {
            "backgroundcolor": "#E5ECF6",
            "gridcolor": "white",
            "gridwidth": 2,
            "linecolor": "white",
            "showbackground": true,
            "ticks": "",
            "zerolinecolor": "white"
           }
          },
          "shapedefaults": {
           "line": {
            "color": "#2a3f5f"
           }
          },
          "ternary": {
           "aaxis": {
            "gridcolor": "white",
            "linecolor": "white",
            "ticks": ""
           },
           "baxis": {
            "gridcolor": "white",
            "linecolor": "white",
            "ticks": ""
           },
           "bgcolor": "#E5ECF6",
           "caxis": {
            "gridcolor": "white",
            "linecolor": "white",
            "ticks": ""
           }
          },
          "title": {
           "x": 0.05
          },
          "xaxis": {
           "automargin": true,
           "gridcolor": "white",
           "linecolor": "white",
           "ticks": "",
           "title": {
            "standoff": 15
           },
           "zerolinecolor": "white",
           "zerolinewidth": 2
          },
          "yaxis": {
           "automargin": true,
           "gridcolor": "white",
           "linecolor": "white",
           "ticks": "",
           "title": {
            "standoff": 15
           },
           "zerolinecolor": "white",
           "zerolinewidth": 2
          }
         }
        },
        "xaxis": {
         "anchor": "y",
         "domain": [
          0,
          1
         ],
         "type": "date"
        },
        "yaxis": {
         "anchor": "x",
         "autorange": "reversed",
         "domain": [
          0,
          1
         ],
         "title": {
          "text": "CLI"
         }
        }
       }
      }
     },
     "metadata": {},
     "output_type": "display_data"
    }
   ],
   "source": [
    "# Plot the ranges of the CLI timeframes\n",
    "import plotly.express as px\n",
    "\n",
    "timeline_df = pd.DataFrame(\n",
    "    [\n",
    "        {\"CLI\": i, \"Start\": cli_df[\"valid\"].apply(lambda dt: dt.astimezone(pytz.utc)).min(), \"End\": cli_df[\"valid\"].apply(lambda dt: dt.astimezone(pytz.utc)).max()}\n",
    "        for i, cli_df in enumerate(clis_df)\n",
    "    ]\n",
    ")\n",
    "\n",
    "fig = px.timeline(timeline_df, x_start=\"Start\", x_end=\"End\", y=\"CLI\")\n",
    "fig.update_yaxes(autorange=\"reversed\") # otherwise tasks are listed from the bottom up\n",
    "fig.show()"
   ]
  },
  {
   "cell_type": "code",
   "execution_count": 9,
   "metadata": {},
   "outputs": [
    {
     "name": "stdout",
     "output_type": "stream",
     "text": [
      "CLI: 2024-10-21 00:00:00-04:00 to 2024-10-21 23:59:59.999999-04:00\n",
      "CLI max: 86, 1-min max: 86\n",
      "CLI max temp time: 2024-10-21 14:45:00-04:00, 1-min max temp time: 2024-10-21 12:20:00-04:00\n",
      "CLI: 2024-10-22 00:00:00-04:00 to 2024-10-22 23:59:59.999999-04:00\n",
      "CLI max: 86, 1-min max: 87\n",
      "CLI max temp time: 2024-10-22 13:47:00-04:00, 1-min max temp time: 2024-10-22 13:44:00-04:00\n",
      "CLI: 2024-10-22 00:00:00-04:00 to 2024-10-22 16:00:00-04:00\n",
      "CLI max: 86, 1-min max: 87\n",
      "CLI max temp time: 2024-10-22 13:47:00-04:00, 1-min max temp time: 2024-10-22 13:44:00-04:00\n",
      "CLI: 2024-10-23 00:00:00-04:00 to 2024-10-23 16:00:00-04:00\n",
      "CLI max: 87, 1-min max: 88\n",
      "CLI max temp time: 2024-10-23 13:26:00-04:00, 1-min max temp time: 2024-10-23 13:08:00-04:00\n",
      "CLI: 2024-10-23 00:00:00-04:00 to 2024-10-23 23:59:59.999999-04:00\n",
      "CLI max: 87, 1-min max: 88\n",
      "CLI max temp time: 2024-10-23 13:26:00-04:00, 1-min max temp time: 2024-10-23 13:08:00-04:00\n",
      "CLI: 2024-10-24 00:00:00-04:00 to 2024-10-24 23:59:59.999999-04:00\n",
      "CLI max: 84, 1-min max: 85\n",
      "CLI max temp time: 2024-10-24 14:22:00-04:00, 1-min max temp time: 2024-10-24 12:19:00-04:00\n",
      "CLI: 2024-10-24 00:00:00-04:00 to 2024-10-24 16:00:00-04:00\n",
      "CLI max: 84, 1-min max: 85\n",
      "CLI max temp time: 2024-10-24 14:22:00-04:00, 1-min max temp time: 2024-10-24 12:19:00-04:00\n",
      "CLI: 2024-10-25 00:00:00-04:00 to 2024-10-25 16:00:00-04:00\n",
      "CLI max: 85, 1-min max: 86\n",
      "CLI max temp time: 2024-10-25 13:40:00-04:00, 1-min max temp time: 2024-10-25 12:59:00-04:00\n",
      "CLI: 2024-10-25 00:00:00-04:00 to 2024-10-25 23:59:59.999999-04:00\n",
      "CLI max: 85, 1-min max: 86\n",
      "CLI max temp time: 2024-10-25 13:40:00-04:00, 1-min max temp time: 2024-10-25 12:59:00-04:00\n",
      "CLI: 2024-10-26 00:00:00-04:00 to 2024-10-26 23:59:59.999999-04:00\n",
      "CLI max: 86, 1-min max: 79\n",
      "CLI max temp time: 2024-10-26 12:30:00-04:00, 1-min max temp time: 2024-10-26 23:45:00-04:00\n",
      "CLI: 2024-10-27 00:00:00-04:00 to 2024-10-27 23:59:59.999999-04:00\n",
      "CLI max: 83, 1-min max: 83\n",
      "CLI max temp time: 2024-10-27 12:09:00-04:00, 1-min max temp time: 2024-10-27 12:25:00-04:00\n",
      "CLI: 2024-10-27 00:00:00-04:00 to 2024-10-27 16:00:00-04:00\n",
      "CLI max: 83, 1-min max: 83\n",
      "CLI max temp time: 2024-10-27 12:09:00-04:00, 1-min max temp time: 2024-10-27 12:25:00-04:00\n",
      "CLI: 2024-10-28 00:00:00-04:00 to 2024-10-28 23:59:59.999999-04:00\n",
      "CLI max: 83, 1-min max: 83\n",
      "CLI max temp time: 2024-10-28 12:32:00-04:00, 1-min max temp time: 2024-10-28 11:31:00-04:00\n",
      "CLI: 2024-10-28 00:00:00-04:00 to 2024-10-28 16:00:00-04:00\n",
      "CLI max: 83, 1-min max: 83\n",
      "CLI max temp time: 2024-10-28 12:32:00-04:00, 1-min max temp time: 2024-10-28 11:31:00-04:00\n",
      "CLI: 2024-10-29 00:00:00-04:00 to 2024-10-29 16:00:00-04:00\n",
      "CLI max: 85, 1-min max: 85\n",
      "CLI max temp time: 2024-10-29 14:55:00-04:00, 1-min max temp time: 2024-10-29 15:16:00-04:00\n",
      "CLI: 2024-10-29 00:00:00-04:00 to 2024-10-29 23:59:59.999999-04:00\n",
      "CLI max: 85, 1-min max: 87\n",
      "CLI max temp time: 2024-10-29 14:55:00-04:00, 1-min max temp time: 2024-10-29 20:17:00-04:00\n",
      "CLI: 2024-10-30 00:00:00-04:00 to 2024-10-30 16:00:00-04:00\n",
      "CLI max: 86, 1-min max: 87\n",
      "CLI max temp time: 2024-10-30 13:39:00-04:00, 1-min max temp time: 2024-10-30 12:17:00-04:00\n",
      "CLI: 2024-10-30 00:00:00-04:00 to 2024-10-30 23:59:59.999999-04:00\n",
      "CLI max: 86, 1-min max: 87\n",
      "CLI max temp time: 2024-10-30 13:39:00-04:00, 1-min max temp time: 2024-10-30 12:17:00-04:00\n",
      "CLI: 2024-10-31 00:00:00-04:00 to 2024-10-31 16:00:00-04:00\n",
      "CLI max: 85, 1-min max: 85\n",
      "CLI max temp time: 2024-10-31 13:02:00-04:00, 1-min max temp time: 2024-10-31 12:10:00-04:00\n",
      "CLI: 2024-10-31 00:00:00-04:00 to 2024-10-31 23:59:59.999999-04:00\n",
      "CLI max: 85, 1-min max: 85\n",
      "CLI max temp time: 2024-10-31 13:02:00-04:00, 1-min max temp time: 2024-10-31 12:10:00-04:00\n",
      "CLI: 2024-11-01 00:00:00-04:00 to 2024-11-01 16:00:00-04:00\n",
      "CLI max: 86, 1-min max: 87\n",
      "CLI max temp time: 2024-11-01 13:36:00-04:00, 1-min max temp time: 2024-11-01 14:32:00-04:00\n",
      "CLI: 2024-11-01 00:00:00-04:00 to 2024-11-01 23:59:59.999999-04:00\n",
      "CLI max: 86, 1-min max: 87\n",
      "CLI max temp time: 2024-11-01 13:36:00-04:00, 1-min max temp time: 2024-11-01 14:32:00-04:00\n",
      "CLI: 2024-11-02 00:00:00-04:00 to 2024-11-02 23:59:59.999999-04:00\n",
      "CLI max: 85, 1-min max: 86\n",
      "CLI max temp time: 2024-11-02 14:40:00-04:00, 1-min max temp time: 2024-11-02 12:55:00-04:00\n",
      "CLI: 2024-11-02 00:00:00-04:00 to 2024-11-02 16:00:00-04:00\n",
      "CLI max: 85, 1-min max: 86\n",
      "CLI max temp time: 2024-11-02 14:40:00-04:00, 1-min max temp time: 2024-11-02 12:55:00-04:00\n",
      "CLI: 2024-11-03 00:00:00-04:00 to 2024-11-03 16:00:00-05:00\n",
      "CLI max: 85, 1-min max: 86\n",
      "CLI max temp time: 2024-11-03 13:56:00-05:00, 1-min max temp time: 2024-11-03 13:52:00-05:00\n",
      "CLI: 2024-11-03 00:00:00-04:00 to 2024-11-03 23:59:59.999999-05:00\n",
      "CLI max: 85, 1-min max: 86\n",
      "CLI max temp time: 2024-11-03 13:56:00-05:00, 1-min max temp time: 2024-11-03 13:52:00-05:00\n",
      "CLI: 2024-11-04 00:00:00-05:00 to 2024-11-04 16:00:00-05:00\n",
      "CLI max: 85, 1-min max: 86\n",
      "CLI max temp time: 2024-11-04 14:44:00-05:00, 1-min max temp time: 2024-11-04 13:10:00-05:00\n",
      "CLI: 2024-11-04 00:00:00-05:00 to 2024-11-04 23:59:59.999999-05:00\n",
      "CLI max: 85, 1-min max: 86\n",
      "CLI max temp time: 2024-11-04 14:44:00-05:00, 1-min max temp time: 2024-11-04 13:10:00-05:00\n",
      "CLI: 2024-11-06 00:00:00-05:00 to 2024-11-06 16:00:00-05:00\n",
      "CLI max: 86, 1-min max: 87\n",
      "CLI max temp time: 2024-11-06 12:42:00-05:00, 1-min max temp time: 2024-11-06 12:26:00-05:00\n",
      "CLI: 2024-11-06 00:00:00-05:00 to 2024-11-06 23:59:59.999999-05:00\n",
      "CLI max: 86, 1-min max: 87\n",
      "CLI max temp time: 2024-11-06 12:42:00-05:00, 1-min max temp time: 2024-11-06 12:26:00-05:00\n",
      "CLI: 2024-11-07 00:00:00-05:00 to 2024-11-07 16:00:00-05:00\n",
      "CLI max: 85, 1-min max: 86\n",
      "CLI max temp time: 2024-11-07 14:56:00-05:00, 1-min max temp time: 2024-11-07 11:32:00-05:00\n",
      "CLI: 2024-11-07 00:00:00-05:00 to 2024-11-07 23:59:59.999999-05:00\n",
      "CLI max: 85, 1-min max: 86\n",
      "CLI max temp time: 2024-11-07 14:56:00-05:00, 1-min max temp time: 2024-11-07 11:32:00-05:00\n",
      "CLI: 2024-11-08 00:00:00-05:00 to 2024-11-08 23:59:59.999999-05:00\n",
      "CLI max: 86, 1-min max: 86\n",
      "CLI max temp time: 2024-11-08 12:56:00-05:00, 1-min max temp time: 2024-11-08 11:24:00-05:00\n",
      "CLI: 2024-11-08 00:00:00-05:00 to 2024-11-08 16:00:00-05:00\n",
      "CLI max: 86, 1-min max: 86\n",
      "CLI max temp time: 2024-11-08 12:56:00-05:00, 1-min max temp time: 2024-11-08 11:24:00-05:00\n",
      "CLI: 2024-11-09 00:00:00-05:00 to 2024-11-09 16:00:00-05:00\n",
      "CLI max: 85, 1-min max: 86\n",
      "CLI max temp time: 2024-11-09 14:22:00-05:00, 1-min max temp time: 2024-11-09 11:11:00-05:00\n",
      "CLI: 2024-11-09 00:00:00-05:00 to 2024-11-09 23:59:59.999999-05:00\n",
      "CLI max: 85, 1-min max: 86\n",
      "CLI max temp time: 2024-11-09 14:22:00-05:00, 1-min max temp time: 2024-11-09 11:11:00-05:00\n",
      "CLI: 2024-11-10 00:00:00-05:00 to 2024-11-10 23:59:59.999999-05:00\n",
      "CLI max: 86, 1-min max: 86\n",
      "CLI max temp time: 2024-11-10 11:46:00-05:00, 1-min max temp time: 2024-11-10 11:17:00-05:00\n",
      "CLI: 2024-11-10 00:00:00-05:00 to 2024-11-10 16:00:00-05:00\n",
      "CLI max: 86, 1-min max: 86\n",
      "CLI max temp time: 2024-11-10 11:46:00-05:00, 1-min max temp time: 2024-11-10 11:17:00-05:00\n",
      "CLI: 2024-11-11 00:00:00-05:00 to 2024-11-11 16:00:00-05:00\n",
      "CLI max: 87, 1-min max: 87\n",
      "CLI max temp time: 2024-11-11 11:17:00-05:00, 1-min max temp time: 2024-11-11 11:03:00-05:00\n",
      "CLI: 2024-11-11 00:00:00-05:00 to 2024-11-11 23:59:59.999999-05:00\n",
      "CLI max: 87, 1-min max: 87\n",
      "CLI max temp time: 2024-11-11 11:17:00-05:00, 1-min max temp time: 2024-11-11 11:03:00-05:00\n",
      "CLI: 2024-11-12 00:00:00-05:00 to 2024-11-12 23:59:59.999999-05:00\n",
      "CLI max: 86, 1-min max: 87\n",
      "CLI max temp time: 2024-11-12 12:14:00-05:00, 1-min max temp time: 2024-11-12 10:17:00-05:00\n",
      "CLI: 2024-11-12 00:00:00-05:00 to 2024-11-12 16:00:00-05:00\n",
      "CLI max: 86, 1-min max: 87\n",
      "CLI max temp time: 2024-11-12 12:14:00-05:00, 1-min max temp time: 2024-11-12 10:17:00-05:00\n",
      "CLI: 2024-11-13 00:00:00-05:00 to 2024-11-13 23:59:59.999999-05:00\n",
      "CLI max: 85, 1-min max: 85\n",
      "CLI max temp time: 2024-11-13 11:35:00-05:00, 1-min max temp time: 2024-11-13 10:47:00-05:00\n",
      "CLI: 2024-11-13 00:00:00-05:00 to 2024-11-13 16:00:00-05:00\n",
      "CLI max: 85, 1-min max: 85\n",
      "CLI max temp time: 2024-11-13 11:35:00-05:00, 1-min max temp time: 2024-11-13 10:47:00-05:00\n",
      "CLI: 2024-11-14 00:00:00-05:00 to 2024-11-14 16:00:00-05:00\n",
      "CLI max: 83, 1-min max: 83\n",
      "CLI max temp time: 2024-11-14 13:02:00-05:00, 1-min max temp time: 2024-11-14 10:16:00-05:00\n",
      "CLI: 2024-11-14 00:00:00-05:00 to 2024-11-14 23:59:59.999999-05:00\n",
      "CLI max: 83, 1-min max: 83\n",
      "CLI max temp time: 2024-11-14 13:02:00-05:00, 1-min max temp time: 2024-11-14 10:16:00-05:00\n",
      "CLI: 2024-11-15 00:00:00-05:00 to 2024-11-15 16:00:00-05:00\n",
      "CLI max: 87, 1-min max: 88\n",
      "CLI max temp time: 2024-11-15 14:34:00-05:00, 1-min max temp time: 2024-11-15 14:27:00-05:00\n",
      "18 / 47\n",
      "0 / 47\n",
      "46 / 47\n"
     ]
    }
   ],
   "source": [
    "temp_match = []\n",
    "time_match = []\n",
    "temp_lb = []\n",
    "\n",
    "one_min_temp_max = []\n",
    "one_min_temp_time = []\n",
    "\n",
    "for cli in clis:\n",
    "    cli_start = start_of_day(cli.summary_date, tz=STATION_TZ[station])\n",
    "    if cli.valid_time is not None:\n",
    "        cli_end = cli.valid_time\n",
    "    else:\n",
    "        cli_end = end_of_day(cli.summary_date, tz=STATION_TZ[station])\n",
    "\n",
    "    relevant_meas = one_min_df[\n",
    "        one_min_df[\"valid\"].apply(\n",
    "            lambda x: in_date_range(x, start=cli_start, end=cli_end)\n",
    "        )\n",
    "    ]\n",
    "    if relevant_meas.empty:\n",
    "        print(f\"No 1-minute observations for {cli_start} to {cli_end}\")\n",
    "        continue\n",
    "    idx = relevant_meas[\"tmpf\"].idxmax()\n",
    "    one_min_max = relevant_meas.loc[idx, \"tmpf\"]\n",
    "    one_min_max_time = relevant_meas.loc[idx, \"valid\"]\n",
    "\n",
    "    one_min_temp_max.append(one_min_max)\n",
    "    one_min_temp_time.append(one_min_max_time)\n",
    "\n",
    "    # Now give a summary of the comparison\n",
    "    print(f\"CLI: {cli_start} to {cli_end}\")\n",
    "    print(f\"CLI max: {cli.max_temp}, 1-min max: {one_min_max}\")\n",
    "    print(\n",
    "        f\"CLI max temp time: {cli.max_temp_time}, 1-min max temp time: {one_min_max_time}\"\n",
    "    )\n",
    "\n",
    "    temp_match.append(cli.max_temp == one_min_max)\n",
    "    time_match.append(cli.max_temp_time == one_min_max_time)\n",
    "    temp_lb.append(cli.max_temp <= one_min_max)\n",
    "\n",
    "print(f\"{sum(int(x) for x in temp_match)} / {len(clis)}\")\n",
    "print(f\"{sum(int(x) for x in time_match)} / {len(clis)}\")\n",
    "print(f\"{sum(int(x) for x in temp_lb)} / {len(clis)}\")"
   ]
  },
  {
   "cell_type": "code",
   "execution_count": 10,
   "metadata": {},
   "outputs": [
    {
     "name": "stdout",
     "output_type": "stream",
     "text": [
      "CLI: 2024-10-26\n",
      "CLI max: 86\n",
      "CLI max time: 2024-10-26 12:30:00-04:00\n",
      "1-min max: 79\n",
      "1-min max time: 2024-10-26 23:45:00-04:00\n"
     ]
    }
   ],
   "source": [
    "for i, cli in enumerate(clis):\n",
    "    if not temp_lb[i]:\n",
    "        print(f\"CLI: {cli.summary_date}\")\n",
    "        print(f\"CLI max: {cli.max_temp}\")\n",
    "        print(f\"CLI max time: {cli.max_temp_time}\")\n",
    "\n",
    "        print(f\"1-min max: {one_min_temp_max[i]}\")\n",
    "        print(f\"1-min max time: {one_min_temp_time[i]}\")\n"
   ]
  },
  {
   "cell_type": "code",
   "execution_count": 6,
   "metadata": {},
   "outputs": [
    {
     "data": {
      "text/plain": [
       "pandas.core.arrays.string_.StringDtype"
      ]
     },
     "execution_count": 6,
     "metadata": {},
     "output_type": "execute_result"
    }
   ],
   "source": [
    "type(pd.StringDtype())\n",
    "\n"
   ]
  }
 ],
 "metadata": {
  "kernelspec": {
   "display_name": "kalshi",
   "language": "python",
   "name": "python3"
  },
  "language_info": {
   "codemirror_mode": {
    "name": "ipython",
    "version": 3
   },
   "file_extension": ".py",
   "mimetype": "text/x-python",
   "name": "python",
   "nbconvert_exporter": "python",
   "pygments_lexer": "ipython3",
   "version": "3.10.15"
  }
 },
 "nbformat": 4,
 "nbformat_minor": 2
}
